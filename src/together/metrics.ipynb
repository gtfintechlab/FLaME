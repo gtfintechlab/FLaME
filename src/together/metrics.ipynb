{
 "cells": [
  {
   "cell_type": "code",
   "execution_count": 16,
   "metadata": {},
   "outputs": [],
   "source": [
    "import pandas as pd\n",
    "import numpy as np\n",
    "import re\n",
    "from sklearn.metrics import accuracy_score, precision_score, recall_score, f1_score, roc_auc_score"
   ]
  },
  {
   "cell_type": "code",
   "execution_count": 19,
   "metadata": {},
   "outputs": [],
   "source": [
    "def metric(file, response_column, label_regex, label_mapping):\n",
    "   \n",
    "    data = pd.read_csv(file, index_col=0)\n",
    "\n",
    " \n",
    "    def extract_label(text):\n",
    "        match = re.search(label_regex, text)\n",
    "        return match.group(1) if match else 'None'\n",
    "\n",
    "\n",
    "    data['extracted_label'] = data[response_column].apply(extract_label)\n",
    "\n",
    "   \n",
    "    data['extracted_label_numeric'] = data['extracted_label'].map(label_mapping)\n",
    "\n",
    "\n",
    "    filtered_data = data.dropna(subset=['extracted_label_numeric'])\n",
    "\n",
    "\n",
    "    accuracy = accuracy_score(filtered_data['actual_label'], filtered_data['extracted_label_numeric'])\n",
    "    precision = precision_score(filtered_data['actual_label'], filtered_data['extracted_label_numeric'], average='micro')\n",
    "    recall = recall_score(filtered_data['actual_label'], filtered_data['extracted_label_numeric'], average='micro')\n",
    "    f1 = f1_score(filtered_data['actual_label'], filtered_data['extracted_label_numeric'], average='micro')\n",
    "\n",
    "   \n",
    "    metrics = pd.DataFrame({\n",
    "        \"accuracy\": [accuracy],\n",
    "        \"precision\": [precision],\n",
    "        \"recall\": [recall],\n",
    "        \"f1_score\": [f1],\n",
    "    })\n",
    "\n",
    "\n",
    "    output_file_path = file.replace('.csv', '_metrics.csv')\n",
    "    metrics.to_csv(output_file_path, index=False)\n",
    "\n",
    "    return metrics\n"
   ]
  },
  {
   "cell_type": "code",
   "execution_count": 21,
   "metadata": {},
   "outputs": [
    {
     "data": {
      "text/html": [
       "<div>\n",
       "<style scoped>\n",
       "    .dataframe tbody tr th:only-of-type {\n",
       "        vertical-align: middle;\n",
       "    }\n",
       "\n",
       "    .dataframe tbody tr th {\n",
       "        vertical-align: top;\n",
       "    }\n",
       "\n",
       "    .dataframe thead th {\n",
       "        text-align: right;\n",
       "    }\n",
       "</style>\n",
       "<table border=\"1\" class=\"dataframe\">\n",
       "  <thead>\n",
       "    <tr style=\"text-align: right;\">\n",
       "      <th></th>\n",
       "      <th>accuracy</th>\n",
       "      <th>precision</th>\n",
       "      <th>recall</th>\n",
       "      <th>f1_score</th>\n",
       "    </tr>\n",
       "  </thead>\n",
       "  <tbody>\n",
       "    <tr>\n",
       "      <th>0</th>\n",
       "      <td>0.509975</td>\n",
       "      <td>0.509975</td>\n",
       "      <td>0.509975</td>\n",
       "      <td>0.509975</td>\n",
       "    </tr>\n",
       "  </tbody>\n",
       "</table>\n",
       "</div>"
      ],
      "text/plain": [
       "   accuracy  precision    recall  f1_score\n",
       "0  0.509975   0.509975  0.509975  0.509975"
      ]
     },
     "execution_count": 21,
     "metadata": {},
     "output_type": "execute_result"
    }
   ],
   "source": [
    "fpb_label_mapping = {'POSITIVE': 2, 'NEGATIVE': 0, 'NEUTRAL': 1, 'None': np.nan}\n",
    "metric('fpb_llama_2_7b_0408.csv', 'llm_responses', r'Label: (POSITIVE|NEGATIVE|NEUTRAL)', fpb_label_mapping)\n",
    "\n",
    "fomc_label_mapping = {'DOVISH': 0, 'HAWKISH': 1, 'NEUTRAL': 2, 'None': np.nan}\n",
    "metric('fomc_results_test_llama_2_7b.csv', 'response', r'Label: (DOVISH|HAWKISH|NEUTRAL)', fomc_label_mapping)\n",
    "metric('fomc_train_results_llama_2_7b.csv', 'response', r'Label: (DOVISH|HAWKISH|NEUTRAL)', fomc_label_mapping)\n"
   ]
  },
  {
   "cell_type": "code",
   "execution_count": null,
   "metadata": {},
   "outputs": [],
   "source": []
  }
 ],
 "metadata": {
  "kernelspec": {
   "display_name": "Python 3",
   "language": "python",
   "name": "python3"
  },
  "language_info": {
   "codemirror_mode": {
    "name": "ipython",
    "version": 3
   },
   "file_extension": ".py",
   "mimetype": "text/x-python",
   "name": "python",
   "nbconvert_exporter": "python",
   "pygments_lexer": "ipython3",
   "version": "3.9.6"
  },
  "orig_nbformat": 4
 },
 "nbformat": 4,
 "nbformat_minor": 2
}
