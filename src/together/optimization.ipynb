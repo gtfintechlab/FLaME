{
 "cells": [
  {
   "cell_type": "code",
   "execution_count": 2,
   "metadata": {},
   "outputs": [
    {
     "name": "stderr",
     "output_type": "stream",
     "text": [
      "c:\\Users\\mikad\\anaconda3\\lib\\site-packages\\pandas\\core\\computation\\expressions.py:21: UserWarning: Pandas requires version '2.8.4' or newer of 'numexpr' (version '2.7.3' currently installed).\n",
      "  from pandas.core.computation.check import NUMEXPR_INSTALLED\n",
      "c:\\Users\\mikad\\anaconda3\\lib\\site-packages\\pandas\\core\\arrays\\masked.py:60: UserWarning: Pandas requires version '1.3.6' or newer of 'bottleneck' (version '1.3.2' currently installed).\n",
      "  from pandas.core import (\n"
     ]
    }
   ],
   "source": [
    "from together import Together\n",
    "import pandas as pd\n",
    "import numpy as np\n",
    "from datasets import load_dataset\n",
    "from tokens import tokens\n",
    "import os\n",
    "import dspy\n",
    "import textgrad\n",
    "from textgrad.engine import get_engine\n",
    "from textgrad import Variable\n",
    "from textgrad.optimizer import TextualGradientDescent\n",
    "from textgrad.loss import TextLoss\n",
    "from textgrad.tasks import DataLoader \n",
    "import concurrent\n",
    "from tqdm import tqdm\n",
    "import random"
   ]
  },
  {
   "cell_type": "markdown",
   "metadata": {},
   "source": [
    "## Initialization"
   ]
  },
  {
   "cell_type": "code",
   "execution_count": 3,
   "metadata": {},
   "outputs": [],
   "source": [
    "# set up tokens\n",
    "os.environ['TOGETHER_API_KEY'] = together_token\n",
    "os.environ['HF_TOKEN'] = hf_token"
   ]
  },
  {
   "cell_type": "code",
   "execution_count": 4,
   "metadata": {},
   "outputs": [
    {
     "name": "stdout",
     "output_type": "stream",
     "text": [
      "Original sentence: Participants agreed that the labor market had remained strong over the intermeeting period and that economic activity had risen at a moderate rate.\n",
      "Label: 2\n"
     ]
    },
    {
     "name": "stderr",
     "output_type": "stream",
     "text": [
      "c:\\Users\\mikad\\anaconda3\\lib\\site-packages\\scipy\\__init__.py:146: UserWarning: A NumPy version >=1.16.5 and <1.23.0 is required for this version of SciPy (detected version 1.26.4\n",
      "  warnings.warn(f\"A NumPy version >={np_minversion} and <{np_maxversion}\"\n"
     ]
    }
   ],
   "source": [
    "# Load testing data\n",
    "dataset = load_dataset(\"gtfintechlab/fomc_communication\")\n",
    "sample = dataset['test'][0]\n",
    "sentence = sample['sentence']\n",
    "label = sample['label']\n",
    "print(f\"Original sentence: {sentence}\\nLabel: {label}\")"
   ]
  },
  {
   "cell_type": "markdown",
   "metadata": {},
   "source": [
    "## Textgrad Prompt Optimization"
   ]
  },
  {
   "cell_type": "code",
   "execution_count": 5,
   "metadata": {},
   "outputs": [],
   "source": [
    "def find_first_occurrence(text):\n",
    "    words = [\"hawkish\", \"dovish\", \"neutral\"]\n",
    "    positions = [(text.find(word), word) for word in words if text.find(word) != -1]\n",
    "    return min(positions)[1] if positions else None\n",
    "\n",
    "def string_based_equality_fn(prediction: Variable, ground_truth_answer: Variable):\n",
    "    mapping = {0: 'dovish', 1: 'hawkish', 2: 'neutral'}\n",
    "    pred = find_first_occurrence(str(prediction.value).lower())\n",
    "    if (pred != None and str(pred).lower() == str(mapping[int(ground_truth_answer.value)]).lower()):\n",
    "        return 1\n",
    "    else: \n",
    "        return 0\n",
    "\n",
    "eval_fn = textgrad.autograd.StringBasedFunction(string_based_equality_fn, \"Evaluate if LLM answer matches ground truth\")"
   ]
  },
  {
   "cell_type": "code",
   "execution_count": 6,
   "metadata": {},
   "outputs": [],
   "source": [
    "# Evaluate given sample using custom evaluation function\n",
    "def eval_sample(x, y, eval_fn, model):\n",
    "    x = Variable(x, requires_grad=False, role_description=\"query to the language model\")\n",
    "    y = Variable(y, requires_grad=False, role_description=\"correct answer for the query\")\n",
    "    response = model(x)\n",
    "    inputs = dict(prediction = response, ground_truth_answer = y)\n",
    "    eval_output_variable = eval_fn(inputs = inputs)\n",
    "    return eval_output_variable\n",
    "    \n",
    "# Evaluate dataset using custom evaluation function\n",
    "def eval_dataset(test_set, eval_fn, model, max_samples = None, max_workers = 8):\n",
    "    if max_samples is None: \n",
    "        max_samples = len(test_set)\n",
    "    accuracy_list = []\n",
    "    with concurrent.futures.ThreadPoolExecutor(max_workers=max_workers) as executor:\n",
    "        futures = []\n",
    "        for _, sample in enumerate(test_set):\n",
    "            future = executor.submit(eval_sample, sample[0], sample[1], eval_fn, model)\n",
    "            futures.append(future)\n",
    "            if len(futures) >= max_samples:\n",
    "                break\n",
    "        tqdm_loader = tqdm(concurrent.futures.as_completed(futures), total=len(futures), position=0)\n",
    "        for future in tqdm_loader:\n",
    "            output = future.result()\n",
    "            output = int(output.value)\n",
    "            accuracy_list.append(output)\n",
    "            tqdm_loader.set_description(f\"Accuracy: {np.mean(accuracy_list)}\")\n",
    "    return accuracy_list \n",
    "\n",
    "# Evaluate system prompt and revert to previous prompt if new prompt has lower test accuracy\n",
    "def run_test_revert(system_prompt, results, eval_fn, model, testing_dataset):\n",
    "    curr_accuracy = np.mean(eval_dataset(testing_dataset, eval_fn, model))\n",
    "    prev_accuracy = np.mean(results[\"test_accuracy\"][-1])\n",
    "    print(f\"Test accuracy: {curr_accuracy}\\nPrevious test accuracy: {prev_accuracy}\")\n",
    "    previous_prompt = results[\"prompt\"][-1]\n",
    "\n",
    "    results[\"new_prompt_test_accuracy\"].append(curr_accuracy)\n",
    "    \n",
    "    if curr_accuracy < prev_accuracy:\n",
    "        print(f\"Rejected prompt: {system_prompt.value}\")\n",
    "        system_prompt.set_value(previous_prompt)\n",
    "        curr_accuracy = prev_accuracy\n",
    "\n",
    "    results[\"test_accuracy\"].append(curr_accuracy)"
   ]
  },
  {
   "cell_type": "code",
   "execution_count": 7,
   "metadata": {},
   "outputs": [],
   "source": [
    "engine = get_engine('together-mistralai/Mistral-7B-Instruct-v0.3')\n",
    "\n",
    "starting_prompt = \"Classify the following sentence from FOMC into hawkish, dovish, or neutral based on its stance on monetary policy. Output your prediction on the first line and your explanation after.\"\n",
    "system_prompt = Variable(starting_prompt, requires_grad=True, role_description=\"system prompt to the language model\")\n",
    "model = textgrad.BlackboxLLM(engine, system_prompt)\n",
    "\n",
    "optimizer = TextualGradientDescent(engine=engine, parameters=[system_prompt])"
   ]
  },
  {
   "cell_type": "code",
   "execution_count": 9,
   "metadata": {},
   "outputs": [
    {
     "name": "stderr",
     "output_type": "stream",
     "text": [
      "Accuracy: 0.6088709677419355: 100%|██████████| 496/496 [00:01<00:00, 264.80it/s]\n"
     ]
    }
   ],
   "source": [
    "# testing zero-shot performance\n",
    "mapping = {0: 'dovish', 1: 'hawkish', 2: 'neutral'}\n",
    "data = [(data['sentence'], data['label']) for data in dataset['test']]\n",
    "results = {\"test_accuracy\": [], \"prompt\": []}\n",
    "results[\"test_accuracy\"].append(eval_dataset(data, eval_fn, model))\n",
    "results[\"prompt\"].append(system_prompt.get_value())"
   ]
  },
  {
   "cell_type": "code",
   "execution_count": 8,
   "metadata": {},
   "outputs": [],
   "source": [
    "# subset the data to do a mini run\n",
    "def pick_random(data, n = 20):\n",
    "    labels = {0: [], 1: [], 2: []}\n",
    "    for sentence, label in data:\n",
    "        labels[label].append((sentence, label))\n",
    "    result = []\n",
    "    for label in labels:\n",
    "        result.extend(random.sample(labels[label], n))\n",
    "    return result\n",
    "training_data = [(data['sentence'], data['label']) for data in dataset['train']]\n",
    "testing_data = [(data['sentence'], data['label']) for data in dataset['test']]\n",
    "random.shuffle(testing_data)\n",
    "val_data_options = testing_data[:100]\n",
    "testing_data = testing_data[100:]\n",
    "training_data = pick_random(training_data, n = 30)\n",
    "val_data = pick_random(val_data_options, n = 12)\n",
    "testing_data = pick_random(testing_data, n = 12)"
   ]
  },
  {
   "cell_type": "code",
   "execution_count": 9,
   "metadata": {},
   "outputs": [
    {
     "name": "stderr",
     "output_type": "stream",
     "text": [
      "Accuracy: 0.5277777777777778: 100%|██████████| 36/36 [00:00<00:00, 682.11it/s]\n"
     ]
    },
    {
     "name": "stdout",
     "output_type": "stream",
     "text": [
      "Starting prompt: Classify the following sentence from FOMC into hawkish, dovish, or neutral based on its stance on monetary policy. Output your prediction on the first line and your explanation after.\n",
      "Starting test accuracy: 0.5277777777777778\n"
     ]
    },
    {
     "name": "stderr",
     "output_type": "stream",
     "text": [
      "Epoch 0: Training step 0: : 0it [00:00, ?it/s]"
     ]
    },
    {
     "name": "stdout",
     "output_type": "stream",
     "text": [
      "New prompt:  Analyze the stance on monetary policy in the following sentence from FOMC. Determine whether it leans towards easing, tightening, or maintaining the current policy, and provide a clear explanation for your prediction, focusing on the specific words, phrases, and arguments that support your conclusion. Additionally, discuss any alternative interpretations of the sentence and explain why they are less likely.\n"
     ]
    },
    {
     "name": "stderr",
     "output_type": "stream",
     "text": [
      "Accuracy: 0.05555555555555555: 100%|██████████| 36/36 [00:47<00:00,  1.32s/it] \n",
      "Epoch 0: Training step 1: : 1it [03:21, 201.89s/it]"
     ]
    },
    {
     "name": "stdout",
     "output_type": "stream",
     "text": [
      "Test accuracy: 0.05555555555555555\n",
      "Previous test accuracy: 0.5277777777777778\n",
      "Rejected prompt: Analyze the stance on monetary policy in the following sentence from FOMC. Determine whether it leans towards easing, tightening, or maintaining the current policy, and provide a clear explanation for your prediction, focusing on the specific words, phrases, and arguments that support your conclusion. Additionally, discuss any alternative interpretations of the sentence and explain why they are less likely.\n",
      "System prompt:  Classify the following sentence from FOMC into hawkish, dovish, or neutral based on its stance on monetary policy. Output your prediction on the first line and your explanation after.\n",
      "New prompt:  Analyze the given FOMC statement and determine its monetary policy stance. Provide a clear and detailed classification, along with a justification for your decision. Choose from the following categories: Neutral, Dovish, Moderately Hawkish, or Very Hawkish. Explain the reasons for your prediction in the context of the FOMC's overall monetary policy objectives and recent statements or actions. Provide evidence or references that support your prediction, if possible.\n"
     ]
    },
    {
     "name": "stderr",
     "output_type": "stream",
     "text": [
      "Accuracy: 0.6111111111111112: 100%|██████████| 36/36 [00:50<00:00,  1.39s/it]\n",
      "Epoch 0: Training step 2: : 2it [06:29, 193.42s/it]"
     ]
    },
    {
     "name": "stdout",
     "output_type": "stream",
     "text": [
      "Test accuracy: 0.6111111111111112\n",
      "Previous test accuracy: 0.5277777777777778\n",
      "System prompt:  Analyze the given FOMC statement and determine its monetary policy stance. Provide a clear and detailed classification, along with a justification for your decision. Choose from the following categories: Neutral, Dovish, Moderately Hawkish, or Very Hawkish. Explain the reasons for your prediction in the context of the FOMC's overall monetary policy objectives and recent statements or actions. Provide evidence or references that support your prediction, if possible.\n",
      "New prompt:  Analyze the given FOMC statement and evaluate its implications for the current and potential future monetary policy stance. Interpret the statement in the context of the FOMC's overall monetary policy objectives and recent statements or actions. Provide a clear and detailed classification of the monetary policy stance, along with a justification for your decision. Choose from the following categories: Neutral, Dovish, Moderately Hawkish, or Very Hawkish. Explain the reasons for your prediction, focusing on the FOMC's monetary policy objectives and any indications of a shift in policy direction. Provide evidence or references that support your prediction, if possible.\n"
     ]
    },
    {
     "name": "stderr",
     "output_type": "stream",
     "text": [
      "Accuracy: 0.6111111111111112: 100%|██████████| 36/36 [01:16<00:00,  2.12s/it]\n",
      "Epoch 0: Training step 3: : 3it [13:11, 288.89s/it]"
     ]
    },
    {
     "name": "stdout",
     "output_type": "stream",
     "text": [
      "Test accuracy: 0.6111111111111112\n",
      "Previous test accuracy: 0.6111111111111112\n",
      "System prompt:  Analyze the given FOMC statement and evaluate its implications for the current and potential future monetary policy stance. Interpret the statement in the context of the FOMC's overall monetary policy objectives and recent statements or actions. Provide a clear and detailed classification of the monetary policy stance, along with a justification for your decision. Choose from the following categories: Neutral, Dovish, Moderately Hawkish, or Very Hawkish. Explain the reasons for your prediction, focusing on the FOMC's monetary policy objectives and any indications of a shift in policy direction. Provide evidence or references that support your prediction, if possible.\n",
      "New prompt:  Analyze the given FOMC statement and evaluate its implications for the current and potential future monetary policy stance. Interpret the statement in the context of the FOMC's overall monetary policy objectives and recent statements or actions. Provide a clear and detailed classification of the monetary policy stance, along with a justification for your decision. Choose from the following categories: Neutral, Dovish, Moderately Hawkish, or Very Hawkish. Explain the reasons for your prediction, focusing on the FOMC's monetary policy objectives and any indications of a shift in policy direction. Provide evidence or references that support your prediction, if possible.\n",
      "\n",
      "To help you better understand the context, here are some key points to consider:\n",
      "- The FOMC has been emphasizing a gradual approach to interest rate increases in recent statements.\n",
      "- The FOMC has been monitoring the incoming data to assess the appropriate path of the federal funds rate.\n",
      "- The FOMC has been focusing on achieving its dual mandate of maximum employment and price stability.\n",
      "\n",
      "Provide a clear and specific answer that directly addresses whether the FOMC statement provides explicit guidance on the monetary policy stance. Choose from the following categories: Neutral, Dovish, Moderately Hawkish, or Very Hawkish. Explain the reasons for your prediction, focusing on the FOMC's monetary policy objectives and any indications of a shift in policy direction. Provide evidence or references that support your prediction, if possible.\n"
     ]
    },
    {
     "name": "stderr",
     "output_type": "stream",
     "text": [
      "Accuracy: 0.4166666666666667: 100%|██████████| 36/36 [00:46<00:00,  1.28s/it] \n",
      "Epoch 0: Training step 4: : 4it [17:24, 274.74s/it]"
     ]
    },
    {
     "name": "stdout",
     "output_type": "stream",
     "text": [
      "Test accuracy: 0.4166666666666667\n",
      "Previous test accuracy: 0.6111111111111112\n",
      "Rejected prompt: Analyze the given FOMC statement and evaluate its implications for the current and potential future monetary policy stance. Interpret the statement in the context of the FOMC's overall monetary policy objectives and recent statements or actions. Provide a clear and detailed classification of the monetary policy stance, along with a justification for your decision. Choose from the following categories: Neutral, Dovish, Moderately Hawkish, or Very Hawkish. Explain the reasons for your prediction, focusing on the FOMC's monetary policy objectives and any indications of a shift in policy direction. Provide evidence or references that support your prediction, if possible.\n",
      "\n",
      "To help you better understand the context, here are some key points to consider:\n",
      "- The FOMC has been emphasizing a gradual approach to interest rate increases in recent statements.\n",
      "- The FOMC has been monitoring the incoming data to assess the appropriate path of the federal funds rate.\n",
      "- The FOMC has been focusing on achieving its dual mandate of maximum employment and price stability.\n",
      "\n",
      "Provide a clear and specific answer that directly addresses whether the FOMC statement provides explicit guidance on the monetary policy stance. Choose from the following categories: Neutral, Dovish, Moderately Hawkish, or Very Hawkish. Explain the reasons for your prediction, focusing on the FOMC's monetary policy objectives and any indications of a shift in policy direction. Provide evidence or references that support your prediction, if possible.\n",
      "System prompt:  Analyze the given FOMC statement and evaluate its implications for the current and potential future monetary policy stance. Interpret the statement in the context of the FOMC's overall monetary policy objectives and recent statements or actions. Provide a clear and detailed classification of the monetary policy stance, along with a justification for your decision. Choose from the following categories: Neutral, Dovish, Moderately Hawkish, or Very Hawkish. Explain the reasons for your prediction, focusing on the FOMC's monetary policy objectives and any indications of a shift in policy direction. Provide evidence or references that support your prediction, if possible.\n",
      "New prompt:  Analyze the given FOMC statement and determine the expected federal funds rate or the pace of balance sheet reduction based on the statement. Interpret the statement in the context of the FOMC's overall monetary policy objectives and recent statements or actions. Provide a clear and detailed classification of the monetary policy stance, along with a justification for your decision. Choose from the following categories: Neutral, Dovish, Moderately Hawkish, or Very Hawkish. Explain the reasons for your prediction, focusing on the FOMC's monetary policy objectives and any indications of a shift in policy direction. Provide evidence or references that support your prediction, if possible. Discuss the potential impact on inflation, employment, and any associated risks or uncertainties.\n"
     ]
    },
    {
     "name": "stderr",
     "output_type": "stream",
     "text": [
      "Accuracy: 0.6666666666666666: 100%|██████████| 36/36 [00:57<00:00,  1.60s/it]\n",
      "Epoch 0: Training step 5: : 5it [22:02, 275.91s/it]"
     ]
    },
    {
     "name": "stdout",
     "output_type": "stream",
     "text": [
      "Test accuracy: 0.6666666666666666\n",
      "Previous test accuracy: 0.6111111111111112\n",
      "System prompt:  Analyze the given FOMC statement and determine the expected federal funds rate or the pace of balance sheet reduction based on the statement. Interpret the statement in the context of the FOMC's overall monetary policy objectives and recent statements or actions. Provide a clear and detailed classification of the monetary policy stance, along with a justification for your decision. Choose from the following categories: Neutral, Dovish, Moderately Hawkish, or Very Hawkish. Explain the reasons for your prediction, focusing on the FOMC's monetary policy objectives and any indications of a shift in policy direction. Provide evidence or references that support your prediction, if possible. Discuss the potential impact on inflation, employment, and any associated risks or uncertainties.\n",
      "New prompt:  Analyze the given FOMC statement and provide a detailed and focused analysis of the potential effects of the FOMC's decision on inflation, employment, and associated risks, given the context of the FOMC's monetary policy objectives and recent statements or actions. Discuss the specific policy actions or decisions that were made in the FOMC statement, and provide a clear and detailed classification of the monetary policy stance, along with a justification for your decision. Choose from the following categories: Neutral, Dovish, Moderately Hawkish, or Very Hawkish. Explain the reasons for your prediction, focusing on the FOMC's monetary policy objectives and any indications of a shift in policy direction. Provide evidence or references that support your prediction, if possible. Discuss the potential short-term and long-term impacts of the monetary policy on each of the three factors (inflation, employment, and risks), as well as any potential secondary effects or feedback loops that might arise. Additionally, specify the market or markets that the monetary policy is intended to affect, as well as the specific risks and uncertainties that the policy is designed to address.\n"
     ]
    },
    {
     "name": "stderr",
     "output_type": "stream",
     "text": [
      "Accuracy: 0.5833333333333334: 100%|██████████| 36/36 [00:59<00:00,  1.64s/it]\n",
      "Epoch 0: Training step 5: : 5it [27:38, 331.72s/it]\n"
     ]
    },
    {
     "name": "stdout",
     "output_type": "stream",
     "text": [
      "Test accuracy: 0.5833333333333334\n",
      "Previous test accuracy: 0.6666666666666666\n",
      "Rejected prompt: Analyze the given FOMC statement and provide a detailed and focused analysis of the potential effects of the FOMC's decision on inflation, employment, and associated risks, given the context of the FOMC's monetary policy objectives and recent statements or actions. Discuss the specific policy actions or decisions that were made in the FOMC statement, and provide a clear and detailed classification of the monetary policy stance, along with a justification for your decision. Choose from the following categories: Neutral, Dovish, Moderately Hawkish, or Very Hawkish. Explain the reasons for your prediction, focusing on the FOMC's monetary policy objectives and any indications of a shift in policy direction. Provide evidence or references that support your prediction, if possible. Discuss the potential short-term and long-term impacts of the monetary policy on each of the three factors (inflation, employment, and risks), as well as any potential secondary effects or feedback loops that might arise. Additionally, specify the market or markets that the monetary policy is intended to affect, as well as the specific risks and uncertainties that the policy is designed to address.\n",
      "System prompt:  Analyze the given FOMC statement and determine the expected federal funds rate or the pace of balance sheet reduction based on the statement. Interpret the statement in the context of the FOMC's overall monetary policy objectives and recent statements or actions. Provide a clear and detailed classification of the monetary policy stance, along with a justification for your decision. Choose from the following categories: Neutral, Dovish, Moderately Hawkish, or Very Hawkish. Explain the reasons for your prediction, focusing on the FOMC's monetary policy objectives and any indications of a shift in policy direction. Provide evidence or references that support your prediction, if possible. Discuss the potential impact on inflation, employment, and any associated risks or uncertainties.\n"
     ]
    },
    {
     "name": "stderr",
     "output_type": "stream",
     "text": [
      "Epoch 1: Training step 0: : 0it [00:00, ?it/s]"
     ]
    },
    {
     "name": "stdout",
     "output_type": "stream",
     "text": [
      "New prompt:  Analyze the given FOMC statement and predict the actions the FOMC might take to maintain its monetary policy objectives of maximum employment and price stability, given the impact on inflation, employment, and associated risks or uncertainties. Discuss the potential impact of these actions on inflation, employment, and any associated risks or uncertainties.\n"
     ]
    },
    {
     "name": "stderr",
     "output_type": "stream",
     "text": [
      "Accuracy: 0.0: 100%|██████████| 36/36 [01:03<00:00,  1.76s/it]\n",
      "Epoch 1: Training step 1: : 1it [04:41, 281.69s/it]"
     ]
    },
    {
     "name": "stdout",
     "output_type": "stream",
     "text": [
      "Test accuracy: 0.0\n",
      "Previous test accuracy: 0.6666666666666666\n",
      "Rejected prompt: Analyze the given FOMC statement and predict the actions the FOMC might take to maintain its monetary policy objectives of maximum employment and price stability, given the impact on inflation, employment, and associated risks or uncertainties. Discuss the potential impact of these actions on inflation, employment, and any associated risks or uncertainties.\n",
      "System prompt:  Analyze the given FOMC statement and determine the expected federal funds rate or the pace of balance sheet reduction based on the statement. Interpret the statement in the context of the FOMC's overall monetary policy objectives and recent statements or actions. Provide a clear and detailed classification of the monetary policy stance, along with a justification for your decision. Choose from the following categories: Neutral, Dovish, Moderately Hawkish, or Very Hawkish. Explain the reasons for your prediction, focusing on the FOMC's monetary policy objectives and any indications of a shift in policy direction. Provide evidence or references that support your prediction, if possible. Discuss the potential impact on inflation, employment, and any associated risks or uncertainties.\n",
      "New prompt:  Analyze the given FOMC statement and determine the expected federal funds rate or the pace of balance sheet reduction based on the statement. Interpret the statement in the context of the FOMC's overall monetary policy objectives and recent statements or actions. Provide a clear and detailed classification of the monetary policy stance, along with a justification for your decision. Choose from the following categories: Neutral, Dovish, Moderately Hawkish, or Very Hawkish. Explain the reasons for your prediction, focusing on the FOMC's monetary policy objectives and any indications of a shift in policy direction. Provide evidence or references that support your prediction, if possible. Discuss the potential impact on inflation, employment, and any associated risks or uncertainties, focusing on the short-term and medium-term implications.\n"
     ]
    },
    {
     "name": "stderr",
     "output_type": "stream",
     "text": [
      "Accuracy: 0.6666666666666666: 100%|██████████| 36/36 [00:58<00:00,  1.63s/it]\n",
      "Epoch 1: Training step 2: : 2it [09:32, 287.14s/it]"
     ]
    },
    {
     "name": "stdout",
     "output_type": "stream",
     "text": [
      "Test accuracy: 0.6666666666666666\n",
      "Previous test accuracy: 0.6666666666666666\n",
      "System prompt:  Analyze the given FOMC statement and determine the expected federal funds rate or the pace of balance sheet reduction based on the statement. Interpret the statement in the context of the FOMC's overall monetary policy objectives and recent statements or actions. Provide a clear and detailed classification of the monetary policy stance, along with a justification for your decision. Choose from the following categories: Neutral, Dovish, Moderately Hawkish, or Very Hawkish. Explain the reasons for your prediction, focusing on the FOMC's monetary policy objectives and any indications of a shift in policy direction. Provide evidence or references that support your prediction, if possible. Discuss the potential impact on inflation, employment, and any associated risks or uncertainties, focusing on the short-term and medium-term implications.\n",
      "New prompt:  Analyze the given FOMC statement and determine the expected federal funds rate or the pace of balance sheet reduction based on the statement. Interpret the statement in the context of the FOMC's overall monetary policy objectives and recent statements or actions. Provide a clear and detailed classification of the monetary policy stance, along with a justification for your decision. Choose from the following categories: Neutral, Dovish, Moderately Hawkish, or Very Hawkish. Explain the reasons for your prediction, focusing on the FOMC's monetary policy objectives and any indications of a shift in policy direction. Provide evidence or references that support your prediction, if possible. Discuss the potential impact on inflation, employment, and any associated risks or uncertainties, focusing on the short-term and medium-term implications. Discuss the specific risks and uncertainties that are implied by the statement, focusing on the short-term and medium-term implications. Discuss the potential impact of these risks and uncertainties on inflation, employment, and the overall economy, and explain why these risks and uncertainties are relevant in the context of the FOMC's monetary policy objectives and recent statements or actions.\n"
     ]
    },
    {
     "name": "stderr",
     "output_type": "stream",
     "text": [
      "Accuracy: 0.6388888888888888: 100%|██████████| 36/36 [00:57<00:00,  1.60s/it]\n",
      "Epoch 1: Training step 3: : 3it [15:06, 308.41s/it]"
     ]
    },
    {
     "name": "stdout",
     "output_type": "stream",
     "text": [
      "Test accuracy: 0.6388888888888888\n",
      "Previous test accuracy: 0.6666666666666666\n",
      "Rejected prompt: Analyze the given FOMC statement and determine the expected federal funds rate or the pace of balance sheet reduction based on the statement. Interpret the statement in the context of the FOMC's overall monetary policy objectives and recent statements or actions. Provide a clear and detailed classification of the monetary policy stance, along with a justification for your decision. Choose from the following categories: Neutral, Dovish, Moderately Hawkish, or Very Hawkish. Explain the reasons for your prediction, focusing on the FOMC's monetary policy objectives and any indications of a shift in policy direction. Provide evidence or references that support your prediction, if possible. Discuss the potential impact on inflation, employment, and any associated risks or uncertainties, focusing on the short-term and medium-term implications. Discuss the specific risks and uncertainties that are implied by the statement, focusing on the short-term and medium-term implications. Discuss the potential impact of these risks and uncertainties on inflation, employment, and the overall economy, and explain why these risks and uncertainties are relevant in the context of the FOMC's monetary policy objectives and recent statements or actions.\n",
      "System prompt:  Analyze the given FOMC statement and determine the expected federal funds rate or the pace of balance sheet reduction based on the statement. Interpret the statement in the context of the FOMC's overall monetary policy objectives and recent statements or actions. Provide a clear and detailed classification of the monetary policy stance, along with a justification for your decision. Choose from the following categories: Neutral, Dovish, Moderately Hawkish, or Very Hawkish. Explain the reasons for your prediction, focusing on the FOMC's monetary policy objectives and any indications of a shift in policy direction. Provide evidence or references that support your prediction, if possible. Discuss the potential impact on inflation, employment, and any associated risks or uncertainties, focusing on the short-term and medium-term implications.\n",
      "New prompt:  Analyze the given FOMC statement and predict the expected federal funds rate or the pace of balance sheet reduction in the short-term and medium-term, and discuss the potential impact on inflation, employment, and any associated risks or uncertainties. Provide evidence or references that support your prediction, if possible.\n"
     ]
    },
    {
     "name": "stderr",
     "output_type": "stream",
     "text": [
      "Accuracy: 0.027777777777777776: 100%|██████████| 36/36 [01:07<00:00,  1.88s/it]\n",
      "Epoch 1: Training step 4: : 4it [20:55, 324.36s/it]"
     ]
    },
    {
     "name": "stdout",
     "output_type": "stream",
     "text": [
      "Test accuracy: 0.027777777777777776\n",
      "Previous test accuracy: 0.6666666666666666\n",
      "Rejected prompt: Analyze the given FOMC statement and predict the expected federal funds rate or the pace of balance sheet reduction in the short-term and medium-term, and discuss the potential impact on inflation, employment, and any associated risks or uncertainties. Provide evidence or references that support your prediction, if possible.\n",
      "System prompt:  Analyze the given FOMC statement and determine the expected federal funds rate or the pace of balance sheet reduction based on the statement. Interpret the statement in the context of the FOMC's overall monetary policy objectives and recent statements or actions. Provide a clear and detailed classification of the monetary policy stance, along with a justification for your decision. Choose from the following categories: Neutral, Dovish, Moderately Hawkish, or Very Hawkish. Explain the reasons for your prediction, focusing on the FOMC's monetary policy objectives and any indications of a shift in policy direction. Provide evidence or references that support your prediction, if possible. Discuss the potential impact on inflation, employment, and any associated risks or uncertainties, focusing on the short-term and medium-term implications.\n",
      "New prompt:  Analyze the given FOMC statement and determine the expected federal funds rate or the pace of balance sheet reduction based on the statement. Interpret the statement in the context of the FOMC's overall monetary policy objectives and recent statements or actions. Provide a clear and detailed classification of the monetary policy stance, along with a justification for your decision. Choose from the following categories: Neutral, Dovish, Moderately Hawkish, or Very Hawkish. Explain the reasons for your prediction, focusing on the FOMC's monetary policy objectives and any indications of a shift in policy direction. Provide evidence or references that support your prediction, if possible. Discuss the potential impact on inflation, employment, and any associated risks or uncertainties, focusing on the short-term and medium-term implications for the federal funds rate and balance sheet reduction, as outlined in the FOMC's statement.\n"
     ]
    },
    {
     "name": "stderr",
     "output_type": "stream",
     "text": [
      "Accuracy: 0.6388888888888888: 100%|██████████| 36/36 [00:53<00:00,  1.50s/it]\n",
      "Epoch 1: Training step 5: : 5it [27:00, 339.01s/it]"
     ]
    },
    {
     "name": "stdout",
     "output_type": "stream",
     "text": [
      "Test accuracy: 0.6388888888888888\n",
      "Previous test accuracy: 0.6666666666666666\n",
      "Rejected prompt: Analyze the given FOMC statement and determine the expected federal funds rate or the pace of balance sheet reduction based on the statement. Interpret the statement in the context of the FOMC's overall monetary policy objectives and recent statements or actions. Provide a clear and detailed classification of the monetary policy stance, along with a justification for your decision. Choose from the following categories: Neutral, Dovish, Moderately Hawkish, or Very Hawkish. Explain the reasons for your prediction, focusing on the FOMC's monetary policy objectives and any indications of a shift in policy direction. Provide evidence or references that support your prediction, if possible. Discuss the potential impact on inflation, employment, and any associated risks or uncertainties, focusing on the short-term and medium-term implications for the federal funds rate and balance sheet reduction, as outlined in the FOMC's statement.\n",
      "System prompt:  Analyze the given FOMC statement and determine the expected federal funds rate or the pace of balance sheet reduction based on the statement. Interpret the statement in the context of the FOMC's overall monetary policy objectives and recent statements or actions. Provide a clear and detailed classification of the monetary policy stance, along with a justification for your decision. Choose from the following categories: Neutral, Dovish, Moderately Hawkish, or Very Hawkish. Explain the reasons for your prediction, focusing on the FOMC's monetary policy objectives and any indications of a shift in policy direction. Provide evidence or references that support your prediction, if possible. Discuss the potential impact on inflation, employment, and any associated risks or uncertainties, focusing on the short-term and medium-term implications.\n",
      "New prompt:  Analyze the given FOMC statement and determine the expected federal funds rate or the pace of balance sheet reduction based on the statement. Interpret the statement in the context of the FOMC's overall monetary policy objectives and recent statements or actions. Provide a clear and detailed classification of the monetary policy stance, along with a justification for your decision. Choose from the following categories: Neutral, Dovish, Moderately Hawkish, or Very Hawkish. Explain the reasons for your prediction, focusing on the FOMC's monetary policy objectives and any indications of a shift in policy direction. Provide evidence or references that support your prediction, if possible. Discuss the potential impact on inflation, employment, and any associated risks or uncertainties, focusing on the short-term and medium-term implications.\n",
      "\n",
      "Provide a concise and well-structured response, focusing on the specific aspects of the FOMC statement that are relevant to the analysis. Organize your response into clear sections or bullet points, and use evidence or references to support your predictions and analysis.\n"
     ]
    },
    {
     "name": "stderr",
     "output_type": "stream",
     "text": [
      "Accuracy: 0.5833333333333334: 100%|██████████| 36/36 [00:51<00:00,  1.43s/it]\n",
      "Epoch 1: Training step 5: : 5it [33:55, 407.16s/it]\n"
     ]
    },
    {
     "name": "stdout",
     "output_type": "stream",
     "text": [
      "Test accuracy: 0.5833333333333334\n",
      "Previous test accuracy: 0.6666666666666666\n",
      "Rejected prompt: Analyze the given FOMC statement and determine the expected federal funds rate or the pace of balance sheet reduction based on the statement. Interpret the statement in the context of the FOMC's overall monetary policy objectives and recent statements or actions. Provide a clear and detailed classification of the monetary policy stance, along with a justification for your decision. Choose from the following categories: Neutral, Dovish, Moderately Hawkish, or Very Hawkish. Explain the reasons for your prediction, focusing on the FOMC's monetary policy objectives and any indications of a shift in policy direction. Provide evidence or references that support your prediction, if possible. Discuss the potential impact on inflation, employment, and any associated risks or uncertainties, focusing on the short-term and medium-term implications.\n",
      "\n",
      "Provide a concise and well-structured response, focusing on the specific aspects of the FOMC statement that are relevant to the analysis. Organize your response into clear sections or bullet points, and use evidence or references to support your predictions and analysis.\n",
      "System prompt:  Analyze the given FOMC statement and determine the expected federal funds rate or the pace of balance sheet reduction based on the statement. Interpret the statement in the context of the FOMC's overall monetary policy objectives and recent statements or actions. Provide a clear and detailed classification of the monetary policy stance, along with a justification for your decision. Choose from the following categories: Neutral, Dovish, Moderately Hawkish, or Very Hawkish. Explain the reasons for your prediction, focusing on the FOMC's monetary policy objectives and any indications of a shift in policy direction. Provide evidence or references that support your prediction, if possible. Discuss the potential impact on inflation, employment, and any associated risks or uncertainties, focusing on the short-term and medium-term implications.\n"
     ]
    },
    {
     "name": "stderr",
     "output_type": "stream",
     "text": [
      "Epoch 2: Training step 0: : 0it [00:00, ?it/s]"
     ]
    },
    {
     "name": "stdout",
     "output_type": "stream",
     "text": [
      "New prompt:  Analyze the given FOMC statement and determine the expected federal funds rate or the pace of balance sheet reduction based on the statement. Interpret the statement in the context of the FOMC's overall monetary policy objectives and recent statements or actions. Provide a clear and detailed classification of the monetary policy stance, along with a justification for your decision. Choose from the following categories: Neutral, Dovish, Moderately Hawkish, or Very Hawkish. Explain the reasons for your prediction, focusing on the FOMC's monetary policy objectives and any indications of a shift in policy direction. Provide evidence or references that support your prediction, if possible. Discuss the potential impact on inflation, employment, and any associated risks or uncertainties, focusing on the short-term and medium-term implications.\n",
      "\n",
      "To improve the system prompt to the language model and better address the feedback on the objective function, consider the following modifications:\n",
      "\n",
      "1. Clarify the focus of the analysis: Instead of asking the language model to analyze the FOMC statement and discuss potential risks or uncertainties in a general sense, specify the areas of concern more explicitly. For example, the prompt could be revised to ask the language model to focus on the risks and uncertainties associated with the FOMC's monetary policy objectives, such as inflation, employment, and financial stability.\n",
      "2. Provide a clearer objective: The current prompt asks the language model to discuss risks and uncertainties in a general sense, without specifying the time horizon or the level of detail required. To improve the objective function, the prompt could be revised to ask the language model to identify and discuss specific risks and uncertainties that could impact the FOMC's monetary policy objectives in the short term and medium term.\n",
      "3. Encourage a more structured response: The current prompt does not provide a clear structure for the language model's response, which may result in a disorganized or unfocused answer. To improve the objective function, the prompt could be revised to ask the language model to organize its response around the FOMC's monetary policy objectives, discussing the risks and uncertainties associated with each objective separately.\n",
      "4. Emphasize the importance of evidence and references: The current prompt does not explicitly ask the language model to provide evidence or references to support its analysis. To improve the objective function, the prompt could be revised to ask the language model to provide evidence or references that support its discussion of risks and uncertainties, and to explain how this evidence relates to the FOMC's monetary policy objectives.\n",
      "\n",
      "Here's an example of how the revised system prompt could look:\n",
      "\n",
      "Analyze the given FOMC statement and identify the risks and uncertainties associated with the FOMC's monetary policy objectives, specifically inflation, employment, and financial stability, in the short term and medium term. Organize your response around each objective, providing evidence or references that support your discussion of risks and uncertainties, and explaining how this evidence relates to the FOMC's monetary policy objectives.\n"
     ]
    },
    {
     "name": "stderr",
     "output_type": "stream",
     "text": [
      "Accuracy: 0.5277777777777778: 100%|██████████| 36/36 [00:51<00:00,  1.43s/it] \n",
      "Epoch 2: Training step 1: : 1it [01:39, 99.23s/it]"
     ]
    },
    {
     "name": "stdout",
     "output_type": "stream",
     "text": [
      "Test accuracy: 0.5277777777777778\n",
      "Previous test accuracy: 0.6666666666666666\n",
      "Rejected prompt: Analyze the given FOMC statement and determine the expected federal funds rate or the pace of balance sheet reduction based on the statement. Interpret the statement in the context of the FOMC's overall monetary policy objectives and recent statements or actions. Provide a clear and detailed classification of the monetary policy stance, along with a justification for your decision. Choose from the following categories: Neutral, Dovish, Moderately Hawkish, or Very Hawkish. Explain the reasons for your prediction, focusing on the FOMC's monetary policy objectives and any indications of a shift in policy direction. Provide evidence or references that support your prediction, if possible. Discuss the potential impact on inflation, employment, and any associated risks or uncertainties, focusing on the short-term and medium-term implications.\n",
      "\n",
      "To improve the system prompt to the language model and better address the feedback on the objective function, consider the following modifications:\n",
      "\n",
      "1. Clarify the focus of the analysis: Instead of asking the language model to analyze the FOMC statement and discuss potential risks or uncertainties in a general sense, specify the areas of concern more explicitly. For example, the prompt could be revised to ask the language model to focus on the risks and uncertainties associated with the FOMC's monetary policy objectives, such as inflation, employment, and financial stability.\n",
      "2. Provide a clearer objective: The current prompt asks the language model to discuss risks and uncertainties in a general sense, without specifying the time horizon or the level of detail required. To improve the objective function, the prompt could be revised to ask the language model to identify and discuss specific risks and uncertainties that could impact the FOMC's monetary policy objectives in the short term and medium term.\n",
      "3. Encourage a more structured response: The current prompt does not provide a clear structure for the language model's response, which may result in a disorganized or unfocused answer. To improve the objective function, the prompt could be revised to ask the language model to organize its response around the FOMC's monetary policy objectives, discussing the risks and uncertainties associated with each objective separately.\n",
      "4. Emphasize the importance of evidence and references: The current prompt does not explicitly ask the language model to provide evidence or references to support its analysis. To improve the objective function, the prompt could be revised to ask the language model to provide evidence or references that support its discussion of risks and uncertainties, and to explain how this evidence relates to the FOMC's monetary policy objectives.\n",
      "\n",
      "Here's an example of how the revised system prompt could look:\n",
      "\n",
      "Analyze the given FOMC statement and identify the risks and uncertainties associated with the FOMC's monetary policy objectives, specifically inflation, employment, and financial stability, in the short term and medium term. Organize your response around each objective, providing evidence or references that support your discussion of risks and uncertainties, and explaining how this evidence relates to the FOMC's monetary policy objectives.\n",
      "System prompt:  Analyze the given FOMC statement and determine the expected federal funds rate or the pace of balance sheet reduction based on the statement. Interpret the statement in the context of the FOMC's overall monetary policy objectives and recent statements or actions. Provide a clear and detailed classification of the monetary policy stance, along with a justification for your decision. Choose from the following categories: Neutral, Dovish, Moderately Hawkish, or Very Hawkish. Explain the reasons for your prediction, focusing on the FOMC's monetary policy objectives and any indications of a shift in policy direction. Provide evidence or references that support your prediction, if possible. Discuss the potential impact on inflation, employment, and any associated risks or uncertainties, focusing on the short-term and medium-term implications.\n",
      "New prompt:  Analyze the given FOMC statement and determine the expected federal funds rate or the pace of balance sheet reduction based on the statement. Interpret the statement in the context of the FOMC's overall monetary policy objectives and recent statements or actions. Provide a clear and detailed classification of the monetary policy stance, along with a justification for your decision. Choose from the following categories: Neutral, Dovish, Moderately Hawkish, or Very Hawkish. Explain the reasons for your prediction, focusing on the FOMC's monetary policy objectives and any indications of a shift in policy direction. Provide evidence or references that support your prediction, if possible. Discuss the potential impact on inflation, employment, and any associated risks or uncertainties, focusing on the short-term and medium-term implications. Discuss the potential risks and uncertainties associated with the predicted policy stance, and provide specific examples or scenarios that illustrate the short-term and medium-term implications of the FOMC's monetary policy stance on inflation, employment, and associated risks or uncertainties.\n"
     ]
    },
    {
     "name": "stderr",
     "output_type": "stream",
     "text": [
      "Accuracy: 0.7222222222222222: 100%|██████████| 36/36 [00:52<00:00,  1.44s/it]\n",
      "Epoch 2: Training step 2: : 2it [03:48, 116.81s/it]"
     ]
    },
    {
     "name": "stdout",
     "output_type": "stream",
     "text": [
      "Test accuracy: 0.7222222222222222\n",
      "Previous test accuracy: 0.6666666666666666\n",
      "System prompt:  Analyze the given FOMC statement and determine the expected federal funds rate or the pace of balance sheet reduction based on the statement. Interpret the statement in the context of the FOMC's overall monetary policy objectives and recent statements or actions. Provide a clear and detailed classification of the monetary policy stance, along with a justification for your decision. Choose from the following categories: Neutral, Dovish, Moderately Hawkish, or Very Hawkish. Explain the reasons for your prediction, focusing on the FOMC's monetary policy objectives and any indications of a shift in policy direction. Provide evidence or references that support your prediction, if possible. Discuss the potential impact on inflation, employment, and any associated risks or uncertainties, focusing on the short-term and medium-term implications. Discuss the potential risks and uncertainties associated with the predicted policy stance, and provide specific examples or scenarios that illustrate the short-term and medium-term implications of the FOMC's monetary policy stance on inflation, employment, and associated risks or uncertainties.\n",
      "New prompt:  Analyze the given FOMC statement and predict the expected federal funds rate or the pace of balance sheet reduction over the next year. Discuss the potential impact on inflation, employment, and any associated risks or uncertainties, focusing on the short-term and medium-term implications, and providing specific examples or scenarios that illustrate the short-term and medium-term implications of the FOMC's monetary policy stance on these factors.\n"
     ]
    },
    {
     "name": "stderr",
     "output_type": "stream",
     "text": [
      "Accuracy: 0.05555555555555555: 100%|██████████| 36/36 [00:52<00:00,  1.47s/it] \n",
      "Epoch 2: Training step 3: : 3it [09:39, 223.68s/it]"
     ]
    },
    {
     "name": "stdout",
     "output_type": "stream",
     "text": [
      "Test accuracy: 0.05555555555555555\n",
      "Previous test accuracy: 0.7222222222222222\n",
      "Rejected prompt: Analyze the given FOMC statement and predict the expected federal funds rate or the pace of balance sheet reduction over the next year. Discuss the potential impact on inflation, employment, and any associated risks or uncertainties, focusing on the short-term and medium-term implications, and providing specific examples or scenarios that illustrate the short-term and medium-term implications of the FOMC's monetary policy stance on these factors.\n",
      "System prompt:  Analyze the given FOMC statement and determine the expected federal funds rate or the pace of balance sheet reduction based on the statement. Interpret the statement in the context of the FOMC's overall monetary policy objectives and recent statements or actions. Provide a clear and detailed classification of the monetary policy stance, along with a justification for your decision. Choose from the following categories: Neutral, Dovish, Moderately Hawkish, or Very Hawkish. Explain the reasons for your prediction, focusing on the FOMC's monetary policy objectives and any indications of a shift in policy direction. Provide evidence or references that support your prediction, if possible. Discuss the potential impact on inflation, employment, and any associated risks or uncertainties, focusing on the short-term and medium-term implications. Discuss the potential risks and uncertainties associated with the predicted policy stance, and provide specific examples or scenarios that illustrate the short-term and medium-term implications of the FOMC's monetary policy stance on inflation, employment, and associated risks or uncertainties.\n",
      "New prompt:  Analyze the given FOMC statement and determine the expected federal funds rate or the pace of balance sheet reduction, along with a clear and detailed classification of the monetary policy stance, based on the statement's context and the FOMC's overall monetary policy objectives and recent statements or actions. Explain the reasons for your prediction, focusing on the FOMC's monetary policy objectives and any indications of a shift in policy direction. Provide evidence or references that support your prediction, if possible. Discuss the potential impact on inflation, employment, and any associated risks or uncertainties, focusing on the short-term and medium-term implications. Discuss the potential risks and uncertainties associated with the predicted policy stance, and provide specific examples or scenarios that illustrate the short-term and medium-term implications of the FOMC's monetary policy stance on inflation, employment, and associated risks or uncertainties.\n"
     ]
    },
    {
     "name": "stderr",
     "output_type": "stream",
     "text": [
      "Accuracy: 0.1388888888888889: 100%|██████████| 36/36 [00:56<00:00,  1.56s/it] \n",
      "Epoch 2: Training step 4: : 4it [15:34, 275.63s/it]"
     ]
    },
    {
     "name": "stdout",
     "output_type": "stream",
     "text": [
      "Test accuracy: 0.1388888888888889\n",
      "Previous test accuracy: 0.7222222222222222\n",
      "Rejected prompt: Analyze the given FOMC statement and determine the expected federal funds rate or the pace of balance sheet reduction, along with a clear and detailed classification of the monetary policy stance, based on the statement's context and the FOMC's overall monetary policy objectives and recent statements or actions. Explain the reasons for your prediction, focusing on the FOMC's monetary policy objectives and any indications of a shift in policy direction. Provide evidence or references that support your prediction, if possible. Discuss the potential impact on inflation, employment, and any associated risks or uncertainties, focusing on the short-term and medium-term implications. Discuss the potential risks and uncertainties associated with the predicted policy stance, and provide specific examples or scenarios that illustrate the short-term and medium-term implications of the FOMC's monetary policy stance on inflation, employment, and associated risks or uncertainties.\n",
      "System prompt:  Analyze the given FOMC statement and determine the expected federal funds rate or the pace of balance sheet reduction based on the statement. Interpret the statement in the context of the FOMC's overall monetary policy objectives and recent statements or actions. Provide a clear and detailed classification of the monetary policy stance, along with a justification for your decision. Choose from the following categories: Neutral, Dovish, Moderately Hawkish, or Very Hawkish. Explain the reasons for your prediction, focusing on the FOMC's monetary policy objectives and any indications of a shift in policy direction. Provide evidence or references that support your prediction, if possible. Discuss the potential impact on inflation, employment, and any associated risks or uncertainties, focusing on the short-term and medium-term implications. Discuss the potential risks and uncertainties associated with the predicted policy stance, and provide specific examples or scenarios that illustrate the short-term and medium-term implications of the FOMC's monetary policy stance on inflation, employment, and associated risks or uncertainties.\n",
      "New prompt:  Analyze the given FOMC statement and determine any indications of a shift in the federal funds rate or the pace of balance sheet reduction, specifically looking for phrases like 'interest rates', 'quantitative easing', 'forward guidance', or 'open market operations'. Interpret these indications in the context of the FOMC's overall monetary policy objectives and recent statements or actions. Provide a clear and detailed classification of the expected monetary policy stance, along with a justification for your decision. Choose from the following categories: Neutral, Dovish, Moderately Hawkish, or Very Hawkish. Explain the reasons for your prediction, focusing on the FOMC's monetary policy objectives and any indications of a shift in policy direction. Provide evidence or references that support your prediction, if possible. Discuss the potential impact on inflation, employment, and any associated risks or uncertainties, focusing on the short-term and medium-term implications. Discuss the potential risks and uncertainties associated with the predicted policy stance, and provide specific examples or scenarios that illustrate the short-term and medium-term implications of the FOMC's monetary policy stance on inflation, employment, and associated risks or uncertainties.\n"
     ]
    },
    {
     "name": "stderr",
     "output_type": "stream",
     "text": [
      "Accuracy: 0.5555555555555556: 100%|██████████| 36/36 [00:52<00:00,  1.46s/it]\n",
      "Epoch 2: Training step 5: : 5it [21:48, 311.05s/it]"
     ]
    },
    {
     "name": "stdout",
     "output_type": "stream",
     "text": [
      "Test accuracy: 0.5555555555555556\n",
      "Previous test accuracy: 0.7222222222222222\n",
      "Rejected prompt: Analyze the given FOMC statement and determine any indications of a shift in the federal funds rate or the pace of balance sheet reduction, specifically looking for phrases like 'interest rates', 'quantitative easing', 'forward guidance', or 'open market operations'. Interpret these indications in the context of the FOMC's overall monetary policy objectives and recent statements or actions. Provide a clear and detailed classification of the expected monetary policy stance, along with a justification for your decision. Choose from the following categories: Neutral, Dovish, Moderately Hawkish, or Very Hawkish. Explain the reasons for your prediction, focusing on the FOMC's monetary policy objectives and any indications of a shift in policy direction. Provide evidence or references that support your prediction, if possible. Discuss the potential impact on inflation, employment, and any associated risks or uncertainties, focusing on the short-term and medium-term implications. Discuss the potential risks and uncertainties associated with the predicted policy stance, and provide specific examples or scenarios that illustrate the short-term and medium-term implications of the FOMC's monetary policy stance on inflation, employment, and associated risks or uncertainties.\n",
      "System prompt:  Analyze the given FOMC statement and determine the expected federal funds rate or the pace of balance sheet reduction based on the statement. Interpret the statement in the context of the FOMC's overall monetary policy objectives and recent statements or actions. Provide a clear and detailed classification of the monetary policy stance, along with a justification for your decision. Choose from the following categories: Neutral, Dovish, Moderately Hawkish, or Very Hawkish. Explain the reasons for your prediction, focusing on the FOMC's monetary policy objectives and any indications of a shift in policy direction. Provide evidence or references that support your prediction, if possible. Discuss the potential impact on inflation, employment, and any associated risks or uncertainties, focusing on the short-term and medium-term implications. Discuss the potential risks and uncertainties associated with the predicted policy stance, and provide specific examples or scenarios that illustrate the short-term and medium-term implications of the FOMC's monetary policy stance on inflation, employment, and associated risks or uncertainties.\n",
      "New prompt:  Analyze the given FOMC statement and identify the key elements that provide insight into the FOMC's monetary policy stance on inflation, employment, and associated risks or uncertainties. Explain how these elements indicate the expected policy stance, focusing on the FOMC's monetary policy objectives and any indications of a shift in policy direction. Provide a clear and detailed classification of the monetary policy stance, along with a justification for your decision. Choose from the following categories: Neutral, Dovish, Moderately Hawkish, or Very Hawkish. Discuss the potential impact on inflation, employment, and any associated risks or uncertainties, focusing on the short-term and medium-term implications. Discuss the potential risks and uncertainties associated with the predicted policy stance, and provide specific examples or scenarios that illustrate the short-term and medium-term implications of the FOMC's monetary policy stance on inflation, employment, and associated risks or uncertainties.\n"
     ]
    },
    {
     "name": "stderr",
     "output_type": "stream",
     "text": [
      "Accuracy: 0.6111111111111112: 100%|██████████| 36/36 [01:06<00:00,  1.85s/it]\n",
      "Epoch 2: Training step 5: : 5it [27:53, 334.66s/it]"
     ]
    },
    {
     "name": "stdout",
     "output_type": "stream",
     "text": [
      "Test accuracy: 0.6111111111111112\n",
      "Previous test accuracy: 0.7222222222222222\n",
      "Rejected prompt: Analyze the given FOMC statement and identify the key elements that provide insight into the FOMC's monetary policy stance on inflation, employment, and associated risks or uncertainties. Explain how these elements indicate the expected policy stance, focusing on the FOMC's monetary policy objectives and any indications of a shift in policy direction. Provide a clear and detailed classification of the monetary policy stance, along with a justification for your decision. Choose from the following categories: Neutral, Dovish, Moderately Hawkish, or Very Hawkish. Discuss the potential impact on inflation, employment, and any associated risks or uncertainties, focusing on the short-term and medium-term implications. Discuss the potential risks and uncertainties associated with the predicted policy stance, and provide specific examples or scenarios that illustrate the short-term and medium-term implications of the FOMC's monetary policy stance on inflation, employment, and associated risks or uncertainties.\n",
      "System prompt:  Analyze the given FOMC statement and determine the expected federal funds rate or the pace of balance sheet reduction based on the statement. Interpret the statement in the context of the FOMC's overall monetary policy objectives and recent statements or actions. Provide a clear and detailed classification of the monetary policy stance, along with a justification for your decision. Choose from the following categories: Neutral, Dovish, Moderately Hawkish, or Very Hawkish. Explain the reasons for your prediction, focusing on the FOMC's monetary policy objectives and any indications of a shift in policy direction. Provide evidence or references that support your prediction, if possible. Discuss the potential impact on inflation, employment, and any associated risks or uncertainties, focusing on the short-term and medium-term implications. Discuss the potential risks and uncertainties associated with the predicted policy stance, and provide specific examples or scenarios that illustrate the short-term and medium-term implications of the FOMC's monetary policy stance on inflation, employment, and associated risks or uncertainties.\n"
     ]
    },
    {
     "name": "stderr",
     "output_type": "stream",
     "text": [
      "\n"
     ]
    }
   ],
   "source": [
    "start_test_accuracy = np.mean(eval_dataset(testing_data, eval_fn, model))\n",
    "results = {\"test_accuracy\": [start_test_accuracy], \"prompt\": [starting_prompt], \n",
    "            \"new_prompt\": [starting_prompt], \"new_prompt_test_accuracy\": [start_test_accuracy]}\n",
    "print(f\"Starting prompt: {starting_prompt}\")\n",
    "print(f\"Starting test accuracy: {start_test_accuracy}\")\n",
    "\n",
    "# optimize system prompt\n",
    "train_loader = DataLoader(training_data, batch_size=15, shuffle=True)\n",
    "\n",
    "for epoch in range(3):\n",
    "    for step, (batch_x, batch_y) in enumerate((pbar := tqdm(train_loader, position=0))):\n",
    "        # initialize training step\n",
    "        pbar.set_description(f\"Epoch {epoch}: Training step {step}\")\n",
    "        optimizer.zero_grad()\n",
    "        losses = []\n",
    "\n",
    "        # train off items in batch\n",
    "        for (x, y) in zip(batch_x, batch_y):\n",
    "            eval_output = eval_sample(x, y, eval_fn, model)\n",
    "            losses.append(eval_output)\n",
    "\n",
    "        # sum losses\n",
    "        total_loss = textgrad.sum(losses)\n",
    "        total_loss.backward(engine)\n",
    "        optimizer.step()\n",
    "        \n",
    "        # evaluate new system prompt\n",
    "        # if worse, revert to previous prompt\n",
    "        results[\"new_prompt\"].append(system_prompt.get_value())\n",
    "        print(\"New prompt: \", system_prompt.get_value())\n",
    "        run_test_revert(system_prompt, results, eval_fn, model, testing_data)\n",
    "        \n",
    "        print(\"System prompt: \", system_prompt)\n",
    "        results[\"prompt\"].append(system_prompt.get_value())\n",
    "        \n",
    "        if step >= 5:\n",
    "            break"
   ]
  },
  {
   "cell_type": "code",
   "execution_count": 11,
   "metadata": {},
   "outputs": [],
   "source": [
    "pd.DataFrame(results).to_csv(\"textgrad.csv\", index=False)"
   ]
  },
  {
   "cell_type": "code",
   "execution_count": 12,
   "metadata": {},
   "outputs": [
    {
     "name": "stderr",
     "output_type": "stream",
     "text": [
      "Accuracy: 0.5403225806451613: 100%|██████████| 496/496 [09:35<00:00,  1.16s/it]\n"
     ]
    },
    {
     "data": {
      "text/plain": [
       "[1,\n",
       " 0,\n",
       " 1,\n",
       " 1,\n",
       " 0,\n",
       " 1,\n",
       " 1,\n",
       " 0,\n",
       " 0,\n",
       " 0,\n",
       " 1,\n",
       " 0,\n",
       " 0,\n",
       " 1,\n",
       " 1,\n",
       " 0,\n",
       " 1,\n",
       " 0,\n",
       " 0,\n",
       " 1,\n",
       " 1,\n",
       " 0,\n",
       " 1,\n",
       " 0,\n",
       " 1,\n",
       " 1,\n",
       " 0,\n",
       " 1,\n",
       " 0,\n",
       " 1,\n",
       " 1,\n",
       " 0,\n",
       " 1,\n",
       " 1,\n",
       " 0,\n",
       " 0,\n",
       " 1,\n",
       " 0,\n",
       " 1,\n",
       " 0,\n",
       " 1,\n",
       " 1,\n",
       " 0,\n",
       " 1,\n",
       " 1,\n",
       " 0,\n",
       " 0,\n",
       " 1,\n",
       " 1,\n",
       " 1,\n",
       " 1,\n",
       " 1,\n",
       " 0,\n",
       " 0,\n",
       " 1,\n",
       " 0,\n",
       " 1,\n",
       " 0,\n",
       " 1,\n",
       " 0,\n",
       " 1,\n",
       " 1,\n",
       " 0,\n",
       " 0,\n",
       " 1,\n",
       " 0,\n",
       " 1,\n",
       " 1,\n",
       " 0,\n",
       " 0,\n",
       " 1,\n",
       " 1,\n",
       " 1,\n",
       " 0,\n",
       " 0,\n",
       " 0,\n",
       " 1,\n",
       " 1,\n",
       " 1,\n",
       " 1,\n",
       " 1,\n",
       " 1,\n",
       " 1,\n",
       " 1,\n",
       " 1,\n",
       " 1,\n",
       " 1,\n",
       " 0,\n",
       " 0,\n",
       " 0,\n",
       " 1,\n",
       " 1,\n",
       " 0,\n",
       " 1,\n",
       " 1,\n",
       " 1,\n",
       " 0,\n",
       " 1,\n",
       " 1,\n",
       " 0,\n",
       " 1,\n",
       " 1,\n",
       " 1,\n",
       " 1,\n",
       " 0,\n",
       " 1,\n",
       " 1,\n",
       " 1,\n",
       " 0,\n",
       " 0,\n",
       " 0,\n",
       " 1,\n",
       " 1,\n",
       " 1,\n",
       " 1,\n",
       " 0,\n",
       " 0,\n",
       " 1,\n",
       " 1,\n",
       " 0,\n",
       " 0,\n",
       " 1,\n",
       " 0,\n",
       " 0,\n",
       " 1,\n",
       " 1,\n",
       " 0,\n",
       " 1,\n",
       " 0,\n",
       " 0,\n",
       " 1,\n",
       " 1,\n",
       " 1,\n",
       " 1,\n",
       " 1,\n",
       " 1,\n",
       " 0,\n",
       " 0,\n",
       " 0,\n",
       " 0,\n",
       " 1,\n",
       " 1,\n",
       " 0,\n",
       " 1,\n",
       " 0,\n",
       " 0,\n",
       " 1,\n",
       " 0,\n",
       " 0,\n",
       " 0,\n",
       " 1,\n",
       " 0,\n",
       " 0,\n",
       " 1,\n",
       " 1,\n",
       " 0,\n",
       " 1,\n",
       " 1,\n",
       " 0,\n",
       " 1,\n",
       " 1,\n",
       " 1,\n",
       " 0,\n",
       " 0,\n",
       " 1,\n",
       " 1,\n",
       " 1,\n",
       " 0,\n",
       " 0,\n",
       " 0,\n",
       " 1,\n",
       " 0,\n",
       " 0,\n",
       " 1,\n",
       " 0,\n",
       " 1,\n",
       " 0,\n",
       " 1,\n",
       " 1,\n",
       " 1,\n",
       " 1,\n",
       " 0,\n",
       " 1,\n",
       " 1,\n",
       " 0,\n",
       " 0,\n",
       " 1,\n",
       " 1,\n",
       " 0,\n",
       " 0,\n",
       " 1,\n",
       " 1,\n",
       " 1,\n",
       " 1,\n",
       " 1,\n",
       " 1,\n",
       " 1,\n",
       " 1,\n",
       " 0,\n",
       " 0,\n",
       " 0,\n",
       " 1,\n",
       " 1,\n",
       " 0,\n",
       " 0,\n",
       " 0,\n",
       " 0,\n",
       " 1,\n",
       " 0,\n",
       " 0,\n",
       " 1,\n",
       " 0,\n",
       " 1,\n",
       " 1,\n",
       " 0,\n",
       " 1,\n",
       " 1,\n",
       " 1,\n",
       " 0,\n",
       " 0,\n",
       " 1,\n",
       " 1,\n",
       " 0,\n",
       " 0,\n",
       " 0,\n",
       " 1,\n",
       " 0,\n",
       " 1,\n",
       " 1,\n",
       " 0,\n",
       " 0,\n",
       " 1,\n",
       " 0,\n",
       " 0,\n",
       " 0,\n",
       " 0,\n",
       " 1,\n",
       " 1,\n",
       " 0,\n",
       " 1,\n",
       " 0,\n",
       " 1,\n",
       " 0,\n",
       " 1,\n",
       " 1,\n",
       " 0,\n",
       " 0,\n",
       " 1,\n",
       " 1,\n",
       " 1,\n",
       " 1,\n",
       " 1,\n",
       " 0,\n",
       " 1,\n",
       " 0,\n",
       " 0,\n",
       " 1,\n",
       " 0,\n",
       " 1,\n",
       " 1,\n",
       " 1,\n",
       " 0,\n",
       " 0,\n",
       " 1,\n",
       " 1,\n",
       " 0,\n",
       " 1,\n",
       " 1,\n",
       " 0,\n",
       " 1,\n",
       " 1,\n",
       " 0,\n",
       " 1,\n",
       " 1,\n",
       " 0,\n",
       " 0,\n",
       " 0,\n",
       " 1,\n",
       " 1,\n",
       " 1,\n",
       " 0,\n",
       " 1,\n",
       " 0,\n",
       " 1,\n",
       " 0,\n",
       " 1,\n",
       " 0,\n",
       " 0,\n",
       " 1,\n",
       " 0,\n",
       " 1,\n",
       " 1,\n",
       " 0,\n",
       " 1,\n",
       " 0,\n",
       " 0,\n",
       " 0,\n",
       " 1,\n",
       " 1,\n",
       " 0,\n",
       " 1,\n",
       " 0,\n",
       " 1,\n",
       " 1,\n",
       " 1,\n",
       " 0,\n",
       " 1,\n",
       " 1,\n",
       " 0,\n",
       " 1,\n",
       " 0,\n",
       " 0,\n",
       " 1,\n",
       " 1,\n",
       " 1,\n",
       " 0,\n",
       " 1,\n",
       " 1,\n",
       " 0,\n",
       " 1,\n",
       " 0,\n",
       " 1,\n",
       " 1,\n",
       " 1,\n",
       " 0,\n",
       " 0,\n",
       " 0,\n",
       " 1,\n",
       " 0,\n",
       " 1,\n",
       " 1,\n",
       " 1,\n",
       " 0,\n",
       " 0,\n",
       " 0,\n",
       " 1,\n",
       " 1,\n",
       " 1,\n",
       " 0,\n",
       " 1,\n",
       " 0,\n",
       " 1,\n",
       " 1,\n",
       " 1,\n",
       " 0,\n",
       " 0,\n",
       " 0,\n",
       " 1,\n",
       " 0,\n",
       " 0,\n",
       " 1,\n",
       " 0,\n",
       " 1,\n",
       " 1,\n",
       " 0,\n",
       " 0,\n",
       " 0,\n",
       " 0,\n",
       " 0,\n",
       " 0,\n",
       " 1,\n",
       " 0,\n",
       " 1,\n",
       " 0,\n",
       " 1,\n",
       " 1,\n",
       " 0,\n",
       " 0,\n",
       " 0,\n",
       " 0,\n",
       " 0,\n",
       " 1,\n",
       " 0,\n",
       " 1,\n",
       " 1,\n",
       " 0,\n",
       " 1,\n",
       " 0,\n",
       " 1,\n",
       " 1,\n",
       " 1,\n",
       " 1,\n",
       " 1,\n",
       " 1,\n",
       " 0,\n",
       " 0,\n",
       " 1,\n",
       " 1,\n",
       " 1,\n",
       " 0,\n",
       " 0,\n",
       " 0,\n",
       " 1,\n",
       " 1,\n",
       " 0,\n",
       " 1,\n",
       " 0,\n",
       " 1,\n",
       " 1,\n",
       " 0,\n",
       " 0,\n",
       " 1,\n",
       " 0,\n",
       " 1,\n",
       " 0,\n",
       " 1,\n",
       " 1,\n",
       " 1,\n",
       " 0,\n",
       " 1,\n",
       " 0,\n",
       " 1,\n",
       " 1,\n",
       " 1,\n",
       " 0,\n",
       " 0,\n",
       " 1,\n",
       " 0,\n",
       " 1,\n",
       " 0,\n",
       " 0,\n",
       " 0,\n",
       " 0,\n",
       " 1,\n",
       " 0,\n",
       " 1,\n",
       " 1,\n",
       " 0,\n",
       " 0,\n",
       " 1,\n",
       " 0,\n",
       " 1,\n",
       " 1,\n",
       " 1,\n",
       " 0,\n",
       " 0,\n",
       " 1,\n",
       " 1,\n",
       " 1,\n",
       " 0,\n",
       " 1,\n",
       " 1,\n",
       " 0,\n",
       " 1,\n",
       " 1,\n",
       " 0,\n",
       " 0,\n",
       " 1,\n",
       " 1,\n",
       " 0,\n",
       " 0,\n",
       " 0,\n",
       " 1,\n",
       " 0,\n",
       " 1,\n",
       " 1,\n",
       " 0,\n",
       " 0,\n",
       " 0,\n",
       " 0,\n",
       " 0,\n",
       " 1,\n",
       " 0,\n",
       " 0,\n",
       " 0,\n",
       " 1,\n",
       " 0,\n",
       " 1,\n",
       " 0,\n",
       " 1,\n",
       " 0,\n",
       " 1,\n",
       " 0,\n",
       " 1,\n",
       " 0,\n",
       " 1,\n",
       " 0,\n",
       " 0,\n",
       " 1,\n",
       " 1,\n",
       " 0,\n",
       " 0,\n",
       " 0,\n",
       " 1,\n",
       " 0,\n",
       " 1,\n",
       " 1,\n",
       " 1,\n",
       " 1,\n",
       " 1,\n",
       " 0,\n",
       " 1,\n",
       " 0,\n",
       " 1,\n",
       " 1,\n",
       " 0]"
      ]
     },
     "execution_count": 12,
     "metadata": {},
     "output_type": "execute_result"
    }
   ],
   "source": [
    "engine = get_engine('together-mistralai/Mistral-7B-Instruct-v0.3')\n",
    "\n",
    "starting_prompt = \"Analyze the given FOMC statement and determine the expected federal funds rate or the pace of balance sheet reduction based on the statement. Interpret the statement in the context of the FOMC's overall monetary policy objectives and recent statements or actions. Provide a clear and detailed classification of the monetary policy stance, along with a justification for your decision. Choose from the following categories: Neutral, Dovish, Moderately Hawkish, or Very Hawkish. Explain the reasons for your prediction, focusing on the FOMC's monetary policy objectives and any indications of a shift in policy direction. Provide evidence or references that support your prediction, if possible. Discuss the potential impact on inflation, employment, and any associated risks or uncertainties, focusing on the short-term and medium-term implications. Discuss the potential risks and uncertainties associated with the predicted policy stance, and provide specific examples or scenarios that illustrate the short-term and medium-term implications of the FOMC's monetary policy stance on inflation, employment, and associated risks or uncertainties.\"\n",
    "system_prompt = Variable(starting_prompt, requires_grad=True, role_description=\"system prompt to the language model\")\n",
    "model = textgrad.BlackboxLLM(engine, system_prompt)\n",
    "\n",
    "optimizer = TextualGradientDescent(engine=engine, parameters=[system_prompt])\n",
    "\n",
    "mapping = {0: 'dovish', 1: 'hawkish', 2: 'neutral'}\n",
    "data = [(data['sentence'], data['label']) for data in dataset['test']]\n",
    "eval_dataset(data, eval_fn, model)"
   ]
  },
  {
   "cell_type": "markdown",
   "metadata": {},
   "source": [
    "## Testing together 1.2 API"
   ]
  },
  {
   "cell_type": "code",
   "execution_count": 4,
   "metadata": {},
   "outputs": [],
   "source": [
    "# the one in prompts.py was not returning just the system prompt/user message which together 1.2 needs\n",
    "def fomc_prompt(sentence: str):\n",
    "\n",
    "    system_prompt = f\"\"\"Discard all the previous instructions. Behave like you are an expert sentence clas-\n",
    "                sifier.\"\"\"\n",
    "    user_msg = f\"\"\"Classify the following sentence from FOMC into ‘HAWKISH’, ‘DOVISH’, or ‘NEU-\n",
    "                TRAL’ class. Label ‘HAWKISH’ if it is corresponding to tightening of the monetary policy,\n",
    "                ‘DOVISH’ if it is corresponding to easing of the monetary policy, or ‘NEUTRAL’ if the\n",
    "                stance is neutral. Provide the label in the first line and provide a short explanation in the\n",
    "                second line. This is the sentence: {sentence}\"\"\"\n",
    "\n",
    "    return system_prompt, user_msg"
   ]
  },
  {
   "cell_type": "code",
   "execution_count": 8,
   "metadata": {},
   "outputs": [
    {
     "name": "stdout",
     "output_type": "stream",
     "text": [
      "LLM response: Neutral class\n",
      "Explanation: The sentence mentions that participants agreed that the labor market remained strong and economic activity rose at a moderate rate, indicating a neutral stance towards monetary policy.\n",
      "Token usage: {'prompt_tokens': 174, 'response_tokens': 37, 'total_tokens': 211}\n"
     ]
    }
   ],
   "source": [
    "# Testing together 1.2 API\n",
    "client = Together()\n",
    "model_response = client.chat.completions.create(\n",
    "    model='allenai/OLMo-7B-Instruct',\n",
    "    messages=[{'role': 'system', 'content': fomc_prompt(sentence)[0]},\n",
    "                {'role': 'user', 'content': fomc_prompt(sentence)[1]}],\n",
    "    max_tokens=128,\n",
    "    temperature=0.7,\n",
    "    top_k=50,\n",
    "    top_p=0.7,\n",
    "    repetition_penalty=1.1\n",
    ")\n",
    "response_label = model_response.choices[0].message.content\n",
    "token_usage = {'prompt_tokens': model_response.usage.prompt_tokens, 'response_tokens': model_response.usage.completion_tokens, 'total_tokens': model_response.usage.total_tokens}\n",
    "print(f\"LLM response: {response_label.strip()}\\nToken usage: {token_usage}\")"
   ]
  },
  {
   "cell_type": "markdown",
   "metadata": {},
   "source": [
    "## Testing DSPy"
   ]
  },
  {
   "cell_type": "code",
   "execution_count": 54,
   "metadata": {},
   "outputs": [
    {
     "name": "stdout",
     "output_type": "stream",
     "text": [
      "Backing off 0.6 seconds after 1 tries calling function <function Together._generate at 0x0000017878ABF700> with kwargs {'temperature': 0.0, 'max_tokens': 512, 'top_p': 1, 'top_k': 20, 'repetition_penalty': 1, 'n': 1, 'stop': ['</s>', '<s>']}\n",
      "Backing off 0.5 seconds after 2 tries calling function <function Together._generate at 0x0000017878ABF700> with kwargs {'temperature': 0.0, 'max_tokens': 512, 'top_p': 1, 'top_k': 20, 'repetition_penalty': 1, 'n': 1, 'stop': ['</s>', '<s>']}\n",
      "Backing off 3.4 seconds after 3 tries calling function <function Together._generate at 0x0000017878ABF700> with kwargs {'temperature': 0.0, 'max_tokens': 512, 'top_p': 1, 'top_k': 20, 'repetition_penalty': 1, 'n': 1, 'stop': ['</s>', '<s>']}\n",
      "Backing off 7.0 seconds after 4 tries calling function <function Together._generate at 0x0000017878ABF700> with kwargs {'temperature': 0.0, 'max_tokens': 512, 'top_p': 1, 'top_k': 20, 'repetition_penalty': 1, 'n': 1, 'stop': ['</s>', '<s>']}\n",
      "Backing off 12.9 seconds after 5 tries calling function <function Together._generate at 0x0000017878ABF700> with kwargs {'temperature': 0.0, 'max_tokens': 512, 'top_p': 1, 'top_k': 20, 'repetition_penalty': 1, 'n': 1, 'stop': ['</s>', '<s>']}\n"
     ]
    },
    {
     "ename": "KeyboardInterrupt",
     "evalue": "",
     "output_type": "error",
     "traceback": [
      "\u001b[1;31m---------------------------------------------------------------------------\u001b[0m",
      "\u001b[1;31mMissingSchema\u001b[0m                             Traceback (most recent call last)",
      "\u001b[1;32mc:\\Users\\mikad\\anaconda3\\lib\\site-packages\\dsp\\modules\\hf_client.py\u001b[0m in \u001b[0;36m_generate\u001b[1;34m(self, prompt, use_chat_api, **kwargs)\u001b[0m\n\u001b[0;32m    279\u001b[0m         \u001b[1;32mtry\u001b[0m\u001b[1;33m:\u001b[0m\u001b[1;33m\u001b[0m\u001b[1;33m\u001b[0m\u001b[0m\n\u001b[1;32m--> 280\u001b[1;33m             \u001b[1;32mwith\u001b[0m \u001b[0mself\u001b[0m\u001b[1;33m.\u001b[0m\u001b[0msession\u001b[0m\u001b[1;33m.\u001b[0m\u001b[0mpost\u001b[0m\u001b[1;33m(\u001b[0m\u001b[0murl\u001b[0m\u001b[1;33m,\u001b[0m \u001b[0mheaders\u001b[0m\u001b[1;33m=\u001b[0m\u001b[0mheaders\u001b[0m\u001b[1;33m,\u001b[0m \u001b[0mjson\u001b[0m\u001b[1;33m=\u001b[0m\u001b[0mbody\u001b[0m\u001b[1;33m)\u001b[0m \u001b[1;32mas\u001b[0m \u001b[0mresp\u001b[0m\u001b[1;33m:\u001b[0m\u001b[1;33m\u001b[0m\u001b[1;33m\u001b[0m\u001b[0m\n\u001b[0m\u001b[0;32m    281\u001b[0m                 \u001b[0mresp_json\u001b[0m \u001b[1;33m=\u001b[0m \u001b[0mresp\u001b[0m\u001b[1;33m.\u001b[0m\u001b[0mjson\u001b[0m\u001b[1;33m(\u001b[0m\u001b[1;33m)\u001b[0m\u001b[1;33m\u001b[0m\u001b[1;33m\u001b[0m\u001b[0m\n",
      "\u001b[1;32mc:\\Users\\mikad\\anaconda3\\lib\\site-packages\\requests\\sessions.py\u001b[0m in \u001b[0;36mpost\u001b[1;34m(self, url, data, json, **kwargs)\u001b[0m\n\u001b[0;32m    636\u001b[0m \u001b[1;33m\u001b[0m\u001b[0m\n\u001b[1;32m--> 637\u001b[1;33m         \u001b[1;32mreturn\u001b[0m \u001b[0mself\u001b[0m\u001b[1;33m.\u001b[0m\u001b[0mrequest\u001b[0m\u001b[1;33m(\u001b[0m\u001b[1;34m\"POST\"\u001b[0m\u001b[1;33m,\u001b[0m \u001b[0murl\u001b[0m\u001b[1;33m,\u001b[0m \u001b[0mdata\u001b[0m\u001b[1;33m=\u001b[0m\u001b[0mdata\u001b[0m\u001b[1;33m,\u001b[0m \u001b[0mjson\u001b[0m\u001b[1;33m=\u001b[0m\u001b[0mjson\u001b[0m\u001b[1;33m,\u001b[0m \u001b[1;33m**\u001b[0m\u001b[0mkwargs\u001b[0m\u001b[1;33m)\u001b[0m\u001b[1;33m\u001b[0m\u001b[1;33m\u001b[0m\u001b[0m\n\u001b[0m\u001b[0;32m    638\u001b[0m \u001b[1;33m\u001b[0m\u001b[0m\n",
      "\u001b[1;32mc:\\Users\\mikad\\anaconda3\\lib\\site-packages\\requests\\sessions.py\u001b[0m in \u001b[0;36mrequest\u001b[1;34m(self, method, url, params, data, headers, cookies, files, auth, timeout, allow_redirects, proxies, hooks, stream, verify, cert, json)\u001b[0m\n\u001b[0;32m    574\u001b[0m         )\n\u001b[1;32m--> 575\u001b[1;33m         \u001b[0mprep\u001b[0m \u001b[1;33m=\u001b[0m \u001b[0mself\u001b[0m\u001b[1;33m.\u001b[0m\u001b[0mprepare_request\u001b[0m\u001b[1;33m(\u001b[0m\u001b[0mreq\u001b[0m\u001b[1;33m)\u001b[0m\u001b[1;33m\u001b[0m\u001b[1;33m\u001b[0m\u001b[0m\n\u001b[0m\u001b[0;32m    576\u001b[0m \u001b[1;33m\u001b[0m\u001b[0m\n",
      "\u001b[1;32mc:\\Users\\mikad\\anaconda3\\lib\\site-packages\\requests\\sessions.py\u001b[0m in \u001b[0;36mprepare_request\u001b[1;34m(self, request)\u001b[0m\n\u001b[0;32m    483\u001b[0m         \u001b[0mp\u001b[0m \u001b[1;33m=\u001b[0m \u001b[0mPreparedRequest\u001b[0m\u001b[1;33m(\u001b[0m\u001b[1;33m)\u001b[0m\u001b[1;33m\u001b[0m\u001b[1;33m\u001b[0m\u001b[0m\n\u001b[1;32m--> 484\u001b[1;33m         p.prepare(\n\u001b[0m\u001b[0;32m    485\u001b[0m             \u001b[0mmethod\u001b[0m\u001b[1;33m=\u001b[0m\u001b[0mrequest\u001b[0m\u001b[1;33m.\u001b[0m\u001b[0mmethod\u001b[0m\u001b[1;33m.\u001b[0m\u001b[0mupper\u001b[0m\u001b[1;33m(\u001b[0m\u001b[1;33m)\u001b[0m\u001b[1;33m,\u001b[0m\u001b[1;33m\u001b[0m\u001b[1;33m\u001b[0m\u001b[0m\n",
      "\u001b[1;32mc:\\Users\\mikad\\anaconda3\\lib\\site-packages\\requests\\models.py\u001b[0m in \u001b[0;36mprepare\u001b[1;34m(self, method, url, headers, files, data, params, auth, cookies, hooks, json)\u001b[0m\n\u001b[0;32m    366\u001b[0m         \u001b[0mself\u001b[0m\u001b[1;33m.\u001b[0m\u001b[0mprepare_method\u001b[0m\u001b[1;33m(\u001b[0m\u001b[0mmethod\u001b[0m\u001b[1;33m)\u001b[0m\u001b[1;33m\u001b[0m\u001b[1;33m\u001b[0m\u001b[0m\n\u001b[1;32m--> 367\u001b[1;33m         \u001b[0mself\u001b[0m\u001b[1;33m.\u001b[0m\u001b[0mprepare_url\u001b[0m\u001b[1;33m(\u001b[0m\u001b[0murl\u001b[0m\u001b[1;33m,\u001b[0m \u001b[0mparams\u001b[0m\u001b[1;33m)\u001b[0m\u001b[1;33m\u001b[0m\u001b[1;33m\u001b[0m\u001b[0m\n\u001b[0m\u001b[0;32m    368\u001b[0m         \u001b[0mself\u001b[0m\u001b[1;33m.\u001b[0m\u001b[0mprepare_headers\u001b[0m\u001b[1;33m(\u001b[0m\u001b[0mheaders\u001b[0m\u001b[1;33m)\u001b[0m\u001b[1;33m\u001b[0m\u001b[1;33m\u001b[0m\u001b[0m\n",
      "\u001b[1;32mc:\\Users\\mikad\\anaconda3\\lib\\site-packages\\requests\\models.py\u001b[0m in \u001b[0;36mprepare_url\u001b[1;34m(self, url, params)\u001b[0m\n\u001b[0;32m    437\u001b[0m         \u001b[1;32mif\u001b[0m \u001b[1;32mnot\u001b[0m \u001b[0mscheme\u001b[0m\u001b[1;33m:\u001b[0m\u001b[1;33m\u001b[0m\u001b[1;33m\u001b[0m\u001b[0m\n\u001b[1;32m--> 438\u001b[1;33m             raise MissingSchema(\n\u001b[0m\u001b[0;32m    439\u001b[0m                 \u001b[1;34mf\"Invalid URL {url!r}: No scheme supplied. \"\u001b[0m\u001b[1;33m\u001b[0m\u001b[1;33m\u001b[0m\u001b[0m\n",
      "\u001b[1;31mMissingSchema\u001b[0m: Invalid URL 'None': No scheme supplied. Perhaps you meant https://None?",
      "\nDuring handling of the above exception, another exception occurred:\n",
      "\u001b[1;31mUnboundLocalError\u001b[0m                         Traceback (most recent call last)",
      "\u001b[1;32mc:\\Users\\mikad\\anaconda3\\lib\\site-packages\\backoff\\_sync.py\u001b[0m in \u001b[0;36mretry\u001b[1;34m(*args, **kwargs)\u001b[0m\n\u001b[0;32m    104\u001b[0m             \u001b[1;32mtry\u001b[0m\u001b[1;33m:\u001b[0m\u001b[1;33m\u001b[0m\u001b[1;33m\u001b[0m\u001b[0m\n\u001b[1;32m--> 105\u001b[1;33m                 \u001b[0mret\u001b[0m \u001b[1;33m=\u001b[0m \u001b[0mtarget\u001b[0m\u001b[1;33m(\u001b[0m\u001b[1;33m*\u001b[0m\u001b[0margs\u001b[0m\u001b[1;33m,\u001b[0m \u001b[1;33m**\u001b[0m\u001b[0mkwargs\u001b[0m\u001b[1;33m)\u001b[0m\u001b[1;33m\u001b[0m\u001b[1;33m\u001b[0m\u001b[0m\n\u001b[0m\u001b[0;32m    106\u001b[0m             \u001b[1;32mexcept\u001b[0m \u001b[0mexception\u001b[0m \u001b[1;32mas\u001b[0m \u001b[0me\u001b[0m\u001b[1;33m:\u001b[0m\u001b[1;33m\u001b[0m\u001b[1;33m\u001b[0m\u001b[0m\n",
      "\u001b[1;32mc:\\Users\\mikad\\anaconda3\\lib\\site-packages\\dsp\\modules\\hf_client.py\u001b[0m in \u001b[0;36m_generate\u001b[1;34m(self, prompt, use_chat_api, **kwargs)\u001b[0m\n\u001b[0;32m    288\u001b[0m         \u001b[1;32mexcept\u001b[0m \u001b[0mException\u001b[0m \u001b[1;32mas\u001b[0m \u001b[0me\u001b[0m\u001b[1;33m:\u001b[0m\u001b[1;33m\u001b[0m\u001b[1;33m\u001b[0m\u001b[0m\n\u001b[1;32m--> 289\u001b[1;33m             \u001b[1;32mif\u001b[0m \u001b[0mresp_json\u001b[0m\u001b[1;33m:\u001b[0m\u001b[1;33m\u001b[0m\u001b[1;33m\u001b[0m\u001b[0m\n\u001b[0m\u001b[0;32m    290\u001b[0m                 \u001b[0mprint\u001b[0m\u001b[1;33m(\u001b[0m\u001b[1;34mf\"resp_json:{resp_json}\"\u001b[0m\u001b[1;33m)\u001b[0m\u001b[1;33m\u001b[0m\u001b[1;33m\u001b[0m\u001b[0m\n",
      "\u001b[1;31mUnboundLocalError\u001b[0m: local variable 'resp_json' referenced before assignment",
      "\nDuring handling of the above exception, another exception occurred:\n",
      "\u001b[1;31mKeyboardInterrupt\u001b[0m                         Traceback (most recent call last)",
      "\u001b[1;32m~\\AppData\\Local\\Temp/ipykernel_16016/1839701109.py\u001b[0m in \u001b[0;36m<module>\u001b[1;34m\u001b[0m\n\u001b[0;32m     22\u001b[0m \u001b[1;33m\u001b[0m\u001b[0m\n\u001b[0;32m     23\u001b[0m \u001b[0manalyze\u001b[0m \u001b[1;33m=\u001b[0m \u001b[0mAnalysis\u001b[0m\u001b[1;33m(\u001b[0m\u001b[1;33m)\u001b[0m\u001b[1;33m\u001b[0m\u001b[1;33m\u001b[0m\u001b[0m\n\u001b[1;32m---> 24\u001b[1;33m \u001b[0manalyze\u001b[0m\u001b[1;33m(\u001b[0m\u001b[0msentence\u001b[0m\u001b[1;33m)\u001b[0m\u001b[1;33m\u001b[0m\u001b[1;33m\u001b[0m\u001b[0m\n\u001b[0m",
      "\u001b[1;32mc:\\Users\\mikad\\anaconda3\\lib\\site-packages\\dspy\\primitives\\program.py\u001b[0m in \u001b[0;36m__call__\u001b[1;34m(self, *args, **kwargs)\u001b[0m\n\u001b[0;32m     24\u001b[0m \u001b[1;33m\u001b[0m\u001b[0m\n\u001b[0;32m     25\u001b[0m     \u001b[1;32mdef\u001b[0m \u001b[0m__call__\u001b[0m\u001b[1;33m(\u001b[0m\u001b[0mself\u001b[0m\u001b[1;33m,\u001b[0m \u001b[1;33m*\u001b[0m\u001b[0margs\u001b[0m\u001b[1;33m,\u001b[0m \u001b[1;33m**\u001b[0m\u001b[0mkwargs\u001b[0m\u001b[1;33m)\u001b[0m\u001b[1;33m:\u001b[0m\u001b[1;33m\u001b[0m\u001b[1;33m\u001b[0m\u001b[0m\n\u001b[1;32m---> 26\u001b[1;33m         \u001b[1;32mreturn\u001b[0m \u001b[0mself\u001b[0m\u001b[1;33m.\u001b[0m\u001b[0mforward\u001b[0m\u001b[1;33m(\u001b[0m\u001b[1;33m*\u001b[0m\u001b[0margs\u001b[0m\u001b[1;33m,\u001b[0m \u001b[1;33m**\u001b[0m\u001b[0mkwargs\u001b[0m\u001b[1;33m)\u001b[0m\u001b[1;33m\u001b[0m\u001b[1;33m\u001b[0m\u001b[0m\n\u001b[0m\u001b[0;32m     27\u001b[0m \u001b[1;33m\u001b[0m\u001b[0m\n\u001b[0;32m     28\u001b[0m     \u001b[1;32mdef\u001b[0m \u001b[0mnamed_predictors\u001b[0m\u001b[1;33m(\u001b[0m\u001b[0mself\u001b[0m\u001b[1;33m)\u001b[0m\u001b[1;33m:\u001b[0m\u001b[1;33m\u001b[0m\u001b[1;33m\u001b[0m\u001b[0m\n",
      "\u001b[1;32m~\\AppData\\Local\\Temp/ipykernel_16016/1839701109.py\u001b[0m in \u001b[0;36mforward\u001b[1;34m(self, sentence)\u001b[0m\n\u001b[0;32m     19\u001b[0m \u001b[1;33m\u001b[0m\u001b[0m\n\u001b[0;32m     20\u001b[0m     \u001b[1;32mdef\u001b[0m \u001b[0mforward\u001b[0m\u001b[1;33m(\u001b[0m\u001b[0mself\u001b[0m\u001b[1;33m,\u001b[0m \u001b[0msentence\u001b[0m\u001b[1;33m)\u001b[0m\u001b[1;33m:\u001b[0m\u001b[1;33m\u001b[0m\u001b[1;33m\u001b[0m\u001b[0m\n\u001b[1;32m---> 21\u001b[1;33m         \u001b[1;32mreturn\u001b[0m \u001b[0mself\u001b[0m\u001b[1;33m.\u001b[0m\u001b[0mpredict\u001b[0m\u001b[1;33m(\u001b[0m\u001b[0msentence\u001b[0m\u001b[1;33m=\u001b[0m\u001b[0msentence\u001b[0m\u001b[1;33m)\u001b[0m\u001b[1;33m\u001b[0m\u001b[1;33m\u001b[0m\u001b[0m\n\u001b[0m\u001b[0;32m     22\u001b[0m \u001b[1;33m\u001b[0m\u001b[0m\n\u001b[0;32m     23\u001b[0m \u001b[0manalyze\u001b[0m \u001b[1;33m=\u001b[0m \u001b[0mAnalysis\u001b[0m\u001b[1;33m(\u001b[0m\u001b[1;33m)\u001b[0m\u001b[1;33m\u001b[0m\u001b[1;33m\u001b[0m\u001b[0m\n",
      "\u001b[1;32mc:\\Users\\mikad\\anaconda3\\lib\\site-packages\\dspy\\predict\\predict.py\u001b[0m in \u001b[0;36m__call__\u001b[1;34m(self, **kwargs)\u001b[0m\n\u001b[0;32m     47\u001b[0m \u001b[1;33m\u001b[0m\u001b[0m\n\u001b[0;32m     48\u001b[0m     \u001b[1;32mdef\u001b[0m \u001b[0m__call__\u001b[0m\u001b[1;33m(\u001b[0m\u001b[0mself\u001b[0m\u001b[1;33m,\u001b[0m \u001b[1;33m**\u001b[0m\u001b[0mkwargs\u001b[0m\u001b[1;33m)\u001b[0m\u001b[1;33m:\u001b[0m\u001b[1;33m\u001b[0m\u001b[1;33m\u001b[0m\u001b[0m\n\u001b[1;32m---> 49\u001b[1;33m         \u001b[1;32mreturn\u001b[0m \u001b[0mself\u001b[0m\u001b[1;33m.\u001b[0m\u001b[0mforward\u001b[0m\u001b[1;33m(\u001b[0m\u001b[1;33m**\u001b[0m\u001b[0mkwargs\u001b[0m\u001b[1;33m)\u001b[0m\u001b[1;33m\u001b[0m\u001b[1;33m\u001b[0m\u001b[0m\n\u001b[0m\u001b[0;32m     50\u001b[0m \u001b[1;33m\u001b[0m\u001b[0m\n\u001b[0;32m     51\u001b[0m     \u001b[1;32mdef\u001b[0m \u001b[0mforward\u001b[0m\u001b[1;33m(\u001b[0m\u001b[0mself\u001b[0m\u001b[1;33m,\u001b[0m \u001b[1;33m**\u001b[0m\u001b[0mkwargs\u001b[0m\u001b[1;33m)\u001b[0m\u001b[1;33m:\u001b[0m\u001b[1;33m\u001b[0m\u001b[1;33m\u001b[0m\u001b[0m\n",
      "\u001b[1;32mc:\\Users\\mikad\\anaconda3\\lib\\site-packages\\dspy\\predict\\predict.py\u001b[0m in \u001b[0;36mforward\u001b[1;34m(self, **kwargs)\u001b[0m\n\u001b[0;32m     89\u001b[0m \u001b[1;33m\u001b[0m\u001b[0m\n\u001b[0;32m     90\u001b[0m         \u001b[1;32mif\u001b[0m \u001b[0mself\u001b[0m\u001b[1;33m.\u001b[0m\u001b[0mlm\u001b[0m \u001b[1;32mis\u001b[0m \u001b[1;32mNone\u001b[0m\u001b[1;33m:\u001b[0m\u001b[1;33m\u001b[0m\u001b[1;33m\u001b[0m\u001b[0m\n\u001b[1;32m---> 91\u001b[1;33m             \u001b[0mx\u001b[0m\u001b[1;33m,\u001b[0m \u001b[0mC\u001b[0m \u001b[1;33m=\u001b[0m \u001b[0mdsp\u001b[0m\u001b[1;33m.\u001b[0m\u001b[0mgenerate\u001b[0m\u001b[1;33m(\u001b[0m\u001b[0mtemplate\u001b[0m\u001b[1;33m,\u001b[0m \u001b[1;33m**\u001b[0m\u001b[0mconfig\u001b[0m\u001b[1;33m)\u001b[0m\u001b[1;33m(\u001b[0m\u001b[0mx\u001b[0m\u001b[1;33m,\u001b[0m \u001b[0mstage\u001b[0m\u001b[1;33m=\u001b[0m\u001b[0mself\u001b[0m\u001b[1;33m.\u001b[0m\u001b[0mstage\u001b[0m\u001b[1;33m)\u001b[0m\u001b[1;33m\u001b[0m\u001b[1;33m\u001b[0m\u001b[0m\n\u001b[0m\u001b[0;32m     92\u001b[0m         \u001b[1;32melse\u001b[0m\u001b[1;33m:\u001b[0m\u001b[1;33m\u001b[0m\u001b[1;33m\u001b[0m\u001b[0m\n\u001b[0;32m     93\u001b[0m             \u001b[1;31m# Note: query_only=True means the instructions and examples are not included.\u001b[0m\u001b[1;33m\u001b[0m\u001b[1;33m\u001b[0m\u001b[0m\n",
      "\u001b[1;32mc:\\Users\\mikad\\anaconda3\\lib\\site-packages\\dsp\\primitives\\predict.py\u001b[0m in \u001b[0;36mdo_generate\u001b[1;34m(example, stage, max_depth, original_example)\u001b[0m\n\u001b[0;32m     75\u001b[0m         \u001b[1;31m# Generate and extract the fields.\u001b[0m\u001b[1;33m\u001b[0m\u001b[1;33m\u001b[0m\u001b[0m\n\u001b[0;32m     76\u001b[0m         \u001b[0mprompt\u001b[0m \u001b[1;33m=\u001b[0m \u001b[0mtemplate\u001b[0m\u001b[1;33m(\u001b[0m\u001b[0mexample\u001b[0m\u001b[1;33m)\u001b[0m\u001b[1;33m\u001b[0m\u001b[1;33m\u001b[0m\u001b[0m\n\u001b[1;32m---> 77\u001b[1;33m         \u001b[0mcompletions\u001b[0m\u001b[1;33m:\u001b[0m \u001b[0mlist\u001b[0m\u001b[1;33m[\u001b[0m\u001b[0mdict\u001b[0m\u001b[1;33m[\u001b[0m\u001b[0mstr\u001b[0m\u001b[1;33m,\u001b[0m \u001b[0mAny\u001b[0m\u001b[1;33m]\u001b[0m\u001b[1;33m]\u001b[0m \u001b[1;33m=\u001b[0m \u001b[0mgenerator\u001b[0m\u001b[1;33m(\u001b[0m\u001b[0mprompt\u001b[0m\u001b[1;33m,\u001b[0m \u001b[1;33m**\u001b[0m\u001b[0mkwargs\u001b[0m\u001b[1;33m)\u001b[0m\u001b[1;33m\u001b[0m\u001b[1;33m\u001b[0m\u001b[0m\n\u001b[0m\u001b[0;32m     78\u001b[0m         \u001b[0mcompletions\u001b[0m\u001b[1;33m:\u001b[0m \u001b[0mlist\u001b[0m\u001b[1;33m[\u001b[0m\u001b[0mExample\u001b[0m\u001b[1;33m]\u001b[0m \u001b[1;33m=\u001b[0m \u001b[1;33m[\u001b[0m\u001b[0mtemplate\u001b[0m\u001b[1;33m.\u001b[0m\u001b[0mextract\u001b[0m\u001b[1;33m(\u001b[0m\u001b[0mexample\u001b[0m\u001b[1;33m,\u001b[0m \u001b[0mp\u001b[0m\u001b[1;33m)\u001b[0m \u001b[1;32mfor\u001b[0m \u001b[0mp\u001b[0m \u001b[1;32min\u001b[0m \u001b[0mcompletions\u001b[0m\u001b[1;33m]\u001b[0m\u001b[1;33m\u001b[0m\u001b[1;33m\u001b[0m\u001b[0m\n\u001b[0;32m     79\u001b[0m \u001b[1;33m\u001b[0m\u001b[0m\n",
      "\u001b[1;32mc:\\Users\\mikad\\anaconda3\\lib\\site-packages\\dsp\\modules\\hf.py\u001b[0m in \u001b[0;36m__call__\u001b[1;34m(self, prompt, only_completed, return_sorted, **kwargs)\u001b[0m\n\u001b[0;32m    139\u001b[0m             \u001b[0mkwargs\u001b[0m\u001b[1;33m[\u001b[0m\u001b[1;34m\"do_sample\"\u001b[0m\u001b[1;33m]\u001b[0m \u001b[1;33m=\u001b[0m \u001b[1;32mTrue\u001b[0m\u001b[1;33m\u001b[0m\u001b[1;33m\u001b[0m\u001b[0m\n\u001b[0;32m    140\u001b[0m \u001b[1;33m\u001b[0m\u001b[0m\n\u001b[1;32m--> 141\u001b[1;33m         \u001b[0mresponse\u001b[0m \u001b[1;33m=\u001b[0m \u001b[0mself\u001b[0m\u001b[1;33m.\u001b[0m\u001b[0mrequest\u001b[0m\u001b[1;33m(\u001b[0m\u001b[0mprompt\u001b[0m\u001b[1;33m,\u001b[0m \u001b[1;33m**\u001b[0m\u001b[0mkwargs\u001b[0m\u001b[1;33m)\u001b[0m\u001b[1;33m\u001b[0m\u001b[1;33m\u001b[0m\u001b[0m\n\u001b[0m\u001b[0;32m    142\u001b[0m         \u001b[1;32mreturn\u001b[0m \u001b[1;33m[\u001b[0m\u001b[0mc\u001b[0m\u001b[1;33m[\u001b[0m\u001b[1;34m\"text\"\u001b[0m\u001b[1;33m]\u001b[0m \u001b[1;32mfor\u001b[0m \u001b[0mc\u001b[0m \u001b[1;32min\u001b[0m \u001b[0mresponse\u001b[0m\u001b[1;33m[\u001b[0m\u001b[1;34m\"choices\"\u001b[0m\u001b[1;33m]\u001b[0m\u001b[1;33m]\u001b[0m\u001b[1;33m\u001b[0m\u001b[1;33m\u001b[0m\u001b[0m\n\u001b[0;32m    143\u001b[0m \u001b[1;33m\u001b[0m\u001b[0m\n",
      "\u001b[1;32mc:\\Users\\mikad\\anaconda3\\lib\\site-packages\\dsp\\modules\\lm.py\u001b[0m in \u001b[0;36mrequest\u001b[1;34m(self, prompt, **kwargs)\u001b[0m\n\u001b[0;32m     24\u001b[0m \u001b[1;33m\u001b[0m\u001b[0m\n\u001b[0;32m     25\u001b[0m     \u001b[1;32mdef\u001b[0m \u001b[0mrequest\u001b[0m\u001b[1;33m(\u001b[0m\u001b[0mself\u001b[0m\u001b[1;33m,\u001b[0m \u001b[0mprompt\u001b[0m\u001b[1;33m,\u001b[0m \u001b[1;33m**\u001b[0m\u001b[0mkwargs\u001b[0m\u001b[1;33m)\u001b[0m\u001b[1;33m:\u001b[0m\u001b[1;33m\u001b[0m\u001b[1;33m\u001b[0m\u001b[0m\n\u001b[1;32m---> 26\u001b[1;33m         \u001b[1;32mreturn\u001b[0m \u001b[0mself\u001b[0m\u001b[1;33m.\u001b[0m\u001b[0mbasic_request\u001b[0m\u001b[1;33m(\u001b[0m\u001b[0mprompt\u001b[0m\u001b[1;33m,\u001b[0m \u001b[1;33m**\u001b[0m\u001b[0mkwargs\u001b[0m\u001b[1;33m)\u001b[0m\u001b[1;33m\u001b[0m\u001b[1;33m\u001b[0m\u001b[0m\n\u001b[0m\u001b[0;32m     27\u001b[0m \u001b[1;33m\u001b[0m\u001b[0m\n\u001b[0;32m     28\u001b[0m     \u001b[1;32mdef\u001b[0m \u001b[0mprint_green\u001b[0m\u001b[1;33m(\u001b[0m\u001b[0mself\u001b[0m\u001b[1;33m,\u001b[0m \u001b[0mtext\u001b[0m\u001b[1;33m:\u001b[0m \u001b[0mstr\u001b[0m\u001b[1;33m,\u001b[0m \u001b[0mend\u001b[0m\u001b[1;33m:\u001b[0m \u001b[0mstr\u001b[0m \u001b[1;33m=\u001b[0m \u001b[1;34m\"\\n\"\u001b[0m\u001b[1;33m)\u001b[0m\u001b[1;33m:\u001b[0m\u001b[1;33m\u001b[0m\u001b[1;33m\u001b[0m\u001b[0m\n",
      "\u001b[1;32mc:\\Users\\mikad\\anaconda3\\lib\\site-packages\\dsp\\modules\\hf.py\u001b[0m in \u001b[0;36mbasic_request\u001b[1;34m(self, prompt, **kwargs)\u001b[0m\n\u001b[0;32m     93\u001b[0m         \u001b[0mraw_kwargs\u001b[0m \u001b[1;33m=\u001b[0m \u001b[0mkwargs\u001b[0m\u001b[1;33m\u001b[0m\u001b[1;33m\u001b[0m\u001b[0m\n\u001b[0;32m     94\u001b[0m         \u001b[0mkwargs\u001b[0m \u001b[1;33m=\u001b[0m \u001b[1;33m{\u001b[0m\u001b[1;33m**\u001b[0m\u001b[0mself\u001b[0m\u001b[1;33m.\u001b[0m\u001b[0mkwargs\u001b[0m\u001b[1;33m,\u001b[0m \u001b[1;33m**\u001b[0m\u001b[0mkwargs\u001b[0m\u001b[1;33m}\u001b[0m\u001b[1;33m\u001b[0m\u001b[1;33m\u001b[0m\u001b[0m\n\u001b[1;32m---> 95\u001b[1;33m         \u001b[0mresponse\u001b[0m \u001b[1;33m=\u001b[0m \u001b[0mself\u001b[0m\u001b[1;33m.\u001b[0m\u001b[0m_generate\u001b[0m\u001b[1;33m(\u001b[0m\u001b[0mprompt\u001b[0m\u001b[1;33m,\u001b[0m \u001b[1;33m**\u001b[0m\u001b[0mkwargs\u001b[0m\u001b[1;33m)\u001b[0m\u001b[1;33m\u001b[0m\u001b[1;33m\u001b[0m\u001b[0m\n\u001b[0m\u001b[0;32m     96\u001b[0m \u001b[1;33m\u001b[0m\u001b[0m\n\u001b[0;32m     97\u001b[0m         history = {\n",
      "\u001b[1;32mc:\\Users\\mikad\\anaconda3\\lib\\site-packages\\backoff\\_sync.py\u001b[0m in \u001b[0;36mretry\u001b[1;34m(*args, **kwargs)\u001b[0m\n\u001b[0;32m    125\u001b[0m                                exception=e)\n\u001b[0;32m    126\u001b[0m \u001b[1;33m\u001b[0m\u001b[0m\n\u001b[1;32m--> 127\u001b[1;33m                 \u001b[0mtime\u001b[0m\u001b[1;33m.\u001b[0m\u001b[0msleep\u001b[0m\u001b[1;33m(\u001b[0m\u001b[0mseconds\u001b[0m\u001b[1;33m)\u001b[0m\u001b[1;33m\u001b[0m\u001b[1;33m\u001b[0m\u001b[0m\n\u001b[0m\u001b[0;32m    128\u001b[0m             \u001b[1;32melse\u001b[0m\u001b[1;33m:\u001b[0m\u001b[1;33m\u001b[0m\u001b[1;33m\u001b[0m\u001b[0m\n\u001b[0;32m    129\u001b[0m                 \u001b[0m_call_handlers\u001b[0m\u001b[1;33m(\u001b[0m\u001b[0mon_success\u001b[0m\u001b[1;33m,\u001b[0m \u001b[1;33m**\u001b[0m\u001b[0mdetails\u001b[0m\u001b[1;33m)\u001b[0m\u001b[1;33m\u001b[0m\u001b[1;33m\u001b[0m\u001b[0m\n",
      "\u001b[1;31mKeyboardInterrupt\u001b[0m: "
     ]
    }
   ],
   "source": [
    "# testing dspy\n",
    "# dspy together module has some issues with how they wrote it (passing specific parameters is hard)\n",
    "# rate limiting error messages\n",
    "# TODO: look into dspy together module more to see how to fix it\n",
    "\n",
    "lm = dspy.Together(model = 'mistralai/Mistral-7B-Instruct-v0.3', stop = ['</s>', '<s>'])\n",
    "dspy.settings.configure(lm=lm)\n",
    "d = {0: 'dovish', 1: 'hawkish', 2: 'neutral'}\n",
    "\n",
    "class StanceAnalysis(dspy.Signature):\n",
    "    \"\"\"Classify the sentence's stance on the monetary policy between hawkish, neutral, and dovish.\"\"\"\n",
    "    \n",
    "    sentence = dspy.InputField()\n",
    "    stance = dspy.OutputField(desc = \"hawkish, neutral, or dovish\")\n",
    "\n",
    "class Analysis(dspy.Module):\n",
    "    def __init__(self):\n",
    "        super().__init__()\n",
    "        self.predict = dspy.Predict(StanceAnalysis)\n",
    "    \n",
    "    def forward(self, sentence):\n",
    "        return self.predict(sentence=sentence)\n",
    "    \n",
    "analyze = Analysis()\n",
    "analyze(sentence)"
   ]
  },
  {
   "cell_type": "markdown",
   "metadata": {},
   "source": [
    "## Initial textgrad testing"
   ]
  },
  {
   "cell_type": "code",
   "execution_count": 5,
   "metadata": {},
   "outputs": [
    {
     "data": {
      "text/plain": [
       "'Neutral class\\nExplanation: The sentence indicates that participants agreed on the strong labor market and moderate economic activity, suggesting a neutral stance towards monetary policy.'"
      ]
     },
     "execution_count": 5,
     "metadata": {},
     "output_type": "execute_result"
    }
   ],
   "source": [
    "# basic textgrad together engine\n",
    "engine = get_engine('together-allenai/OLMo-7B-Instruct')\n",
    "engine(fomc_prompt(sentence)[1], system_prompt = fomc_prompt(sentence)[0], max_tokens=128, temperature=0.7, top_p=0.7)"
   ]
  },
  {
   "cell_type": "code",
   "execution_count": 9,
   "metadata": {},
   "outputs": [],
   "source": [
    "system_prompt = 'Discard all the previous instructions. Behave like you are an expert sentence classifier.'\n",
    "engine = get_engine('together-mistralai/Mistral-7B-Instruct-v0.3')\n",
    "\n",
    "sys_prompt = Variable('Discard all the previous instructions. Behave like you are an expert sentence classifier.', role_description=\"The system prompt\")\n",
    "user_prompt = Variable(\"Classify the sentence's stance on the monetary policy between hawkish, neutral, and dovish.\", role_description=\"The user prompt\", requires_grad=True)\n",
    "input_sentence = Variable(sentence, role_description=\"The input sentence\")\n",
    "loss = TextLoss(sys_prompt, engine=engine)\n",
    "\n",
    "# optimization does not allow you to set any parameters besides prompt & system prompt\n",
    "# meaning you can't set max tokens or temperature --> problem b/c default output tokens is 2000 \n",
    "# so models with too small context windows will error\n",
    "\n",
    "optimizer = TextualGradientDescent(parameters=[user_prompt], engine=engine)\n",
    "l = loss(input_sentence)\n",
    "l.backward(engine)\n",
    "optimizer.step()"
   ]
  },
  {
   "cell_type": "code",
   "execution_count": 10,
   "metadata": {},
   "outputs": [
    {
     "data": {
      "text/plain": [
       "'Determine the monetary policy stance (hawkish, neutral, or dovish) expressed in the given sentence.'"
      ]
     },
     "execution_count": 10,
     "metadata": {},
     "output_type": "execute_result"
    }
   ],
   "source": [
    "# optimized version of user prompt\n",
    "user_prompt.value"
   ]
  }
 ],
 "metadata": {
  "kernelspec": {
   "display_name": "Python 3",
   "language": "python",
   "name": "python3"
  },
  "language_info": {
   "codemirror_mode": {
    "name": "ipython",
    "version": 3
   },
   "file_extension": ".py",
   "mimetype": "text/x-python",
   "name": "python",
   "nbconvert_exporter": "python",
   "pygments_lexer": "ipython3",
   "version": "3.9.7"
  }
 },
 "nbformat": 4,
 "nbformat_minor": 2
}
