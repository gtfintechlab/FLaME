{
 "cells": [
  {
   "cell_type": "code",
   "execution_count": 2,
   "metadata": {},
   "outputs": [
    {
     "name": "stderr",
     "output_type": "stream",
     "text": [
      "c:\\Users\\mikad\\anaconda3\\lib\\site-packages\\pandas\\core\\computation\\expressions.py:21: UserWarning: Pandas requires version '2.8.4' or newer of 'numexpr' (version '2.7.3' currently installed).\n",
      "  from pandas.core.computation.check import NUMEXPR_INSTALLED\n",
      "c:\\Users\\mikad\\anaconda3\\lib\\site-packages\\pandas\\core\\arrays\\masked.py:60: UserWarning: Pandas requires version '1.3.6' or newer of 'bottleneck' (version '1.3.2' currently installed).\n",
      "  from pandas.core import (\n"
     ]
    }
   ],
   "source": [
    "from together import Together\n",
    "import pandas as pd\n",
    "import numpy as np\n",
    "from datasets import load_dataset\n",
    "from tokens import tokens\n",
    "import os\n",
    "import dspy\n",
    "import textgrad\n",
    "from textgrad.engine import get_engine\n",
    "from textgrad import Variable\n",
    "from textgrad.optimizer import TextualGradientDescent\n",
    "from textgrad.loss import TextLoss\n",
    "from textgrad.tasks import DataLoader \n",
    "import concurrent\n",
    "from tqdm import tqdm\n",
    "import random"
   ]
  },
  {
   "cell_type": "markdown",
   "metadata": {},
   "source": [
    "## Initialization"
   ]
  },
  {
   "cell_type": "code",
   "execution_count": 3,
   "metadata": {},
   "outputs": [],
   "source": [
    "# set up tokens\n",
    "\n",
    "os.environ['TOGETHER_API_KEY'] = together_token\n",
    "os.environ['HF_TOKEN'] = hf_token"
   ]
  },
  {
   "cell_type": "code",
   "execution_count": 4,
   "metadata": {},
   "outputs": [
    {
     "name": "stdout",
     "output_type": "stream",
     "text": [
      "Original sentence: Participants agreed that the labor market had remained strong over the intermeeting period and that economic activity had risen at a moderate rate.\n",
      "Label: 2\n"
     ]
    },
    {
     "name": "stderr",
     "output_type": "stream",
     "text": [
      "c:\\Users\\mikad\\anaconda3\\lib\\site-packages\\scipy\\__init__.py:146: UserWarning: A NumPy version >=1.16.5 and <1.23.0 is required for this version of SciPy (detected version 1.26.4\n",
      "  warnings.warn(f\"A NumPy version >={np_minversion} and <{np_maxversion}\"\n"
     ]
    }
   ],
   "source": [
    "# Load testing data\n",
    "dataset = load_dataset(\"gtfintechlab/fomc_communication\")\n",
    "sample = dataset['test'][0]\n",
    "sentence = sample['sentence']\n",
    "label = sample['label']\n",
    "print(f\"Original sentence: {sentence}\\nLabel: {label}\")"
   ]
  },
  {
   "cell_type": "code",
   "execution_count": 5,
   "metadata": {},
   "outputs": [],
   "source": [
    "# the one in prompts.py was not returning just the system prompt/user message which together 1.2 needs\n",
    "def fomc_prompt(sentence: str):\n",
    "\n",
    "    system_prompt = f\"\"\"Discard all the previous instructions. Behave like you are an expert sentence clas-\n",
    "                sifier.\"\"\"\n",
    "    user_msg = f\"\"\"Classify the following sentence from FOMC into ‘HAWKISH’, ‘DOVISH’, or ‘NEU-\n",
    "                TRAL’ class. Label ‘HAWKISH’ if it is corresponding to tightening of the monetary policy,\n",
    "                ‘DOVISH’ if it is corresponding to easing of the monetary policy, or ‘NEUTRAL’ if the\n",
    "                stance is neutral. Provide the label in the first line and provide a short explanation in the\n",
    "                second line. This is the sentence: {sentence}\"\"\"\n",
    "\n",
    "    return system_prompt, user_msg"
   ]
  },
  {
   "cell_type": "markdown",
   "metadata": {},
   "source": [
    "## Initial textgrad testing"
   ]
  },
  {
   "cell_type": "code",
   "execution_count": 7,
   "metadata": {},
   "outputs": [
    {
     "data": {
      "text/plain": [
       "'Neutral class\\nExplanation: The sentence indicates that participants agreed on the strong labor market and moderate economic activity, suggesting a neutral stance towards monetary policy.'"
      ]
     },
     "execution_count": 7,
     "metadata": {},
     "output_type": "execute_result"
    }
   ],
   "source": [
    "# basic textgrad together engine\n",
    "engine = get_engine('together-allenai/OLMo-7B-Instruct')\n",
    "engine(fomc_prompt(sentence)[1], system_prompt = fomc_prompt(sentence)[0], max_tokens=128, temperature=0.7, top_p=0.7)"
   ]
  },
  {
   "cell_type": "code",
   "execution_count": 9,
   "metadata": {},
   "outputs": [],
   "source": [
    "system_prompt = 'Discard all the previous instructions. Behave like you are an expert sentence classifier.'\n",
    "engine = get_engine('together-mistralai/Mistral-7B-Instruct-v0.3')\n",
    "\n",
    "sys_prompt = Variable('Discard all the previous instructions. Behave like you are an expert sentence classifier.', role_description=\"The system prompt\")\n",
    "user_prompt = Variable(\"Classify the sentence's stance on the monetary policy between hawkish, neutral, and dovish.\", role_description=\"The user prompt\", requires_grad=True)\n",
    "input_sentence = Variable(sentence, role_description=\"The input sentence\")\n",
    "loss = TextLoss(sys_prompt, engine=engine)\n",
    "\n",
    "# optimization does not allow you to set any parameters besides prompt & system prompt\n",
    "# meaning you can't set max tokens or temperature --> problem b/c default output tokens is 2000 \n",
    "# so models with too small context windows will error\n",
    "\n",
    "optimizer = TextualGradientDescent(parameters=[user_prompt], engine=engine)\n",
    "l = loss(input_sentence)\n",
    "l.backward(engine)\n",
    "optimizer.step()"
   ]
  },
  {
   "cell_type": "code",
   "execution_count": 10,
   "metadata": {},
   "outputs": [
    {
     "data": {
      "text/plain": [
       "'Determine the monetary policy stance (hawkish, neutral, or dovish) expressed in the given sentence.'"
      ]
     },
     "execution_count": 10,
     "metadata": {},
     "output_type": "execute_result"
    }
   ],
   "source": [
    "# optimized version of user prompt\n",
    "user_prompt.value"
   ]
  },
  {
   "cell_type": "markdown",
   "metadata": {},
   "source": [
    "## Textgrad Prompt Optimization"
   ]
  },
  {
   "cell_type": "code",
   "execution_count": 6,
   "metadata": {},
   "outputs": [],
   "source": [
    "def find_first_occurrence(text):\n",
    "    words = [\"hawkish\", \"dovish\", \"neutral\"]\n",
    "    positions = [(text.find(word), word) for word in words if text.find(word) != -1]\n",
    "    return min(positions)[1] if positions else None\n",
    "\n",
    "def string_based_equality_fn(prediction: Variable, ground_truth_answer: Variable):\n",
    "    pred = find_first_occurrence(str(prediction.value).lower())\n",
    "    return pred != None and str(pred).lower() == str(ground_truth_answer.value.lower()).lower()\n",
    "\n",
    "eval_fn = textgrad.autograd.StringBasedFunction(string_based_equality_fn, \"Evaluate if LLM answer matches ground truth\")"
   ]
  },
  {
   "cell_type": "code",
   "execution_count": 7,
   "metadata": {},
   "outputs": [],
   "source": [
    "def eval_sample(item, eval_fn, model):\n",
    "    x, y = item\n",
    "    x = Variable(x, requires_grad=False, role_description=\"query to the language model\")\n",
    "    y = Variable(y, requires_grad=False, role_description=\"correct answer for the query\")\n",
    "    response = model(x)\n",
    "    eval_output_variable = eval_fn(inputs=dict(prediction=response, ground_truth_answer=y))\n",
    "    return int(eval_output_variable.value == 'True')\n",
    "    \n",
    "def eval_dataset(test_set, eval_fn, model, max_samples = None):\n",
    "    if max_samples is None: \n",
    "        max_samples = len(test_set)\n",
    "    accuracy_list = []\n",
    "    with concurrent.futures.ThreadPoolExecutor(max_workers=16) as executor:\n",
    "        futures = []\n",
    "        for _, sample in enumerate(test_set):\n",
    "            future = executor.submit(eval_sample, sample, eval_fn, model)\n",
    "            futures.append(future)\n",
    "            if len(futures) >= max_samples:\n",
    "                break\n",
    "        tqdm_loader = tqdm(concurrent.futures.as_completed(futures), total=len(futures), position=0)\n",
    "        for future in tqdm_loader:\n",
    "            acc_item = future.result()\n",
    "            accuracy_list.append(acc_item)\n",
    "            tqdm_loader.set_description(f\"Accuracy: {np.mean(accuracy_list)}\")\n",
    "    return accuracy_list \n",
    "\n",
    "def run_validation_revert(system_prompt, results, eval_fn, model, val_set):\n",
    "    val_accuracy = np.mean(eval_dataset(val_set, eval_fn, model))\n",
    "    prev_accuracy = np.mean(results[\"val_accuracy\"][-1])\n",
    "    print(f\"Validation accuracy: {val_accuracy}\\nPrevious validation accuracy: {prev_accuracy}\")\n",
    "    previous_prompt = results[\"prompt\"][-1]\n",
    "    \n",
    "    if val_accuracy < prev_accuracy:\n",
    "        print(f\"Rejected prompt: {system_prompt.value}\")\n",
    "        system_prompt.set_value(previous_prompt)\n",
    "        val_accuracy = prev_accuracy\n",
    "\n",
    "    results[\"val_accuracy\"].append(val_accuracy)"
   ]
  },
  {
   "cell_type": "code",
   "execution_count": 8,
   "metadata": {},
   "outputs": [],
   "source": [
    "engine = get_engine('together-mistralai/Mistral-7B-Instruct-v0.3')\n",
    "\n",
    "starting_prompt = \"Classify the following sentence from FOMC into hawkish, dovish, or neutral based on its stance on monetary policy.\"\n",
    "system_prompt = Variable(starting_prompt, requires_grad=True, role_description=\"system prompt to the language model\")\n",
    "model = textgrad.BlackboxLLM(engine, system_prompt)\n",
    "\n",
    "optimizer = TextualGradientDescent(engine=engine, parameters=[system_prompt])"
   ]
  },
  {
   "cell_type": "code",
   "execution_count": 69,
   "metadata": {},
   "outputs": [
    {
     "name": "stderr",
     "output_type": "stream",
     "text": [
      "Accuracy: 0.6048387096774194: 100%|██████████| 496/496 [00:00<00:00, 625.43it/s]\n"
     ]
    }
   ],
   "source": [
    "# testing zero-shot performance\n",
    "mapping = {0: 'dovish', 1: 'hawkish', 2: 'neutral'}\n",
    "data = [(data['sentence'], mapping[data['label']]) for data in dataset['test']]\n",
    "results = {\"test_accuracy\": [], \"prompt\": []}\n",
    "results[\"test_accuracy\"].append(eval_dataset(data, eval_fn, model))\n",
    "results[\"prompt\"].append(system_prompt.get_value())"
   ]
  },
  {
   "cell_type": "code",
   "execution_count": 19,
   "metadata": {},
   "outputs": [],
   "source": [
    "# subset the data to do a mini run\n",
    "mapping = {0: 'dovish', 1: 'hawkish', 2: 'neutral'}\n",
    "def pick_random(data, n = 20):\n",
    "    labels = {'dovish': [], 'hawkish': [], 'neutral': []}\n",
    "    for sentence, label in data:\n",
    "        labels[label].append((sentence, label))\n",
    "    result = []\n",
    "    for label in labels:\n",
    "        result.extend(random.sample(labels[label], n))\n",
    "    return result\n",
    "training_data = [(data['sentence'], mapping[data['label']]) for data in dataset['train']]\n",
    "testing_data = [(data['sentence'], mapping[data['label']]) for data in dataset['test']]\n",
    "random.shuffle(testing_data)\n",
    "val_data_options = testing_data[:100]\n",
    "testing_data = testing_data[100:]\n",
    "training_data = pick_random(training_data, n = 30)\n",
    "val_data = pick_random(val_data_options, n = 12)\n",
    "testing_data = pick_random(testing_data, n = 12)"
   ]
  },
  {
   "cell_type": "code",
   "execution_count": 24,
   "metadata": {},
   "outputs": [
    {
     "name": "stderr",
     "output_type": "stream",
     "text": [
      "Accuracy: 0.4722222222222222: 100%|██████████| 36/36 [00:46<00:00,  1.29s/it] \n"
     ]
    },
    {
     "name": "stdout",
     "output_type": "stream",
     "text": [
      "Validation accuracy: 0.4722222222222222\n",
      "Previous validation accuracy: 0.0\n",
      "sys prompt:  Classify the given sentence from FOMC as either hawkish, dovish, or neutral. A hawkish stance suggests a more aggressive approach to monetary policy, while a dovish stance indicates a more accommodative approach. A neutral stance implies no significant change in the monetary policy stance. Provide a clear and concise explanation, highlighting specific phrases or arguments that support your classification. If the sentence is neutral, please explain why it does not express a clear bias towards tightening or easing monetary policy.\n"
     ]
    },
    {
     "name": "stderr",
     "output_type": "stream",
     "text": [
      "Accuracy: 0.5833333333333334: 100%|██████████| 36/36 [00:45<00:00,  1.26s/it] \n",
      "Accuracy: 0.4444444444444444: 100%|██████████| 36/36 [00:49<00:00,  1.37s/it] \n"
     ]
    },
    {
     "name": "stdout",
     "output_type": "stream",
     "text": [
      "Validation accuracy: 0.4444444444444444\n",
      "Previous validation accuracy: 0.4722222222222222\n",
      "Rejected prompt: For the purpose of this task, 'hawkish' refers to a central bank's policy stance that is more likely to raise interest rates to control inflation, while 'dovish' refers to a policy stance that is more likely to keep interest rates low to stimulate economic growth. Analyze the given sentence from FOMC and classify it as either hawkish (leaning towards a more aggressive approach to tightening monetary policy), neutral (neither hawkish nor dovish), or dovish (leaning towards a more accommodative approach to easing monetary policy). Provide a clear and concise explanation, highlighting specific phrases or arguments that support your classification. If the sentence is neutral, please explain why it does not express a clear bias towards tightening or easing monetary policy. Additionally, compare the sentence to a clear-cut example of hawkish and dovish language, and explain how the sentence's language and tone compare to these examples.\n",
      "sys prompt:  Classify the given sentence from FOMC as either hawkish, dovish, or neutral. A hawkish stance suggests a more aggressive approach to monetary policy, while a dovish stance indicates a more accommodative approach. A neutral stance implies no significant change in the monetary policy stance. Provide a clear and concise explanation, highlighting specific phrases or arguments that support your classification. If the sentence is neutral, please explain why it does not express a clear bias towards tightening or easing monetary policy.\n"
     ]
    },
    {
     "name": "stderr",
     "output_type": "stream",
     "text": [
      "Accuracy: 0.5833333333333334: 100%|██████████| 36/36 [00:00<00:00, 313.87it/s]\n",
      "Accuracy: 0.4444444444444444: 100%|██████████| 36/36 [00:47<00:00,  1.33s/it] \n"
     ]
    },
    {
     "name": "stdout",
     "output_type": "stream",
     "text": [
      "Validation accuracy: 0.4444444444444444\n",
      "Previous validation accuracy: 0.4722222222222222\n",
      "Rejected prompt: Classify the given sentence from FOMC as either hawkish, leaning hawkish, neutral, leaning dovish, or dovish. To do this, please identify specific phrases or arguments in the sentence that indicate a bias towards tightening or easing monetary policy. Provide a clear and concise explanation, highlighting the evidence that supports your classification.\n",
      "\n",
      "For example, if the sentence was \"The FOMC is considering raising interest rates to combat inflation,\" you could classify it as \"hawkish\" because it indicates a bias towards tightening monetary policy by raising interest rates. On the other hand, if the sentence was \"The FOMC is concerned about the slow pace of economic growth and may consider easing monetary policy,\" you could classify it as \"dovish\" because it indicates a bias towards easing monetary policy by considering actions that would stimulate economic growth.\n",
      "\n",
      "Please avoid using vague terms like \"neutral\" when classifying sentiment. Instead, strive for clear and specific answers that accurately reflect the sentiment of the given text.\n",
      "sys prompt:  Classify the given sentence from FOMC as either hawkish, dovish, or neutral. A hawkish stance suggests a more aggressive approach to monetary policy, while a dovish stance indicates a more accommodative approach. A neutral stance implies no significant change in the monetary policy stance. Provide a clear and concise explanation, highlighting specific phrases or arguments that support your classification. If the sentence is neutral, please explain why it does not express a clear bias towards tightening or easing monetary policy.\n"
     ]
    },
    {
     "name": "stderr",
     "output_type": "stream",
     "text": [
      "Accuracy: 0.5833333333333334: 100%|██████████| 36/36 [00:00<00:00, 639.64it/s]\n",
      "Accuracy: 0.5277777777777778: 100%|██████████| 36/36 [00:48<00:00,  1.36s/it] \n"
     ]
    },
    {
     "name": "stdout",
     "output_type": "stream",
     "text": [
      "Validation accuracy: 0.5277777777777778\n",
      "Previous validation accuracy: 0.4722222222222222\n",
      "sys prompt:  Classify the given sentence from FOMC as either hawkish, dovish, or neutral. Provide a clear and concise explanation, highlighting specific phrases or arguments that support your classification. If the sentence is neutral, please explain why it does not express a clear bias towards tightening or easing monetary policy.\n",
      "\n",
      "To ensure a more accurate classification, consider the overall context and tone of the sentence, and provide examples of language that would indicate each stance. For example:\n",
      "\n",
      "\"Classify the given sentence from FOMC as either hawkish, dovish, or neutral. Provide a clear and concise explanation, highlighting specific phrases or arguments that support your classification. If the sentence is neutral, please explain why it does not express a clear bias towards tightening or easing monetary policy, and provide examples of language that would indicate a bias towards tightening or easing.\"\n"
     ]
    },
    {
     "name": "stderr",
     "output_type": "stream",
     "text": [
      "Accuracy: 0.5833333333333334: 100%|██████████| 36/36 [00:49<00:00,  1.37s/it] \n",
      "Accuracy: 0.5277777777777778: 100%|██████████| 36/36 [00:53<00:00,  1.48s/it] \n"
     ]
    },
    {
     "name": "stdout",
     "output_type": "stream",
     "text": [
      "Validation accuracy: 0.5277777777777778\n",
      "Previous validation accuracy: 0.5277777777777778\n",
      "sys prompt:  Classify the given sentence from FOMC as either hawkish, dovish, or neutral. Provide a more nuanced analysis of the sentence, taking into account the specific words and phrases used, as well as the overall context of the conversation. Highlight the specific arguments or phrases that support your classification, and explain why you believe the sentence leans towards a particular stance. To help you make an accurate classification, consider the following examples:\n",
      "\n",
      "- A hawkish stance might be indicated by phrases such as 'tighten monetary policy', 'raise interest rates', or 'curb inflation'.\n",
      "- A dovish stance might be indicated by phrases such as 'maintain accommodative monetary policy', 'support economic growth', or 'tolerate higher inflation levels'.\n",
      "- A neutral stance might be indicated by phrases such as 'continue to closely monitor economic conditions', 'make decisions based on the data', or 'take a balanced approach'.\n",
      "\n",
      "Ensure that your response is clear, concise, and informative, and that you provide a detailed explanation of your reasoning. If the sentence is neutral, please explain why it does not express a clear bias towards tightening or easing monetary policy, and provide examples of language that would indicate a bias towards tightening or easing monetary policy.\n"
     ]
    },
    {
     "name": "stderr",
     "output_type": "stream",
     "text": [
      "Accuracy: 0.5555555555555556: 100%|██████████| 36/36 [00:51<00:00,  1.43s/it] \n",
      "Accuracy: 0.4722222222222222: 100%|██████████| 36/36 [00:51<00:00,  1.44s/it] \n"
     ]
    },
    {
     "name": "stdout",
     "output_type": "stream",
     "text": [
      "Validation accuracy: 0.4722222222222222\n",
      "Previous validation accuracy: 0.5277777777777778\n",
      "Rejected prompt: Classify the given sentence from FOMC as either hawkish, dovish, or neutral. Provide a detailed and nuanced analysis of the sentence, taking into account the specific words and phrases used, as well as the overall context of the conversation. Highlight the specific arguments or phrases that support your classification, and explain why you believe the sentence leans towards a particular stance. To help you make an accurate classification, consider the following examples:\n",
      "\n",
      "- A hawkish stance might be indicated by phrases such as 'tighten monetary policy', 'raise interest rates', or 'curb inflation'.\n",
      "- A dovish stance might be indicated by phrases such as 'maintain accommodative monetary policy', 'support economic growth', or 'tolerate higher inflation levels'.\n",
      "- A neutral stance might be indicated by phrases such as 'continue to closely monitor economic conditions', 'make decisions based on the data', or 'take a balanced approach'.\n",
      "\n",
      "Ensure that your response is clear, concise, and informative, and that you provide a detailed explanation of your reasoning. If the sentence is neutral, please explain why it does not express a clear bias towards tightening or easing monetary policy, and provide examples of language that would indicate a bias towards tightening or easing monetary policy.\n",
      "sys prompt:  Classify the given sentence from FOMC as either hawkish, dovish, or neutral. Provide a more nuanced analysis of the sentence, taking into account the specific words and phrases used, as well as the overall context of the conversation. Highlight the specific arguments or phrases that support your classification, and explain why you believe the sentence leans towards a particular stance. To help you make an accurate classification, consider the following examples:\n",
      "\n",
      "- A hawkish stance might be indicated by phrases such as 'tighten monetary policy', 'raise interest rates', or 'curb inflation'.\n",
      "- A dovish stance might be indicated by phrases such as 'maintain accommodative monetary policy', 'support economic growth', or 'tolerate higher inflation levels'.\n",
      "- A neutral stance might be indicated by phrases such as 'continue to closely monitor economic conditions', 'make decisions based on the data', or 'take a balanced approach'.\n",
      "\n",
      "Ensure that your response is clear, concise, and informative, and that you provide a detailed explanation of your reasoning. If the sentence is neutral, please explain why it does not express a clear bias towards tightening or easing monetary policy, and provide examples of language that would indicate a bias towards tightening or easing monetary policy.\n"
     ]
    },
    {
     "name": "stderr",
     "output_type": "stream",
     "text": [
      "Accuracy: 0.5555555555555556: 100%|██████████| 36/36 [00:00<00:00, 330.25it/s]\n",
      "Training step 5. Epoch 0: : 5it [11:42, 140.57s/it]\n",
      "Accuracy: 0.4444444444444444: 100%|██████████| 36/36 [00:50<00:00,  1.40s/it] \n"
     ]
    },
    {
     "name": "stdout",
     "output_type": "stream",
     "text": [
      "Validation accuracy: 0.4444444444444444\n",
      "Previous validation accuracy: 0.5277777777777778\n",
      "Rejected prompt: Analyze the given sentence from the FOMC meeting or statement, and classify it as either hawkish, dovish, or neutral. Provide a detailed and nuanced explanation of your classification, taking into account the specific words and phrases used, as well as the overall context of the conversation. Highlight the specific arguments or phrases that support your classification, and explain why you believe the sentence leans towards a particular stance. To help you make an accurate classification, consider the following examples:\n",
      "\n",
      "- A hawkish stance might be indicated by phrases such as 'tighten monetary policy', 'raise interest rates', or 'curb inflation'.\n",
      "- A dovish stance might be indicated by phrases such as 'maintain accommodative monetary policy', 'support economic growth', or 'tolerate higher inflation levels'.\n",
      "- A neutral stance might be indicated by phrases such as 'continue to closely monitor economic conditions', 'make decisions based on the data', or 'take a balanced approach'.\n",
      "\n",
      "In addition, provide examples of both hawkish and dovish biases, and then explain how the given sentence does not exhibit these biases. Compare the given sentence to sentences that exhibit biases towards tightening or easing monetary policy, and provide a clear and concise explanation of why the sentence is classified as [classification].\n",
      "sys prompt:  Classify the given sentence from FOMC as either hawkish, dovish, or neutral. Provide a more nuanced analysis of the sentence, taking into account the specific words and phrases used, as well as the overall context of the conversation. Highlight the specific arguments or phrases that support your classification, and explain why you believe the sentence leans towards a particular stance. To help you make an accurate classification, consider the following examples:\n",
      "\n",
      "- A hawkish stance might be indicated by phrases such as 'tighten monetary policy', 'raise interest rates', or 'curb inflation'.\n",
      "- A dovish stance might be indicated by phrases such as 'maintain accommodative monetary policy', 'support economic growth', or 'tolerate higher inflation levels'.\n",
      "- A neutral stance might be indicated by phrases such as 'continue to closely monitor economic conditions', 'make decisions based on the data', or 'take a balanced approach'.\n",
      "\n",
      "Ensure that your response is clear, concise, and informative, and that you provide a detailed explanation of your reasoning. If the sentence is neutral, please explain why it does not express a clear bias towards tightening or easing monetary policy, and provide examples of language that would indicate a bias towards tightening or easing monetary policy.\n"
     ]
    },
    {
     "name": "stderr",
     "output_type": "stream",
     "text": [
      "Accuracy: 0.5555555555555556: 100%|██████████| 36/36 [00:00<00:00, 504.48it/s]\n",
      "Accuracy: 0.5555555555555556: 100%|██████████| 36/36 [00:50<00:00,  1.40s/it] \n"
     ]
    },
    {
     "name": "stdout",
     "output_type": "stream",
     "text": [
      "Validation accuracy: 0.5555555555555556\n",
      "Previous validation accuracy: 0.5277777777777778\n",
      "sys prompt:  Analyze the given sentence from FOMC and classify it as either hawkish, dovish, or neutral. Provide a detailed explanation of your reasoning, highlighting the specific words and phrases that support your classification, and explaining why you believe the sentence leans towards a particular stance. If the sentence is neutral, please explain why it does not express a clear bias towards tightening or easing monetary policy, and provide examples of language that would indicate a bias towards tightening or easing monetary policy. Additionally, provide a confidence score between 0 and 1, where 0 indicates no confidence and 1 indicates full confidence in your classification. Take into account the broader economic context when classifying the sentence, including recent economic data, market trends, and the current state of the economy.\n"
     ]
    },
    {
     "name": "stderr",
     "output_type": "stream",
     "text": [
      "Accuracy: 0.6388888888888888: 100%|██████████| 36/36 [00:46<00:00,  1.30s/it] \n",
      "Accuracy: 0.2222222222222222: 100%|██████████| 36/36 [00:50<00:00,  1.40s/it]  \n"
     ]
    },
    {
     "name": "stdout",
     "output_type": "stream",
     "text": [
      "Validation accuracy: 0.2222222222222222\n",
      "Previous validation accuracy: 0.5555555555555556\n",
      "Rejected prompt: Analyze the given sentence from FOMC and explain the monetary policy stance implied by the sentence. Provide a detailed rationale for your classification, highlighting the specific words and phrases that support your interpretation, and explaining why you believe the sentence leans towards a particular stance. If the sentence is neutral, please explain why it does not express a clear bias towards tightening or easing monetary policy, and provide examples of language that would indicate a bias towards tightening or easing monetary policy. Additionally, provide a confidence score between 0 and 1, where 0 indicates no confidence and 1 indicates full confidence in your classification. Take into account the broader economic context when classifying the sentence, including recent economic data, market trends, and the current state of the economy.\n",
      "sys prompt:  Analyze the given sentence from FOMC and classify it as either hawkish, dovish, or neutral. Provide a detailed explanation of your reasoning, highlighting the specific words and phrases that support your classification, and explaining why you believe the sentence leans towards a particular stance. If the sentence is neutral, please explain why it does not express a clear bias towards tightening or easing monetary policy, and provide examples of language that would indicate a bias towards tightening or easing monetary policy. Additionally, provide a confidence score between 0 and 1, where 0 indicates no confidence and 1 indicates full confidence in your classification. Take into account the broader economic context when classifying the sentence, including recent economic data, market trends, and the current state of the economy.\n"
     ]
    },
    {
     "name": "stderr",
     "output_type": "stream",
     "text": [
      "Accuracy: 0.6388888888888888: 100%|██████████| 36/36 [00:00<00:00, 570.60it/s]\n",
      "Accuracy: 0.0: 100%|██████████| 36/36 [00:53<00:00,  1.47s/it]\n"
     ]
    },
    {
     "name": "stdout",
     "output_type": "stream",
     "text": [
      "Validation accuracy: 0.0\n",
      "Previous validation accuracy: 0.5555555555555556\n",
      "Rejected prompt: Analyze the given sentence from FOMC and provide a recommendation for monetary policy action based on the economic context. Explain why this action is necessary, what specific policy tools could be used to implement it, and how these tools would impact the economy. Take into account the broader economic context, including recent economic data, market trends, and the current state of the economy.\n",
      "sys prompt:  Analyze the given sentence from FOMC and classify it as either hawkish, dovish, or neutral. Provide a detailed explanation of your reasoning, highlighting the specific words and phrases that support your classification, and explaining why you believe the sentence leans towards a particular stance. If the sentence is neutral, please explain why it does not express a clear bias towards tightening or easing monetary policy, and provide examples of language that would indicate a bias towards tightening or easing monetary policy. Additionally, provide a confidence score between 0 and 1, where 0 indicates no confidence and 1 indicates full confidence in your classification. Take into account the broader economic context when classifying the sentence, including recent economic data, market trends, and the current state of the economy.\n"
     ]
    },
    {
     "name": "stderr",
     "output_type": "stream",
     "text": [
      "Accuracy: 0.6388888888888888: 100%|██████████| 36/36 [00:00<00:00, 462.80it/s]\n",
      "Accuracy: 0.5: 100%|██████████| 36/36 [00:49<00:00,  1.38s/it]                \n"
     ]
    },
    {
     "name": "stdout",
     "output_type": "stream",
     "text": [
      "Validation accuracy: 0.5\n",
      "Previous validation accuracy: 0.5555555555555556\n",
      "Rejected prompt: Analyze the given sentence from FOMC and provide a detailed explanation of why you classify it as either hawkish, dovish, or neutral. Your explanation should highlight the specific words and phrases that support your classification, explain why you believe the sentence leans towards a particular stance, and discuss the broader economic context, including recent economic data, market trends, and the current state of the economy. Additionally, provide a confidence score between 0 and 1, where 0 indicates no confidence and 1 indicates full confidence in your classification, taking into account specific economic indicators like GDP, CPI, unemployment rate, and interest rates, and explain how the sentence's classification is consistent with the current state of the economy.\n",
      "sys prompt:  Analyze the given sentence from FOMC and classify it as either hawkish, dovish, or neutral. Provide a detailed explanation of your reasoning, highlighting the specific words and phrases that support your classification, and explaining why you believe the sentence leans towards a particular stance. If the sentence is neutral, please explain why it does not express a clear bias towards tightening or easing monetary policy, and provide examples of language that would indicate a bias towards tightening or easing monetary policy. Additionally, provide a confidence score between 0 and 1, where 0 indicates no confidence and 1 indicates full confidence in your classification. Take into account the broader economic context when classifying the sentence, including recent economic data, market trends, and the current state of the economy.\n"
     ]
    },
    {
     "name": "stderr",
     "output_type": "stream",
     "text": [
      "Accuracy: 0.6388888888888888: 100%|██████████| 36/36 [00:00<00:00, 484.76it/s]\n",
      "Accuracy: 0.3888888888888889: 100%|██████████| 36/36 [00:49<00:00,  1.37s/it] \n"
     ]
    },
    {
     "name": "stdout",
     "output_type": "stream",
     "text": [
      "Validation accuracy: 0.3888888888888889\n",
      "Previous validation accuracy: 0.5555555555555556\n",
      "Rejected prompt: Analyze the given sentence from FOMC and determine whether it indicates a dovish or hawkish stance on monetary policy. Provide a clear and concise explanation of your reasoning, highlighting the specific words and phrases that support your classification, and explaining why you believe the sentence leans towards a particular stance. Include a confidence score between 0 and 1, where 0 indicates no confidence and 1 indicates full confidence in your classification.\n",
      "sys prompt:  Analyze the given sentence from FOMC and classify it as either hawkish, dovish, or neutral. Provide a detailed explanation of your reasoning, highlighting the specific words and phrases that support your classification, and explaining why you believe the sentence leans towards a particular stance. If the sentence is neutral, please explain why it does not express a clear bias towards tightening or easing monetary policy, and provide examples of language that would indicate a bias towards tightening or easing monetary policy. Additionally, provide a confidence score between 0 and 1, where 0 indicates no confidence and 1 indicates full confidence in your classification. Take into account the broader economic context when classifying the sentence, including recent economic data, market trends, and the current state of the economy.\n"
     ]
    },
    {
     "name": "stderr",
     "output_type": "stream",
     "text": [
      "Accuracy: 0.6388888888888888: 100%|██████████| 36/36 [00:00<00:00, 407.99it/s]\n",
      "Training step 5. Epoch 1: : 5it [11:02, 132.42s/it]\n",
      "Accuracy: 0.25: 100%|██████████| 36/36 [00:49<00:00,  1.38s/it]               \n"
     ]
    },
    {
     "name": "stdout",
     "output_type": "stream",
     "text": [
      "Validation accuracy: 0.25\n",
      "Previous validation accuracy: 0.5555555555555556\n",
      "Rejected prompt: Classify the FOMC's stance on monetary policy based on the given sentence, taking into account the broader economic context, including recent economic data, market trends, and the current state of the economy. Provide a detailed explanation of your reasoning, highlighting the specific words and phrases that support your classification, and explaining why you believe the sentence leans towards a particular stance. Additionally, provide a confidence score between 0 and 1, where 0 indicates no confidence and 1 indicates full confidence in your classification.\n",
      "sys prompt:  Analyze the given sentence from FOMC and classify it as either hawkish, dovish, or neutral. Provide a detailed explanation of your reasoning, highlighting the specific words and phrases that support your classification, and explaining why you believe the sentence leans towards a particular stance. If the sentence is neutral, please explain why it does not express a clear bias towards tightening or easing monetary policy, and provide examples of language that would indicate a bias towards tightening or easing monetary policy. Additionally, provide a confidence score between 0 and 1, where 0 indicates no confidence and 1 indicates full confidence in your classification. Take into account the broader economic context when classifying the sentence, including recent economic data, market trends, and the current state of the economy.\n"
     ]
    },
    {
     "name": "stderr",
     "output_type": "stream",
     "text": [
      "Accuracy: 0.6388888888888888: 100%|██████████| 36/36 [00:00<00:00, 335.58it/s]\n",
      "Accuracy: 0.4722222222222222: 100%|██████████| 36/36 [00:49<00:00,  1.39s/it] \n"
     ]
    },
    {
     "name": "stdout",
     "output_type": "stream",
     "text": [
      "Validation accuracy: 0.4722222222222222\n",
      "Previous validation accuracy: 0.5555555555555556\n",
      "Rejected prompt: Analyze the given sentence from FOMC and classify it as either hawkish, dovish, or neutral, according to the following definitions:\n",
      "- Neutral: The sentence does not express a clear preference for tightening or easing monetary policy.\n",
      "- Hawkish: The sentence contains language that suggests a preference for tightening monetary policy, such as raising interest rates, fighting inflation, or reducing stimulus.\n",
      "- Dovish: The sentence contains language that suggests a preference for easing monetary policy, such as keeping interest rates low, increasing stimulus, or supporting economic growth.\n",
      "\n",
      "Provide a detailed explanation of your reasoning, highlighting the specific words and phrases that support your classification, and explaining why you believe the sentence leans towards a particular stance. If the sentence is neutral, please explain why it does not express a clear bias towards tightening or easing monetary policy, and provide examples of language that would indicate a bias towards tightening or easing monetary policy. Additionally, provide a confidence score between 0 and 1, where 0 indicates no confidence and 1 indicates full confidence in your classification. Take into account the current economic context when classifying the sentence, including recent economic data, market trends, and the current state of the economy.\n",
      "sys prompt:  Analyze the given sentence from FOMC and classify it as either hawkish, dovish, or neutral. Provide a detailed explanation of your reasoning, highlighting the specific words and phrases that support your classification, and explaining why you believe the sentence leans towards a particular stance. If the sentence is neutral, please explain why it does not express a clear bias towards tightening or easing monetary policy, and provide examples of language that would indicate a bias towards tightening or easing monetary policy. Additionally, provide a confidence score between 0 and 1, where 0 indicates no confidence and 1 indicates full confidence in your classification. Take into account the broader economic context when classifying the sentence, including recent economic data, market trends, and the current state of the economy.\n"
     ]
    },
    {
     "name": "stderr",
     "output_type": "stream",
     "text": [
      "Accuracy: 0.6388888888888888: 100%|██████████| 36/36 [00:00<00:00, 465.99it/s]\n",
      "Accuracy: 0.4722222222222222: 100%|██████████| 36/36 [00:52<00:00,  1.46s/it] \n"
     ]
    },
    {
     "name": "stdout",
     "output_type": "stream",
     "text": [
      "Validation accuracy: 0.4722222222222222\n",
      "Previous validation accuracy: 0.5555555555555556\n",
      "Rejected prompt: Analyze the given sentence from FOMC and classify it as either hawkish, dovish, or neutral in terms of monetary policy. Provide a detailed explanation of your reasoning, highlighting the specific words and phrases that support your classification, and explaining why the sentence leans towards a particular stance. If the sentence is neutral, please explain why it does not express a clear bias towards tightening or easing monetary policy, and provide examples of language that would indicate a bias towards tightening or easing monetary policy. Additionally, consider the broader economic context when classifying the sentence, including recent economic data, market trends, and the current state of the economy.\n",
      "sys prompt:  Analyze the given sentence from FOMC and classify it as either hawkish, dovish, or neutral. Provide a detailed explanation of your reasoning, highlighting the specific words and phrases that support your classification, and explaining why you believe the sentence leans towards a particular stance. If the sentence is neutral, please explain why it does not express a clear bias towards tightening or easing monetary policy, and provide examples of language that would indicate a bias towards tightening or easing monetary policy. Additionally, provide a confidence score between 0 and 1, where 0 indicates no confidence and 1 indicates full confidence in your classification. Take into account the broader economic context when classifying the sentence, including recent economic data, market trends, and the current state of the economy.\n"
     ]
    },
    {
     "name": "stderr",
     "output_type": "stream",
     "text": [
      "Accuracy: 0.6388888888888888: 100%|██████████| 36/36 [00:00<00:00, 469.73it/s]\n",
      "Accuracy: 0.5277777777777778: 100%|██████████| 36/36 [00:53<00:00,  1.47s/it] \n"
     ]
    },
    {
     "name": "stdout",
     "output_type": "stream",
     "text": [
      "Validation accuracy: 0.5277777777777778\n",
      "Previous validation accuracy: 0.5555555555555556\n",
      "Rejected prompt: Analyze the given sentence from FOMC and classify it as either hawkish, dovish, or neutral. Provide a detailed explanation of your reasoning, highlighting the specific words and phrases that support your classification, and explaining why you believe the sentence leans towards a particular stance. If the sentence is neutral, please explain why it does not express a clear bias towards tightening or easing monetary policy, and provide examples of language that would indicate a bias towards tightening or easing monetary policy. Additionally, provide a confidence score between 0 and 1, where 0 indicates no confidence and 1 indicates full confidence in your classification. Take into account the broader economic context when classifying the sentence, including recent economic data, market trends, and the current state of the economy.\n",
      "\n",
      "For example, if the sentence \"Weekly data for March, however, indicated that gasoline prices rose sharply\" is hawkish, explain why the rise in gasoline prices could lead to inflationary pressures and how this might prompt the Fed to consider tightening monetary policy to keep inflation in check. If the sentence is neutral, explain why it does not express a clear bias towards tightening or easing monetary policy, and provide examples of language that would indicate a bias towards tightening or easing monetary policy, such as \"rising gasoline prices could negatively impact consumer spending, which might lead the Fed to consider easing monetary policy to stimulate economic growth.\"\n",
      "sys prompt:  Analyze the given sentence from FOMC and classify it as either hawkish, dovish, or neutral. Provide a detailed explanation of your reasoning, highlighting the specific words and phrases that support your classification, and explaining why you believe the sentence leans towards a particular stance. If the sentence is neutral, please explain why it does not express a clear bias towards tightening or easing monetary policy, and provide examples of language that would indicate a bias towards tightening or easing monetary policy. Additionally, provide a confidence score between 0 and 1, where 0 indicates no confidence and 1 indicates full confidence in your classification. Take into account the broader economic context when classifying the sentence, including recent economic data, market trends, and the current state of the economy.\n"
     ]
    },
    {
     "name": "stderr",
     "output_type": "stream",
     "text": [
      "Accuracy: 0.6388888888888888: 100%|██████████| 36/36 [00:00<00:00, 588.82it/s]\n",
      "Accuracy: 0.6388888888888888: 100%|██████████| 36/36 [00:49<00:00,  1.37s/it] \n"
     ]
    },
    {
     "name": "stdout",
     "output_type": "stream",
     "text": [
      "Validation accuracy: 0.6388888888888888\n",
      "Previous validation accuracy: 0.5555555555555556\n",
      "sys prompt:  Analyze the given sentence from FOMC and classify it as either hawkish, dovish, or neutral in terms of its stance on monetary policy tightening or easing. Provide a detailed explanation of your reasoning, highlighting the specific words and phrases that support your classification, and explaining why you believe the sentence leans towards a particular stance. If the sentence is neutral, please explain why it does not express a clear bias towards tightening or easing monetary policy. Additionally, provide a confidence score between 0 and 1, where 0 indicates no confidence and 1 indicates full confidence in your classification.\n"
     ]
    },
    {
     "name": "stderr",
     "output_type": "stream",
     "text": [
      "Accuracy: 0.5833333333333334: 100%|██████████| 36/36 [00:47<00:00,  1.33s/it] \n",
      "Accuracy: 0.3888888888888889: 100%|██████████| 36/36 [00:50<00:00,  1.41s/it] \n"
     ]
    },
    {
     "name": "stdout",
     "output_type": "stream",
     "text": [
      "Validation accuracy: 0.3888888888888889\n",
      "Previous validation accuracy: 0.6388888888888888\n",
      "Rejected prompt: Analyze the given sentence from FOMC and classify it as either hawkish, dovish, or neutral in terms of its stance on monetary policy tightening or easing. Provide a detailed explanation of your reasoning, highlighting the specific words and phrases that support your classification, and explaining why you believe they indicate a particular stance. Discuss the context in which they are used, and provide some examples of monetary policy terms or actions that are commonly associated with a dovish stance, such as keeping interest rates low, signaling a willingness to tolerate inflation, or expressing caution about raising interest rates. Additionally, provide a confidence score between 0 and 1, where 0 indicates no confidence and 1 indicates full confidence in your classification.\n",
      "sys prompt:  Analyze the given sentence from FOMC and classify it as either hawkish, dovish, or neutral in terms of its stance on monetary policy tightening or easing. Provide a detailed explanation of your reasoning, highlighting the specific words and phrases that support your classification, and explaining why you believe the sentence leans towards a particular stance. If the sentence is neutral, please explain why it does not express a clear bias towards tightening or easing monetary policy. Additionally, provide a confidence score between 0 and 1, where 0 indicates no confidence and 1 indicates full confidence in your classification.\n"
     ]
    },
    {
     "name": "stderr",
     "output_type": "stream",
     "text": [
      "Accuracy: 0.5833333333333334: 100%|██████████| 36/36 [00:00<00:00, 327.09it/s]\n",
      "Training step 5. Epoch 2: : 5it [11:15, 135.15s/it]\n",
      "Accuracy: 0.4444444444444444: 100%|██████████| 36/36 [00:45<00:00,  1.26s/it] \n"
     ]
    },
    {
     "name": "stdout",
     "output_type": "stream",
     "text": [
      "Validation accuracy: 0.4444444444444444\n",
      "Previous validation accuracy: 0.6388888888888888\n",
      "Rejected prompt: Analyze the given sentence from FOMC and classify it as either hawkish, dovish, or neutral in terms of its stance on monetary policy tightening or easing. Provide a brief explanation or justification for your classification, and a confidence score between 0 and 1, where 0 indicates no confidence and 1 indicates full confidence in your classification.\n",
      "\n",
      "Example response: The sentence \"The Committee decided to raise interest rates by 0.25%\" is hawkish, as it explicitly states that interest rates are being raised, indicating a tightening of monetary policy. The confidence score for this classification is 1.\n",
      "sys prompt:  Analyze the given sentence from FOMC and classify it as either hawkish, dovish, or neutral in terms of its stance on monetary policy tightening or easing. Provide a detailed explanation of your reasoning, highlighting the specific words and phrases that support your classification, and explaining why you believe the sentence leans towards a particular stance. If the sentence is neutral, please explain why it does not express a clear bias towards tightening or easing monetary policy. Additionally, provide a confidence score between 0 and 1, where 0 indicates no confidence and 1 indicates full confidence in your classification.\n"
     ]
    },
    {
     "name": "stderr",
     "output_type": "stream",
     "text": [
      "Accuracy: 0.5833333333333334: 100%|██████████| 36/36 [00:00<00:00, 548.12it/s]\n",
      "Accuracy: 0.3333333333333333: 100%|██████████| 36/36 [00:50<00:00,  1.41s/it] \n"
     ]
    },
    {
     "name": "stdout",
     "output_type": "stream",
     "text": [
      "Validation accuracy: 0.3333333333333333\n",
      "Previous validation accuracy: 0.6388888888888888\n",
      "Rejected prompt: Analyze the given sentence from FOMC and provide a detailed explanation of why it is neutral in terms of its stance on monetary policy tightening or easing. Break down the sentence into its constituent parts and explain how each part contributes to its neutrality. Additionally, provide a confidence score between 0 and 1, where 0 indicates no confidence and 1 indicates full confidence in your classification. To help you understand the question, consider the following example: if the sentence had said 'The FOMC is committed to tightening monetary policy to combat inflation,' it would be clear that the sentence is biased towards tightening. However, the given sentence does not express any such bias. Break down the sentence into its constituent parts and explain how each part contributes to its neutrality. Additionally, provide a confidence score between 0 and 1, where 0 indicates no confidence and 1 indicates full confidence in your classification.\n",
      "sys prompt:  Analyze the given sentence from FOMC and classify it as either hawkish, dovish, or neutral in terms of its stance on monetary policy tightening or easing. Provide a detailed explanation of your reasoning, highlighting the specific words and phrases that support your classification, and explaining why you believe the sentence leans towards a particular stance. If the sentence is neutral, please explain why it does not express a clear bias towards tightening or easing monetary policy. Additionally, provide a confidence score between 0 and 1, where 0 indicates no confidence and 1 indicates full confidence in your classification.\n"
     ]
    },
    {
     "name": "stderr",
     "output_type": "stream",
     "text": [
      "Accuracy: 0.5833333333333334: 100%|██████████| 36/36 [00:00<00:00, 471.11it/s]\n",
      "Accuracy: 0.5: 100%|██████████| 36/36 [00:49<00:00,  1.36s/it]                \n"
     ]
    },
    {
     "name": "stdout",
     "output_type": "stream",
     "text": [
      "Validation accuracy: 0.5\n",
      "Previous validation accuracy: 0.6388888888888888\n",
      "Rejected prompt: Analyze the given sentence from FOMC and classify it as either hawkish, dovish, or neutral in terms of its stance on monetary policy tightening or easing. Provide a clear and concise explanation of your reasoning, highlighting the specific words and phrases that support your classification, and explaining why you believe the sentence leans towards a particular stance. Use precise and accurate terminology when classifying the stance of a sentence, using 'hawkish' to indicate a more aggressive or restrictive stance on monetary policy, and 'dovish' to indicate a more accommodative or expansionary stance. Additionally, provide a confidence score between 0 and 1, where 0 indicates no confidence and 1 indicates full confidence in your classification.\n",
      "\n",
      "For reference, here are some examples of sentences that demonstrate clear hawkish, dovish, and neutral stances:\n",
      "\n",
      "- Hawkish: \"In light of rising inflation, the central bank has decided to raise interest rates.\"\n",
      "- Dovish: \"Given the slow pace of economic recovery, the central bank has decided to keep interest rates low to support growth.\"\n",
      "- Neutral: \"The central bank has decided to maintain its current monetary policy stance.\"\n",
      "sys prompt:  Analyze the given sentence from FOMC and classify it as either hawkish, dovish, or neutral in terms of its stance on monetary policy tightening or easing. Provide a detailed explanation of your reasoning, highlighting the specific words and phrases that support your classification, and explaining why you believe the sentence leans towards a particular stance. If the sentence is neutral, please explain why it does not express a clear bias towards tightening or easing monetary policy. Additionally, provide a confidence score between 0 and 1, where 0 indicates no confidence and 1 indicates full confidence in your classification.\n"
     ]
    },
    {
     "name": "stderr",
     "output_type": "stream",
     "text": [
      "Accuracy: 0.5833333333333334: 100%|██████████| 36/36 [00:00<00:00, 504.33it/s]\n",
      "Accuracy: 0.4722222222222222: 100%|██████████| 36/36 [00:47<00:00,  1.32s/it] \n"
     ]
    },
    {
     "name": "stdout",
     "output_type": "stream",
     "text": [
      "Validation accuracy: 0.4722222222222222\n",
      "Previous validation accuracy: 0.6388888888888888\n",
      "Rejected prompt: Classify the given sentence from FOMC as either hawkish, dovish, or neutral in terms of its stance on monetary policy tightening or easing. Provide a brief explanation of your reasoning, highlighting the specific words and phrases that support your classification, and explain how this sentence suggests a bias towards a particular policy stance in the current economic context.\n",
      "sys prompt:  Analyze the given sentence from FOMC and classify it as either hawkish, dovish, or neutral in terms of its stance on monetary policy tightening or easing. Provide a detailed explanation of your reasoning, highlighting the specific words and phrases that support your classification, and explaining why you believe the sentence leans towards a particular stance. If the sentence is neutral, please explain why it does not express a clear bias towards tightening or easing monetary policy. Additionally, provide a confidence score between 0 and 1, where 0 indicates no confidence and 1 indicates full confidence in your classification.\n"
     ]
    },
    {
     "name": "stderr",
     "output_type": "stream",
     "text": [
      "Accuracy: 0.5833333333333334: 100%|██████████| 36/36 [00:00<00:00, 498.82it/s]\n",
      "Accuracy: 0.4444444444444444: 100%|██████████| 36/36 [00:50<00:00,  1.40s/it] \n"
     ]
    },
    {
     "name": "stdout",
     "output_type": "stream",
     "text": [
      "Validation accuracy: 0.4444444444444444\n",
      "Previous validation accuracy: 0.6388888888888888\n",
      "Rejected prompt: Analyze the given sentence from FOMC and classify it as either hawkish, dovish, or neutral in terms of its stance on monetary policy tightening or easing. Provide a detailed and well-supported explanation of your reasoning, highlighting the specific words and phrases that support your classification, and explaining why you believe the sentence leans towards a particular stance. In your explanation, be sure to address the following points:\n",
      "\n",
      "1. Explain the overall tone and sentiment of the sentence, and how it relates to the stance on monetary policy.\n",
      "2. Discuss the specific words and phrases that indicate a bias towards tightening or easing monetary policy, and explain why these words and phrases support your classification.\n",
      "3. Provide examples of other sentences or statements that share similar characteristics and are classified as the same stance, to help reinforce your classification.\n",
      "4. If the sentence is neutral, explain why it does not express a clear bias towards tightening or easing monetary policy, and provide examples of sentences that are classified as neutral.\n",
      "5. Provide a confidence score between 0 and 1, where 0 indicates no confidence and 1 indicates full confidence in your classification.\n",
      "\n",
      "By following this structure, the language model will be encouraged to provide a more detailed and well-supported explanation for its classification, which will help to improve the objective function.\n",
      "sys prompt:  Analyze the given sentence from FOMC and classify it as either hawkish, dovish, or neutral in terms of its stance on monetary policy tightening or easing. Provide a detailed explanation of your reasoning, highlighting the specific words and phrases that support your classification, and explaining why you believe the sentence leans towards a particular stance. If the sentence is neutral, please explain why it does not express a clear bias towards tightening or easing monetary policy. Additionally, provide a confidence score between 0 and 1, where 0 indicates no confidence and 1 indicates full confidence in your classification.\n"
     ]
    },
    {
     "name": "stderr",
     "output_type": "stream",
     "text": [
      "Accuracy: 0.5833333333333334: 100%|██████████| 36/36 [00:00<00:00, 528.61it/s]\n",
      "Accuracy: 0.5277777777777778: 100%|██████████| 36/36 [00:48<00:00,  1.34s/it] \n"
     ]
    },
    {
     "name": "stdout",
     "output_type": "stream",
     "text": [
      "Validation accuracy: 0.5277777777777778\n",
      "Previous validation accuracy: 0.6388888888888888\n",
      "Rejected prompt: Classify the given sentence from FOMC as either hawkish, dovish, or neutral based on its stance on monetary policy tightening or easing. Provide a detailed explanation of your reasoning, highlighting the specific words and phrases that support your classification, and provide a confidence score between 0 and 1, where 0 indicates no confidence and 1 indicates full confidence in your classification. In your response, provide a detailed explanation of your reasoning, explaining why you believe the sentence leans towards a particular stance. Be sure to highlight the specific words and phrases that support your classification, and provide a clear and concise explanation for why the sentence is classified as hawkish, dovish, or neutral. In your response, be sure to provide a concise and clear explanation for your classification, while still providing enough information for the reader to understand the reasoning behind your prediction.\n",
      "sys prompt:  Analyze the given sentence from FOMC and classify it as either hawkish, dovish, or neutral in terms of its stance on monetary policy tightening or easing. Provide a detailed explanation of your reasoning, highlighting the specific words and phrases that support your classification, and explaining why you believe the sentence leans towards a particular stance. If the sentence is neutral, please explain why it does not express a clear bias towards tightening or easing monetary policy. Additionally, provide a confidence score between 0 and 1, where 0 indicates no confidence and 1 indicates full confidence in your classification.\n"
     ]
    },
    {
     "name": "stderr",
     "output_type": "stream",
     "text": [
      "Accuracy: 0.5833333333333334: 100%|██████████| 36/36 [00:00<00:00, 552.49it/s]\n",
      "Training step 5. Epoch 3: : 5it [09:32, 114.52s/it]\n",
      "Accuracy: 0.1388888888888889: 100%|██████████| 36/36 [00:49<00:00,  1.39s/it]  \n"
     ]
    },
    {
     "name": "stdout",
     "output_type": "stream",
     "text": [
      "Validation accuracy: 0.1388888888888889\n",
      "Previous validation accuracy: 0.6388888888888888\n",
      "Rejected prompt: Analyze the given sentence from FOMC and provide a balanced and nuanced interpretation of its stance on monetary policy tightening or easing. Explain your reasoning, highlighting the specific words and phrases that support your interpretation, and provide a confidence score between 0 and 1, where 0 indicates no confidence and 1 indicates full confidence in your interpretation. Ensure your response acknowledges the complexity of the sentence and the potential for multiple interpretations, and clearly states the dominant interpretation in the given context.\n",
      "sys prompt:  Analyze the given sentence from FOMC and classify it as either hawkish, dovish, or neutral in terms of its stance on monetary policy tightening or easing. Provide a detailed explanation of your reasoning, highlighting the specific words and phrases that support your classification, and explaining why you believe the sentence leans towards a particular stance. If the sentence is neutral, please explain why it does not express a clear bias towards tightening or easing monetary policy. Additionally, provide a confidence score between 0 and 1, where 0 indicates no confidence and 1 indicates full confidence in your classification.\n"
     ]
    },
    {
     "name": "stderr",
     "output_type": "stream",
     "text": [
      "Accuracy: 0.5833333333333334: 100%|██████████| 36/36 [00:00<00:00, 439.10it/s]\n",
      "Accuracy: 0.5: 100%|██████████| 36/36 [00:49<00:00,  1.38s/it]                \n"
     ]
    },
    {
     "name": "stdout",
     "output_type": "stream",
     "text": [
      "Validation accuracy: 0.5\n",
      "Previous validation accuracy: 0.6388888888888888\n",
      "Rejected prompt: Analyze the given sentence from FOMC and classify it as either hawkish or dovish, with a confidence score between 0 and 1. Provide a detailed explanation of your reasoning, highlighting the specific words and phrases that support your classification, and explaining why you believe the sentence leans towards a particular stance. If the sentence is neutral, please explain why it does not express a clear bias towards tightening or easing monetary policy.\n",
      "sys prompt:  Analyze the given sentence from FOMC and classify it as either hawkish, dovish, or neutral in terms of its stance on monetary policy tightening or easing. Provide a detailed explanation of your reasoning, highlighting the specific words and phrases that support your classification, and explaining why you believe the sentence leans towards a particular stance. If the sentence is neutral, please explain why it does not express a clear bias towards tightening or easing monetary policy. Additionally, provide a confidence score between 0 and 1, where 0 indicates no confidence and 1 indicates full confidence in your classification.\n"
     ]
    },
    {
     "name": "stderr",
     "output_type": "stream",
     "text": [
      "Accuracy: 0.5833333333333334: 100%|██████████| 36/36 [00:00<00:00, 579.89it/s]\n",
      "Accuracy: 0.5: 100%|██████████| 36/36 [00:46<00:00,  1.29s/it]                \n"
     ]
    },
    {
     "name": "stdout",
     "output_type": "stream",
     "text": [
      "Validation accuracy: 0.5\n",
      "Previous validation accuracy: 0.6388888888888888\n",
      "Rejected prompt: Classify the given sentence from FOMC as either hawkish, dovish, or neutral in terms of its stance on monetary policy tightening or easing. Provide a clear and concise classification, and explain the specific words and phrases in the sentence that support your classification. If the sentence is neutral, explain why it does not express a clear bias towards tightening or easing monetary policy.\n",
      "sys prompt:  Analyze the given sentence from FOMC and classify it as either hawkish, dovish, or neutral in terms of its stance on monetary policy tightening or easing. Provide a detailed explanation of your reasoning, highlighting the specific words and phrases that support your classification, and explaining why you believe the sentence leans towards a particular stance. If the sentence is neutral, please explain why it does not express a clear bias towards tightening or easing monetary policy. Additionally, provide a confidence score between 0 and 1, where 0 indicates no confidence and 1 indicates full confidence in your classification.\n"
     ]
    },
    {
     "name": "stderr",
     "output_type": "stream",
     "text": [
      "Accuracy: 0.5833333333333334: 100%|██████████| 36/36 [00:00<00:00, 291.33it/s]\n",
      "Accuracy: 0.4722222222222222: 100%|██████████| 36/36 [00:48<00:00,  1.34s/it] \n"
     ]
    },
    {
     "name": "stdout",
     "output_type": "stream",
     "text": [
      "Validation accuracy: 0.4722222222222222\n",
      "Previous validation accuracy: 0.6388888888888888\n",
      "Rejected prompt: Classify the given FOMC sentence as either hawkish, dovish, or neutral, and provide a brief explanation of your reasoning. If the sentence is neutral, explain why it does not express a clear bias towards tightening or easing monetary policy.\n",
      "sys prompt:  Analyze the given sentence from FOMC and classify it as either hawkish, dovish, or neutral in terms of its stance on monetary policy tightening or easing. Provide a detailed explanation of your reasoning, highlighting the specific words and phrases that support your classification, and explaining why you believe the sentence leans towards a particular stance. If the sentence is neutral, please explain why it does not express a clear bias towards tightening or easing monetary policy. Additionally, provide a confidence score between 0 and 1, where 0 indicates no confidence and 1 indicates full confidence in your classification.\n"
     ]
    },
    {
     "name": "stderr",
     "output_type": "stream",
     "text": [
      "Accuracy: 0.5833333333333334: 100%|██████████| 36/36 [00:00<00:00, 489.36it/s]\n",
      "Accuracy: 0.5277777777777778: 100%|██████████| 36/36 [00:53<00:00,  1.47s/it] \n"
     ]
    },
    {
     "name": "stdout",
     "output_type": "stream",
     "text": [
      "Validation accuracy: 0.5277777777777778\n",
      "Previous validation accuracy: 0.6388888888888888\n",
      "Rejected prompt: Analyze the given sentence from FOMC and classify it as either hawkish, dovish, or neutral in terms of its stance on monetary policy tightening or easing. Provide a detailed explanation of your reasoning, highlighting the specific words and phrases that support your classification, and explaining why you believe the sentence leans towards a particular stance. If the sentence is neutral, please explain why it does not express a clear bias towards tightening or easing monetary policy. Additionally, provide a list of objective criteria that you used to make your classification, such as the use of words like 'optimistic' or 'cautious' to indicate a dovish stance, or the absence of words like 'aggressive' or 'tightening' to indicate a hawkish stance. Finally, provide a confidence score between 0 and 1, where 0 indicates no confidence and 1 indicates full confidence in your classification.\n",
      "sys prompt:  Analyze the given sentence from FOMC and classify it as either hawkish, dovish, or neutral in terms of its stance on monetary policy tightening or easing. Provide a detailed explanation of your reasoning, highlighting the specific words and phrases that support your classification, and explaining why you believe the sentence leans towards a particular stance. If the sentence is neutral, please explain why it does not express a clear bias towards tightening or easing monetary policy. Additionally, provide a confidence score between 0 and 1, where 0 indicates no confidence and 1 indicates full confidence in your classification.\n"
     ]
    },
    {
     "name": "stderr",
     "output_type": "stream",
     "text": [
      "Accuracy: 0.5833333333333334: 100%|██████████| 36/36 [00:00<00:00, 510.92it/s]\n",
      "Accuracy: 0.19444444444444445: 100%|██████████| 36/36 [00:49<00:00,  1.37s/it]\n"
     ]
    },
    {
     "name": "stdout",
     "output_type": "stream",
     "text": [
      "Validation accuracy: 0.19444444444444445\n",
      "Previous validation accuracy: 0.6388888888888888\n",
      "Rejected prompt: Analyze the given sentence from FOMC and classify its stance on monetary policy tightening or easing. Provide a detailed explanation of your reasoning, highlighting the specific words and phrases that support your classification, and explain why you believe the sentence leans towards a particular stance. If the sentence is neutral, please explain why it does not express a clear bias towards tightening or easing monetary policy. Additionally, provide a sentiment score between 0 and 1, where 0 indicates no confidence and 1 indicates full confidence in your classification.\n",
      "sys prompt:  Analyze the given sentence from FOMC and classify it as either hawkish, dovish, or neutral in terms of its stance on monetary policy tightening or easing. Provide a detailed explanation of your reasoning, highlighting the specific words and phrases that support your classification, and explaining why you believe the sentence leans towards a particular stance. If the sentence is neutral, please explain why it does not express a clear bias towards tightening or easing monetary policy. Additionally, provide a confidence score between 0 and 1, where 0 indicates no confidence and 1 indicates full confidence in your classification.\n"
     ]
    },
    {
     "name": "stderr",
     "output_type": "stream",
     "text": [
      "Accuracy: 0.5833333333333334: 100%|██████████| 36/36 [00:00<00:00, 458.16it/s]\n",
      "Training step 5. Epoch 4: : 5it [08:48, 105.66s/it]\n"
     ]
    }
   ],
   "source": [
    "results = {\"test_accuracy\": [0], \"prompt\": [starting_prompt], \"val_accuracy\": [0]}\n",
    "train_loader = DataLoader(training_data, batch_size=30, shuffle=True)\n",
    "num_epochs = 5\n",
    "for epoch in range(num_epochs):\n",
    "    for steps, (batch_x, batch_y) in enumerate((pbar := tqdm(train_loader, position=0))):\n",
    "        pbar.set_description(f\"Training step {steps}. Epoch {epoch}\")\n",
    "        optimizer.zero_grad()\n",
    "        losses = []\n",
    "        for (x, y) in zip(batch_x, batch_y):\n",
    "            x = Variable(x, requires_grad=False, role_description=\"query to the language model\")\n",
    "            y = Variable(y, requires_grad=False, role_description=\"correct answer for the query\")\n",
    "            response = model(x)\n",
    "            eval_output_variable = eval_fn(inputs=dict(prediction=response, ground_truth_answer=y))\n",
    "            losses.append(eval_output_variable)\n",
    "        total_loss = textgrad.sum(losses)\n",
    "        total_loss.backward(engine)\n",
    "        optimizer.step()\n",
    "        \n",
    "        run_validation_revert(system_prompt, results, eval_fn, model, val_data)\n",
    "        \n",
    "        print(\"sys prompt: \", system_prompt)\n",
    "        test_acc = eval_dataset(testing_data, eval_fn, model)\n",
    "        results[\"test_accuracy\"].append(test_acc)\n",
    "        results[\"prompt\"].append(system_prompt.get_value())\n",
    "        \n",
    "        if steps >= 3:\n",
    "            break"
   ]
  },
  {
   "cell_type": "code",
   "execution_count": 40,
   "metadata": {},
   "outputs": [
    {
     "data": {
      "text/html": [
       "<div>\n",
       "<style scoped>\n",
       "    .dataframe tbody tr th:only-of-type {\n",
       "        vertical-align: middle;\n",
       "    }\n",
       "\n",
       "    .dataframe tbody tr th {\n",
       "        vertical-align: top;\n",
       "    }\n",
       "\n",
       "    .dataframe thead th {\n",
       "        text-align: right;\n",
       "    }\n",
       "</style>\n",
       "<table border=\"1\" class=\"dataframe\">\n",
       "  <thead>\n",
       "    <tr style=\"text-align: right;\">\n",
       "      <th></th>\n",
       "      <th>prompt</th>\n",
       "      <th>validation_accuracy</th>\n",
       "      <th>new_best</th>\n",
       "    </tr>\n",
       "  </thead>\n",
       "  <tbody>\n",
       "    <tr>\n",
       "      <th>0</th>\n",
       "      <td>Classify the given sentence from FOMC as eithe...</td>\n",
       "      <td>0.472222</td>\n",
       "      <td>True</td>\n",
       "    </tr>\n",
       "    <tr>\n",
       "      <th>1</th>\n",
       "      <td>For the purpose of this task, 'hawkish' refers...</td>\n",
       "      <td>0.444444</td>\n",
       "      <td>False</td>\n",
       "    </tr>\n",
       "    <tr>\n",
       "      <th>2</th>\n",
       "      <td>Classify the given sentence from FOMC as eithe...</td>\n",
       "      <td>0.444444</td>\n",
       "      <td>False</td>\n",
       "    </tr>\n",
       "    <tr>\n",
       "      <th>3</th>\n",
       "      <td>Classify the given sentence from FOMC as eithe...</td>\n",
       "      <td>0.527778</td>\n",
       "      <td>True</td>\n",
       "    </tr>\n",
       "    <tr>\n",
       "      <th>4</th>\n",
       "      <td>Classify the given sentence from FOMC as eithe...</td>\n",
       "      <td>0.527778</td>\n",
       "      <td>True</td>\n",
       "    </tr>\n",
       "    <tr>\n",
       "      <th>5</th>\n",
       "      <td>Classify the given sentence from FOMC as eithe...</td>\n",
       "      <td>0.472222</td>\n",
       "      <td>False</td>\n",
       "    </tr>\n",
       "    <tr>\n",
       "      <th>6</th>\n",
       "      <td>Analyze the given sentence from the FOMC meeti...</td>\n",
       "      <td>0.444444</td>\n",
       "      <td>False</td>\n",
       "    </tr>\n",
       "    <tr>\n",
       "      <th>7</th>\n",
       "      <td>Analyze the given sentence from FOMC and class...</td>\n",
       "      <td>0.555556</td>\n",
       "      <td>True</td>\n",
       "    </tr>\n",
       "    <tr>\n",
       "      <th>8</th>\n",
       "      <td>Analyze the given sentence from FOMC and expla...</td>\n",
       "      <td>0.222222</td>\n",
       "      <td>False</td>\n",
       "    </tr>\n",
       "    <tr>\n",
       "      <th>9</th>\n",
       "      <td>Analyze the given sentence from FOMC and provi...</td>\n",
       "      <td>0.000000</td>\n",
       "      <td>False</td>\n",
       "    </tr>\n",
       "    <tr>\n",
       "      <th>10</th>\n",
       "      <td>Analyze the given sentence from FOMC and provi...</td>\n",
       "      <td>0.500000</td>\n",
       "      <td>False</td>\n",
       "    </tr>\n",
       "    <tr>\n",
       "      <th>11</th>\n",
       "      <td>Analyze the given sentence from FOMC and deter...</td>\n",
       "      <td>0.388889</td>\n",
       "      <td>False</td>\n",
       "    </tr>\n",
       "    <tr>\n",
       "      <th>12</th>\n",
       "      <td>Classify the FOMC's stance on monetary policy ...</td>\n",
       "      <td>0.250000</td>\n",
       "      <td>False</td>\n",
       "    </tr>\n",
       "    <tr>\n",
       "      <th>13</th>\n",
       "      <td>Analyze the given sentence from FOMC and class...</td>\n",
       "      <td>0.472222</td>\n",
       "      <td>False</td>\n",
       "    </tr>\n",
       "    <tr>\n",
       "      <th>14</th>\n",
       "      <td>Analyze the given sentence from FOMC and class...</td>\n",
       "      <td>0.472222</td>\n",
       "      <td>False</td>\n",
       "    </tr>\n",
       "    <tr>\n",
       "      <th>15</th>\n",
       "      <td>Analyze the given sentence from FOMC and class...</td>\n",
       "      <td>0.527778</td>\n",
       "      <td>False</td>\n",
       "    </tr>\n",
       "    <tr>\n",
       "      <th>16</th>\n",
       "      <td>Analyze the given sentence from FOMC and class...</td>\n",
       "      <td>0.638889</td>\n",
       "      <td>True</td>\n",
       "    </tr>\n",
       "    <tr>\n",
       "      <th>17</th>\n",
       "      <td>Analyze the given sentence from FOMC and class...</td>\n",
       "      <td>0.388889</td>\n",
       "      <td>False</td>\n",
       "    </tr>\n",
       "    <tr>\n",
       "      <th>18</th>\n",
       "      <td>Analyze the given sentence from FOMC and class...</td>\n",
       "      <td>0.444444</td>\n",
       "      <td>False</td>\n",
       "    </tr>\n",
       "    <tr>\n",
       "      <th>19</th>\n",
       "      <td>Analyze the given sentence from FOMC and provi...</td>\n",
       "      <td>0.333333</td>\n",
       "      <td>False</td>\n",
       "    </tr>\n",
       "    <tr>\n",
       "      <th>20</th>\n",
       "      <td>Analyze the given sentence from FOMC and class...</td>\n",
       "      <td>0.500000</td>\n",
       "      <td>False</td>\n",
       "    </tr>\n",
       "    <tr>\n",
       "      <th>21</th>\n",
       "      <td>Classify the given sentence from FOMC as eithe...</td>\n",
       "      <td>0.472222</td>\n",
       "      <td>False</td>\n",
       "    </tr>\n",
       "    <tr>\n",
       "      <th>22</th>\n",
       "      <td>Analyze the given sentence from FOMC and class...</td>\n",
       "      <td>0.444444</td>\n",
       "      <td>False</td>\n",
       "    </tr>\n",
       "    <tr>\n",
       "      <th>23</th>\n",
       "      <td>Classify the given sentence from FOMC as eithe...</td>\n",
       "      <td>0.527778</td>\n",
       "      <td>False</td>\n",
       "    </tr>\n",
       "    <tr>\n",
       "      <th>24</th>\n",
       "      <td>Analyze the given sentence from FOMC and provi...</td>\n",
       "      <td>0.138889</td>\n",
       "      <td>False</td>\n",
       "    </tr>\n",
       "    <tr>\n",
       "      <th>25</th>\n",
       "      <td>Analyze the given sentence from FOMC and class...</td>\n",
       "      <td>0.500000</td>\n",
       "      <td>False</td>\n",
       "    </tr>\n",
       "    <tr>\n",
       "      <th>26</th>\n",
       "      <td>Classify the given sentence from FOMC as eithe...</td>\n",
       "      <td>0.500000</td>\n",
       "      <td>False</td>\n",
       "    </tr>\n",
       "    <tr>\n",
       "      <th>27</th>\n",
       "      <td>Classify the given FOMC sentence as either haw...</td>\n",
       "      <td>0.472222</td>\n",
       "      <td>False</td>\n",
       "    </tr>\n",
       "    <tr>\n",
       "      <th>28</th>\n",
       "      <td>Analyze the given sentence from FOMC and class...</td>\n",
       "      <td>0.527778</td>\n",
       "      <td>False</td>\n",
       "    </tr>\n",
       "    <tr>\n",
       "      <th>29</th>\n",
       "      <td>Analyze the given sentence from FOMC and class...</td>\n",
       "      <td>0.194444</td>\n",
       "      <td>False</td>\n",
       "    </tr>\n",
       "  </tbody>\n",
       "</table>\n",
       "</div>"
      ],
      "text/plain": [
       "                                               prompt  validation_accuracy  \\\n",
       "0   Classify the given sentence from FOMC as eithe...             0.472222   \n",
       "1   For the purpose of this task, 'hawkish' refers...             0.444444   \n",
       "2   Classify the given sentence from FOMC as eithe...             0.444444   \n",
       "3   Classify the given sentence from FOMC as eithe...             0.527778   \n",
       "4   Classify the given sentence from FOMC as eithe...             0.527778   \n",
       "5   Classify the given sentence from FOMC as eithe...             0.472222   \n",
       "6   Analyze the given sentence from the FOMC meeti...             0.444444   \n",
       "7   Analyze the given sentence from FOMC and class...             0.555556   \n",
       "8   Analyze the given sentence from FOMC and expla...             0.222222   \n",
       "9   Analyze the given sentence from FOMC and provi...             0.000000   \n",
       "10  Analyze the given sentence from FOMC and provi...             0.500000   \n",
       "11  Analyze the given sentence from FOMC and deter...             0.388889   \n",
       "12  Classify the FOMC's stance on monetary policy ...             0.250000   \n",
       "13  Analyze the given sentence from FOMC and class...             0.472222   \n",
       "14  Analyze the given sentence from FOMC and class...             0.472222   \n",
       "15  Analyze the given sentence from FOMC and class...             0.527778   \n",
       "16  Analyze the given sentence from FOMC and class...             0.638889   \n",
       "17  Analyze the given sentence from FOMC and class...             0.388889   \n",
       "18  Analyze the given sentence from FOMC and class...             0.444444   \n",
       "19  Analyze the given sentence from FOMC and provi...             0.333333   \n",
       "20  Analyze the given sentence from FOMC and class...             0.500000   \n",
       "21  Classify the given sentence from FOMC as eithe...             0.472222   \n",
       "22  Analyze the given sentence from FOMC and class...             0.444444   \n",
       "23  Classify the given sentence from FOMC as eithe...             0.527778   \n",
       "24  Analyze the given sentence from FOMC and provi...             0.138889   \n",
       "25  Analyze the given sentence from FOMC and class...             0.500000   \n",
       "26  Classify the given sentence from FOMC as eithe...             0.500000   \n",
       "27  Classify the given FOMC sentence as either haw...             0.472222   \n",
       "28  Analyze the given sentence from FOMC and class...             0.527778   \n",
       "29  Analyze the given sentence from FOMC and class...             0.194444   \n",
       "\n",
       "    new_best  \n",
       "0       True  \n",
       "1      False  \n",
       "2      False  \n",
       "3       True  \n",
       "4       True  \n",
       "5      False  \n",
       "6      False  \n",
       "7       True  \n",
       "8      False  \n",
       "9      False  \n",
       "10     False  \n",
       "11     False  \n",
       "12     False  \n",
       "13     False  \n",
       "14     False  \n",
       "15     False  \n",
       "16      True  \n",
       "17     False  \n",
       "18     False  \n",
       "19     False  \n",
       "20     False  \n",
       "21     False  \n",
       "22     False  \n",
       "23     False  \n",
       "24     False  \n",
       "25     False  \n",
       "26     False  \n",
       "27     False  \n",
       "28     False  \n",
       "29     False  "
      ]
     },
     "execution_count": 40,
     "metadata": {},
     "output_type": "execute_result"
    }
   ],
   "source": [
    "pd.read_csv('optimization.csv')"
   ]
  },
  {
   "cell_type": "markdown",
   "metadata": {},
   "source": [
    "## Testing together 1.2 API"
   ]
  },
  {
   "cell_type": "code",
   "execution_count": 8,
   "metadata": {},
   "outputs": [
    {
     "name": "stdout",
     "output_type": "stream",
     "text": [
      "LLM response: Neutral class\n",
      "Explanation: The sentence mentions that participants agreed that the labor market remained strong and economic activity rose at a moderate rate, indicating a neutral stance towards monetary policy.\n",
      "Token usage: {'prompt_tokens': 174, 'response_tokens': 37, 'total_tokens': 211}\n"
     ]
    }
   ],
   "source": [
    "# Testing together 1.2 API\n",
    "client = Together()\n",
    "model_response = client.chat.completions.create(\n",
    "    model='allenai/OLMo-7B-Instruct',\n",
    "    messages=[{'role': 'system', 'content': fomc_prompt(sentence)[0]},\n",
    "                {'role': 'user', 'content': fomc_prompt(sentence)[1]}],\n",
    "    max_tokens=128,\n",
    "    temperature=0.7,\n",
    "    top_k=50,\n",
    "    top_p=0.7,\n",
    "    repetition_penalty=1.1\n",
    ")\n",
    "response_label = model_response.choices[0].message.content\n",
    "token_usage = {'prompt_tokens': model_response.usage.prompt_tokens, 'response_tokens': model_response.usage.completion_tokens, 'total_tokens': model_response.usage.total_tokens}\n",
    "print(f\"LLM response: {response_label.strip()}\\nToken usage: {token_usage}\")"
   ]
  },
  {
   "cell_type": "markdown",
   "metadata": {},
   "source": [
    "## Testing DSPy"
   ]
  },
  {
   "cell_type": "code",
   "execution_count": 54,
   "metadata": {},
   "outputs": [
    {
     "name": "stdout",
     "output_type": "stream",
     "text": [
      "Backing off 0.6 seconds after 1 tries calling function <function Together._generate at 0x0000017878ABF700> with kwargs {'temperature': 0.0, 'max_tokens': 512, 'top_p': 1, 'top_k': 20, 'repetition_penalty': 1, 'n': 1, 'stop': ['</s>', '<s>']}\n",
      "Backing off 0.5 seconds after 2 tries calling function <function Together._generate at 0x0000017878ABF700> with kwargs {'temperature': 0.0, 'max_tokens': 512, 'top_p': 1, 'top_k': 20, 'repetition_penalty': 1, 'n': 1, 'stop': ['</s>', '<s>']}\n",
      "Backing off 3.4 seconds after 3 tries calling function <function Together._generate at 0x0000017878ABF700> with kwargs {'temperature': 0.0, 'max_tokens': 512, 'top_p': 1, 'top_k': 20, 'repetition_penalty': 1, 'n': 1, 'stop': ['</s>', '<s>']}\n",
      "Backing off 7.0 seconds after 4 tries calling function <function Together._generate at 0x0000017878ABF700> with kwargs {'temperature': 0.0, 'max_tokens': 512, 'top_p': 1, 'top_k': 20, 'repetition_penalty': 1, 'n': 1, 'stop': ['</s>', '<s>']}\n",
      "Backing off 12.9 seconds after 5 tries calling function <function Together._generate at 0x0000017878ABF700> with kwargs {'temperature': 0.0, 'max_tokens': 512, 'top_p': 1, 'top_k': 20, 'repetition_penalty': 1, 'n': 1, 'stop': ['</s>', '<s>']}\n"
     ]
    },
    {
     "ename": "KeyboardInterrupt",
     "evalue": "",
     "output_type": "error",
     "traceback": [
      "\u001b[1;31m---------------------------------------------------------------------------\u001b[0m",
      "\u001b[1;31mMissingSchema\u001b[0m                             Traceback (most recent call last)",
      "\u001b[1;32mc:\\Users\\mikad\\anaconda3\\lib\\site-packages\\dsp\\modules\\hf_client.py\u001b[0m in \u001b[0;36m_generate\u001b[1;34m(self, prompt, use_chat_api, **kwargs)\u001b[0m\n\u001b[0;32m    279\u001b[0m         \u001b[1;32mtry\u001b[0m\u001b[1;33m:\u001b[0m\u001b[1;33m\u001b[0m\u001b[1;33m\u001b[0m\u001b[0m\n\u001b[1;32m--> 280\u001b[1;33m             \u001b[1;32mwith\u001b[0m \u001b[0mself\u001b[0m\u001b[1;33m.\u001b[0m\u001b[0msession\u001b[0m\u001b[1;33m.\u001b[0m\u001b[0mpost\u001b[0m\u001b[1;33m(\u001b[0m\u001b[0murl\u001b[0m\u001b[1;33m,\u001b[0m \u001b[0mheaders\u001b[0m\u001b[1;33m=\u001b[0m\u001b[0mheaders\u001b[0m\u001b[1;33m,\u001b[0m \u001b[0mjson\u001b[0m\u001b[1;33m=\u001b[0m\u001b[0mbody\u001b[0m\u001b[1;33m)\u001b[0m \u001b[1;32mas\u001b[0m \u001b[0mresp\u001b[0m\u001b[1;33m:\u001b[0m\u001b[1;33m\u001b[0m\u001b[1;33m\u001b[0m\u001b[0m\n\u001b[0m\u001b[0;32m    281\u001b[0m                 \u001b[0mresp_json\u001b[0m \u001b[1;33m=\u001b[0m \u001b[0mresp\u001b[0m\u001b[1;33m.\u001b[0m\u001b[0mjson\u001b[0m\u001b[1;33m(\u001b[0m\u001b[1;33m)\u001b[0m\u001b[1;33m\u001b[0m\u001b[1;33m\u001b[0m\u001b[0m\n",
      "\u001b[1;32mc:\\Users\\mikad\\anaconda3\\lib\\site-packages\\requests\\sessions.py\u001b[0m in \u001b[0;36mpost\u001b[1;34m(self, url, data, json, **kwargs)\u001b[0m\n\u001b[0;32m    636\u001b[0m \u001b[1;33m\u001b[0m\u001b[0m\n\u001b[1;32m--> 637\u001b[1;33m         \u001b[1;32mreturn\u001b[0m \u001b[0mself\u001b[0m\u001b[1;33m.\u001b[0m\u001b[0mrequest\u001b[0m\u001b[1;33m(\u001b[0m\u001b[1;34m\"POST\"\u001b[0m\u001b[1;33m,\u001b[0m \u001b[0murl\u001b[0m\u001b[1;33m,\u001b[0m \u001b[0mdata\u001b[0m\u001b[1;33m=\u001b[0m\u001b[0mdata\u001b[0m\u001b[1;33m,\u001b[0m \u001b[0mjson\u001b[0m\u001b[1;33m=\u001b[0m\u001b[0mjson\u001b[0m\u001b[1;33m,\u001b[0m \u001b[1;33m**\u001b[0m\u001b[0mkwargs\u001b[0m\u001b[1;33m)\u001b[0m\u001b[1;33m\u001b[0m\u001b[1;33m\u001b[0m\u001b[0m\n\u001b[0m\u001b[0;32m    638\u001b[0m \u001b[1;33m\u001b[0m\u001b[0m\n",
      "\u001b[1;32mc:\\Users\\mikad\\anaconda3\\lib\\site-packages\\requests\\sessions.py\u001b[0m in \u001b[0;36mrequest\u001b[1;34m(self, method, url, params, data, headers, cookies, files, auth, timeout, allow_redirects, proxies, hooks, stream, verify, cert, json)\u001b[0m\n\u001b[0;32m    574\u001b[0m         )\n\u001b[1;32m--> 575\u001b[1;33m         \u001b[0mprep\u001b[0m \u001b[1;33m=\u001b[0m \u001b[0mself\u001b[0m\u001b[1;33m.\u001b[0m\u001b[0mprepare_request\u001b[0m\u001b[1;33m(\u001b[0m\u001b[0mreq\u001b[0m\u001b[1;33m)\u001b[0m\u001b[1;33m\u001b[0m\u001b[1;33m\u001b[0m\u001b[0m\n\u001b[0m\u001b[0;32m    576\u001b[0m \u001b[1;33m\u001b[0m\u001b[0m\n",
      "\u001b[1;32mc:\\Users\\mikad\\anaconda3\\lib\\site-packages\\requests\\sessions.py\u001b[0m in \u001b[0;36mprepare_request\u001b[1;34m(self, request)\u001b[0m\n\u001b[0;32m    483\u001b[0m         \u001b[0mp\u001b[0m \u001b[1;33m=\u001b[0m \u001b[0mPreparedRequest\u001b[0m\u001b[1;33m(\u001b[0m\u001b[1;33m)\u001b[0m\u001b[1;33m\u001b[0m\u001b[1;33m\u001b[0m\u001b[0m\n\u001b[1;32m--> 484\u001b[1;33m         p.prepare(\n\u001b[0m\u001b[0;32m    485\u001b[0m             \u001b[0mmethod\u001b[0m\u001b[1;33m=\u001b[0m\u001b[0mrequest\u001b[0m\u001b[1;33m.\u001b[0m\u001b[0mmethod\u001b[0m\u001b[1;33m.\u001b[0m\u001b[0mupper\u001b[0m\u001b[1;33m(\u001b[0m\u001b[1;33m)\u001b[0m\u001b[1;33m,\u001b[0m\u001b[1;33m\u001b[0m\u001b[1;33m\u001b[0m\u001b[0m\n",
      "\u001b[1;32mc:\\Users\\mikad\\anaconda3\\lib\\site-packages\\requests\\models.py\u001b[0m in \u001b[0;36mprepare\u001b[1;34m(self, method, url, headers, files, data, params, auth, cookies, hooks, json)\u001b[0m\n\u001b[0;32m    366\u001b[0m         \u001b[0mself\u001b[0m\u001b[1;33m.\u001b[0m\u001b[0mprepare_method\u001b[0m\u001b[1;33m(\u001b[0m\u001b[0mmethod\u001b[0m\u001b[1;33m)\u001b[0m\u001b[1;33m\u001b[0m\u001b[1;33m\u001b[0m\u001b[0m\n\u001b[1;32m--> 367\u001b[1;33m         \u001b[0mself\u001b[0m\u001b[1;33m.\u001b[0m\u001b[0mprepare_url\u001b[0m\u001b[1;33m(\u001b[0m\u001b[0murl\u001b[0m\u001b[1;33m,\u001b[0m \u001b[0mparams\u001b[0m\u001b[1;33m)\u001b[0m\u001b[1;33m\u001b[0m\u001b[1;33m\u001b[0m\u001b[0m\n\u001b[0m\u001b[0;32m    368\u001b[0m         \u001b[0mself\u001b[0m\u001b[1;33m.\u001b[0m\u001b[0mprepare_headers\u001b[0m\u001b[1;33m(\u001b[0m\u001b[0mheaders\u001b[0m\u001b[1;33m)\u001b[0m\u001b[1;33m\u001b[0m\u001b[1;33m\u001b[0m\u001b[0m\n",
      "\u001b[1;32mc:\\Users\\mikad\\anaconda3\\lib\\site-packages\\requests\\models.py\u001b[0m in \u001b[0;36mprepare_url\u001b[1;34m(self, url, params)\u001b[0m\n\u001b[0;32m    437\u001b[0m         \u001b[1;32mif\u001b[0m \u001b[1;32mnot\u001b[0m \u001b[0mscheme\u001b[0m\u001b[1;33m:\u001b[0m\u001b[1;33m\u001b[0m\u001b[1;33m\u001b[0m\u001b[0m\n\u001b[1;32m--> 438\u001b[1;33m             raise MissingSchema(\n\u001b[0m\u001b[0;32m    439\u001b[0m                 \u001b[1;34mf\"Invalid URL {url!r}: No scheme supplied. \"\u001b[0m\u001b[1;33m\u001b[0m\u001b[1;33m\u001b[0m\u001b[0m\n",
      "\u001b[1;31mMissingSchema\u001b[0m: Invalid URL 'None': No scheme supplied. Perhaps you meant https://None?",
      "\nDuring handling of the above exception, another exception occurred:\n",
      "\u001b[1;31mUnboundLocalError\u001b[0m                         Traceback (most recent call last)",
      "\u001b[1;32mc:\\Users\\mikad\\anaconda3\\lib\\site-packages\\backoff\\_sync.py\u001b[0m in \u001b[0;36mretry\u001b[1;34m(*args, **kwargs)\u001b[0m\n\u001b[0;32m    104\u001b[0m             \u001b[1;32mtry\u001b[0m\u001b[1;33m:\u001b[0m\u001b[1;33m\u001b[0m\u001b[1;33m\u001b[0m\u001b[0m\n\u001b[1;32m--> 105\u001b[1;33m                 \u001b[0mret\u001b[0m \u001b[1;33m=\u001b[0m \u001b[0mtarget\u001b[0m\u001b[1;33m(\u001b[0m\u001b[1;33m*\u001b[0m\u001b[0margs\u001b[0m\u001b[1;33m,\u001b[0m \u001b[1;33m**\u001b[0m\u001b[0mkwargs\u001b[0m\u001b[1;33m)\u001b[0m\u001b[1;33m\u001b[0m\u001b[1;33m\u001b[0m\u001b[0m\n\u001b[0m\u001b[0;32m    106\u001b[0m             \u001b[1;32mexcept\u001b[0m \u001b[0mexception\u001b[0m \u001b[1;32mas\u001b[0m \u001b[0me\u001b[0m\u001b[1;33m:\u001b[0m\u001b[1;33m\u001b[0m\u001b[1;33m\u001b[0m\u001b[0m\n",
      "\u001b[1;32mc:\\Users\\mikad\\anaconda3\\lib\\site-packages\\dsp\\modules\\hf_client.py\u001b[0m in \u001b[0;36m_generate\u001b[1;34m(self, prompt, use_chat_api, **kwargs)\u001b[0m\n\u001b[0;32m    288\u001b[0m         \u001b[1;32mexcept\u001b[0m \u001b[0mException\u001b[0m \u001b[1;32mas\u001b[0m \u001b[0me\u001b[0m\u001b[1;33m:\u001b[0m\u001b[1;33m\u001b[0m\u001b[1;33m\u001b[0m\u001b[0m\n\u001b[1;32m--> 289\u001b[1;33m             \u001b[1;32mif\u001b[0m \u001b[0mresp_json\u001b[0m\u001b[1;33m:\u001b[0m\u001b[1;33m\u001b[0m\u001b[1;33m\u001b[0m\u001b[0m\n\u001b[0m\u001b[0;32m    290\u001b[0m                 \u001b[0mprint\u001b[0m\u001b[1;33m(\u001b[0m\u001b[1;34mf\"resp_json:{resp_json}\"\u001b[0m\u001b[1;33m)\u001b[0m\u001b[1;33m\u001b[0m\u001b[1;33m\u001b[0m\u001b[0m\n",
      "\u001b[1;31mUnboundLocalError\u001b[0m: local variable 'resp_json' referenced before assignment",
      "\nDuring handling of the above exception, another exception occurred:\n",
      "\u001b[1;31mKeyboardInterrupt\u001b[0m                         Traceback (most recent call last)",
      "\u001b[1;32m~\\AppData\\Local\\Temp/ipykernel_16016/1839701109.py\u001b[0m in \u001b[0;36m<module>\u001b[1;34m\u001b[0m\n\u001b[0;32m     22\u001b[0m \u001b[1;33m\u001b[0m\u001b[0m\n\u001b[0;32m     23\u001b[0m \u001b[0manalyze\u001b[0m \u001b[1;33m=\u001b[0m \u001b[0mAnalysis\u001b[0m\u001b[1;33m(\u001b[0m\u001b[1;33m)\u001b[0m\u001b[1;33m\u001b[0m\u001b[1;33m\u001b[0m\u001b[0m\n\u001b[1;32m---> 24\u001b[1;33m \u001b[0manalyze\u001b[0m\u001b[1;33m(\u001b[0m\u001b[0msentence\u001b[0m\u001b[1;33m)\u001b[0m\u001b[1;33m\u001b[0m\u001b[1;33m\u001b[0m\u001b[0m\n\u001b[0m",
      "\u001b[1;32mc:\\Users\\mikad\\anaconda3\\lib\\site-packages\\dspy\\primitives\\program.py\u001b[0m in \u001b[0;36m__call__\u001b[1;34m(self, *args, **kwargs)\u001b[0m\n\u001b[0;32m     24\u001b[0m \u001b[1;33m\u001b[0m\u001b[0m\n\u001b[0;32m     25\u001b[0m     \u001b[1;32mdef\u001b[0m \u001b[0m__call__\u001b[0m\u001b[1;33m(\u001b[0m\u001b[0mself\u001b[0m\u001b[1;33m,\u001b[0m \u001b[1;33m*\u001b[0m\u001b[0margs\u001b[0m\u001b[1;33m,\u001b[0m \u001b[1;33m**\u001b[0m\u001b[0mkwargs\u001b[0m\u001b[1;33m)\u001b[0m\u001b[1;33m:\u001b[0m\u001b[1;33m\u001b[0m\u001b[1;33m\u001b[0m\u001b[0m\n\u001b[1;32m---> 26\u001b[1;33m         \u001b[1;32mreturn\u001b[0m \u001b[0mself\u001b[0m\u001b[1;33m.\u001b[0m\u001b[0mforward\u001b[0m\u001b[1;33m(\u001b[0m\u001b[1;33m*\u001b[0m\u001b[0margs\u001b[0m\u001b[1;33m,\u001b[0m \u001b[1;33m**\u001b[0m\u001b[0mkwargs\u001b[0m\u001b[1;33m)\u001b[0m\u001b[1;33m\u001b[0m\u001b[1;33m\u001b[0m\u001b[0m\n\u001b[0m\u001b[0;32m     27\u001b[0m \u001b[1;33m\u001b[0m\u001b[0m\n\u001b[0;32m     28\u001b[0m     \u001b[1;32mdef\u001b[0m \u001b[0mnamed_predictors\u001b[0m\u001b[1;33m(\u001b[0m\u001b[0mself\u001b[0m\u001b[1;33m)\u001b[0m\u001b[1;33m:\u001b[0m\u001b[1;33m\u001b[0m\u001b[1;33m\u001b[0m\u001b[0m\n",
      "\u001b[1;32m~\\AppData\\Local\\Temp/ipykernel_16016/1839701109.py\u001b[0m in \u001b[0;36mforward\u001b[1;34m(self, sentence)\u001b[0m\n\u001b[0;32m     19\u001b[0m \u001b[1;33m\u001b[0m\u001b[0m\n\u001b[0;32m     20\u001b[0m     \u001b[1;32mdef\u001b[0m \u001b[0mforward\u001b[0m\u001b[1;33m(\u001b[0m\u001b[0mself\u001b[0m\u001b[1;33m,\u001b[0m \u001b[0msentence\u001b[0m\u001b[1;33m)\u001b[0m\u001b[1;33m:\u001b[0m\u001b[1;33m\u001b[0m\u001b[1;33m\u001b[0m\u001b[0m\n\u001b[1;32m---> 21\u001b[1;33m         \u001b[1;32mreturn\u001b[0m \u001b[0mself\u001b[0m\u001b[1;33m.\u001b[0m\u001b[0mpredict\u001b[0m\u001b[1;33m(\u001b[0m\u001b[0msentence\u001b[0m\u001b[1;33m=\u001b[0m\u001b[0msentence\u001b[0m\u001b[1;33m)\u001b[0m\u001b[1;33m\u001b[0m\u001b[1;33m\u001b[0m\u001b[0m\n\u001b[0m\u001b[0;32m     22\u001b[0m \u001b[1;33m\u001b[0m\u001b[0m\n\u001b[0;32m     23\u001b[0m \u001b[0manalyze\u001b[0m \u001b[1;33m=\u001b[0m \u001b[0mAnalysis\u001b[0m\u001b[1;33m(\u001b[0m\u001b[1;33m)\u001b[0m\u001b[1;33m\u001b[0m\u001b[1;33m\u001b[0m\u001b[0m\n",
      "\u001b[1;32mc:\\Users\\mikad\\anaconda3\\lib\\site-packages\\dspy\\predict\\predict.py\u001b[0m in \u001b[0;36m__call__\u001b[1;34m(self, **kwargs)\u001b[0m\n\u001b[0;32m     47\u001b[0m \u001b[1;33m\u001b[0m\u001b[0m\n\u001b[0;32m     48\u001b[0m     \u001b[1;32mdef\u001b[0m \u001b[0m__call__\u001b[0m\u001b[1;33m(\u001b[0m\u001b[0mself\u001b[0m\u001b[1;33m,\u001b[0m \u001b[1;33m**\u001b[0m\u001b[0mkwargs\u001b[0m\u001b[1;33m)\u001b[0m\u001b[1;33m:\u001b[0m\u001b[1;33m\u001b[0m\u001b[1;33m\u001b[0m\u001b[0m\n\u001b[1;32m---> 49\u001b[1;33m         \u001b[1;32mreturn\u001b[0m \u001b[0mself\u001b[0m\u001b[1;33m.\u001b[0m\u001b[0mforward\u001b[0m\u001b[1;33m(\u001b[0m\u001b[1;33m**\u001b[0m\u001b[0mkwargs\u001b[0m\u001b[1;33m)\u001b[0m\u001b[1;33m\u001b[0m\u001b[1;33m\u001b[0m\u001b[0m\n\u001b[0m\u001b[0;32m     50\u001b[0m \u001b[1;33m\u001b[0m\u001b[0m\n\u001b[0;32m     51\u001b[0m     \u001b[1;32mdef\u001b[0m \u001b[0mforward\u001b[0m\u001b[1;33m(\u001b[0m\u001b[0mself\u001b[0m\u001b[1;33m,\u001b[0m \u001b[1;33m**\u001b[0m\u001b[0mkwargs\u001b[0m\u001b[1;33m)\u001b[0m\u001b[1;33m:\u001b[0m\u001b[1;33m\u001b[0m\u001b[1;33m\u001b[0m\u001b[0m\n",
      "\u001b[1;32mc:\\Users\\mikad\\anaconda3\\lib\\site-packages\\dspy\\predict\\predict.py\u001b[0m in \u001b[0;36mforward\u001b[1;34m(self, **kwargs)\u001b[0m\n\u001b[0;32m     89\u001b[0m \u001b[1;33m\u001b[0m\u001b[0m\n\u001b[0;32m     90\u001b[0m         \u001b[1;32mif\u001b[0m \u001b[0mself\u001b[0m\u001b[1;33m.\u001b[0m\u001b[0mlm\u001b[0m \u001b[1;32mis\u001b[0m \u001b[1;32mNone\u001b[0m\u001b[1;33m:\u001b[0m\u001b[1;33m\u001b[0m\u001b[1;33m\u001b[0m\u001b[0m\n\u001b[1;32m---> 91\u001b[1;33m             \u001b[0mx\u001b[0m\u001b[1;33m,\u001b[0m \u001b[0mC\u001b[0m \u001b[1;33m=\u001b[0m \u001b[0mdsp\u001b[0m\u001b[1;33m.\u001b[0m\u001b[0mgenerate\u001b[0m\u001b[1;33m(\u001b[0m\u001b[0mtemplate\u001b[0m\u001b[1;33m,\u001b[0m \u001b[1;33m**\u001b[0m\u001b[0mconfig\u001b[0m\u001b[1;33m)\u001b[0m\u001b[1;33m(\u001b[0m\u001b[0mx\u001b[0m\u001b[1;33m,\u001b[0m \u001b[0mstage\u001b[0m\u001b[1;33m=\u001b[0m\u001b[0mself\u001b[0m\u001b[1;33m.\u001b[0m\u001b[0mstage\u001b[0m\u001b[1;33m)\u001b[0m\u001b[1;33m\u001b[0m\u001b[1;33m\u001b[0m\u001b[0m\n\u001b[0m\u001b[0;32m     92\u001b[0m         \u001b[1;32melse\u001b[0m\u001b[1;33m:\u001b[0m\u001b[1;33m\u001b[0m\u001b[1;33m\u001b[0m\u001b[0m\n\u001b[0;32m     93\u001b[0m             \u001b[1;31m# Note: query_only=True means the instructions and examples are not included.\u001b[0m\u001b[1;33m\u001b[0m\u001b[1;33m\u001b[0m\u001b[0m\n",
      "\u001b[1;32mc:\\Users\\mikad\\anaconda3\\lib\\site-packages\\dsp\\primitives\\predict.py\u001b[0m in \u001b[0;36mdo_generate\u001b[1;34m(example, stage, max_depth, original_example)\u001b[0m\n\u001b[0;32m     75\u001b[0m         \u001b[1;31m# Generate and extract the fields.\u001b[0m\u001b[1;33m\u001b[0m\u001b[1;33m\u001b[0m\u001b[0m\n\u001b[0;32m     76\u001b[0m         \u001b[0mprompt\u001b[0m \u001b[1;33m=\u001b[0m \u001b[0mtemplate\u001b[0m\u001b[1;33m(\u001b[0m\u001b[0mexample\u001b[0m\u001b[1;33m)\u001b[0m\u001b[1;33m\u001b[0m\u001b[1;33m\u001b[0m\u001b[0m\n\u001b[1;32m---> 77\u001b[1;33m         \u001b[0mcompletions\u001b[0m\u001b[1;33m:\u001b[0m \u001b[0mlist\u001b[0m\u001b[1;33m[\u001b[0m\u001b[0mdict\u001b[0m\u001b[1;33m[\u001b[0m\u001b[0mstr\u001b[0m\u001b[1;33m,\u001b[0m \u001b[0mAny\u001b[0m\u001b[1;33m]\u001b[0m\u001b[1;33m]\u001b[0m \u001b[1;33m=\u001b[0m \u001b[0mgenerator\u001b[0m\u001b[1;33m(\u001b[0m\u001b[0mprompt\u001b[0m\u001b[1;33m,\u001b[0m \u001b[1;33m**\u001b[0m\u001b[0mkwargs\u001b[0m\u001b[1;33m)\u001b[0m\u001b[1;33m\u001b[0m\u001b[1;33m\u001b[0m\u001b[0m\n\u001b[0m\u001b[0;32m     78\u001b[0m         \u001b[0mcompletions\u001b[0m\u001b[1;33m:\u001b[0m \u001b[0mlist\u001b[0m\u001b[1;33m[\u001b[0m\u001b[0mExample\u001b[0m\u001b[1;33m]\u001b[0m \u001b[1;33m=\u001b[0m \u001b[1;33m[\u001b[0m\u001b[0mtemplate\u001b[0m\u001b[1;33m.\u001b[0m\u001b[0mextract\u001b[0m\u001b[1;33m(\u001b[0m\u001b[0mexample\u001b[0m\u001b[1;33m,\u001b[0m \u001b[0mp\u001b[0m\u001b[1;33m)\u001b[0m \u001b[1;32mfor\u001b[0m \u001b[0mp\u001b[0m \u001b[1;32min\u001b[0m \u001b[0mcompletions\u001b[0m\u001b[1;33m]\u001b[0m\u001b[1;33m\u001b[0m\u001b[1;33m\u001b[0m\u001b[0m\n\u001b[0;32m     79\u001b[0m \u001b[1;33m\u001b[0m\u001b[0m\n",
      "\u001b[1;32mc:\\Users\\mikad\\anaconda3\\lib\\site-packages\\dsp\\modules\\hf.py\u001b[0m in \u001b[0;36m__call__\u001b[1;34m(self, prompt, only_completed, return_sorted, **kwargs)\u001b[0m\n\u001b[0;32m    139\u001b[0m             \u001b[0mkwargs\u001b[0m\u001b[1;33m[\u001b[0m\u001b[1;34m\"do_sample\"\u001b[0m\u001b[1;33m]\u001b[0m \u001b[1;33m=\u001b[0m \u001b[1;32mTrue\u001b[0m\u001b[1;33m\u001b[0m\u001b[1;33m\u001b[0m\u001b[0m\n\u001b[0;32m    140\u001b[0m \u001b[1;33m\u001b[0m\u001b[0m\n\u001b[1;32m--> 141\u001b[1;33m         \u001b[0mresponse\u001b[0m \u001b[1;33m=\u001b[0m \u001b[0mself\u001b[0m\u001b[1;33m.\u001b[0m\u001b[0mrequest\u001b[0m\u001b[1;33m(\u001b[0m\u001b[0mprompt\u001b[0m\u001b[1;33m,\u001b[0m \u001b[1;33m**\u001b[0m\u001b[0mkwargs\u001b[0m\u001b[1;33m)\u001b[0m\u001b[1;33m\u001b[0m\u001b[1;33m\u001b[0m\u001b[0m\n\u001b[0m\u001b[0;32m    142\u001b[0m         \u001b[1;32mreturn\u001b[0m \u001b[1;33m[\u001b[0m\u001b[0mc\u001b[0m\u001b[1;33m[\u001b[0m\u001b[1;34m\"text\"\u001b[0m\u001b[1;33m]\u001b[0m \u001b[1;32mfor\u001b[0m \u001b[0mc\u001b[0m \u001b[1;32min\u001b[0m \u001b[0mresponse\u001b[0m\u001b[1;33m[\u001b[0m\u001b[1;34m\"choices\"\u001b[0m\u001b[1;33m]\u001b[0m\u001b[1;33m]\u001b[0m\u001b[1;33m\u001b[0m\u001b[1;33m\u001b[0m\u001b[0m\n\u001b[0;32m    143\u001b[0m \u001b[1;33m\u001b[0m\u001b[0m\n",
      "\u001b[1;32mc:\\Users\\mikad\\anaconda3\\lib\\site-packages\\dsp\\modules\\lm.py\u001b[0m in \u001b[0;36mrequest\u001b[1;34m(self, prompt, **kwargs)\u001b[0m\n\u001b[0;32m     24\u001b[0m \u001b[1;33m\u001b[0m\u001b[0m\n\u001b[0;32m     25\u001b[0m     \u001b[1;32mdef\u001b[0m \u001b[0mrequest\u001b[0m\u001b[1;33m(\u001b[0m\u001b[0mself\u001b[0m\u001b[1;33m,\u001b[0m \u001b[0mprompt\u001b[0m\u001b[1;33m,\u001b[0m \u001b[1;33m**\u001b[0m\u001b[0mkwargs\u001b[0m\u001b[1;33m)\u001b[0m\u001b[1;33m:\u001b[0m\u001b[1;33m\u001b[0m\u001b[1;33m\u001b[0m\u001b[0m\n\u001b[1;32m---> 26\u001b[1;33m         \u001b[1;32mreturn\u001b[0m \u001b[0mself\u001b[0m\u001b[1;33m.\u001b[0m\u001b[0mbasic_request\u001b[0m\u001b[1;33m(\u001b[0m\u001b[0mprompt\u001b[0m\u001b[1;33m,\u001b[0m \u001b[1;33m**\u001b[0m\u001b[0mkwargs\u001b[0m\u001b[1;33m)\u001b[0m\u001b[1;33m\u001b[0m\u001b[1;33m\u001b[0m\u001b[0m\n\u001b[0m\u001b[0;32m     27\u001b[0m \u001b[1;33m\u001b[0m\u001b[0m\n\u001b[0;32m     28\u001b[0m     \u001b[1;32mdef\u001b[0m \u001b[0mprint_green\u001b[0m\u001b[1;33m(\u001b[0m\u001b[0mself\u001b[0m\u001b[1;33m,\u001b[0m \u001b[0mtext\u001b[0m\u001b[1;33m:\u001b[0m \u001b[0mstr\u001b[0m\u001b[1;33m,\u001b[0m \u001b[0mend\u001b[0m\u001b[1;33m:\u001b[0m \u001b[0mstr\u001b[0m \u001b[1;33m=\u001b[0m \u001b[1;34m\"\\n\"\u001b[0m\u001b[1;33m)\u001b[0m\u001b[1;33m:\u001b[0m\u001b[1;33m\u001b[0m\u001b[1;33m\u001b[0m\u001b[0m\n",
      "\u001b[1;32mc:\\Users\\mikad\\anaconda3\\lib\\site-packages\\dsp\\modules\\hf.py\u001b[0m in \u001b[0;36mbasic_request\u001b[1;34m(self, prompt, **kwargs)\u001b[0m\n\u001b[0;32m     93\u001b[0m         \u001b[0mraw_kwargs\u001b[0m \u001b[1;33m=\u001b[0m \u001b[0mkwargs\u001b[0m\u001b[1;33m\u001b[0m\u001b[1;33m\u001b[0m\u001b[0m\n\u001b[0;32m     94\u001b[0m         \u001b[0mkwargs\u001b[0m \u001b[1;33m=\u001b[0m \u001b[1;33m{\u001b[0m\u001b[1;33m**\u001b[0m\u001b[0mself\u001b[0m\u001b[1;33m.\u001b[0m\u001b[0mkwargs\u001b[0m\u001b[1;33m,\u001b[0m \u001b[1;33m**\u001b[0m\u001b[0mkwargs\u001b[0m\u001b[1;33m}\u001b[0m\u001b[1;33m\u001b[0m\u001b[1;33m\u001b[0m\u001b[0m\n\u001b[1;32m---> 95\u001b[1;33m         \u001b[0mresponse\u001b[0m \u001b[1;33m=\u001b[0m \u001b[0mself\u001b[0m\u001b[1;33m.\u001b[0m\u001b[0m_generate\u001b[0m\u001b[1;33m(\u001b[0m\u001b[0mprompt\u001b[0m\u001b[1;33m,\u001b[0m \u001b[1;33m**\u001b[0m\u001b[0mkwargs\u001b[0m\u001b[1;33m)\u001b[0m\u001b[1;33m\u001b[0m\u001b[1;33m\u001b[0m\u001b[0m\n\u001b[0m\u001b[0;32m     96\u001b[0m \u001b[1;33m\u001b[0m\u001b[0m\n\u001b[0;32m     97\u001b[0m         history = {\n",
      "\u001b[1;32mc:\\Users\\mikad\\anaconda3\\lib\\site-packages\\backoff\\_sync.py\u001b[0m in \u001b[0;36mretry\u001b[1;34m(*args, **kwargs)\u001b[0m\n\u001b[0;32m    125\u001b[0m                                exception=e)\n\u001b[0;32m    126\u001b[0m \u001b[1;33m\u001b[0m\u001b[0m\n\u001b[1;32m--> 127\u001b[1;33m                 \u001b[0mtime\u001b[0m\u001b[1;33m.\u001b[0m\u001b[0msleep\u001b[0m\u001b[1;33m(\u001b[0m\u001b[0mseconds\u001b[0m\u001b[1;33m)\u001b[0m\u001b[1;33m\u001b[0m\u001b[1;33m\u001b[0m\u001b[0m\n\u001b[0m\u001b[0;32m    128\u001b[0m             \u001b[1;32melse\u001b[0m\u001b[1;33m:\u001b[0m\u001b[1;33m\u001b[0m\u001b[1;33m\u001b[0m\u001b[0m\n\u001b[0;32m    129\u001b[0m                 \u001b[0m_call_handlers\u001b[0m\u001b[1;33m(\u001b[0m\u001b[0mon_success\u001b[0m\u001b[1;33m,\u001b[0m \u001b[1;33m**\u001b[0m\u001b[0mdetails\u001b[0m\u001b[1;33m)\u001b[0m\u001b[1;33m\u001b[0m\u001b[1;33m\u001b[0m\u001b[0m\n",
      "\u001b[1;31mKeyboardInterrupt\u001b[0m: "
     ]
    }
   ],
   "source": [
    "# testing dspy\n",
    "# dspy together module has some issues with how they wrote it (passing specific parameters is hard)\n",
    "# rate limiting error messages\n",
    "# TODO: look into dspy together module more to see how to fix it\n",
    "\n",
    "lm = dspy.Together(model = 'mistralai/Mistral-7B-Instruct-v0.3', stop = ['</s>', '<s>'])\n",
    "dspy.settings.configure(lm=lm)\n",
    "d = {0: 'dovish', 1: 'hawkish', 2: 'neutral'}\n",
    "\n",
    "class StanceAnalysis(dspy.Signature):\n",
    "    \"\"\"Classify the sentence's stance on the monetary policy between hawkish, neutral, and dovish.\"\"\"\n",
    "    \n",
    "    sentence = dspy.InputField()\n",
    "    stance = dspy.OutputField(desc = \"hawkish, neutral, or dovish\")\n",
    "\n",
    "class Analysis(dspy.Module):\n",
    "    def __init__(self):\n",
    "        super().__init__()\n",
    "        self.predict = dspy.Predict(StanceAnalysis)\n",
    "    \n",
    "    def forward(self, sentence):\n",
    "        return self.predict(sentence=sentence)\n",
    "    \n",
    "analyze = Analysis()\n",
    "analyze(sentence)"
   ]
  }
 ],
 "metadata": {
  "kernelspec": {
   "display_name": "Python 3",
   "language": "python",
   "name": "python3"
  },
  "language_info": {
   "codemirror_mode": {
    "name": "ipython",
    "version": 3
   },
   "file_extension": ".py",
   "mimetype": "text/x-python",
   "name": "python",
   "nbconvert_exporter": "python",
   "pygments_lexer": "ipython3",
   "version": "3.9.7"
  }
 },
 "nbformat": 4,
 "nbformat_minor": 2
}
