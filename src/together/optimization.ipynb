{
 "cells": [
  {
   "cell_type": "code",
   "execution_count": 1,
   "metadata": {},
   "outputs": [
    {
     "name": "stderr",
     "output_type": "stream",
     "text": [
      "c:\\Users\\mikad\\anaconda3\\lib\\site-packages\\pandas\\core\\computation\\expressions.py:21: UserWarning: Pandas requires version '2.8.4' or newer of 'numexpr' (version '2.7.3' currently installed).\n",
      "  from pandas.core.computation.check import NUMEXPR_INSTALLED\n",
      "c:\\Users\\mikad\\anaconda3\\lib\\site-packages\\pandas\\core\\arrays\\masked.py:60: UserWarning: Pandas requires version '1.3.6' or newer of 'bottleneck' (version '1.3.2' currently installed).\n",
      "  from pandas.core import (\n"
     ]
    }
   ],
   "source": [
    "from together import Together\n",
    "import pandas as pd\n",
    "import numpy as np\n",
    "from datasets import load_dataset\n",
    "from tokens import tokens\n",
    "import os\n",
    "import dspy\n",
    "import sys\n",
    "sys.path.insert(0, r\"C:\\Users\\mikad\\Documents\\GitHub\\textgrad\")\n",
    "import textgrad\n",
    "from textgrad.engine import get_engine\n",
    "from textgrad import Variable\n",
    "from textgrad.optimizer import TextualGradientDescent\n",
    "from textgrad.loss import TextLoss\n",
    "from textgrad.tasks import DataLoader \n",
    "import concurrent\n",
    "from tqdm import tqdm\n",
    "import random"
   ]
  },
  {
   "cell_type": "markdown",
   "metadata": {},
   "source": [
    "## Initialization"
   ]
  },
  {
   "cell_type": "code",
   "execution_count": 2,
   "metadata": {},
   "outputs": [],
   "source": [
    "# set up tokens\n",
    "\n",
    "os.environ['TOGETHER_API_KEY'] = together_token\n",
    "os.environ['HF_TOKEN'] = hf_token"
   ]
  },
  {
   "cell_type": "code",
   "execution_count": 3,
   "metadata": {},
   "outputs": [
    {
     "name": "stdout",
     "output_type": "stream",
     "text": [
      "Original sentence: Participants agreed that the labor market had remained strong over the intermeeting period and that economic activity had risen at a moderate rate.\n",
      "Label: 2\n"
     ]
    },
    {
     "name": "stderr",
     "output_type": "stream",
     "text": [
      "c:\\Users\\mikad\\anaconda3\\lib\\site-packages\\scipy\\__init__.py:146: UserWarning: A NumPy version >=1.16.5 and <1.23.0 is required for this version of SciPy (detected version 1.26.4\n",
      "  warnings.warn(f\"A NumPy version >={np_minversion} and <{np_maxversion}\"\n"
     ]
    }
   ],
   "source": [
    "# Load testing data\n",
    "dataset = load_dataset(\"gtfintechlab/fomc_communication\")\n",
    "sample = dataset['test'][0]\n",
    "sentence = sample['sentence']\n",
    "label = sample['label']\n",
    "print(f\"Original sentence: {sentence}\\nLabel: {label}\")"
   ]
  },
  {
   "cell_type": "markdown",
   "metadata": {},
   "source": [
    "## Textgrad Prompt Optimization"
   ]
  },
  {
   "cell_type": "code",
   "execution_count": 4,
   "metadata": {},
   "outputs": [],
   "source": [
    "def find_first_occurrence(text):\n",
    "    words = [\"hawkish\", \"dovish\", \"neutral\"]\n",
    "    positions = [(text.find(word), word) for word in words if text.find(word) != -1]\n",
    "    return min(positions)[1] if positions else None\n",
    "\n",
    "def string_based_equality_fn(prediction: Variable, ground_truth_answer: Variable):\n",
    "    mapping = {0: 'dovish', 1: 'hawkish', 2: 'neutral'}\n",
    "    pred = find_first_occurrence(str(prediction.value).lower())\n",
    "    if (pred != None and str(pred).lower() == str(mapping[int(ground_truth_answer.value)]).lower()):\n",
    "        return 1\n",
    "    else: \n",
    "        return 0\n",
    "\n",
    "eval_fn = textgrad.autograd.StringBasedFunction(string_based_equality_fn, \"Evaluate if LLM answer matches ground truth\")"
   ]
  },
  {
   "cell_type": "code",
   "execution_count": 5,
   "metadata": {},
   "outputs": [],
   "source": [
    "# Evaluate given sample using custom evaluation function\n",
    "def eval_sample(x, y, eval_fn, model):\n",
    "    x = Variable(x, requires_grad=False, role_description=\"query to the language model\")\n",
    "    y = Variable(y, requires_grad=False, role_description=\"correct answer for the query\")\n",
    "    response = model(x)\n",
    "    inputs = dict(prediction = response, ground_truth_answer = y)\n",
    "    eval_output_variable = eval_fn(inputs = inputs)\n",
    "    return eval_output_variable\n",
    "    \n",
    "# Evaluate dataset using custom evaluation function\n",
    "def eval_dataset(test_set, eval_fn, model, max_samples = None, max_workers = 8):\n",
    "    if max_samples is None: \n",
    "        max_samples = len(test_set)\n",
    "    accuracy_list = []\n",
    "    with concurrent.futures.ThreadPoolExecutor(max_workers=max_workers) as executor:\n",
    "        futures = []\n",
    "        for _, sample in enumerate(test_set):\n",
    "            future = executor.submit(eval_sample, sample[0], sample[1], eval_fn, model)\n",
    "            futures.append(future)\n",
    "            if len(futures) >= max_samples:\n",
    "                break\n",
    "        tqdm_loader = tqdm(concurrent.futures.as_completed(futures), total=len(futures), position=0)\n",
    "        for future in tqdm_loader:\n",
    "            output = future.result()\n",
    "            output = int(output.value)\n",
    "            accuracy_list.append(output)\n",
    "            tqdm_loader.set_description(f\"Accuracy: {np.mean(accuracy_list)}\")\n",
    "    return accuracy_list \n",
    "\n",
    "# Evaluate system prompt and revert to previous prompt if new prompt has lower test accuracy\n",
    "def run_test_revert(system_prompt, results, eval_fn, model, testing_dataset):\n",
    "    curr_accuracy = np.mean(eval_dataset(testing_dataset, eval_fn, model))\n",
    "    prev_accuracy = np.mean(results[\"test_accuracy\"][-1])\n",
    "    print(f\"Test accuracy: {curr_accuracy}\\nPrevious test accuracy: {prev_accuracy}\")\n",
    "    previous_prompt = results[\"prompt\"][-1]\n",
    "\n",
    "    results[\"new_prompt_test_accuracy\"].append(curr_accuracy)\n",
    "    \n",
    "    if curr_accuracy < prev_accuracy:\n",
    "        print(f\"Rejected prompt: {system_prompt.value}\")\n",
    "        system_prompt.set_value(previous_prompt)\n",
    "        curr_accuracy = prev_accuracy\n",
    "\n",
    "    results[\"test_accuracy\"].append(curr_accuracy)"
   ]
  },
  {
   "cell_type": "code",
   "execution_count": 6,
   "metadata": {},
   "outputs": [],
   "source": [
    "engine = get_engine('together-mistralai/Mistral-7B-Instruct-v0.3')\n",
    "\n",
    "starting_prompt = \"Classify the following sentence from FOMC into hawkish, dovish, or neutral based on its stance on monetary policy. Output your prediction on the first line and your explanation after.\"\n",
    "system_prompt = Variable(starting_prompt, requires_grad=True, role_description=\"system prompt to the language model\")\n",
    "model = textgrad.BlackboxLLM(engine, system_prompt, max_tokens=128, temperature=0.7, top_k=50, top_p=0.7, repetition_penalty=1.1)\n",
    "\n",
    "optimizer = TextualGradientDescent(engine=engine, parameters=[system_prompt], \n",
    "                max_tokens=128, temperature=0.7, top_k=50, top_p=0.7, repetition_penalty=1.1)"
   ]
  },
  {
   "cell_type": "code",
   "execution_count": 9,
   "metadata": {},
   "outputs": [
    {
     "name": "stderr",
     "output_type": "stream",
     "text": [
      "Accuracy: 0.6088709677419355: 100%|██████████| 496/496 [00:01<00:00, 264.80it/s]\n"
     ]
    }
   ],
   "source": [
    "# testing zero-shot performance\n",
    "mapping = {0: 'dovish', 1: 'hawkish', 2: 'neutral'}\n",
    "data = [(data['sentence'], data['label']) for data in dataset['test']]\n",
    "results = {\"test_accuracy\": [], \"prompt\": []}\n",
    "results[\"test_accuracy\"].append(eval_dataset(data, eval_fn, model))\n",
    "results[\"prompt\"].append(system_prompt.get_value())"
   ]
  },
  {
   "cell_type": "code",
   "execution_count": 7,
   "metadata": {},
   "outputs": [],
   "source": [
    "# subset the data to do a mini run\n",
    "def pick_random(data, n = 20):\n",
    "    labels = {0: [], 1: [], 2: []}\n",
    "    for sentence, label in data:\n",
    "        labels[label].append((sentence, label))\n",
    "    result = []\n",
    "    for label in labels:\n",
    "        result.extend(random.sample(labels[label], n))\n",
    "    return result\n",
    "training_data = [(data['sentence'], data['label']) for data in dataset['train']]\n",
    "testing_data = [(data['sentence'], data['label']) for data in dataset['test']]\n",
    "random.shuffle(testing_data)\n",
    "val_data_options = testing_data[:100]\n",
    "testing_data = testing_data[100:]\n",
    "training_data = pick_random(training_data, n = 30)\n",
    "val_data = pick_random(val_data_options, n = 12)\n",
    "testing_data = pick_random(testing_data, n = 12)"
   ]
  },
  {
   "cell_type": "code",
   "execution_count": 8,
   "metadata": {},
   "outputs": [
    {
     "name": "stderr",
     "output_type": "stream",
     "text": [
      "Accuracy: 0.5555555555555556: 100%|██████████| 36/36 [00:00<00:00, 646.72it/s]\n"
     ]
    },
    {
     "name": "stdout",
     "output_type": "stream",
     "text": [
      "Starting prompt: Classify the following sentence from FOMC into hawkish, dovish, or neutral based on its stance on monetary policy. Output your prediction on the first line and your explanation after.\n",
      "Starting test accuracy: 0.5555555555555556\n"
     ]
    },
    {
     "name": "stderr",
     "output_type": "stream",
     "text": [
      "Epoch 0: Training step 0: : 0it [00:00, ?it/s]"
     ]
    },
    {
     "name": "stdout",
     "output_type": "stream",
     "text": [
      "New prompt:  Analyze the given sentence from FOMC and determine whether it leans towards tightening (hawkish) or easing (dovish) monetary policy, or if it maintains a neutral stance. Provide evidence from the sentence that supports your classification, and explain why you believe the sentence does not explicitly advocate for tightening or easing monetary policy if you determine that the stance is neutral. Discuss the potential actions a central bank might take in response to the given context, and how these actions align with the definition of the respective monetary policy stance.</IMPRO\n"
     ]
    },
    {
     "name": "stderr",
     "output_type": "stream",
     "text": [
      "Accuracy: 0.4166666666666667: 100%|██████████| 36/36 [00:46<00:00,  1.29s/it] \n",
      "Epoch 0: Training step 1: : 1it [01:45, 105.29s/it]"
     ]
    },
    {
     "name": "stdout",
     "output_type": "stream",
     "text": [
      "Test accuracy: 0.4166666666666667\n",
      "Previous test accuracy: 0.5555555555555556\n",
      "Rejected prompt: Analyze the given sentence from FOMC and determine whether it leans towards tightening (hawkish) or easing (dovish) monetary policy, or if it maintains a neutral stance. Provide evidence from the sentence that supports your classification, and explain why you believe the sentence does not explicitly advocate for tightening or easing monetary policy if you determine that the stance is neutral. Discuss the potential actions a central bank might take in response to the given context, and how these actions align with the definition of the respective monetary policy stance.</IMPRO\n",
      "System prompt:  Classify the following sentence from FOMC into hawkish, dovish, or neutral based on its stance on monetary policy. Output your prediction on the first line and your explanation after.\n",
      "New prompt:  Predict the monetary policy stance of the given FOMC sentence and provide a brief explanation supported by evidence.\n"
     ]
    },
    {
     "name": "stderr",
     "output_type": "stream",
     "text": [
      "Accuracy: 0.3333333333333333: 100%|██████████| 36/36 [00:45<00:00,  1.28s/it] \n",
      "Epoch 0: Training step 2: : 2it [03:13, 95.28s/it] "
     ]
    },
    {
     "name": "stdout",
     "output_type": "stream",
     "text": [
      "Test accuracy: 0.3333333333333333\n",
      "Previous test accuracy: 0.5555555555555556\n",
      "Rejected prompt: Predict the monetary policy stance of the given FOMC sentence and provide a brief explanation supported by evidence.\n",
      "System prompt:  Classify the following sentence from FOMC into hawkish, dovish, or neutral based on its stance on monetary policy. Output your prediction on the first line and your explanation after.\n",
      "New prompt:  Classify the given statement from FOMC as either hawkish, dovish, or neutral, based on its stance on monetary policy. Explain your reasoning, taking into consideration the overall context of the statement and the potential implications for interest rates, inflation, and economic growth. If the statement is ambiguous or requires additional context, kindly request clarification before providing a prediction.\n"
     ]
    },
    {
     "name": "stderr",
     "output_type": "stream",
     "text": [
      "Accuracy: 0.5: 100%|██████████| 36/36 [00:47<00:00,  1.31s/it]               \n",
      "Epoch 0: Training step 3: : 3it [04:44, 93.29s/it]"
     ]
    },
    {
     "name": "stdout",
     "output_type": "stream",
     "text": [
      "Test accuracy: 0.5\n",
      "Previous test accuracy: 0.5555555555555556\n",
      "Rejected prompt: Classify the given statement from FOMC as either hawkish, dovish, or neutral, based on its stance on monetary policy. Explain your reasoning, taking into consideration the overall context of the statement and the potential implications for interest rates, inflation, and economic growth. If the statement is ambiguous or requires additional context, kindly request clarification before providing a prediction.\n",
      "System prompt:  Classify the following sentence from FOMC into hawkish, dovish, or neutral based on its stance on monetary policy. Output your prediction on the first line and your explanation after.\n",
      "New prompt:  Analyze the given sentence from FOMC and classify its stance on monetary policy as either hawkish, dovish, or neutral. To provide a comprehensive response, please explain your prediction by discussing specific monetary policy actions or economic factors suggested by the statement, and how they relate to the FOMC's overall approach to monetary policy.\n"
     ]
    },
    {
     "name": "stderr",
     "output_type": "stream",
     "text": [
      "Accuracy: 0.4444444444444444: 100%|██████████| 36/36 [00:47<00:00,  1.31s/it] \n",
      "Epoch 0: Training step 4: : 4it [06:28, 97.59s/it]"
     ]
    },
    {
     "name": "stdout",
     "output_type": "stream",
     "text": [
      "Test accuracy: 0.4444444444444444\n",
      "Previous test accuracy: 0.5555555555555556\n",
      "Rejected prompt: Analyze the given sentence from FOMC and classify its stance on monetary policy as either hawkish, dovish, or neutral. To provide a comprehensive response, please explain your prediction by discussing specific monetary policy actions or economic factors suggested by the statement, and how they relate to the FOMC's overall approach to monetary policy.\n",
      "System prompt:  Classify the following sentence from FOMC into hawkish, dovish, or neutral based on its stance on monetary policy. Output your prediction on the first line and your explanation after.\n",
      "New prompt:  Analyze the given sentence from FOMC and determine its stance on monetary policy by providing a classification (hawkish, dovish, or neutral) along with a detailed explanation. In your explanation, discuss the specific aspects of the sentence that support your classification, any nuances or implications that may indicate a potential future adjustment in interest rates, and provide concrete examples or steps that could be taken to address the issue at hand if the sentence suggests a need for policy adjustments.\n"
     ]
    },
    {
     "name": "stderr",
     "output_type": "stream",
     "text": [
      "Accuracy: 0.4722222222222222: 100%|██████████| 36/36 [00:45<00:00,  1.26s/it] \n",
      "Epoch 0: Training step 5: : 5it [08:00, 95.51s/it]"
     ]
    },
    {
     "name": "stdout",
     "output_type": "stream",
     "text": [
      "Test accuracy: 0.4722222222222222\n",
      "Previous test accuracy: 0.5555555555555556\n",
      "Rejected prompt: Analyze the given sentence from FOMC and determine its stance on monetary policy by providing a classification (hawkish, dovish, or neutral) along with a detailed explanation. In your explanation, discuss the specific aspects of the sentence that support your classification, any nuances or implications that may indicate a potential future adjustment in interest rates, and provide concrete examples or steps that could be taken to address the issue at hand if the sentence suggests a need for policy adjustments.\n",
      "System prompt:  Classify the following sentence from FOMC into hawkish, dovish, or neutral based on its stance on monetary policy. Output your prediction on the first line and your explanation after.\n",
      "New prompt:  Analyze the given sentence from FOMC and determine the monetary policy stance it suggests by evaluating its stance on interest rates, inflation, and economic growth. On the first line, provide a clear and concise prediction of the stance (hawkish, dovish, or neutral), followed by a detailed explanation that directly addresses the question and provides evidence to support your prediction.\n",
      "\n",
      "For example, if the sentence suggests a preference for raising interest rates to combat inflation, it would be hawkish. If it suggests a preference for lowering interest rates to stimulate economic growth\n"
     ]
    },
    {
     "name": "stderr",
     "output_type": "stream",
     "text": [
      "Accuracy: 0.5833333333333334: 100%|██████████| 36/36 [00:45<00:00,  1.26s/it] \n",
      "Epoch 0: Training step 5: : 5it [10:05, 121.08s/it]\n"
     ]
    },
    {
     "name": "stdout",
     "output_type": "stream",
     "text": [
      "Test accuracy: 0.5833333333333334\n",
      "Previous test accuracy: 0.5555555555555556\n",
      "System prompt:  Analyze the given sentence from FOMC and determine the monetary policy stance it suggests by evaluating its stance on interest rates, inflation, and economic growth. On the first line, provide a clear and concise prediction of the stance (hawkish, dovish, or neutral), followed by a detailed explanation that directly addresses the question and provides evidence to support your prediction.\n",
      "\n",
      "For example, if the sentence suggests a preference for raising interest rates to combat inflation, it would be hawkish. If it suggests a preference for lowering interest rates to stimulate economic growth\n"
     ]
    },
    {
     "name": "stderr",
     "output_type": "stream",
     "text": [
      "Epoch 1: Training step 0: : 0it [00:00, ?it/s]"
     ]
    },
    {
     "name": "stdout",
     "output_type": "stream",
     "text": [
      "New prompt:  For the given sentence from FOMC, predict the monetary policy stance it suggests by evaluating its stance on interest rates, inflation, and economic growth. Your response should consist of two parts:\n",
      "\n",
      "1. A clear and concise prediction of the stance (hawkish, dovish, or neutral) in the first line.\n",
      "2. A detailed explanation that directly addresses the question and provides evidence to support your prediction. The explanation should explicitly mention any indicators of the stance in the text and explain how they support your prediction.\n",
      "\n",
      "For example, if the sentence\n"
     ]
    },
    {
     "name": "stderr",
     "output_type": "stream",
     "text": [
      "Accuracy: 0.5: 100%|██████████| 36/36 [00:46<00:00,  1.30s/it]                \n",
      "Epoch 1: Training step 1: : 1it [02:03, 123.07s/it]"
     ]
    },
    {
     "name": "stdout",
     "output_type": "stream",
     "text": [
      "Test accuracy: 0.5\n",
      "Previous test accuracy: 0.5833333333333334\n",
      "Rejected prompt: For the given sentence from FOMC, predict the monetary policy stance it suggests by evaluating its stance on interest rates, inflation, and economic growth. Your response should consist of two parts:\n",
      "\n",
      "1. A clear and concise prediction of the stance (hawkish, dovish, or neutral) in the first line.\n",
      "2. A detailed explanation that directly addresses the question and provides evidence to support your prediction. The explanation should explicitly mention any indicators of the stance in the text and explain how they support your prediction.\n",
      "\n",
      "For example, if the sentence\n",
      "System prompt:  Analyze the given sentence from FOMC and determine the monetary policy stance it suggests by evaluating its stance on interest rates, inflation, and economic growth. On the first line, provide a clear and concise prediction of the stance (hawkish, dovish, or neutral), followed by a detailed explanation that directly addresses the question and provides evidence to support your prediction.\n",
      "\n",
      "For example, if the sentence suggests a preference for raising interest rates to combat inflation, it would be hawkish. If it suggests a preference for lowering interest rates to stimulate economic growth\n",
      "New prompt:  Analyze the given sentence from FOMC and determine the monetary policy stance it suggests with respect to addressing the imbalance between supply and demand within the domestic market. On the first line, provide a clear and concise prediction of the stance (supportive, critical, or neutral), followed by a detailed explanation that directly addresses the question, provides evidence to support your prediction, and suggests potential solutions or actions that the central bank could take to address the imbalance between supply and demand within the domestic market.\n"
     ]
    },
    {
     "name": "stderr",
     "output_type": "stream",
     "text": [
      "Accuracy: 0.25: 100%|██████████| 36/36 [00:44<00:00,  1.23s/it]                \n",
      "Epoch 1: Training step 2: : 2it [03:53, 115.69s/it]"
     ]
    },
    {
     "name": "stdout",
     "output_type": "stream",
     "text": [
      "Test accuracy: 0.25\n",
      "Previous test accuracy: 0.5833333333333334\n",
      "Rejected prompt: Analyze the given sentence from FOMC and determine the monetary policy stance it suggests with respect to addressing the imbalance between supply and demand within the domestic market. On the first line, provide a clear and concise prediction of the stance (supportive, critical, or neutral), followed by a detailed explanation that directly addresses the question, provides evidence to support your prediction, and suggests potential solutions or actions that the central bank could take to address the imbalance between supply and demand within the domestic market.\n",
      "System prompt:  Analyze the given sentence from FOMC and determine the monetary policy stance it suggests by evaluating its stance on interest rates, inflation, and economic growth. On the first line, provide a clear and concise prediction of the stance (hawkish, dovish, or neutral), followed by a detailed explanation that directly addresses the question and provides evidence to support your prediction.\n",
      "\n",
      "For example, if the sentence suggests a preference for raising interest rates to combat inflation, it would be hawkish. If it suggests a preference for lowering interest rates to stimulate economic growth\n",
      "New prompt:  Given the sentence from FOMC, analyze the monetary policy stance suggested by the FOMC based on their potential actions on interest rates, inflation, and economic growth. Please provide a clear and concise prediction of the stance (hawkish, dovish, or neutral) on the first line, followed by a detailed explanation that directly addresses the question and provides evidence to support your prediction.\n",
      "\n",
      "For instance, if the sentence suggests a preference for raising interest rates to combat inflation, it would be hawkish. If it suggests a preference for lowering interest rates to stim\n"
     ]
    },
    {
     "name": "stderr",
     "output_type": "stream",
     "text": [
      "Accuracy: 0.5555555555555556: 100%|██████████| 36/36 [00:45<00:00,  1.26s/it] \n",
      "Epoch 1: Training step 3: : 3it [05:50, 116.28s/it]"
     ]
    },
    {
     "name": "stdout",
     "output_type": "stream",
     "text": [
      "Test accuracy: 0.5555555555555556\n",
      "Previous test accuracy: 0.5833333333333334\n",
      "Rejected prompt: Given the sentence from FOMC, analyze the monetary policy stance suggested by the FOMC based on their potential actions on interest rates, inflation, and economic growth. Please provide a clear and concise prediction of the stance (hawkish, dovish, or neutral) on the first line, followed by a detailed explanation that directly addresses the question and provides evidence to support your prediction.\n",
      "\n",
      "For instance, if the sentence suggests a preference for raising interest rates to combat inflation, it would be hawkish. If it suggests a preference for lowering interest rates to stim\n",
      "System prompt:  Analyze the given sentence from FOMC and determine the monetary policy stance it suggests by evaluating its stance on interest rates, inflation, and economic growth. On the first line, provide a clear and concise prediction of the stance (hawkish, dovish, or neutral), followed by a detailed explanation that directly addresses the question and provides evidence to support your prediction.\n",
      "\n",
      "For example, if the sentence suggests a preference for raising interest rates to combat inflation, it would be hawkish. If it suggests a preference for lowering interest rates to stimulate economic growth\n",
      "New prompt:  Classify the monetary policy stance suggested by the given sentence based on its stance on interest rates, inflation, and economic growth. Consider the following criteria:\n",
      "\n",
      "* Hawkish: advocates for raising interest rates to combat inflation or tighten monetary policy. Provide evidence to support this classification.\n",
      "* Dovish: advocates for lowering interest rates to stimulate economic growth or ease monetary policy. Provide evidence to support this classification.\n",
      "* Neutral: does not advocate for aggressive or passive monetary policy. Provide evidence to support this classification.\n"
     ]
    },
    {
     "name": "stderr",
     "output_type": "stream",
     "text": [
      "Accuracy: 0.4722222222222222: 100%|██████████| 36/36 [00:45<00:00,  1.28s/it] \n",
      "Epoch 1: Training step 4: : 4it [08:06, 124.14s/it]"
     ]
    },
    {
     "name": "stdout",
     "output_type": "stream",
     "text": [
      "Test accuracy: 0.4722222222222222\n",
      "Previous test accuracy: 0.5833333333333334\n",
      "Rejected prompt: Classify the monetary policy stance suggested by the given sentence based on its stance on interest rates, inflation, and economic growth. Consider the following criteria:\n",
      "\n",
      "* Hawkish: advocates for raising interest rates to combat inflation or tighten monetary policy. Provide evidence to support this classification.\n",
      "* Dovish: advocates for lowering interest rates to stimulate economic growth or ease monetary policy. Provide evidence to support this classification.\n",
      "* Neutral: does not advocate for aggressive or passive monetary policy. Provide evidence to support this classification.\n",
      "System prompt:  Analyze the given sentence from FOMC and determine the monetary policy stance it suggests by evaluating its stance on interest rates, inflation, and economic growth. On the first line, provide a clear and concise prediction of the stance (hawkish, dovish, or neutral), followed by a detailed explanation that directly addresses the question and provides evidence to support your prediction.\n",
      "\n",
      "For example, if the sentence suggests a preference for raising interest rates to combat inflation, it would be hawkish. If it suggests a preference for lowering interest rates to stimulate economic growth\n",
      "New prompt:  Analyze the given sentence from FOMC and determine the monetary policy stance it suggests by evaluating its stance on interest rates, inflation, and economic growth. On the first line, provide a clear and concise prediction of the stance (hawkish, dovish, or neutral), followed by a detailed explanation that directly addresses the question and provides evidence to support your prediction. In your explanation, be sure to discuss the current state of the economy, including relevant economic indicators such as the unemployment rate, consumer confidence, and business investment. Additionally, provide specific data or expert opinions\n"
     ]
    },
    {
     "name": "stderr",
     "output_type": "stream",
     "text": [
      "Accuracy: 0.5: 100%|██████████| 36/36 [00:43<00:00,  1.22s/it]                \n",
      "Epoch 1: Training step 5: : 5it [10:08, 123.30s/it]"
     ]
    },
    {
     "name": "stdout",
     "output_type": "stream",
     "text": [
      "Test accuracy: 0.5\n",
      "Previous test accuracy: 0.5833333333333334\n",
      "Rejected prompt: Analyze the given sentence from FOMC and determine the monetary policy stance it suggests by evaluating its stance on interest rates, inflation, and economic growth. On the first line, provide a clear and concise prediction of the stance (hawkish, dovish, or neutral), followed by a detailed explanation that directly addresses the question and provides evidence to support your prediction. In your explanation, be sure to discuss the current state of the economy, including relevant economic indicators such as the unemployment rate, consumer confidence, and business investment. Additionally, provide specific data or expert opinions\n",
      "System prompt:  Analyze the given sentence from FOMC and determine the monetary policy stance it suggests by evaluating its stance on interest rates, inflation, and economic growth. On the first line, provide a clear and concise prediction of the stance (hawkish, dovish, or neutral), followed by a detailed explanation that directly addresses the question and provides evidence to support your prediction.\n",
      "\n",
      "For example, if the sentence suggests a preference for raising interest rates to combat inflation, it would be hawkish. If it suggests a preference for lowering interest rates to stimulate economic growth\n",
      "New prompt:  Determine the monetary policy stance implied by the given sentence from FOMC by analyzing its stance on interest rates, inflation, and economic growth. Begin by providing a clear and concise prediction of the stance (hawkish, dovish, or neutral), followed by a detailed explanation that directly addresses the question and provides evidence to support your prediction.\n",
      "\n",
      "For instance, if the sentence suggests a preference for raising interest rates to combat inflation, it would be hawkish. If it suggests a preference for lowering interest rates to stimulate economic growth, it would be do\n"
     ]
    },
    {
     "name": "stderr",
     "output_type": "stream",
     "text": [
      "Accuracy: 0.5555555555555556: 100%|██████████| 36/36 [00:44<00:00,  1.25s/it]\n",
      "Epoch 1: Training step 5: : 5it [12:03, 144.60s/it]\n"
     ]
    },
    {
     "name": "stdout",
     "output_type": "stream",
     "text": [
      "Test accuracy: 0.5555555555555556\n",
      "Previous test accuracy: 0.5833333333333334\n",
      "Rejected prompt: Determine the monetary policy stance implied by the given sentence from FOMC by analyzing its stance on interest rates, inflation, and economic growth. Begin by providing a clear and concise prediction of the stance (hawkish, dovish, or neutral), followed by a detailed explanation that directly addresses the question and provides evidence to support your prediction.\n",
      "\n",
      "For instance, if the sentence suggests a preference for raising interest rates to combat inflation, it would be hawkish. If it suggests a preference for lowering interest rates to stimulate economic growth, it would be do\n",
      "System prompt:  Analyze the given sentence from FOMC and determine the monetary policy stance it suggests by evaluating its stance on interest rates, inflation, and economic growth. On the first line, provide a clear and concise prediction of the stance (hawkish, dovish, or neutral), followed by a detailed explanation that directly addresses the question and provides evidence to support your prediction.\n",
      "\n",
      "For example, if the sentence suggests a preference for raising interest rates to combat inflation, it would be hawkish. If it suggests a preference for lowering interest rates to stimulate economic growth\n"
     ]
    },
    {
     "name": "stderr",
     "output_type": "stream",
     "text": [
      "Epoch 2: Training step 0: : 0it [00:00, ?it/s]"
     ]
    },
    {
     "name": "stdout",
     "output_type": "stream",
     "text": [
      "New prompt:  Analyze the given sentence from FOMC and provide a comprehensive explanation of the monetary policy stance it suggests. In your response, clearly state the stance (hawkish, dovish, or neutral), and explain why the stance is characterized as such. Use concrete examples and specific language to illustrate the implications of the stance on interest rates, inflation, and economic growth. For instance, if the sentence suggests a preference for raising interest rates to combat inflation, explain how this action is hawkish and what effects it might have on the economy.</IMPROVED_VARIABLE\n"
     ]
    },
    {
     "name": "stderr",
     "output_type": "stream",
     "text": [
      "Accuracy: 0.5: 100%|██████████| 36/36 [00:51<00:00,  1.44s/it]                \n",
      "Epoch 2: Training step 1: : 1it [01:53, 113.67s/it]"
     ]
    },
    {
     "name": "stdout",
     "output_type": "stream",
     "text": [
      "Test accuracy: 0.5\n",
      "Previous test accuracy: 0.5833333333333334\n",
      "Rejected prompt: Analyze the given sentence from FOMC and provide a comprehensive explanation of the monetary policy stance it suggests. In your response, clearly state the stance (hawkish, dovish, or neutral), and explain why the stance is characterized as such. Use concrete examples and specific language to illustrate the implications of the stance on interest rates, inflation, and economic growth. For instance, if the sentence suggests a preference for raising interest rates to combat inflation, explain how this action is hawkish and what effects it might have on the economy.</IMPROVED_VARIABLE\n",
      "System prompt:  Analyze the given sentence from FOMC and determine the monetary policy stance it suggests by evaluating its stance on interest rates, inflation, and economic growth. On the first line, provide a clear and concise prediction of the stance (hawkish, dovish, or neutral), followed by a detailed explanation that directly addresses the question and provides evidence to support your prediction.\n",
      "\n",
      "For example, if the sentence suggests a preference for raising interest rates to combat inflation, it would be hawkish. If it suggests a preference for lowering interest rates to stimulate economic growth\n",
      "New prompt:  Given a sentence from the Federal Open Market Committee (FOMC) discussion, determine the monetary policy stance it suggests by evaluating its stance on interest rates, inflation, and economic growth. On the first line, provide a clear and concise prediction of the stance (hawkish, dovish, or neutral), followed by a detailed explanation that directly addresses the question and provides evidence to support your prediction.\n",
      "\n",
      "For example, if the sentence suggests a preference for raising interest rates to combat inflation, it would be hawkish. If it suggests a preference for lowering\n"
     ]
    },
    {
     "name": "stderr",
     "output_type": "stream",
     "text": [
      "Accuracy: 0.6388888888888888: 100%|██████████| 36/36 [00:42<00:00,  1.19s/it]\n",
      "Epoch 2: Training step 2: : 2it [03:14, 94.31s/it] "
     ]
    },
    {
     "name": "stdout",
     "output_type": "stream",
     "text": [
      "Test accuracy: 0.6388888888888888\n",
      "Previous test accuracy: 0.5833333333333334\n",
      "System prompt:  Given a sentence from the Federal Open Market Committee (FOMC) discussion, determine the monetary policy stance it suggests by evaluating its stance on interest rates, inflation, and economic growth. On the first line, provide a clear and concise prediction of the stance (hawkish, dovish, or neutral), followed by a detailed explanation that directly addresses the question and provides evidence to support your prediction.\n",
      "\n",
      "For example, if the sentence suggests a preference for raising interest rates to combat inflation, it would be hawkish. If it suggests a preference for lowering\n",
      "New prompt:  Analyze the given sentence from the Federal Open Market Committee (FOMC) discussion and determine the monetary policy stance it suggests by evaluating its stance on interest rates, inflation, and economic growth. On the first line, provide a clear and concise prediction of the stance (hawkish, dovish, or neutral), followed by a detailed explanation that directly addresses the question and provides evidence to support your prediction. Be sure to provide specific examples from the sentence that support your prediction.\n",
      "\n",
      "Monetary policy stances can be categorized as hawkish, dovish\n"
     ]
    },
    {
     "name": "stderr",
     "output_type": "stream",
     "text": [
      "Accuracy: 0.5833333333333334: 100%|██████████| 36/36 [00:43<00:00,  1.21s/it]\n",
      "Epoch 2: Training step 3: : 3it [05:09, 103.59s/it]"
     ]
    },
    {
     "name": "stdout",
     "output_type": "stream",
     "text": [
      "Test accuracy: 0.5833333333333334\n",
      "Previous test accuracy: 0.6388888888888888\n",
      "Rejected prompt: Analyze the given sentence from the Federal Open Market Committee (FOMC) discussion and determine the monetary policy stance it suggests by evaluating its stance on interest rates, inflation, and economic growth. On the first line, provide a clear and concise prediction of the stance (hawkish, dovish, or neutral), followed by a detailed explanation that directly addresses the question and provides evidence to support your prediction. Be sure to provide specific examples from the sentence that support your prediction.\n",
      "\n",
      "Monetary policy stances can be categorized as hawkish, dovish\n",
      "System prompt:  Given a sentence from the Federal Open Market Committee (FOMC) discussion, determine the monetary policy stance it suggests by evaluating its stance on interest rates, inflation, and economic growth. On the first line, provide a clear and concise prediction of the stance (hawkish, dovish, or neutral), followed by a detailed explanation that directly addresses the question and provides evidence to support your prediction.\n",
      "\n",
      "For example, if the sentence suggests a preference for raising interest rates to combat inflation, it would be hawkish. If it suggests a preference for lowering\n",
      "New prompt:  Given a sentence from the Federal Open Market Committee (FOMC) discussion, predict the stance on interest rates it suggests and provide a detailed explanation that directly addresses the question and provides evidence to support your prediction. For example, if the sentence suggests a preference for raising interest rates, predict \"hawkish\" and explain why, providing specific evidence or reasoning to support your prediction. If it suggests a preference for lowering interest rates, predict \"dovish\" and explain why, providing specific evidence or reasoning to support your prediction.\n"
     ]
    },
    {
     "name": "stderr",
     "output_type": "stream",
     "text": [
      "Accuracy: 0.5833333333333334: 100%|██████████| 36/36 [00:45<00:00,  1.27s/it]\n",
      "Epoch 2: Training step 4: : 4it [07:14, 112.40s/it]"
     ]
    },
    {
     "name": "stdout",
     "output_type": "stream",
     "text": [
      "Test accuracy: 0.5833333333333334\n",
      "Previous test accuracy: 0.6388888888888888\n",
      "Rejected prompt: Given a sentence from the Federal Open Market Committee (FOMC) discussion, predict the stance on interest rates it suggests and provide a detailed explanation that directly addresses the question and provides evidence to support your prediction. For example, if the sentence suggests a preference for raising interest rates, predict \"hawkish\" and explain why, providing specific evidence or reasoning to support your prediction. If it suggests a preference for lowering interest rates, predict \"dovish\" and explain why, providing specific evidence or reasoning to support your prediction.\n",
      "System prompt:  Given a sentence from the Federal Open Market Committee (FOMC) discussion, determine the monetary policy stance it suggests by evaluating its stance on interest rates, inflation, and economic growth. On the first line, provide a clear and concise prediction of the stance (hawkish, dovish, or neutral), followed by a detailed explanation that directly addresses the question and provides evidence to support your prediction.\n",
      "\n",
      "For example, if the sentence suggests a preference for raising interest rates to combat inflation, it would be hawkish. If it suggests a preference for lowering\n",
      "New prompt:  Given a sentence from the Federal Open Market Committee (FOMC) discussion, analyze the monetary policy stance it suggests by evaluating its stance on interest rates, inflation, and economic growth. On the first line, provide a clear and concise prediction of the stance (hawkish or dovish), followed by a detailed explanation that directly addresses the question and provides evidence to support your prediction. Be sure to define the terms 'hawkish' and 'dovish' at the beginning of the prompt.\n",
      "\n",
      "For example, if the sentence suggests a preference for raising\n"
     ]
    },
    {
     "name": "stderr",
     "output_type": "stream",
     "text": [
      "Accuracy: 0.5: 100%|██████████| 36/36 [00:43<00:00,  1.20s/it]               \n",
      "Epoch 2: Training step 5: : 5it [09:12, 114.36s/it]"
     ]
    },
    {
     "name": "stdout",
     "output_type": "stream",
     "text": [
      "Test accuracy: 0.5\n",
      "Previous test accuracy: 0.6388888888888888\n",
      "Rejected prompt: Given a sentence from the Federal Open Market Committee (FOMC) discussion, analyze the monetary policy stance it suggests by evaluating its stance on interest rates, inflation, and economic growth. On the first line, provide a clear and concise prediction of the stance (hawkish or dovish), followed by a detailed explanation that directly addresses the question and provides evidence to support your prediction. Be sure to define the terms 'hawkish' and 'dovish' at the beginning of the prompt.\n",
      "\n",
      "For example, if the sentence suggests a preference for raising\n",
      "System prompt:  Given a sentence from the Federal Open Market Committee (FOMC) discussion, determine the monetary policy stance it suggests by evaluating its stance on interest rates, inflation, and economic growth. On the first line, provide a clear and concise prediction of the stance (hawkish, dovish, or neutral), followed by a detailed explanation that directly addresses the question and provides evidence to support your prediction.\n",
      "\n",
      "For example, if the sentence suggests a preference for raising interest rates to combat inflation, it would be hawkish. If it suggests a preference for lowering\n",
      "New prompt:  Given a sentence from the Federal Open Market Committee (FOMC) discussion, analyze the economic conditions it suggests by evaluating its stance on interest rates, inflation, employment, and GDP growth. On the first line, provide a clear and concise prediction of the overall economic condition (strong, weak, or stable), followed by a detailed explanation that directly addresses the question and provides evidence to support your prediction.\n",
      "\n",
      "For example, if the sentence suggests a preference for raising interest rates to combat inflation and a strong labor market, it would be a strong economy. If it suggests a\n"
     ]
    },
    {
     "name": "stderr",
     "output_type": "stream",
     "text": [
      "Accuracy: 0.027777777777777776: 100%|██████████| 36/36 [00:46<00:00,  1.30s/it]\n",
      "Epoch 2: Training step 5: : 5it [11:11, 134.33s/it]"
     ]
    },
    {
     "name": "stdout",
     "output_type": "stream",
     "text": [
      "Test accuracy: 0.027777777777777776\n",
      "Previous test accuracy: 0.6388888888888888\n",
      "Rejected prompt: Given a sentence from the Federal Open Market Committee (FOMC) discussion, analyze the economic conditions it suggests by evaluating its stance on interest rates, inflation, employment, and GDP growth. On the first line, provide a clear and concise prediction of the overall economic condition (strong, weak, or stable), followed by a detailed explanation that directly addresses the question and provides evidence to support your prediction.\n",
      "\n",
      "For example, if the sentence suggests a preference for raising interest rates to combat inflation and a strong labor market, it would be a strong economy. If it suggests a\n",
      "System prompt:  Given a sentence from the Federal Open Market Committee (FOMC) discussion, determine the monetary policy stance it suggests by evaluating its stance on interest rates, inflation, and economic growth. On the first line, provide a clear and concise prediction of the stance (hawkish, dovish, or neutral), followed by a detailed explanation that directly addresses the question and provides evidence to support your prediction.\n",
      "\n",
      "For example, if the sentence suggests a preference for raising interest rates to combat inflation, it would be hawkish. If it suggests a preference for lowering\n"
     ]
    },
    {
     "name": "stderr",
     "output_type": "stream",
     "text": [
      "\n"
     ]
    }
   ],
   "source": [
    "start_test_accuracy = np.mean(eval_dataset(testing_data, eval_fn, model))\n",
    "results = {\"test_accuracy\": [start_test_accuracy], \"prompt\": [starting_prompt], \n",
    "            \"new_prompt\": [starting_prompt], \"new_prompt_test_accuracy\": [start_test_accuracy]}\n",
    "print(f\"Starting prompt: {starting_prompt}\")\n",
    "print(f\"Starting test accuracy: {start_test_accuracy}\")\n",
    "\n",
    "# optimize system prompt\n",
    "train_loader = DataLoader(training_data, batch_size=6, shuffle=True)\n",
    "\n",
    "for epoch in range(3):\n",
    "    for step, (batch_x, batch_y) in enumerate((pbar := tqdm(train_loader, position=0))):\n",
    "        # initialize training step\n",
    "        pbar.set_description(f\"Epoch {epoch}: Training step {step}\")\n",
    "        optimizer.zero_grad()\n",
    "        losses = []\n",
    "\n",
    "        # train off items in batch\n",
    "        for (x, y) in zip(batch_x, batch_y):\n",
    "            eval_output = eval_sample(x, y, eval_fn, model)\n",
    "            losses.append(eval_output)\n",
    "\n",
    "        # sum losses\n",
    "        total_loss = textgrad.sum(losses)\n",
    "        total_loss.backward(engine)\n",
    "        optimizer.step()\n",
    "        \n",
    "        # evaluate new system prompt\n",
    "        # if worse, revert to previous prompt\n",
    "        results[\"new_prompt\"].append(system_prompt.get_value())\n",
    "        print(\"New prompt: \", system_prompt.get_value())\n",
    "        run_test_revert(system_prompt, results, eval_fn, model, testing_data)\n",
    "        \n",
    "        print(\"System prompt: \", system_prompt)\n",
    "        results[\"prompt\"].append(system_prompt.get_value())\n",
    "        \n",
    "        if step >= 5:\n",
    "            break"
   ]
  },
  {
   "cell_type": "code",
   "execution_count": 9,
   "metadata": {},
   "outputs": [],
   "source": [
    "pd.DataFrame(results).to_csv(\"textgrad_token_limited.csv\", index=False)"
   ]
  },
  {
   "cell_type": "code",
   "execution_count": 12,
   "metadata": {},
   "outputs": [
    {
     "name": "stderr",
     "output_type": "stream",
     "text": [
      "Accuracy: 0.5403225806451613: 100%|██████████| 496/496 [09:35<00:00,  1.16s/it]\n"
     ]
    },
    {
     "data": {
      "text/plain": [
       "[1,\n",
       " 0,\n",
       " 1,\n",
       " 1,\n",
       " 0,\n",
       " 1,\n",
       " 1,\n",
       " 0,\n",
       " 0,\n",
       " 0,\n",
       " 1,\n",
       " 0,\n",
       " 0,\n",
       " 1,\n",
       " 1,\n",
       " 0,\n",
       " 1,\n",
       " 0,\n",
       " 0,\n",
       " 1,\n",
       " 1,\n",
       " 0,\n",
       " 1,\n",
       " 0,\n",
       " 1,\n",
       " 1,\n",
       " 0,\n",
       " 1,\n",
       " 0,\n",
       " 1,\n",
       " 1,\n",
       " 0,\n",
       " 1,\n",
       " 1,\n",
       " 0,\n",
       " 0,\n",
       " 1,\n",
       " 0,\n",
       " 1,\n",
       " 0,\n",
       " 1,\n",
       " 1,\n",
       " 0,\n",
       " 1,\n",
       " 1,\n",
       " 0,\n",
       " 0,\n",
       " 1,\n",
       " 1,\n",
       " 1,\n",
       " 1,\n",
       " 1,\n",
       " 0,\n",
       " 0,\n",
       " 1,\n",
       " 0,\n",
       " 1,\n",
       " 0,\n",
       " 1,\n",
       " 0,\n",
       " 1,\n",
       " 1,\n",
       " 0,\n",
       " 0,\n",
       " 1,\n",
       " 0,\n",
       " 1,\n",
       " 1,\n",
       " 0,\n",
       " 0,\n",
       " 1,\n",
       " 1,\n",
       " 1,\n",
       " 0,\n",
       " 0,\n",
       " 0,\n",
       " 1,\n",
       " 1,\n",
       " 1,\n",
       " 1,\n",
       " 1,\n",
       " 1,\n",
       " 1,\n",
       " 1,\n",
       " 1,\n",
       " 1,\n",
       " 1,\n",
       " 0,\n",
       " 0,\n",
       " 0,\n",
       " 1,\n",
       " 1,\n",
       " 0,\n",
       " 1,\n",
       " 1,\n",
       " 1,\n",
       " 0,\n",
       " 1,\n",
       " 1,\n",
       " 0,\n",
       " 1,\n",
       " 1,\n",
       " 1,\n",
       " 1,\n",
       " 0,\n",
       " 1,\n",
       " 1,\n",
       " 1,\n",
       " 0,\n",
       " 0,\n",
       " 0,\n",
       " 1,\n",
       " 1,\n",
       " 1,\n",
       " 1,\n",
       " 0,\n",
       " 0,\n",
       " 1,\n",
       " 1,\n",
       " 0,\n",
       " 0,\n",
       " 1,\n",
       " 0,\n",
       " 0,\n",
       " 1,\n",
       " 1,\n",
       " 0,\n",
       " 1,\n",
       " 0,\n",
       " 0,\n",
       " 1,\n",
       " 1,\n",
       " 1,\n",
       " 1,\n",
       " 1,\n",
       " 1,\n",
       " 0,\n",
       " 0,\n",
       " 0,\n",
       " 0,\n",
       " 1,\n",
       " 1,\n",
       " 0,\n",
       " 1,\n",
       " 0,\n",
       " 0,\n",
       " 1,\n",
       " 0,\n",
       " 0,\n",
       " 0,\n",
       " 1,\n",
       " 0,\n",
       " 0,\n",
       " 1,\n",
       " 1,\n",
       " 0,\n",
       " 1,\n",
       " 1,\n",
       " 0,\n",
       " 1,\n",
       " 1,\n",
       " 1,\n",
       " 0,\n",
       " 0,\n",
       " 1,\n",
       " 1,\n",
       " 1,\n",
       " 0,\n",
       " 0,\n",
       " 0,\n",
       " 1,\n",
       " 0,\n",
       " 0,\n",
       " 1,\n",
       " 0,\n",
       " 1,\n",
       " 0,\n",
       " 1,\n",
       " 1,\n",
       " 1,\n",
       " 1,\n",
       " 0,\n",
       " 1,\n",
       " 1,\n",
       " 0,\n",
       " 0,\n",
       " 1,\n",
       " 1,\n",
       " 0,\n",
       " 0,\n",
       " 1,\n",
       " 1,\n",
       " 1,\n",
       " 1,\n",
       " 1,\n",
       " 1,\n",
       " 1,\n",
       " 1,\n",
       " 0,\n",
       " 0,\n",
       " 0,\n",
       " 1,\n",
       " 1,\n",
       " 0,\n",
       " 0,\n",
       " 0,\n",
       " 0,\n",
       " 1,\n",
       " 0,\n",
       " 0,\n",
       " 1,\n",
       " 0,\n",
       " 1,\n",
       " 1,\n",
       " 0,\n",
       " 1,\n",
       " 1,\n",
       " 1,\n",
       " 0,\n",
       " 0,\n",
       " 1,\n",
       " 1,\n",
       " 0,\n",
       " 0,\n",
       " 0,\n",
       " 1,\n",
       " 0,\n",
       " 1,\n",
       " 1,\n",
       " 0,\n",
       " 0,\n",
       " 1,\n",
       " 0,\n",
       " 0,\n",
       " 0,\n",
       " 0,\n",
       " 1,\n",
       " 1,\n",
       " 0,\n",
       " 1,\n",
       " 0,\n",
       " 1,\n",
       " 0,\n",
       " 1,\n",
       " 1,\n",
       " 0,\n",
       " 0,\n",
       " 1,\n",
       " 1,\n",
       " 1,\n",
       " 1,\n",
       " 1,\n",
       " 0,\n",
       " 1,\n",
       " 0,\n",
       " 0,\n",
       " 1,\n",
       " 0,\n",
       " 1,\n",
       " 1,\n",
       " 1,\n",
       " 0,\n",
       " 0,\n",
       " 1,\n",
       " 1,\n",
       " 0,\n",
       " 1,\n",
       " 1,\n",
       " 0,\n",
       " 1,\n",
       " 1,\n",
       " 0,\n",
       " 1,\n",
       " 1,\n",
       " 0,\n",
       " 0,\n",
       " 0,\n",
       " 1,\n",
       " 1,\n",
       " 1,\n",
       " 0,\n",
       " 1,\n",
       " 0,\n",
       " 1,\n",
       " 0,\n",
       " 1,\n",
       " 0,\n",
       " 0,\n",
       " 1,\n",
       " 0,\n",
       " 1,\n",
       " 1,\n",
       " 0,\n",
       " 1,\n",
       " 0,\n",
       " 0,\n",
       " 0,\n",
       " 1,\n",
       " 1,\n",
       " 0,\n",
       " 1,\n",
       " 0,\n",
       " 1,\n",
       " 1,\n",
       " 1,\n",
       " 0,\n",
       " 1,\n",
       " 1,\n",
       " 0,\n",
       " 1,\n",
       " 0,\n",
       " 0,\n",
       " 1,\n",
       " 1,\n",
       " 1,\n",
       " 0,\n",
       " 1,\n",
       " 1,\n",
       " 0,\n",
       " 1,\n",
       " 0,\n",
       " 1,\n",
       " 1,\n",
       " 1,\n",
       " 0,\n",
       " 0,\n",
       " 0,\n",
       " 1,\n",
       " 0,\n",
       " 1,\n",
       " 1,\n",
       " 1,\n",
       " 0,\n",
       " 0,\n",
       " 0,\n",
       " 1,\n",
       " 1,\n",
       " 1,\n",
       " 0,\n",
       " 1,\n",
       " 0,\n",
       " 1,\n",
       " 1,\n",
       " 1,\n",
       " 0,\n",
       " 0,\n",
       " 0,\n",
       " 1,\n",
       " 0,\n",
       " 0,\n",
       " 1,\n",
       " 0,\n",
       " 1,\n",
       " 1,\n",
       " 0,\n",
       " 0,\n",
       " 0,\n",
       " 0,\n",
       " 0,\n",
       " 0,\n",
       " 1,\n",
       " 0,\n",
       " 1,\n",
       " 0,\n",
       " 1,\n",
       " 1,\n",
       " 0,\n",
       " 0,\n",
       " 0,\n",
       " 0,\n",
       " 0,\n",
       " 1,\n",
       " 0,\n",
       " 1,\n",
       " 1,\n",
       " 0,\n",
       " 1,\n",
       " 0,\n",
       " 1,\n",
       " 1,\n",
       " 1,\n",
       " 1,\n",
       " 1,\n",
       " 1,\n",
       " 0,\n",
       " 0,\n",
       " 1,\n",
       " 1,\n",
       " 1,\n",
       " 0,\n",
       " 0,\n",
       " 0,\n",
       " 1,\n",
       " 1,\n",
       " 0,\n",
       " 1,\n",
       " 0,\n",
       " 1,\n",
       " 1,\n",
       " 0,\n",
       " 0,\n",
       " 1,\n",
       " 0,\n",
       " 1,\n",
       " 0,\n",
       " 1,\n",
       " 1,\n",
       " 1,\n",
       " 0,\n",
       " 1,\n",
       " 0,\n",
       " 1,\n",
       " 1,\n",
       " 1,\n",
       " 0,\n",
       " 0,\n",
       " 1,\n",
       " 0,\n",
       " 1,\n",
       " 0,\n",
       " 0,\n",
       " 0,\n",
       " 0,\n",
       " 1,\n",
       " 0,\n",
       " 1,\n",
       " 1,\n",
       " 0,\n",
       " 0,\n",
       " 1,\n",
       " 0,\n",
       " 1,\n",
       " 1,\n",
       " 1,\n",
       " 0,\n",
       " 0,\n",
       " 1,\n",
       " 1,\n",
       " 1,\n",
       " 0,\n",
       " 1,\n",
       " 1,\n",
       " 0,\n",
       " 1,\n",
       " 1,\n",
       " 0,\n",
       " 0,\n",
       " 1,\n",
       " 1,\n",
       " 0,\n",
       " 0,\n",
       " 0,\n",
       " 1,\n",
       " 0,\n",
       " 1,\n",
       " 1,\n",
       " 0,\n",
       " 0,\n",
       " 0,\n",
       " 0,\n",
       " 0,\n",
       " 1,\n",
       " 0,\n",
       " 0,\n",
       " 0,\n",
       " 1,\n",
       " 0,\n",
       " 1,\n",
       " 0,\n",
       " 1,\n",
       " 0,\n",
       " 1,\n",
       " 0,\n",
       " 1,\n",
       " 0,\n",
       " 1,\n",
       " 0,\n",
       " 0,\n",
       " 1,\n",
       " 1,\n",
       " 0,\n",
       " 0,\n",
       " 0,\n",
       " 1,\n",
       " 0,\n",
       " 1,\n",
       " 1,\n",
       " 1,\n",
       " 1,\n",
       " 1,\n",
       " 0,\n",
       " 1,\n",
       " 0,\n",
       " 1,\n",
       " 1,\n",
       " 0]"
      ]
     },
     "execution_count": 12,
     "metadata": {},
     "output_type": "execute_result"
    }
   ],
   "source": [
    "engine = get_engine('together-mistralai/Mistral-7B-Instruct-v0.3')\n",
    "\n",
    "starting_prompt = \"Analyze the given FOMC statement and determine the expected federal funds rate or the pace of balance sheet reduction based on the statement. Interpret the statement in the context of the FOMC's overall monetary policy objectives and recent statements or actions. Provide a clear and detailed classification of the monetary policy stance, along with a justification for your decision. Choose from the following categories: Neutral, Dovish, Moderately Hawkish, or Very Hawkish. Explain the reasons for your prediction, focusing on the FOMC's monetary policy objectives and any indications of a shift in policy direction. Provide evidence or references that support your prediction, if possible. Discuss the potential impact on inflation, employment, and any associated risks or uncertainties, focusing on the short-term and medium-term implications. Discuss the potential risks and uncertainties associated with the predicted policy stance, and provide specific examples or scenarios that illustrate the short-term and medium-term implications of the FOMC's monetary policy stance on inflation, employment, and associated risks or uncertainties.\"\n",
    "system_prompt = Variable(starting_prompt, requires_grad=True, role_description=\"system prompt to the language model\")\n",
    "model = textgrad.BlackboxLLM(engine, system_prompt)\n",
    "\n",
    "optimizer = TextualGradientDescent(engine=engine, parameters=[system_prompt])\n",
    "\n",
    "mapping = {0: 'dovish', 1: 'hawkish', 2: 'neutral'}\n",
    "data = [(data['sentence'], data['label']) for data in dataset['test']]\n",
    "eval_dataset(data, eval_fn, model)"
   ]
  },
  {
   "cell_type": "markdown",
   "metadata": {},
   "source": [
    "## Testing together 1.2 API"
   ]
  },
  {
   "cell_type": "code",
   "execution_count": 4,
   "metadata": {},
   "outputs": [],
   "source": [
    "# the one in prompts.py was not returning just the system prompt/user message which together 1.2 needs\n",
    "def fomc_prompt(sentence: str):\n",
    "\n",
    "    system_prompt = f\"\"\"Discard all the previous instructions. Behave like you are an expert sentence clas-\n",
    "                sifier.\"\"\"\n",
    "    user_msg = f\"\"\"Classify the following sentence from FOMC into ‘HAWKISH’, ‘DOVISH’, or ‘NEU-\n",
    "                TRAL’ class. Label ‘HAWKISH’ if it is corresponding to tightening of the monetary policy,\n",
    "                ‘DOVISH’ if it is corresponding to easing of the monetary policy, or ‘NEUTRAL’ if the\n",
    "                stance is neutral. Provide the label in the first line and provide a short explanation in the\n",
    "                second line. This is the sentence: {sentence}\"\"\"\n",
    "\n",
    "    return system_prompt, user_msg"
   ]
  },
  {
   "cell_type": "code",
   "execution_count": 8,
   "metadata": {},
   "outputs": [
    {
     "name": "stdout",
     "output_type": "stream",
     "text": [
      "LLM response: Neutral class\n",
      "Explanation: The sentence mentions that participants agreed that the labor market remained strong and economic activity rose at a moderate rate, indicating a neutral stance towards monetary policy.\n",
      "Token usage: {'prompt_tokens': 174, 'response_tokens': 37, 'total_tokens': 211}\n"
     ]
    }
   ],
   "source": [
    "# Testing together 1.2 API\n",
    "client = Together()\n",
    "model_response = client.chat.completions.create(\n",
    "    model='allenai/OLMo-7B-Instruct',\n",
    "    messages=[{'role': 'system', 'content': fomc_prompt(sentence)[0]},\n",
    "                {'role': 'user', 'content': fomc_prompt(sentence)[1]}],\n",
    "    max_tokens=128,\n",
    "    temperature=0.7,\n",
    "    top_k=50,\n",
    "    top_p=0.7,\n",
    "    repetition_penalty=1.1\n",
    ")\n",
    "response_label = model_response.choices[0].message.content\n",
    "token_usage = {'prompt_tokens': model_response.usage.prompt_tokens, 'response_tokens': model_response.usage.completion_tokens, 'total_tokens': model_response.usage.total_tokens}\n",
    "print(f\"LLM response: {response_label.strip()}\\nToken usage: {token_usage}\")"
   ]
  },
  {
   "cell_type": "markdown",
   "metadata": {},
   "source": [
    "## Testing DSPy"
   ]
  },
  {
   "cell_type": "code",
   "execution_count": 54,
   "metadata": {},
   "outputs": [
    {
     "name": "stdout",
     "output_type": "stream",
     "text": [
      "Backing off 0.6 seconds after 1 tries calling function <function Together._generate at 0x0000017878ABF700> with kwargs {'temperature': 0.0, 'max_tokens': 512, 'top_p': 1, 'top_k': 20, 'repetition_penalty': 1, 'n': 1, 'stop': ['</s>', '<s>']}\n",
      "Backing off 0.5 seconds after 2 tries calling function <function Together._generate at 0x0000017878ABF700> with kwargs {'temperature': 0.0, 'max_tokens': 512, 'top_p': 1, 'top_k': 20, 'repetition_penalty': 1, 'n': 1, 'stop': ['</s>', '<s>']}\n",
      "Backing off 3.4 seconds after 3 tries calling function <function Together._generate at 0x0000017878ABF700> with kwargs {'temperature': 0.0, 'max_tokens': 512, 'top_p': 1, 'top_k': 20, 'repetition_penalty': 1, 'n': 1, 'stop': ['</s>', '<s>']}\n",
      "Backing off 7.0 seconds after 4 tries calling function <function Together._generate at 0x0000017878ABF700> with kwargs {'temperature': 0.0, 'max_tokens': 512, 'top_p': 1, 'top_k': 20, 'repetition_penalty': 1, 'n': 1, 'stop': ['</s>', '<s>']}\n",
      "Backing off 12.9 seconds after 5 tries calling function <function Together._generate at 0x0000017878ABF700> with kwargs {'temperature': 0.0, 'max_tokens': 512, 'top_p': 1, 'top_k': 20, 'repetition_penalty': 1, 'n': 1, 'stop': ['</s>', '<s>']}\n"
     ]
    },
    {
     "ename": "KeyboardInterrupt",
     "evalue": "",
     "output_type": "error",
     "traceback": [
      "\u001b[1;31m---------------------------------------------------------------------------\u001b[0m",
      "\u001b[1;31mMissingSchema\u001b[0m                             Traceback (most recent call last)",
      "\u001b[1;32mc:\\Users\\mikad\\anaconda3\\lib\\site-packages\\dsp\\modules\\hf_client.py\u001b[0m in \u001b[0;36m_generate\u001b[1;34m(self, prompt, use_chat_api, **kwargs)\u001b[0m\n\u001b[0;32m    279\u001b[0m         \u001b[1;32mtry\u001b[0m\u001b[1;33m:\u001b[0m\u001b[1;33m\u001b[0m\u001b[1;33m\u001b[0m\u001b[0m\n\u001b[1;32m--> 280\u001b[1;33m             \u001b[1;32mwith\u001b[0m \u001b[0mself\u001b[0m\u001b[1;33m.\u001b[0m\u001b[0msession\u001b[0m\u001b[1;33m.\u001b[0m\u001b[0mpost\u001b[0m\u001b[1;33m(\u001b[0m\u001b[0murl\u001b[0m\u001b[1;33m,\u001b[0m \u001b[0mheaders\u001b[0m\u001b[1;33m=\u001b[0m\u001b[0mheaders\u001b[0m\u001b[1;33m,\u001b[0m \u001b[0mjson\u001b[0m\u001b[1;33m=\u001b[0m\u001b[0mbody\u001b[0m\u001b[1;33m)\u001b[0m \u001b[1;32mas\u001b[0m \u001b[0mresp\u001b[0m\u001b[1;33m:\u001b[0m\u001b[1;33m\u001b[0m\u001b[1;33m\u001b[0m\u001b[0m\n\u001b[0m\u001b[0;32m    281\u001b[0m                 \u001b[0mresp_json\u001b[0m \u001b[1;33m=\u001b[0m \u001b[0mresp\u001b[0m\u001b[1;33m.\u001b[0m\u001b[0mjson\u001b[0m\u001b[1;33m(\u001b[0m\u001b[1;33m)\u001b[0m\u001b[1;33m\u001b[0m\u001b[1;33m\u001b[0m\u001b[0m\n",
      "\u001b[1;32mc:\\Users\\mikad\\anaconda3\\lib\\site-packages\\requests\\sessions.py\u001b[0m in \u001b[0;36mpost\u001b[1;34m(self, url, data, json, **kwargs)\u001b[0m\n\u001b[0;32m    636\u001b[0m \u001b[1;33m\u001b[0m\u001b[0m\n\u001b[1;32m--> 637\u001b[1;33m         \u001b[1;32mreturn\u001b[0m \u001b[0mself\u001b[0m\u001b[1;33m.\u001b[0m\u001b[0mrequest\u001b[0m\u001b[1;33m(\u001b[0m\u001b[1;34m\"POST\"\u001b[0m\u001b[1;33m,\u001b[0m \u001b[0murl\u001b[0m\u001b[1;33m,\u001b[0m \u001b[0mdata\u001b[0m\u001b[1;33m=\u001b[0m\u001b[0mdata\u001b[0m\u001b[1;33m,\u001b[0m \u001b[0mjson\u001b[0m\u001b[1;33m=\u001b[0m\u001b[0mjson\u001b[0m\u001b[1;33m,\u001b[0m \u001b[1;33m**\u001b[0m\u001b[0mkwargs\u001b[0m\u001b[1;33m)\u001b[0m\u001b[1;33m\u001b[0m\u001b[1;33m\u001b[0m\u001b[0m\n\u001b[0m\u001b[0;32m    638\u001b[0m \u001b[1;33m\u001b[0m\u001b[0m\n",
      "\u001b[1;32mc:\\Users\\mikad\\anaconda3\\lib\\site-packages\\requests\\sessions.py\u001b[0m in \u001b[0;36mrequest\u001b[1;34m(self, method, url, params, data, headers, cookies, files, auth, timeout, allow_redirects, proxies, hooks, stream, verify, cert, json)\u001b[0m\n\u001b[0;32m    574\u001b[0m         )\n\u001b[1;32m--> 575\u001b[1;33m         \u001b[0mprep\u001b[0m \u001b[1;33m=\u001b[0m \u001b[0mself\u001b[0m\u001b[1;33m.\u001b[0m\u001b[0mprepare_request\u001b[0m\u001b[1;33m(\u001b[0m\u001b[0mreq\u001b[0m\u001b[1;33m)\u001b[0m\u001b[1;33m\u001b[0m\u001b[1;33m\u001b[0m\u001b[0m\n\u001b[0m\u001b[0;32m    576\u001b[0m \u001b[1;33m\u001b[0m\u001b[0m\n",
      "\u001b[1;32mc:\\Users\\mikad\\anaconda3\\lib\\site-packages\\requests\\sessions.py\u001b[0m in \u001b[0;36mprepare_request\u001b[1;34m(self, request)\u001b[0m\n\u001b[0;32m    483\u001b[0m         \u001b[0mp\u001b[0m \u001b[1;33m=\u001b[0m \u001b[0mPreparedRequest\u001b[0m\u001b[1;33m(\u001b[0m\u001b[1;33m)\u001b[0m\u001b[1;33m\u001b[0m\u001b[1;33m\u001b[0m\u001b[0m\n\u001b[1;32m--> 484\u001b[1;33m         p.prepare(\n\u001b[0m\u001b[0;32m    485\u001b[0m             \u001b[0mmethod\u001b[0m\u001b[1;33m=\u001b[0m\u001b[0mrequest\u001b[0m\u001b[1;33m.\u001b[0m\u001b[0mmethod\u001b[0m\u001b[1;33m.\u001b[0m\u001b[0mupper\u001b[0m\u001b[1;33m(\u001b[0m\u001b[1;33m)\u001b[0m\u001b[1;33m,\u001b[0m\u001b[1;33m\u001b[0m\u001b[1;33m\u001b[0m\u001b[0m\n",
      "\u001b[1;32mc:\\Users\\mikad\\anaconda3\\lib\\site-packages\\requests\\models.py\u001b[0m in \u001b[0;36mprepare\u001b[1;34m(self, method, url, headers, files, data, params, auth, cookies, hooks, json)\u001b[0m\n\u001b[0;32m    366\u001b[0m         \u001b[0mself\u001b[0m\u001b[1;33m.\u001b[0m\u001b[0mprepare_method\u001b[0m\u001b[1;33m(\u001b[0m\u001b[0mmethod\u001b[0m\u001b[1;33m)\u001b[0m\u001b[1;33m\u001b[0m\u001b[1;33m\u001b[0m\u001b[0m\n\u001b[1;32m--> 367\u001b[1;33m         \u001b[0mself\u001b[0m\u001b[1;33m.\u001b[0m\u001b[0mprepare_url\u001b[0m\u001b[1;33m(\u001b[0m\u001b[0murl\u001b[0m\u001b[1;33m,\u001b[0m \u001b[0mparams\u001b[0m\u001b[1;33m)\u001b[0m\u001b[1;33m\u001b[0m\u001b[1;33m\u001b[0m\u001b[0m\n\u001b[0m\u001b[0;32m    368\u001b[0m         \u001b[0mself\u001b[0m\u001b[1;33m.\u001b[0m\u001b[0mprepare_headers\u001b[0m\u001b[1;33m(\u001b[0m\u001b[0mheaders\u001b[0m\u001b[1;33m)\u001b[0m\u001b[1;33m\u001b[0m\u001b[1;33m\u001b[0m\u001b[0m\n",
      "\u001b[1;32mc:\\Users\\mikad\\anaconda3\\lib\\site-packages\\requests\\models.py\u001b[0m in \u001b[0;36mprepare_url\u001b[1;34m(self, url, params)\u001b[0m\n\u001b[0;32m    437\u001b[0m         \u001b[1;32mif\u001b[0m \u001b[1;32mnot\u001b[0m \u001b[0mscheme\u001b[0m\u001b[1;33m:\u001b[0m\u001b[1;33m\u001b[0m\u001b[1;33m\u001b[0m\u001b[0m\n\u001b[1;32m--> 438\u001b[1;33m             raise MissingSchema(\n\u001b[0m\u001b[0;32m    439\u001b[0m                 \u001b[1;34mf\"Invalid URL {url!r}: No scheme supplied. \"\u001b[0m\u001b[1;33m\u001b[0m\u001b[1;33m\u001b[0m\u001b[0m\n",
      "\u001b[1;31mMissingSchema\u001b[0m: Invalid URL 'None': No scheme supplied. Perhaps you meant https://None?",
      "\nDuring handling of the above exception, another exception occurred:\n",
      "\u001b[1;31mUnboundLocalError\u001b[0m                         Traceback (most recent call last)",
      "\u001b[1;32mc:\\Users\\mikad\\anaconda3\\lib\\site-packages\\backoff\\_sync.py\u001b[0m in \u001b[0;36mretry\u001b[1;34m(*args, **kwargs)\u001b[0m\n\u001b[0;32m    104\u001b[0m             \u001b[1;32mtry\u001b[0m\u001b[1;33m:\u001b[0m\u001b[1;33m\u001b[0m\u001b[1;33m\u001b[0m\u001b[0m\n\u001b[1;32m--> 105\u001b[1;33m                 \u001b[0mret\u001b[0m \u001b[1;33m=\u001b[0m \u001b[0mtarget\u001b[0m\u001b[1;33m(\u001b[0m\u001b[1;33m*\u001b[0m\u001b[0margs\u001b[0m\u001b[1;33m,\u001b[0m \u001b[1;33m**\u001b[0m\u001b[0mkwargs\u001b[0m\u001b[1;33m)\u001b[0m\u001b[1;33m\u001b[0m\u001b[1;33m\u001b[0m\u001b[0m\n\u001b[0m\u001b[0;32m    106\u001b[0m             \u001b[1;32mexcept\u001b[0m \u001b[0mexception\u001b[0m \u001b[1;32mas\u001b[0m \u001b[0me\u001b[0m\u001b[1;33m:\u001b[0m\u001b[1;33m\u001b[0m\u001b[1;33m\u001b[0m\u001b[0m\n",
      "\u001b[1;32mc:\\Users\\mikad\\anaconda3\\lib\\site-packages\\dsp\\modules\\hf_client.py\u001b[0m in \u001b[0;36m_generate\u001b[1;34m(self, prompt, use_chat_api, **kwargs)\u001b[0m\n\u001b[0;32m    288\u001b[0m         \u001b[1;32mexcept\u001b[0m \u001b[0mException\u001b[0m \u001b[1;32mas\u001b[0m \u001b[0me\u001b[0m\u001b[1;33m:\u001b[0m\u001b[1;33m\u001b[0m\u001b[1;33m\u001b[0m\u001b[0m\n\u001b[1;32m--> 289\u001b[1;33m             \u001b[1;32mif\u001b[0m \u001b[0mresp_json\u001b[0m\u001b[1;33m:\u001b[0m\u001b[1;33m\u001b[0m\u001b[1;33m\u001b[0m\u001b[0m\n\u001b[0m\u001b[0;32m    290\u001b[0m                 \u001b[0mprint\u001b[0m\u001b[1;33m(\u001b[0m\u001b[1;34mf\"resp_json:{resp_json}\"\u001b[0m\u001b[1;33m)\u001b[0m\u001b[1;33m\u001b[0m\u001b[1;33m\u001b[0m\u001b[0m\n",
      "\u001b[1;31mUnboundLocalError\u001b[0m: local variable 'resp_json' referenced before assignment",
      "\nDuring handling of the above exception, another exception occurred:\n",
      "\u001b[1;31mKeyboardInterrupt\u001b[0m                         Traceback (most recent call last)",
      "\u001b[1;32m~\\AppData\\Local\\Temp/ipykernel_16016/1839701109.py\u001b[0m in \u001b[0;36m<module>\u001b[1;34m\u001b[0m\n\u001b[0;32m     22\u001b[0m \u001b[1;33m\u001b[0m\u001b[0m\n\u001b[0;32m     23\u001b[0m \u001b[0manalyze\u001b[0m \u001b[1;33m=\u001b[0m \u001b[0mAnalysis\u001b[0m\u001b[1;33m(\u001b[0m\u001b[1;33m)\u001b[0m\u001b[1;33m\u001b[0m\u001b[1;33m\u001b[0m\u001b[0m\n\u001b[1;32m---> 24\u001b[1;33m \u001b[0manalyze\u001b[0m\u001b[1;33m(\u001b[0m\u001b[0msentence\u001b[0m\u001b[1;33m)\u001b[0m\u001b[1;33m\u001b[0m\u001b[1;33m\u001b[0m\u001b[0m\n\u001b[0m",
      "\u001b[1;32mc:\\Users\\mikad\\anaconda3\\lib\\site-packages\\dspy\\primitives\\program.py\u001b[0m in \u001b[0;36m__call__\u001b[1;34m(self, *args, **kwargs)\u001b[0m\n\u001b[0;32m     24\u001b[0m \u001b[1;33m\u001b[0m\u001b[0m\n\u001b[0;32m     25\u001b[0m     \u001b[1;32mdef\u001b[0m \u001b[0m__call__\u001b[0m\u001b[1;33m(\u001b[0m\u001b[0mself\u001b[0m\u001b[1;33m,\u001b[0m \u001b[1;33m*\u001b[0m\u001b[0margs\u001b[0m\u001b[1;33m,\u001b[0m \u001b[1;33m**\u001b[0m\u001b[0mkwargs\u001b[0m\u001b[1;33m)\u001b[0m\u001b[1;33m:\u001b[0m\u001b[1;33m\u001b[0m\u001b[1;33m\u001b[0m\u001b[0m\n\u001b[1;32m---> 26\u001b[1;33m         \u001b[1;32mreturn\u001b[0m \u001b[0mself\u001b[0m\u001b[1;33m.\u001b[0m\u001b[0mforward\u001b[0m\u001b[1;33m(\u001b[0m\u001b[1;33m*\u001b[0m\u001b[0margs\u001b[0m\u001b[1;33m,\u001b[0m \u001b[1;33m**\u001b[0m\u001b[0mkwargs\u001b[0m\u001b[1;33m)\u001b[0m\u001b[1;33m\u001b[0m\u001b[1;33m\u001b[0m\u001b[0m\n\u001b[0m\u001b[0;32m     27\u001b[0m \u001b[1;33m\u001b[0m\u001b[0m\n\u001b[0;32m     28\u001b[0m     \u001b[1;32mdef\u001b[0m \u001b[0mnamed_predictors\u001b[0m\u001b[1;33m(\u001b[0m\u001b[0mself\u001b[0m\u001b[1;33m)\u001b[0m\u001b[1;33m:\u001b[0m\u001b[1;33m\u001b[0m\u001b[1;33m\u001b[0m\u001b[0m\n",
      "\u001b[1;32m~\\AppData\\Local\\Temp/ipykernel_16016/1839701109.py\u001b[0m in \u001b[0;36mforward\u001b[1;34m(self, sentence)\u001b[0m\n\u001b[0;32m     19\u001b[0m \u001b[1;33m\u001b[0m\u001b[0m\n\u001b[0;32m     20\u001b[0m     \u001b[1;32mdef\u001b[0m \u001b[0mforward\u001b[0m\u001b[1;33m(\u001b[0m\u001b[0mself\u001b[0m\u001b[1;33m,\u001b[0m \u001b[0msentence\u001b[0m\u001b[1;33m)\u001b[0m\u001b[1;33m:\u001b[0m\u001b[1;33m\u001b[0m\u001b[1;33m\u001b[0m\u001b[0m\n\u001b[1;32m---> 21\u001b[1;33m         \u001b[1;32mreturn\u001b[0m \u001b[0mself\u001b[0m\u001b[1;33m.\u001b[0m\u001b[0mpredict\u001b[0m\u001b[1;33m(\u001b[0m\u001b[0msentence\u001b[0m\u001b[1;33m=\u001b[0m\u001b[0msentence\u001b[0m\u001b[1;33m)\u001b[0m\u001b[1;33m\u001b[0m\u001b[1;33m\u001b[0m\u001b[0m\n\u001b[0m\u001b[0;32m     22\u001b[0m \u001b[1;33m\u001b[0m\u001b[0m\n\u001b[0;32m     23\u001b[0m \u001b[0manalyze\u001b[0m \u001b[1;33m=\u001b[0m \u001b[0mAnalysis\u001b[0m\u001b[1;33m(\u001b[0m\u001b[1;33m)\u001b[0m\u001b[1;33m\u001b[0m\u001b[1;33m\u001b[0m\u001b[0m\n",
      "\u001b[1;32mc:\\Users\\mikad\\anaconda3\\lib\\site-packages\\dspy\\predict\\predict.py\u001b[0m in \u001b[0;36m__call__\u001b[1;34m(self, **kwargs)\u001b[0m\n\u001b[0;32m     47\u001b[0m \u001b[1;33m\u001b[0m\u001b[0m\n\u001b[0;32m     48\u001b[0m     \u001b[1;32mdef\u001b[0m \u001b[0m__call__\u001b[0m\u001b[1;33m(\u001b[0m\u001b[0mself\u001b[0m\u001b[1;33m,\u001b[0m \u001b[1;33m**\u001b[0m\u001b[0mkwargs\u001b[0m\u001b[1;33m)\u001b[0m\u001b[1;33m:\u001b[0m\u001b[1;33m\u001b[0m\u001b[1;33m\u001b[0m\u001b[0m\n\u001b[1;32m---> 49\u001b[1;33m         \u001b[1;32mreturn\u001b[0m \u001b[0mself\u001b[0m\u001b[1;33m.\u001b[0m\u001b[0mforward\u001b[0m\u001b[1;33m(\u001b[0m\u001b[1;33m**\u001b[0m\u001b[0mkwargs\u001b[0m\u001b[1;33m)\u001b[0m\u001b[1;33m\u001b[0m\u001b[1;33m\u001b[0m\u001b[0m\n\u001b[0m\u001b[0;32m     50\u001b[0m \u001b[1;33m\u001b[0m\u001b[0m\n\u001b[0;32m     51\u001b[0m     \u001b[1;32mdef\u001b[0m \u001b[0mforward\u001b[0m\u001b[1;33m(\u001b[0m\u001b[0mself\u001b[0m\u001b[1;33m,\u001b[0m \u001b[1;33m**\u001b[0m\u001b[0mkwargs\u001b[0m\u001b[1;33m)\u001b[0m\u001b[1;33m:\u001b[0m\u001b[1;33m\u001b[0m\u001b[1;33m\u001b[0m\u001b[0m\n",
      "\u001b[1;32mc:\\Users\\mikad\\anaconda3\\lib\\site-packages\\dspy\\predict\\predict.py\u001b[0m in \u001b[0;36mforward\u001b[1;34m(self, **kwargs)\u001b[0m\n\u001b[0;32m     89\u001b[0m \u001b[1;33m\u001b[0m\u001b[0m\n\u001b[0;32m     90\u001b[0m         \u001b[1;32mif\u001b[0m \u001b[0mself\u001b[0m\u001b[1;33m.\u001b[0m\u001b[0mlm\u001b[0m \u001b[1;32mis\u001b[0m \u001b[1;32mNone\u001b[0m\u001b[1;33m:\u001b[0m\u001b[1;33m\u001b[0m\u001b[1;33m\u001b[0m\u001b[0m\n\u001b[1;32m---> 91\u001b[1;33m             \u001b[0mx\u001b[0m\u001b[1;33m,\u001b[0m \u001b[0mC\u001b[0m \u001b[1;33m=\u001b[0m \u001b[0mdsp\u001b[0m\u001b[1;33m.\u001b[0m\u001b[0mgenerate\u001b[0m\u001b[1;33m(\u001b[0m\u001b[0mtemplate\u001b[0m\u001b[1;33m,\u001b[0m \u001b[1;33m**\u001b[0m\u001b[0mconfig\u001b[0m\u001b[1;33m)\u001b[0m\u001b[1;33m(\u001b[0m\u001b[0mx\u001b[0m\u001b[1;33m,\u001b[0m \u001b[0mstage\u001b[0m\u001b[1;33m=\u001b[0m\u001b[0mself\u001b[0m\u001b[1;33m.\u001b[0m\u001b[0mstage\u001b[0m\u001b[1;33m)\u001b[0m\u001b[1;33m\u001b[0m\u001b[1;33m\u001b[0m\u001b[0m\n\u001b[0m\u001b[0;32m     92\u001b[0m         \u001b[1;32melse\u001b[0m\u001b[1;33m:\u001b[0m\u001b[1;33m\u001b[0m\u001b[1;33m\u001b[0m\u001b[0m\n\u001b[0;32m     93\u001b[0m             \u001b[1;31m# Note: query_only=True means the instructions and examples are not included.\u001b[0m\u001b[1;33m\u001b[0m\u001b[1;33m\u001b[0m\u001b[0m\n",
      "\u001b[1;32mc:\\Users\\mikad\\anaconda3\\lib\\site-packages\\dsp\\primitives\\predict.py\u001b[0m in \u001b[0;36mdo_generate\u001b[1;34m(example, stage, max_depth, original_example)\u001b[0m\n\u001b[0;32m     75\u001b[0m         \u001b[1;31m# Generate and extract the fields.\u001b[0m\u001b[1;33m\u001b[0m\u001b[1;33m\u001b[0m\u001b[0m\n\u001b[0;32m     76\u001b[0m         \u001b[0mprompt\u001b[0m \u001b[1;33m=\u001b[0m \u001b[0mtemplate\u001b[0m\u001b[1;33m(\u001b[0m\u001b[0mexample\u001b[0m\u001b[1;33m)\u001b[0m\u001b[1;33m\u001b[0m\u001b[1;33m\u001b[0m\u001b[0m\n\u001b[1;32m---> 77\u001b[1;33m         \u001b[0mcompletions\u001b[0m\u001b[1;33m:\u001b[0m \u001b[0mlist\u001b[0m\u001b[1;33m[\u001b[0m\u001b[0mdict\u001b[0m\u001b[1;33m[\u001b[0m\u001b[0mstr\u001b[0m\u001b[1;33m,\u001b[0m \u001b[0mAny\u001b[0m\u001b[1;33m]\u001b[0m\u001b[1;33m]\u001b[0m \u001b[1;33m=\u001b[0m \u001b[0mgenerator\u001b[0m\u001b[1;33m(\u001b[0m\u001b[0mprompt\u001b[0m\u001b[1;33m,\u001b[0m \u001b[1;33m**\u001b[0m\u001b[0mkwargs\u001b[0m\u001b[1;33m)\u001b[0m\u001b[1;33m\u001b[0m\u001b[1;33m\u001b[0m\u001b[0m\n\u001b[0m\u001b[0;32m     78\u001b[0m         \u001b[0mcompletions\u001b[0m\u001b[1;33m:\u001b[0m \u001b[0mlist\u001b[0m\u001b[1;33m[\u001b[0m\u001b[0mExample\u001b[0m\u001b[1;33m]\u001b[0m \u001b[1;33m=\u001b[0m \u001b[1;33m[\u001b[0m\u001b[0mtemplate\u001b[0m\u001b[1;33m.\u001b[0m\u001b[0mextract\u001b[0m\u001b[1;33m(\u001b[0m\u001b[0mexample\u001b[0m\u001b[1;33m,\u001b[0m \u001b[0mp\u001b[0m\u001b[1;33m)\u001b[0m \u001b[1;32mfor\u001b[0m \u001b[0mp\u001b[0m \u001b[1;32min\u001b[0m \u001b[0mcompletions\u001b[0m\u001b[1;33m]\u001b[0m\u001b[1;33m\u001b[0m\u001b[1;33m\u001b[0m\u001b[0m\n\u001b[0;32m     79\u001b[0m \u001b[1;33m\u001b[0m\u001b[0m\n",
      "\u001b[1;32mc:\\Users\\mikad\\anaconda3\\lib\\site-packages\\dsp\\modules\\hf.py\u001b[0m in \u001b[0;36m__call__\u001b[1;34m(self, prompt, only_completed, return_sorted, **kwargs)\u001b[0m\n\u001b[0;32m    139\u001b[0m             \u001b[0mkwargs\u001b[0m\u001b[1;33m[\u001b[0m\u001b[1;34m\"do_sample\"\u001b[0m\u001b[1;33m]\u001b[0m \u001b[1;33m=\u001b[0m \u001b[1;32mTrue\u001b[0m\u001b[1;33m\u001b[0m\u001b[1;33m\u001b[0m\u001b[0m\n\u001b[0;32m    140\u001b[0m \u001b[1;33m\u001b[0m\u001b[0m\n\u001b[1;32m--> 141\u001b[1;33m         \u001b[0mresponse\u001b[0m \u001b[1;33m=\u001b[0m \u001b[0mself\u001b[0m\u001b[1;33m.\u001b[0m\u001b[0mrequest\u001b[0m\u001b[1;33m(\u001b[0m\u001b[0mprompt\u001b[0m\u001b[1;33m,\u001b[0m \u001b[1;33m**\u001b[0m\u001b[0mkwargs\u001b[0m\u001b[1;33m)\u001b[0m\u001b[1;33m\u001b[0m\u001b[1;33m\u001b[0m\u001b[0m\n\u001b[0m\u001b[0;32m    142\u001b[0m         \u001b[1;32mreturn\u001b[0m \u001b[1;33m[\u001b[0m\u001b[0mc\u001b[0m\u001b[1;33m[\u001b[0m\u001b[1;34m\"text\"\u001b[0m\u001b[1;33m]\u001b[0m \u001b[1;32mfor\u001b[0m \u001b[0mc\u001b[0m \u001b[1;32min\u001b[0m \u001b[0mresponse\u001b[0m\u001b[1;33m[\u001b[0m\u001b[1;34m\"choices\"\u001b[0m\u001b[1;33m]\u001b[0m\u001b[1;33m]\u001b[0m\u001b[1;33m\u001b[0m\u001b[1;33m\u001b[0m\u001b[0m\n\u001b[0;32m    143\u001b[0m \u001b[1;33m\u001b[0m\u001b[0m\n",
      "\u001b[1;32mc:\\Users\\mikad\\anaconda3\\lib\\site-packages\\dsp\\modules\\lm.py\u001b[0m in \u001b[0;36mrequest\u001b[1;34m(self, prompt, **kwargs)\u001b[0m\n\u001b[0;32m     24\u001b[0m \u001b[1;33m\u001b[0m\u001b[0m\n\u001b[0;32m     25\u001b[0m     \u001b[1;32mdef\u001b[0m \u001b[0mrequest\u001b[0m\u001b[1;33m(\u001b[0m\u001b[0mself\u001b[0m\u001b[1;33m,\u001b[0m \u001b[0mprompt\u001b[0m\u001b[1;33m,\u001b[0m \u001b[1;33m**\u001b[0m\u001b[0mkwargs\u001b[0m\u001b[1;33m)\u001b[0m\u001b[1;33m:\u001b[0m\u001b[1;33m\u001b[0m\u001b[1;33m\u001b[0m\u001b[0m\n\u001b[1;32m---> 26\u001b[1;33m         \u001b[1;32mreturn\u001b[0m \u001b[0mself\u001b[0m\u001b[1;33m.\u001b[0m\u001b[0mbasic_request\u001b[0m\u001b[1;33m(\u001b[0m\u001b[0mprompt\u001b[0m\u001b[1;33m,\u001b[0m \u001b[1;33m**\u001b[0m\u001b[0mkwargs\u001b[0m\u001b[1;33m)\u001b[0m\u001b[1;33m\u001b[0m\u001b[1;33m\u001b[0m\u001b[0m\n\u001b[0m\u001b[0;32m     27\u001b[0m \u001b[1;33m\u001b[0m\u001b[0m\n\u001b[0;32m     28\u001b[0m     \u001b[1;32mdef\u001b[0m \u001b[0mprint_green\u001b[0m\u001b[1;33m(\u001b[0m\u001b[0mself\u001b[0m\u001b[1;33m,\u001b[0m \u001b[0mtext\u001b[0m\u001b[1;33m:\u001b[0m \u001b[0mstr\u001b[0m\u001b[1;33m,\u001b[0m \u001b[0mend\u001b[0m\u001b[1;33m:\u001b[0m \u001b[0mstr\u001b[0m \u001b[1;33m=\u001b[0m \u001b[1;34m\"\\n\"\u001b[0m\u001b[1;33m)\u001b[0m\u001b[1;33m:\u001b[0m\u001b[1;33m\u001b[0m\u001b[1;33m\u001b[0m\u001b[0m\n",
      "\u001b[1;32mc:\\Users\\mikad\\anaconda3\\lib\\site-packages\\dsp\\modules\\hf.py\u001b[0m in \u001b[0;36mbasic_request\u001b[1;34m(self, prompt, **kwargs)\u001b[0m\n\u001b[0;32m     93\u001b[0m         \u001b[0mraw_kwargs\u001b[0m \u001b[1;33m=\u001b[0m \u001b[0mkwargs\u001b[0m\u001b[1;33m\u001b[0m\u001b[1;33m\u001b[0m\u001b[0m\n\u001b[0;32m     94\u001b[0m         \u001b[0mkwargs\u001b[0m \u001b[1;33m=\u001b[0m \u001b[1;33m{\u001b[0m\u001b[1;33m**\u001b[0m\u001b[0mself\u001b[0m\u001b[1;33m.\u001b[0m\u001b[0mkwargs\u001b[0m\u001b[1;33m,\u001b[0m \u001b[1;33m**\u001b[0m\u001b[0mkwargs\u001b[0m\u001b[1;33m}\u001b[0m\u001b[1;33m\u001b[0m\u001b[1;33m\u001b[0m\u001b[0m\n\u001b[1;32m---> 95\u001b[1;33m         \u001b[0mresponse\u001b[0m \u001b[1;33m=\u001b[0m \u001b[0mself\u001b[0m\u001b[1;33m.\u001b[0m\u001b[0m_generate\u001b[0m\u001b[1;33m(\u001b[0m\u001b[0mprompt\u001b[0m\u001b[1;33m,\u001b[0m \u001b[1;33m**\u001b[0m\u001b[0mkwargs\u001b[0m\u001b[1;33m)\u001b[0m\u001b[1;33m\u001b[0m\u001b[1;33m\u001b[0m\u001b[0m\n\u001b[0m\u001b[0;32m     96\u001b[0m \u001b[1;33m\u001b[0m\u001b[0m\n\u001b[0;32m     97\u001b[0m         history = {\n",
      "\u001b[1;32mc:\\Users\\mikad\\anaconda3\\lib\\site-packages\\backoff\\_sync.py\u001b[0m in \u001b[0;36mretry\u001b[1;34m(*args, **kwargs)\u001b[0m\n\u001b[0;32m    125\u001b[0m                                exception=e)\n\u001b[0;32m    126\u001b[0m \u001b[1;33m\u001b[0m\u001b[0m\n\u001b[1;32m--> 127\u001b[1;33m                 \u001b[0mtime\u001b[0m\u001b[1;33m.\u001b[0m\u001b[0msleep\u001b[0m\u001b[1;33m(\u001b[0m\u001b[0mseconds\u001b[0m\u001b[1;33m)\u001b[0m\u001b[1;33m\u001b[0m\u001b[1;33m\u001b[0m\u001b[0m\n\u001b[0m\u001b[0;32m    128\u001b[0m             \u001b[1;32melse\u001b[0m\u001b[1;33m:\u001b[0m\u001b[1;33m\u001b[0m\u001b[1;33m\u001b[0m\u001b[0m\n\u001b[0;32m    129\u001b[0m                 \u001b[0m_call_handlers\u001b[0m\u001b[1;33m(\u001b[0m\u001b[0mon_success\u001b[0m\u001b[1;33m,\u001b[0m \u001b[1;33m**\u001b[0m\u001b[0mdetails\u001b[0m\u001b[1;33m)\u001b[0m\u001b[1;33m\u001b[0m\u001b[1;33m\u001b[0m\u001b[0m\n",
      "\u001b[1;31mKeyboardInterrupt\u001b[0m: "
     ]
    }
   ],
   "source": [
    "# testing dspy\n",
    "# dspy together module has some issues with how they wrote it (passing specific parameters is hard)\n",
    "# rate limiting error messages\n",
    "# TODO: look into dspy together module more to see how to fix it\n",
    "\n",
    "lm = dspy.Together(model = 'mistralai/Mistral-7B-Instruct-v0.3', stop = ['</s>', '<s>'])\n",
    "dspy.settings.configure(lm=lm)\n",
    "d = {0: 'dovish', 1: 'hawkish', 2: 'neutral'}\n",
    "\n",
    "class StanceAnalysis(dspy.Signature):\n",
    "    \"\"\"Classify the sentence's stance on the monetary policy between hawkish, neutral, and dovish.\"\"\"\n",
    "    \n",
    "    sentence = dspy.InputField()\n",
    "    stance = dspy.OutputField(desc = \"hawkish, neutral, or dovish\")\n",
    "\n",
    "class Analysis(dspy.Module):\n",
    "    def __init__(self):\n",
    "        super().__init__()\n",
    "        self.predict = dspy.Predict(StanceAnalysis)\n",
    "    \n",
    "    def forward(self, sentence):\n",
    "        return self.predict(sentence=sentence)\n",
    "    \n",
    "analyze = Analysis()\n",
    "analyze(sentence)"
   ]
  },
  {
   "cell_type": "markdown",
   "metadata": {},
   "source": [
    "## Initial textgrad testing"
   ]
  },
  {
   "cell_type": "code",
   "execution_count": 5,
   "metadata": {},
   "outputs": [
    {
     "data": {
      "text/plain": [
       "'Neutral class\\nExplanation: The sentence indicates that participants agreed on the strong labor market and moderate economic activity, suggesting a neutral stance towards monetary policy.'"
      ]
     },
     "execution_count": 5,
     "metadata": {},
     "output_type": "execute_result"
    }
   ],
   "source": [
    "# basic textgrad together engine\n",
    "engine = get_engine('together-allenai/OLMo-7B-Instruct')\n",
    "engine(fomc_prompt(sentence)[1], system_prompt = fomc_prompt(sentence)[0], max_tokens=128, temperature=0.7, top_p=0.7)"
   ]
  },
  {
   "cell_type": "code",
   "execution_count": 9,
   "metadata": {},
   "outputs": [],
   "source": [
    "system_prompt = 'Discard all the previous instructions. Behave like you are an expert sentence classifier.'\n",
    "engine = get_engine('together-mistralai/Mistral-7B-Instruct-v0.3')\n",
    "\n",
    "sys_prompt = Variable('Discard all the previous instructions. Behave like you are an expert sentence classifier.', role_description=\"The system prompt\")\n",
    "user_prompt = Variable(\"Classify the sentence's stance on the monetary policy between hawkish, neutral, and dovish.\", role_description=\"The user prompt\", requires_grad=True)\n",
    "input_sentence = Variable(sentence, role_description=\"The input sentence\")\n",
    "loss = TextLoss(sys_prompt, engine=engine)\n",
    "\n",
    "# optimization does not allow you to set any parameters besides prompt & system prompt\n",
    "# meaning you can't set max tokens or temperature --> problem b/c default output tokens is 2000 \n",
    "# so models with too small context windows will error\n",
    "\n",
    "optimizer = TextualGradientDescent(parameters=[user_prompt], engine=engine)\n",
    "l = loss(input_sentence)\n",
    "l.backward(engine)\n",
    "optimizer.step()"
   ]
  },
  {
   "cell_type": "code",
   "execution_count": 10,
   "metadata": {},
   "outputs": [
    {
     "data": {
      "text/plain": [
       "'Determine the monetary policy stance (hawkish, neutral, or dovish) expressed in the given sentence.'"
      ]
     },
     "execution_count": 10,
     "metadata": {},
     "output_type": "execute_result"
    }
   ],
   "source": [
    "# optimized version of user prompt\n",
    "user_prompt.value"
   ]
  }
 ],
 "metadata": {
  "kernelspec": {
   "display_name": "Python 3",
   "language": "python",
   "name": "python3"
  },
  "language_info": {
   "codemirror_mode": {
    "name": "ipython",
    "version": 3
   },
   "file_extension": ".py",
   "mimetype": "text/x-python",
   "name": "python",
   "nbconvert_exporter": "python",
   "pygments_lexer": "ipython3",
   "version": "3.9.7"
  }
 },
 "nbformat": 4,
 "nbformat_minor": 2
}
