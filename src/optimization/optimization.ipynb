{
 "cells": [
  {
   "cell_type": "code",
   "execution_count": 1,
   "metadata": {},
   "outputs": [
    {
     "name": "stderr",
     "output_type": "stream",
     "text": [
      "c:\\Users\\mikad\\anaconda3\\lib\\site-packages\\pandas\\core\\computation\\expressions.py:21: UserWarning: Pandas requires version '2.8.4' or newer of 'numexpr' (version '2.7.3' currently installed).\n",
      "  from pandas.core.computation.check import NUMEXPR_INSTALLED\n",
      "c:\\Users\\mikad\\anaconda3\\lib\\site-packages\\pandas\\core\\arrays\\masked.py:60: UserWarning: Pandas requires version '1.3.6' or newer of 'bottleneck' (version '1.3.2' currently installed).\n",
      "  from pandas.core import (\n"
     ]
    }
   ],
   "source": [
    "from together import Together\n",
    "import pandas as pd\n",
    "import numpy as np\n",
    "from datasets import load_dataset\n",
    "from tokens import tokens\n",
    "import os\n",
    "import dspy\n",
    "import sys\n",
    "sys.path.insert(0, r\"C:\\Users\\mikad\\Documents\\GitHub\\textgrad\")\n",
    "import textgrad\n",
    "from textgrad.engine import get_engine\n",
    "from textgrad import Variable\n",
    "from textgrad.optimizer import TextualGradientDescent\n",
    "from textgrad.loss import TextLoss\n",
    "from textgrad.tasks import DataLoader \n",
    "import concurrent\n",
    "from tqdm import tqdm\n",
    "import random\n",
    "import math"
   ]
  },
  {
   "cell_type": "markdown",
   "metadata": {},
   "source": [
    "## Initialization"
   ]
  },
  {
   "cell_type": "code",
   "execution_count": 2,
   "metadata": {},
   "outputs": [],
   "source": [
    "# set up tokens\n",
    "os.environ['TOGETHER_API_KEY'] = together_token\n",
    "os.environ['HF_TOKEN'] = hf_token"
   ]
  },
  {
   "cell_type": "code",
   "execution_count": 4,
   "metadata": {},
   "outputs": [
    {
     "name": "stdout",
     "output_type": "stream",
     "text": [
      "Original sentence: Participants agreed that the labor market had remained strong over the intermeeting period and that economic activity had risen at a moderate rate.\n",
      "Label: 2\n"
     ]
    }
   ],
   "source": [
    "# Load testing data\n",
    "dataset = load_dataset(\"gtfintechlab/fomc_communication\")\n",
    "sample = dataset['test'][0]\n",
    "sentence = sample['sentence']\n",
    "label = sample['label']\n",
    "print(f\"Original sentence: {sentence}\\nLabel: {label}\")"
   ]
  },
  {
   "cell_type": "code",
   "execution_count": 16,
   "metadata": {},
   "outputs": [],
   "source": [
    "#finqa (qa), ECTSum (summarization) \n",
    "dataset = load_dataset(\"gtfintechlab/finqa\")\n",
    "sample = dataset['test'][0]"
   ]
  },
  {
   "cell_type": "markdown",
   "metadata": {},
   "source": [
    "## Textgrad Prompt Optimization"
   ]
  },
  {
   "cell_type": "code",
   "execution_count": 4,
   "metadata": {},
   "outputs": [],
   "source": [
    "def find_first_occurrence(text):\n",
    "    words = [\"hawkish\", \"dovish\", \"neutral\"]\n",
    "    positions = [(text.find(word), word) for word in words if text.find(word) != -1]\n",
    "    return min(positions)[1] if positions else 'neutral'\n",
    "\n",
    "def extract_answer(text):\n",
    "    client = Together()\n",
    "    try: \n",
    "        model_response = client.chat.completions.create(\n",
    "            model='meta-llama/Meta-Llama-3-8b-Instruct',\n",
    "            messages=[{'role': 'system', 'content': \"Discard all previous instructions. Behave as if you are an text extraction model. You are only extracting the answer.\"},\n",
    "                        {'role': 'user', 'content': f\"Extract the one word answer (HAWKISH, DOVISH, or NEUTRAL) from the following text: {text}.\\nDo not enter any other text.\"}],\n",
    "            max_tokens=128, temperature=0.7, top_k=50, top_p=0.7,repetition_penalty=1.1\n",
    "        )\n",
    "        response = model_response.choices[0].message.content\n",
    "        return response.strip().split()[0]\n",
    "    except:\n",
    "        return None\n",
    "\n",
    "def string_based_equality_fn(prediction: Variable, ground_truth_answer: Variable):\n",
    "    mapping = {0: 'dovish', 1: 'hawkish', 2: 'neutral'}\n",
    "    # pred = find_first_occurrence(str(prediction.value).lower())\n",
    "    pred = extract_answer(str(prediction.value).lower())\n",
    "    if (pred != None and str(pred).lower() == str(mapping[int(ground_truth_answer.value)]).lower()):\n",
    "        return 1\n",
    "    else: \n",
    "        return 0\n",
    "\n",
    "eval_fn = textgrad.autograd.StringBasedFunction(string_based_equality_fn, \"Evaluate if LLM answer matches ground truth\")"
   ]
  },
  {
   "cell_type": "code",
   "execution_count": 5,
   "metadata": {},
   "outputs": [],
   "source": [
    "# Evaluate given sample using custom evaluation function\n",
    "def eval_sample(x, y, eval_fn, model):\n",
    "    x = Variable(x, requires_grad=False, role_description=\"query to the language model\")\n",
    "    y = Variable(y, requires_grad=False, role_description=\"correct answer for the query\")\n",
    "    response = model(x)\n",
    "    inputs = dict(prediction = response, ground_truth_answer = y)\n",
    "    eval_output_variable = eval_fn(inputs = inputs)\n",
    "    return eval_output_variable\n",
    "    \n",
    "# Evaluate dataset using custom evaluation function\n",
    "def eval_dataset(test_set, eval_fn, model, max_samples = None, max_workers = 24):\n",
    "    if max_samples is None: \n",
    "        max_samples = len(test_set)\n",
    "    accuracy_list = []\n",
    "    with concurrent.futures.ThreadPoolExecutor(max_workers=max_workers) as executor:\n",
    "        futures = []\n",
    "        for _, sample in enumerate(test_set):\n",
    "            future = executor.submit(eval_sample, sample[0], sample[1], eval_fn, model)\n",
    "            futures.append(future)\n",
    "            if len(futures) >= max_samples:\n",
    "                break\n",
    "        tqdm_loader = tqdm(concurrent.futures.as_completed(futures), total=len(futures), position=0)\n",
    "        for future in tqdm_loader:\n",
    "            output = future.result()\n",
    "            output = int(output.value)\n",
    "            accuracy_list.append(output)\n",
    "            tqdm_loader.set_description(f\"Accuracy: {np.mean(accuracy_list)}\")\n",
    "    return accuracy_list \n",
    "\n",
    "# Evaluate system prompt and revert to previous prompt if new prompt has lower test accuracy\n",
    "def run_val_revert(system_prompt, results, eval_fn, model, validation_dataset):\n",
    "    curr_accuracy = np.mean(eval_dataset(validation_dataset, eval_fn, model))\n",
    "    prev_accuracy = np.mean(results[\"val_accuracy\"][-1])\n",
    "    print(f\"Val accuracy: {curr_accuracy}\\nPrevious val accuracy: {prev_accuracy}\")\n",
    "    previous_prompt = results[\"prompt\"][-1]\n",
    "\n",
    "    results[\"new_prompt_val_accuracy\"].append(curr_accuracy)\n",
    "    \n",
    "    if curr_accuracy < prev_accuracy:\n",
    "        print(f\"Rejected prompt: {system_prompt.value}\")\n",
    "        system_prompt.set_value(previous_prompt)\n",
    "        curr_accuracy = prev_accuracy\n",
    "\n",
    "    results[\"val_accuracy\"].append(curr_accuracy)"
   ]
  },
  {
   "cell_type": "code",
   "execution_count": 6,
   "metadata": {},
   "outputs": [],
   "source": [
    "engine = get_engine('together-meta-llama/Meta-Llama-3-8b-Instruct-Turbo')\n",
    "# production use 70b model\n",
    "\n",
    "starting_prompt = \"Classify the following sentence from FOMC into hawkish, dovish, or neutral based on its stance on monetary policy. Explain your reasoning.\"\n",
    "starting_prompt = \"Behave like you are an expert at summarization tasks. Below an earnings call transcript of a Russell 3000 Index company is provided. Perform extractive summarization followed by paraphrasing the transcript in bullet point format according to the experts-written short telegram-style bullet point summaries derived from corresponding Reuters articles. The target length of the summary should be at most 50 words.\"\n",
    "system_prompt = Variable(starting_prompt, requires_grad=True, role_description=\"System prompt to the language model. Must include instructions to output one of hawkish, dovish, and neutral.\")\n",
    "model = textgrad.BlackboxLLM(engine, system_prompt, max_tokens=64, temperature=0.7, top_k=50, top_p=0.7, repetition_penalty=1.1)\n",
    "\n",
    "optimizer = TextualGradientDescent(engine=engine, parameters=[system_prompt], constraints = [\"Must include text instructions to output one of hawkish, dovish, and neutral, written with those exact labels and not synonyms.\"],\n",
    "                max_tokens=150, temperature=0.9, top_k=50, top_p=0.7, repetition_penalty=1.1)"
   ]
  },
  {
   "cell_type": "code",
   "execution_count": 7,
   "metadata": {},
   "outputs": [
    {
     "name": "stderr",
     "output_type": "stream",
     "text": [
      "Accuracy: 0.4012096774193548: 100%|██████████| 496/496 [00:00<00:00, 549.01it/s] \n"
     ]
    }
   ],
   "source": [
    "# testing zero-shot performance\n",
    "mapping = {0: 'dovish', 1: 'hawkish', 2: 'neutral'}\n",
    "data = [(data['sentence'], data['label']) for data in dataset['test']]\n",
    "results = {\"test_accuracy\": [], \"prompt\": []}\n",
    "results[\"test_accuracy\"].append(eval_dataset(data, eval_fn, model))\n",
    "results[\"prompt\"].append(system_prompt.get_value())"
   ]
  },
  {
   "cell_type": "code",
   "execution_count": 7,
   "metadata": {},
   "outputs": [],
   "source": [
    "# subset the data to do a mini run\n",
    "def pick_random(data, n = 20):\n",
    "    labels = {0: [], 1: [], 2: []}\n",
    "    for sentence, label in data:\n",
    "        labels[label].append((sentence, label))\n",
    "    result = []\n",
    "    for label in labels:\n",
    "        result.extend(random.sample(labels[label], n))\n",
    "    return result\n",
    "training = [(data['sentence'], data['label']) for data in dataset['train']]\n",
    "random.shuffle(training)\n",
    "training_data_options = training[:math.ceil(len(training)*0.8)]\n",
    "val_data_options = training[math.ceil(len(training)*0.8):]\n",
    "\n",
    "num_classes = 3\n",
    "training_count = math.ceil(len(training) * 0.5)\n",
    "training_data = pick_random(training_data_options, n = math.ceil(training_count // num_classes))\n",
    "val_count = math.ceil(len(training) * 0.1)\n",
    "val_data = pick_random(val_data_options, n = math.ceil(val_count // num_classes))\n",
    "testing_data = [(data['sentence'], data['label']) for data in dataset['test']]"
   ]
  },
  {
   "cell_type": "code",
   "execution_count": 11,
   "metadata": {},
   "outputs": [],
   "source": [
    "training = [(data['context'], data['response']) for data in dataset['train']]\n",
    "random.shuffle(training)\n",
    "training_data_options = training[:math.ceil(len(training)*0.8)]\n",
    "val_data_options = training[math.ceil(len(training)*0.8):]\n",
    "\n",
    "training_count = math.ceil(len(training) * 0.5)\n",
    "training_data = random.sample(training_data_options, training_count)\n",
    "val_count = math.ceil(len(training) * 0.1)\n",
    "val_data = random.sample(val_data_options, val_count)\n",
    "testing_data = [(data['context'], data['response']) for data in dataset['test']]"
   ]
  },
  {
   "cell_type": "code",
   "execution_count": 8,
   "metadata": {},
   "outputs": [
    {
     "name": "stderr",
     "output_type": "stream",
     "text": [
      "Accuracy: 0.4090909090909091: 100%|██████████| 198/198 [00:03<00:00, 62.40it/s]  \n"
     ]
    },
    {
     "name": "stdout",
     "output_type": "stream",
     "text": [
      "Starting prompt: Classify the following sentence from FOMC into hawkish, dovish, or neutral based on its stance on monetary policy. Output your prediction on the first line and your explanation after.\n",
      "Starting val accuracy: 0.4090909090909091\n"
     ]
    },
    {
     "name": "stderr",
     "output_type": "stream",
     "text": [
      "Epoch 0: Training step 1: : 1it [00:19, 19.30s/it]"
     ]
    },
    {
     "name": "stdout",
     "output_type": "stream",
     "text": [
      "Prompt:  Classify the following sentence from FOMC into hawkish, dovish, or neutral, considering the tone, syntax, and semantics of the sentence, as well as the presence or absence of urgency or concern. Provide a detailed explanation for your prediction, including specific examples from the sentence that support your classification. What are the key factors driving your classification, and how do they relate to the broader context of monetary policy? Output your prediction on the first line and your explanation after, including specific reasons and potential drawbacks. Additionally, acknowledge the complexity of the topic and the limitations of your model. Please provide a brief summary of the sentence being classified to help the reader understand the context of your classification. Your explanation should be clear and\n"
     ]
    },
    {
     "name": "stderr",
     "output_type": "stream",
     "text": [
      "Epoch 0: Training step 2: : 2it [00:39, 19.84s/it]"
     ]
    },
    {
     "name": "stdout",
     "output_type": "stream",
     "text": [
      "Prompt:  Classify the following sentence from FOMC into hawkish, dovish, or neutral, considering the tone, syntax, and semantics of the sentence, as well as the presence or absence of urgency or concern. Provide a detailed explanation for your prediction, including specific examples from the sentence that support your classification, and explicitly highlight the key factors driving your classification. Additionally, acknowledge the complexity of the topic and the limitations of your model. Please provide a brief summary of the sentence being classified to help the reader understand the context of your classification. Your explanation should be clear, concise, and provide a clear justification for your classification. Furthermore, consider the potential drawbacks of your classification and provide a nuanced discussion of the implications of your prediction\n"
     ]
    },
    {
     "name": "stderr",
     "output_type": "stream",
     "text": [
      "Epoch 0: Training step 3: : 3it [00:59, 19.79s/it]"
     ]
    },
    {
     "name": "stdout",
     "output_type": "stream",
     "text": [
      "Prompt:  Classify the following sentence from FOMC into hawkish, dovish, or neutral, considering the tone, syntax, and semantics of the sentence, as well as the presence or absence of urgency or concern. Provide a detailed explanation for your prediction, including specific examples from the sentence that support your classification, and explicitly highlight the key factors driving your classification. Additionally, acknowledge the complexity of the topic and the limitations of your model. Please provide a brief summary of the sentence being classified to help the reader understand the context of your classification. Your explanation should be clear, concise, and provide a clear justification for your classification. Furthermore, consider the potential drawbacks of your classification and provide a nuanced discussion of the implications of your prediction\n"
     ]
    },
    {
     "name": "stderr",
     "output_type": "stream",
     "text": [
      "Epoch 0: Training step 4: : 4it [01:20, 20.27s/it]"
     ]
    },
    {
     "name": "stdout",
     "output_type": "stream",
     "text": [
      "Prompt:  Classify the following sentence from FOMC into hawkish, dovish, or neutral, considering the tone, syntax, and semantics of the sentence, as well as the presence or absence of urgency or concern. Provide a detailed explanation for your prediction, including specific examples from the sentence that support your classification, and explicitly highlight the key factors driving your classification. Additionally, acknowledge the complexity of the topic and the limitations of your model. Please provide a brief summary of the sentence being classified to help the reader understand the context of your classification. Furthermore, consider the potential drawbacks of your classification and provide a nuanced discussion of the implications of your prediction. To ensure accuracy, please provide a clear justification for your classification, including any\n"
     ]
    },
    {
     "name": "stderr",
     "output_type": "stream",
     "text": [
      "Epoch 0: Training step 5: : 5it [01:41, 20.73s/it]"
     ]
    },
    {
     "name": "stdout",
     "output_type": "stream",
     "text": [
      "Prompt:  Classify the following sentence from FOMC into hawkish, dovish, or neutral, providing a detailed and nuanced explanation of the factors driving your classification. Specifically, highlight the key linguistic features, tone, and semantic cues that support your prediction, and acknowledge the potential limitations and complexities of your model. Additionally, consider the potential drawbacks of your classification and provide a balanced discussion of the implications of your prediction. To ensure accuracy, please provide a clear and concise justification for your classification, including specific examples from the sentence that support your conclusion, and explicitly highlight the aspects of the sentence that contribute to its hawkish, dovish, or neutral tone. Furthermore, consider the potential impact of your classification on the broader context and provide\n"
     ]
    },
    {
     "name": "stderr",
     "output_type": "stream",
     "text": [
      "Epoch 0: Training step 6: : 6it [02:00, 20.19s/it]"
     ]
    },
    {
     "name": "stdout",
     "output_type": "stream",
     "text": [
      "Prompt:  VARIABLE> Classify the following sentence from FOMC into hawkish, dovish, or neutral, providing a detailed and nuanced explanation of the factors driving your classification. Specifically, highlight the key linguistic features, tone, and semantic cues that support your prediction, and acknowledge the potential limitations and complexities of your model. Additionally, consider the potential drawbacks of your classification and provide a balanced discussion of the implications of your prediction. To ensure accuracy, please provide a clear and concise justification for your classification, including specific examples from the sentence that support your conclusion, and explicitly highlight the aspects of the sentence that contribute to its hawkish, dovish, or neutral tone. Furthermore, consider the potential impact of your classification on the broader\n"
     ]
    },
    {
     "name": "stderr",
     "output_type": "stream",
     "text": [
      "Epoch 0: Training step 7: : 7it [02:21, 20.31s/it]"
     ]
    },
    {
     "name": "stdout",
     "output_type": "stream",
     "text": [
      "Prompt:  VARIABLE> Classify the following sentence from FOMC into hawkish, dovish, or neutral, providing a detailed and nuanced explanation of the factors driving your classification. Specifically, highlight the key linguistic features, tone, and semantic cues that support your prediction, and acknowledge the potential limitations and complexities of your model. Additionally, consider the potential drawbacks of your classification and provide a balanced discussion of the implications of your prediction. Furthermore, consider the potential impact of your classification on the broader economic landscape, including the potential effects on interest rates, inflation, and employment. To ensure accuracy, please provide a clear and concise justification for your classification, including specific examples from the sentence that support your conclusion, and explicitly highlight the aspects of the\n"
     ]
    },
    {
     "name": "stderr",
     "output_type": "stream",
     "text": [
      "Epoch 0: Training step 8: : 8it [02:43, 20.92s/it]"
     ]
    },
    {
     "name": "stdout",
     "output_type": "stream",
     "text": [
      "Prompt:  Classify the following sentence from FOMC into hawkish, dovish, or neutral, providing a detailed and nuanced explanation of the factors driving your classification. Specifically, highlight the key linguistic features, tone, and semantic cues that support your prediction, and acknowledge the potential limitations and complexities of your model. Additionally, consider the potential drawbacks of your classification and provide a balanced discussion of the implications of your prediction. Furthermore, consider the potential impact of your classification on the broader economic landscape, including the potential effects on interest rates, inflation, and employment. To ensure accuracy, please provide a clear and concise justification for your classification, including specific examples from the sentence that support your conclusion, and explicitly highlight the aspects of the sentence\n"
     ]
    },
    {
     "name": "stderr",
     "output_type": "stream",
     "text": [
      "Epoch 0: Training step 9: : 9it [03:04, 20.90s/it]"
     ]
    },
    {
     "name": "stdout",
     "output_type": "stream",
     "text": [
      "Prompt:  VARIABLE> Classify the following sentence from FOMC into hawkish, dovish, or neutral, providing a detailed and nuanced explanation of the factors driving your classification. Specifically, highlight the key linguistic features, tone, and semantic cues that support your prediction, and acknowledge the potential limitations and complexities of your model. Additionally, consider the potential drawbacks of your classification and provide a balanced discussion of the implications of your prediction. Furthermore, consider the potential impact of your classification on the broader economic landscape, including the potential effects on interest rates, inflation, and employment. To ensure accuracy, please provide a clear and concise justification for your classification, including specific examples from the sentence that support your conclusion, and explicitly highlight the aspects of\n"
     ]
    },
    {
     "name": "stderr",
     "output_type": "stream",
     "text": [
      "Epoch 0: Training step 9: : 10it [03:26, 20.66s/it]\n"
     ]
    },
    {
     "name": "stdout",
     "output_type": "stream",
     "text": [
      "Prompt:  VARIABLE> Classify the following sentence from FOMC into hawkish, dovish, or neutral, providing a detailed and nuanced explanation of the factors driving your classification. Specifically, highlight the key linguistic features, tone, and semantic cues that support your prediction, and acknowledge the potential limitations and complexities of your model. Additionally, consider the potential drawbacks of your classification and provide a balanced discussion of the implications of your prediction. Furthermore, consider the potential impact of your classification on the broader economic landscape, including the potential effects on interest rates, inflation, and employment. To ensure accuracy, please provide a clear and concise justification for your classification, including specific examples from the sentence that support your conclusion, and explicitly highlight the aspects of\n",
      "New prompt:  VARIABLE> Classify the following sentence from FOMC into hawkish, dovish, or neutral, providing a detailed and nuanced explanation of the factors driving your classification. Specifically, highlight the key linguistic features, tone, and semantic cues that support your prediction, and acknowledge the potential limitations and complexities of your model. Additionally, consider the potential drawbacks of your classification and provide a balanced discussion of the implications of your prediction. Furthermore, consider the potential impact of your classification on the broader economic landscape, including the potential effects on interest rates, inflation, and employment. To ensure accuracy, please provide a clear and concise justification for your classification, including specific examples from the sentence that support your conclusion, and explicitly highlight the aspects of\n"
     ]
    },
    {
     "name": "stderr",
     "output_type": "stream",
     "text": [
      "Accuracy: 0.5505050505050505: 100%|██████████| 198/198 [00:07<00:00, 27.03it/s]\n"
     ]
    },
    {
     "name": "stdout",
     "output_type": "stream",
     "text": [
      "Val accuracy: 0.5505050505050505\n",
      "Previous val accuracy: 0.4090909090909091\n",
      "System prompt:  VARIABLE> Classify the following sentence from FOMC into hawkish, dovish, or neutral, providing a detailed and nuanced explanation of the factors driving your classification. Specifically, highlight the key linguistic features, tone, and semantic cues that support your prediction, and acknowledge the potential limitations and complexities of your model. Additionally, consider the potential drawbacks of your classification and provide a balanced discussion of the implications of your prediction. Furthermore, consider the potential impact of your classification on the broader economic landscape, including the potential effects on interest rates, inflation, and employment. To ensure accuracy, please provide a clear and concise justification for your classification, including specific examples from the sentence that support your conclusion, and explicitly highlight the aspects of\n"
     ]
    },
    {
     "name": "stderr",
     "output_type": "stream",
     "text": [
      "Epoch 1: Training step 1: : 1it [00:20, 20.06s/it]"
     ]
    },
    {
     "name": "stdout",
     "output_type": "stream",
     "text": [
      "Prompt:  VARIABLE> Classify the following sentence from FOMC into hawkish, dovish, or neutral, providing a detailed and nuanced analysis of the linguistic features, tone, and semantic cues that drive your classification. Specifically, highlight the key contextual factors, such as the sentence's position within the FOMC statement, the surrounding economic conditions, and the potential implications for interest rates, inflation, and employment. Additionally, consider the potential limitations and complexities of your model, and acknowledge the potential drawbacks of your classification. Furthermore, provide a balanced discussion of the implications of your prediction, including alternative perspectives and counterarguments. To ensure accuracy, please provide a clear and concise justification for your classification, including specific examples from the sentence that support\n"
     ]
    },
    {
     "name": "stderr",
     "output_type": "stream",
     "text": [
      "Epoch 1: Training step 2: : 2it [00:41, 20.71s/it]"
     ]
    },
    {
     "name": "stdout",
     "output_type": "stream",
     "text": [
      "Prompt:  VARIABLE> Classify the following sentence from FOMC into hawkish, dovish, or neutral, providing a detailed and nuanced analysis of the linguistic features, tone, and semantic cues that drive your classification. Specifically, highlight the key contextual factors, such as the sentence's position within the FOMC statement, the surrounding economic conditions, and the potential implications for interest rates, inflation, and employment. Additionally, consider the potential limitations and complexities of your model, and acknowledge the potential drawbacks of your classification. Furthermore, provide a clear and concise justification for your classification, including specific examples from the sentence that support your argument. Moreover, consider the following additional instructions:\n",
      "\n",
      "* Provide a more balanced analysis by incorporating both hawkish and\n"
     ]
    },
    {
     "name": "stderr",
     "output_type": "stream",
     "text": [
      "Epoch 1: Training step 3: : 3it [01:01, 20.46s/it]"
     ]
    },
    {
     "name": "stdout",
     "output_type": "stream",
     "text": [
      "Prompt:  VARIABLE> Classify the following sentence from FOMC into hawkish, dovish, or neutral, providing a nuanced analysis of the linguistic features, tone, and semantic cues that drive your classification. Specifically, highlight the key contextual factors, such as the sentence's position within the FOMC statement, the surrounding economic conditions, and the potential implications for interest rates, inflation, and employment. Additionally, consider the potential limitations and complexities of your model, and acknowledge the potential drawbacks of your classification. Furthermore, provide a clear and concise justification for your classification, including specific examples from the sentence that support your argument. Moreover, consider the following additional instructions:\n",
      "\n",
      "* Provide a balanced analysis by incorporating both hawkish and dovish\n"
     ]
    },
    {
     "name": "stderr",
     "output_type": "stream",
     "text": [
      "Epoch 1: Training step 4: : 4it [01:24, 21.37s/it]"
     ]
    },
    {
     "name": "stdout",
     "output_type": "stream",
     "text": [
      "Prompt:  Classify the following sentence from FOMC into hawkish, dovish, or neutral, providing a nuanced analysis that incorporates both hawkish and dovish perspectives. Specifically, highlight the key linguistic features, tone, and semantic cues that drive your classification, and provide concrete evidence to support your argument. Additionally, consider the potential limitations and complexities of your model, and acknowledge the potential drawbacks of your classification. Furthermore, provide a clear and concise justification for your classification, including specific examples from the sentence that support your argument. Moreover, consider the following additional instructions:\n",
      "\n",
      "* Provide a balanced analysis by incorporating both hawkish and dovish perspectives, acknowledging the complexity of the issue and highlighting multiple viewpoints.\n",
      "* Consider the potential risks and consequences\n"
     ]
    },
    {
     "name": "stderr",
     "output_type": "stream",
     "text": [
      "Epoch 1: Training step 5: : 5it [01:43, 20.81s/it]"
     ]
    },
    {
     "name": "stdout",
     "output_type": "stream",
     "text": [
      "Prompt:  Classify the following sentence from FOMC into hawkish, dovish, or nuanced, providing a balanced analysis that incorporates multiple viewpoints and acknowledges the complexity of the issue. Specifically, highlight the key linguistic features, tone, and semantic cues that drive your classification, and provide concrete evidence to support your argument. Additionally, consider the potential risks and consequences, and provide a clear and concise justification for your classification, including specific examples from the sentence that support your argument. Moreover, consider the following additional instructions:\n",
      "\n",
      "* Provide a balanced analysis by incorporating both hawkish and dovish perspectives, acknowledging the complexity of the issue and highlighting multiple viewpoints.\n",
      "* Consider the potential risks and consequences.\n",
      "* Be concise and direct in your classification,\n"
     ]
    },
    {
     "name": "stderr",
     "output_type": "stream",
     "text": [
      "Epoch 1: Training step 6: : 6it [02:05, 21.09s/it]"
     ]
    },
    {
     "name": "stdout",
     "output_type": "stream",
     "text": [
      "Prompt:  Classify the following sentence from FOMC into hawkish, dovish, or neutral, providing a detailed and specific analysis that incorporates concrete data, nuanced tone, and contextual understanding. Specifically, highlight the key linguistic features, tone, and semantic cues that drive your classification, and provide concrete evidence to support your argument. Additionally, consider the potential risks and consequences, and provide a clear and concise justification for your classification, including specific examples from the sentence that support your argument. Moreover, consider the following additional instructions:\n",
      "\n",
      "* Provide a detailed and specific analysis by incorporating concrete data and nuanced tone, acknowledging the complexity of the issue and highlighting multiple viewpoints.\n",
      "* Consider the potential risks and consequences, and provide a clear and concise justification for\n"
     ]
    },
    {
     "name": "stderr",
     "output_type": "stream",
     "text": [
      "Epoch 1: Training step 7: : 7it [02:25, 20.64s/it]"
     ]
    },
    {
     "name": "stdout",
     "output_type": "stream",
     "text": [
      "Prompt:  Classify the following sentence from FOMC into hawkish, dovish, or neutral, providing a detailed and specific analysis that incorporates concrete data, nuanced tone, and contextual understanding. Specifically, highlight the key linguistic features, tone, and semantic cues that drive your classification, and provide concrete evidence to support your argument. Additionally, consider the potential risks and consequences, and provide a clear and concise justification for your classification, including specific examples from the sentence that support your argument. Moreover, consider the following additional instructions:\n",
      "\n",
      "* Provide a detailed and specific analysis by incorporating concrete data and nuanced tone, acknowledging the complexity of the issue and highlighting multiple viewpoints.\n",
      "* Consider the potential risks and consequences, and provide a clear and concise justification for\n"
     ]
    },
    {
     "name": "stderr",
     "output_type": "stream",
     "text": [
      "Epoch 1: Training step 8: : 8it [02:46, 20.74s/it]"
     ]
    },
    {
     "name": "stdout",
     "output_type": "stream",
     "text": [
      "Prompt:  VARIABLE> Classify the following sentence from FOMC into a numerical value between 0 and 3, where 0 represents a hawkish stance, 1 represents a neutral stance, 2 represents a dovish stance, and 3 represents a highly dovish stance. Provide a detailed and specific analysis that incorporates concrete data, nuanced tone, and contextual understanding, highlighting the key linguistic features, tone, and semantic cues that drive your classification. Additionally, consider the potential risks and consequences, and provide a clear and concise justification for your classification, including specific examples from the sentence that support your argument.\n"
     ]
    },
    {
     "name": "stderr",
     "output_type": "stream",
     "text": [
      "Epoch 1: Training step 9: : 9it [03:05, 20.35s/it]"
     ]
    },
    {
     "name": "stdout",
     "output_type": "stream",
     "text": [
      "Prompt:  Classify the following sentence from FOMC into a numerical value between 0 and 3, where 0 represents a hawkish stance, 1 represents a neutral stance, 2 represents a dovish stance, and 3 represents a highly dovish stance. Provide a detailed and specific analysis that incorporates concrete data, nuanced tone, and contextual understanding, highlighting the key linguistic features, tone, and semantic cues that drive your classification. Additionally, consider the potential risks and consequences, and provide a clear and concise justification for your classification, including specific examples from the sentence that support your argument. Please provide a thorough examination of the sentence's syntax, semantics, and pragmatics, considering the following questions: What are the\n"
     ]
    },
    {
     "name": "stderr",
     "output_type": "stream",
     "text": [
      "Epoch 1: Training step 9: : 10it [03:27, 20.79s/it]\n"
     ]
    },
    {
     "name": "stdout",
     "output_type": "stream",
     "text": [
      "Prompt:  Classify the following sentence from FOMC into a numerical value between 0 and 3, where 0 represents a hawkish stance, 1 represents a neutral stance, 2 represents a dovish stance, and 3 represents a highly dovish stance. Provide a detailed and specific analysis that incorporates concrete data, nuanced tone, and contextual understanding, highlighting the key linguistic features, tone, and semantic cues that drive your classification. Additionally, consider the potential risks and consequences, and provide a clear and concise justification for your classification, including specific examples from the sentence that support your argument. Please provide a thorough examination of the sentence's syntax, semantics, and pragmatics, considering the following questions: What are the\n",
      "New prompt:  Classify the following sentence from FOMC into a numerical value between 0 and 3, where 0 represents a hawkish stance, 1 represents a neutral stance, 2 represents a dovish stance, and 3 represents a highly dovish stance. Provide a detailed and specific analysis that incorporates concrete data, nuanced tone, and contextual understanding, highlighting the key linguistic features, tone, and semantic cues that drive your classification. Additionally, consider the potential risks and consequences, and provide a clear and concise justification for your classification, including specific examples from the sentence that support your argument. Please provide a thorough examination of the sentence's syntax, semantics, and pragmatics, considering the following questions: What are the\n"
     ]
    },
    {
     "name": "stderr",
     "output_type": "stream",
     "text": [
      "Accuracy: 0.43434343434343436: 100%|██████████| 198/198 [00:07<00:00, 26.77it/s]\n"
     ]
    },
    {
     "name": "stdout",
     "output_type": "stream",
     "text": [
      "Val accuracy: 0.43434343434343436\n",
      "Previous val accuracy: 0.5505050505050505\n",
      "Rejected prompt: Classify the following sentence from FOMC into a numerical value between 0 and 3, where 0 represents a hawkish stance, 1 represents a neutral stance, 2 represents a dovish stance, and 3 represents a highly dovish stance. Provide a detailed and specific analysis that incorporates concrete data, nuanced tone, and contextual understanding, highlighting the key linguistic features, tone, and semantic cues that drive your classification. Additionally, consider the potential risks and consequences, and provide a clear and concise justification for your classification, including specific examples from the sentence that support your argument. Please provide a thorough examination of the sentence's syntax, semantics, and pragmatics, considering the following questions: What are the\n",
      "System prompt:  VARIABLE> Classify the following sentence from FOMC into hawkish, dovish, or neutral, providing a detailed and nuanced explanation of the factors driving your classification. Specifically, highlight the key linguistic features, tone, and semantic cues that support your prediction, and acknowledge the potential limitations and complexities of your model. Additionally, consider the potential drawbacks of your classification and provide a balanced discussion of the implications of your prediction. Furthermore, consider the potential impact of your classification on the broader economic landscape, including the potential effects on interest rates, inflation, and employment. To ensure accuracy, please provide a clear and concise justification for your classification, including specific examples from the sentence that support your conclusion, and explicitly highlight the aspects of\n"
     ]
    },
    {
     "name": "stderr",
     "output_type": "stream",
     "text": [
      "Epoch 2: Training step 1: : 1it [00:22, 22.35s/it]"
     ]
    },
    {
     "name": "stdout",
     "output_type": "stream",
     "text": [
      "Prompt:  VARIABLE> Classify the following sentence from FOMC into hawkish, dovish, or neutral, providing a detailed and nuanced explanation of the factors driving your classification. Specifically, highlight the key linguistic features, tone, and semantic cues that support your prediction, and acknowledge the potential limitations and complexities of your model. Additionally, consider the potential drawbacks of your classification and provide a balanced discussion of the implications of your prediction. Furthermore, consider the potential impact of your classification on the broader economic landscape, including the potential effects on interest rates, inflation, and employment. To ensure accuracy, please provide a clear and concise justification for your classification, including specific examples from the sentence that support your conclusion, and explicitly highlight the aspects of the\n"
     ]
    },
    {
     "name": "stderr",
     "output_type": "stream",
     "text": [
      "Epoch 2: Training step 2: : 2it [00:42, 20.88s/it]"
     ]
    },
    {
     "name": "stdout",
     "output_type": "stream",
     "text": [
      "Prompt:  VARIABLE> Classify the following sentence from FOMC into hawkish, dovish, or neutral, providing a detailed and nuanced explanation of the factors driving your classification. Specifically, highlight the key linguistic features, tone, and semantic cues that support your prediction, and acknowledge the potential limitations and complexities of your model. Additionally, consider the potential drawbacks of your classification and provide a balanced discussion of the implications of your prediction. Furthermore, consider the potential impact of your classification on the broader economic landscape, including the potential effects on interest rates, inflation, and employment. To ensure accuracy, please provide a clear and concise justification for your classification, including specific examples from the sentence that support your conclusion, and explicitly highlight the aspects of the\n"
     ]
    },
    {
     "name": "stderr",
     "output_type": "stream",
     "text": [
      "Epoch 2: Training step 3: : 3it [01:02, 20.77s/it]"
     ]
    },
    {
     "name": "stdout",
     "output_type": "stream",
     "text": [
      "Prompt:  VARIABLE> Classify the following sentence from FOMC into hawkish, dovish, or neutral, providing a detailed and nuanced explanation of the factors driving your classification. Specifically, highlight the key linguistic features, tone, and semantic cues that support your prediction, and acknowledge the potential limitations and complexities of your model. Additionally, consider the potential drawbacks of your classification and provide a balanced discussion of the implications of your prediction. Furthermore, consider the potential impact of your classification on the broader economic landscape, including the potential effects on interest rates, inflation, and employment. To ensure accuracy, please provide a clear and concise justification for your classification, including specific examples from the sentence that support your conclusion, and explicitly highlight the aspects of the\n"
     ]
    },
    {
     "name": "stderr",
     "output_type": "stream",
     "text": [
      "Epoch 2: Training step 4: : 4it [01:23, 20.55s/it]"
     ]
    },
    {
     "name": "stdout",
     "output_type": "stream",
     "text": [
      "Prompt:  Classify the sentence from FOMC into hawkish, dovish, or neutral, providing a clear and concise justification for your classification. Specifically, highlight the key linguistic features, tone, and semantic cues that support your conclusion, and acknowledge the potential limitations and complexities of your model. Additionally, consider the potential drawbacks of your classification and provide a balanced discussion of the implications of your prediction. Furthermore, consider the potential impact of your classification on the broader economic landscape, including the potential effects on interest rates, inflation, and employment. Please provide concrete examples or quotes from the sentence that demonstrate the presence of hawkish, dovish, or neutral language, and rephrase your response to make it more direct and concise while maintaining the\n"
     ]
    },
    {
     "name": "stderr",
     "output_type": "stream",
     "text": [
      "Epoch 2: Training step 5: : 5it [01:44, 20.95s/it]"
     ]
    },
    {
     "name": "stdout",
     "output_type": "stream",
     "text": [
      "Prompt:  Classify the sentence from FOMC into hawkish, dovish, or neutral, providing a clear and concise justification for your classification. Specifically, highlight the key linguistic features, tone, and semantic cues that support your conclusion, and acknowledge the potential limitations and complexities of your model. Additionally, consider the potential drawbacks of your classification and provide a balanced discussion of the implications of your prediction. Furthermore, consider the potential impact of your classification on the broader economic landscape, including the potential effects on interest rates, inflation, and employment. Please provide concrete examples or quotes from the sentence that demonstrate the presence of hawkish, dovish, or neutral language, and rephrase your response to make it more direct, concise, and nuanced\n"
     ]
    },
    {
     "name": "stderr",
     "output_type": "stream",
     "text": [
      "Epoch 2: Training step 6: : 6it [02:04, 20.53s/it]"
     ]
    },
    {
     "name": "stdout",
     "output_type": "stream",
     "text": [
      "Prompt:  Classify the sentence from FOMC into hawkish, dovish, or neutral, providing a detailed and specific analysis of the linguistic features, tone, and semantic cues that support your conclusion. Specifically, highlight the key phrases, words, and sentence structures that contribute to the sentence's tone, and acknowledge the potential limitations and complexities of your model. Additionally, consider the potential drawbacks of your classification and provide a balanced discussion of the implications of your prediction. Furthermore, consider the potential impact of your classification on the broader economic landscape, including the potential effects on interest rates, inflation, and employment. Please provide concrete examples or quotes from the sentence that demonstrate the presence of hawkish, dovish, or neutral language, and re\n"
     ]
    },
    {
     "name": "stderr",
     "output_type": "stream",
     "text": [
      "Epoch 2: Training step 7: : 7it [02:25, 20.74s/it]"
     ]
    },
    {
     "name": "stdout",
     "output_type": "stream",
     "text": [
      "Prompt:  Classify the sentence from FOMC into hawkish, dovish, or neutral, providing a nuanced and detailed analysis of the linguistic features, tone, and semantic cues that support your conclusion. Specifically, highlight the key phrases, words, and sentence structures that contribute to the sentence's tone, and acknowledge the potential limitations and complexities of your model. Additionally, consider the potential drawbacks of your classification and provide a balanced discussion of the implications of your prediction. Furthermore, consider the potential impact of your classification on the broader economic landscape, including the potential effects on interest rates, inflation, and employment. Please provide concrete examples or quotes from the sentence that demonstrate the presence of hawkish, dovish, or neutral language, and provide\n"
     ]
    },
    {
     "name": "stderr",
     "output_type": "stream",
     "text": [
      "Epoch 2: Training step 8: : 8it [02:46, 20.93s/it]"
     ]
    },
    {
     "name": "stdout",
     "output_type": "stream",
     "text": [
      "Prompt:  Classify the sentence from FOMC into hawkish, dovish, or neutral, providing a clear and structured explanation of your reasoning. Specifically, highlight the key phrases, words, and sentence structures that contribute to the sentence's tone, and acknowledge the potential drawbacks of your classification. Consider the potential impact of your classification on the broader economic landscape, including the potential effects on interest rates, inflation, and employment. Please provide concrete examples or quotes from the sentence that demonstrate the presence of hawkish, dovish, or neutral language, and provide a concise summary of your findings. Additionally, consider the significance of your classification and how it relates to broader themes or issues in the topic. Finally, please provide a clear and concise\n"
     ]
    },
    {
     "name": "stderr",
     "output_type": "stream",
     "text": [
      "Epoch 2: Training step 9: : 9it [03:06, 20.49s/it]"
     ]
    },
    {
     "name": "stdout",
     "output_type": "stream",
     "text": [
      "Prompt:  VARIABLE> Classify the sentence from FOMC into hawkish, dovish, or neutral, providing a clear and structured explanation of your reasoning. Specifically, highlight the key phrases, words, and sentence structures that contribute to the sentence's tone, and acknowledge the potential drawbacks of your classification. Consider the potential impact of your classification on the broader economic landscape, including the potential effects on interest rates, inflation, and employment. Please provide concrete examples or quotes from the sentence that demonstrate the presence of hawkish, dovish, or neutral language, and provide a concise summary of your findings. Additionally, consider the significance of your classification and how it relates to broader themes or issues in the topic. Furthermore, please provide a clear\n"
     ]
    },
    {
     "name": "stderr",
     "output_type": "stream",
     "text": [
      "Epoch 2: Training step 9: : 10it [03:26, 20.70s/it]\n"
     ]
    },
    {
     "name": "stdout",
     "output_type": "stream",
     "text": [
      "Prompt:  Classify the sentence from FOMC into hawkish, dovish, or neutral, providing a clear and structured explanation of your reasoning. Specifically, highlight the key phrases, words, and sentence structures that contribute to the sentence's tone, and acknowledge the potential drawbacks of your classification. Consider the potential impact of your classification on the broader economic landscape, including the potential effects on interest rates, inflation, and employment. Please provide concrete examples or quotes from the sentence that demonstrate the presence of hawkish, dovish, or neutral language, and provide a concise summary of your findings. Additionally, consider the significance of your classification and how it relates to broader themes or issues in the topic. Furthermore, please provide a clear and nuanced\n",
      "New prompt:  Classify the sentence from FOMC into hawkish, dovish, or neutral, providing a clear and structured explanation of your reasoning. Specifically, highlight the key phrases, words, and sentence structures that contribute to the sentence's tone, and acknowledge the potential drawbacks of your classification. Consider the potential impact of your classification on the broader economic landscape, including the potential effects on interest rates, inflation, and employment. Please provide concrete examples or quotes from the sentence that demonstrate the presence of hawkish, dovish, or neutral language, and provide a concise summary of your findings. Additionally, consider the significance of your classification and how it relates to broader themes or issues in the topic. Furthermore, please provide a clear and nuanced\n"
     ]
    },
    {
     "name": "stderr",
     "output_type": "stream",
     "text": [
      "Accuracy: 0.5252525252525253: 100%|██████████| 198/198 [00:07<00:00, 27.14it/s] \n"
     ]
    },
    {
     "name": "stdout",
     "output_type": "stream",
     "text": [
      "Val accuracy: 0.5252525252525253\n",
      "Previous val accuracy: 0.5505050505050505\n",
      "Rejected prompt: Classify the sentence from FOMC into hawkish, dovish, or neutral, providing a clear and structured explanation of your reasoning. Specifically, highlight the key phrases, words, and sentence structures that contribute to the sentence's tone, and acknowledge the potential drawbacks of your classification. Consider the potential impact of your classification on the broader economic landscape, including the potential effects on interest rates, inflation, and employment. Please provide concrete examples or quotes from the sentence that demonstrate the presence of hawkish, dovish, or neutral language, and provide a concise summary of your findings. Additionally, consider the significance of your classification and how it relates to broader themes or issues in the topic. Furthermore, please provide a clear and nuanced\n",
      "System prompt:  VARIABLE> Classify the following sentence from FOMC into hawkish, dovish, or neutral, providing a detailed and nuanced explanation of the factors driving your classification. Specifically, highlight the key linguistic features, tone, and semantic cues that support your prediction, and acknowledge the potential limitations and complexities of your model. Additionally, consider the potential drawbacks of your classification and provide a balanced discussion of the implications of your prediction. Furthermore, consider the potential impact of your classification on the broader economic landscape, including the potential effects on interest rates, inflation, and employment. To ensure accuracy, please provide a clear and concise justification for your classification, including specific examples from the sentence that support your conclusion, and explicitly highlight the aspects of\n"
     ]
    },
    {
     "name": "stderr",
     "output_type": "stream",
     "text": [
      "Epoch 3: Training step 1: : 1it [00:20, 20.58s/it]"
     ]
    },
    {
     "name": "stdout",
     "output_type": "stream",
     "text": [
      "Prompt:  VARIABLE> Classify the following sentence from FOMC into hawkish, dovish, or neutral, providing a precise and technical classification (e.g., 0 out of 5 or 0%) with a clear justification and explanation. Specifically, highlight the key linguistic features, tone, and semantic cues that support your prediction, and acknowledge the potential limitations and complexities of your model. Additionally, consider the potential drawbacks of your classification and provide a balanced discussion of the implications of your prediction. Furthermore, consider the potential impact of your classification on the broader economic landscape, including the potential effects on interest rates, inflation, and employment. To ensure accuracy, please provide a clear and concise justification for your classification, including specific examples from\n"
     ]
    },
    {
     "name": "stderr",
     "output_type": "stream",
     "text": [
      "Epoch 3: Training step 2: : 2it [00:41, 21.00s/it]"
     ]
    },
    {
     "name": "stdout",
     "output_type": "stream",
     "text": [
      "Prompt:  VARIABLE> Classify the following sentence from FOMC into hawkish, dovish, or neutral, providing a nuanced and uncertain classification with a clear justification and explanation. Specifically, highlight the key linguistic features, tone, and semantic cues that support your prediction, and acknowledge the potential limitations and complexities of your model. Additionally, consider the potential drawbacks of your classification and provide a balanced discussion of the implications of your prediction. Furthermore, consider the potential impact of your classification on the broader economic landscape, including the potential effects on interest rates, inflation, and employment. To ensure accuracy, please provide a clear and concise justification for your classification, including specific examples from the sentence that support your prediction. Please also provide a nuanced analysis of\n"
     ]
    },
    {
     "name": "stderr",
     "output_type": "stream",
     "text": [
      "Epoch 3: Training step 3: : 3it [01:03, 21.27s/it]"
     ]
    },
    {
     "name": "stdout",
     "output_type": "stream",
     "text": [
      "Prompt:  VARIABLE> Classify the following sentence from FOMC into hawkish, dovish, or neutral, providing a clear and specific justification for your prediction. Highlight the key linguistic features, tone, and semantic cues that support your classification, and acknowledge the potential limitations and complexities of your model. Additionally, consider the potential drawbacks of your classification and provide a balanced discussion of the implications of your prediction. Furthermore, consider the potential impact of your classification on the broader economic landscape, including the potential effects on interest rates, inflation, and employment. To ensure accuracy, please provide a clear and concise justification for your classification, including specific examples from the sentence that support your prediction. Please also provide a nuanced analysis of the sentence's tone,\n"
     ]
    },
    {
     "name": "stderr",
     "output_type": "stream",
     "text": [
      "Epoch 3: Training step 4: : 4it [01:25, 21.43s/it]"
     ]
    },
    {
     "name": "stdout",
     "output_type": "stream",
     "text": [
      "Prompt:  VARIABLE> Classify the following sentence from FOMC into one of the following categories: hawkish (0.0-1.0), dovish (0.0-1.0), or neutral (0.0-1.0), providing a clear and specific justification for your prediction. Highlight the key linguistic features, tone, and semantic cues that support your classification, and acknowledge the potential limitations and complexities of your model. Additionally, consider the potential drawbacks of your classification and provide a balanced discussion of the implications of your prediction. Furthermore, consider the potential impact of your classification on the broader economic landscape, including the potential effects on interest rates, inflation, and employment. To ensure accuracy, please provide a clear\n"
     ]
    },
    {
     "name": "stderr",
     "output_type": "stream",
     "text": [
      "Epoch 3: Training step 5: : 5it [01:47, 21.81s/it]"
     ]
    },
    {
     "name": "stdout",
     "output_type": "stream",
     "text": [
      "Prompt:  Classify the following sentence from FOMC into one of hawkish, dovish, or neutral, providing a clear and specific justification for your prediction. Please consider the following key linguistic features, tone, and semantic cues that support your classification:\n",
      "\n",
      "* Identify and highlight the specific words, phrases, or sentences that contribute to the tone and semantic meaning of the sentence.\n",
      "* Acknowledge the potential limitations and complexities of your model, and provide a balanced discussion of the implications of your prediction.\n",
      "* Consider the potential impact of your classification on the broader economic landscape, including the potential effects on interest rates, inflation, and employment.\n",
      "* Provide a clear and actionable recommendation for how to improve the tone and semantic meaning of the sentence to better\n"
     ]
    },
    {
     "name": "stderr",
     "output_type": "stream",
     "text": [
      "Epoch 3: Training step 6: : 6it [02:08, 21.51s/it]"
     ]
    },
    {
     "name": "stdout",
     "output_type": "stream",
     "text": [
      "Prompt:  Classify the following sentence from FOMC into one of hawkish, dovish, or neutral, providing a clear and specific justification for your prediction. Please consider the following key linguistic features, tone, and semantic cues that support your classification:\n",
      "\n",
      "* Identify and highlight the specific words, phrases, or sentences that contribute to the tone and semantic meaning of the sentence, and provide a detailed explanation of how they relate to the topic at hand.\n",
      "* Acknowledge the potential limitations and complexities of your model, and provide a balanced discussion of the implications of your prediction, including potential counterarguments and alternative perspectives.\n",
      "* Consider the potential impact of your classification on the broader economic landscape, including the potential effects on interest rates, inflation,\n"
     ]
    },
    {
     "name": "stderr",
     "output_type": "stream",
     "text": [
      "Epoch 3: Training step 7: : 7it [02:29, 21.16s/it]"
     ]
    },
    {
     "name": "stdout",
     "output_type": "stream",
     "text": [
      "Prompt:  Classify the following sentence from FOMC into one of hawkish, dovish, or neutral, providing a clear and specific justification for your prediction. Please consider the following key linguistic features, tone, and semantic cues that support your classification:\n",
      "\n",
      "* Identify and highlight the specific words, phrases, or sentences that contribute to the tone and semantic meaning of the sentence, and provide a detailed explanation of how they relate to the topic at hand.\n",
      "* Acknowledge the potential limitations and complexities of your model, and provide a balanced discussion of the implications of your prediction, including potential counterarguments and alternative perspectives.\n",
      "* Consider the potential impact of your classification on the broader economic landscape, including the potential effects on interest rates, inflation, and\n"
     ]
    },
    {
     "name": "stderr",
     "output_type": "stream",
     "text": [
      "Epoch 3: Training step 8: : 8it [02:50, 21.20s/it]"
     ]
    },
    {
     "name": "stdout",
     "output_type": "stream",
     "text": [
      "Prompt:  Classify the following sentence from FOMC into one of hawkish, dovish, or neutral, considering the subtle nuances of tone and sentiment. To achieve this, please focus on capturing the underlying context and semantic meaning of the sentence, rather than relying solely on surface-level features. Specifically, consider the following linguistic features and cues:\n",
      "\n",
      "* Identify and highlight the specific words, phrases, or sentences that contribute to the tone and semantic meaning of the sentence, and provide a detailed explanation of how they relate to the topic at hand.\n",
      "* Acknowledge the potential limitations and complexities of your model, and provide a balanced discussion of the implications of your prediction, including potential counterarguments and alternative perspectives.\n",
      "* Consider the potential impact of your\n"
     ]
    },
    {
     "name": "stderr",
     "output_type": "stream",
     "text": [
      "Epoch 3: Training step 9: : 9it [03:12, 21.66s/it]"
     ]
    },
    {
     "name": "stdout",
     "output_type": "stream",
     "text": [
      "Prompt:  Classify the following sentence from FOMC into one of hawkish, dovish, or neutral, considering the subtle nuances of tone and sentiment. Please provide a clear and concise justification for your classification, highlighting the specific linguistic features and cues that contribute to the tone and semantic meaning of the sentence. Additionally, acknowledge the potential limitations and complexities of your model, and provide a balanced discussion of the implications of your prediction, including potential counterarguments and alternative perspectives. Consider the potential impact of your prediction on the broader economic landscape, and provide a nuanced discussion of the potential implications for households, businesses, and policymakers. Provide a detailed explanation of the reasoning behind your classification, including any relevant linguistic features and cues that support your prediction\n"
     ]
    },
    {
     "name": "stderr",
     "output_type": "stream",
     "text": [
      "Epoch 3: Training step 9: : 10it [03:33, 21.40s/it]\n"
     ]
    },
    {
     "name": "stdout",
     "output_type": "stream",
     "text": [
      "Prompt:  VARIABLE> Classify the following sentence from FOMC into one of hawkish, dovish, or neutral, providing a detailed and nuanced analysis of the linguistic features and cues that support your prediction. Specifically, please highlight the key phrases, sentence structures, and tone markers that contribute to the sentence's overall tone and sentiment. Additionally, acknowledge the potential limitations and complexities of your model, and provide a balanced discussion of the implications of your prediction, including potential counterarguments and alternative perspectives. Consider the potential impact of your prediction on the broader economic landscape, and provide a nuanced discussion of the potential implications for households, businesses, and policymakers. Please provide a clear and concise justification for your classification, including specific examples and evidence from\n",
      "New prompt:  VARIABLE> Classify the following sentence from FOMC into one of hawkish, dovish, or neutral, providing a detailed and nuanced analysis of the linguistic features and cues that support your prediction. Specifically, please highlight the key phrases, sentence structures, and tone markers that contribute to the sentence's overall tone and sentiment. Additionally, acknowledge the potential limitations and complexities of your model, and provide a balanced discussion of the implications of your prediction, including potential counterarguments and alternative perspectives. Consider the potential impact of your prediction on the broader economic landscape, and provide a nuanced discussion of the potential implications for households, businesses, and policymakers. Please provide a clear and concise justification for your classification, including specific examples and evidence from\n"
     ]
    },
    {
     "name": "stderr",
     "output_type": "stream",
     "text": [
      "Accuracy: 0.5505050505050505: 100%|██████████| 198/198 [00:07<00:00, 27.52it/s]\n"
     ]
    },
    {
     "name": "stdout",
     "output_type": "stream",
     "text": [
      "Val accuracy: 0.5505050505050505\n",
      "Previous val accuracy: 0.5505050505050505\n",
      "System prompt:  VARIABLE> Classify the following sentence from FOMC into one of hawkish, dovish, or neutral, providing a detailed and nuanced analysis of the linguistic features and cues that support your prediction. Specifically, please highlight the key phrases, sentence structures, and tone markers that contribute to the sentence's overall tone and sentiment. Additionally, acknowledge the potential limitations and complexities of your model, and provide a balanced discussion of the implications of your prediction, including potential counterarguments and alternative perspectives. Consider the potential impact of your prediction on the broader economic landscape, and provide a nuanced discussion of the potential implications for households, businesses, and policymakers. Please provide a clear and concise justification for your classification, including specific examples and evidence from\n"
     ]
    },
    {
     "name": "stderr",
     "output_type": "stream",
     "text": [
      "Epoch 4: Training step 1: : 1it [00:20, 20.28s/it]"
     ]
    },
    {
     "name": "stdout",
     "output_type": "stream",
     "text": [
      "Prompt:  VARIABLE> Classify the following sentence from FOMC into one of hawkish, dovish, or neutral, providing a detailed and nuanced analysis of the linguistic features and cues that support your prediction. Specifically, please highlight the key phrases, sentence structures, and tone markers that contribute to the sentence's overall tone and sentiment. Additionally, acknowledge the potential limitations and complexities of your model, and provide a balanced discussion of the implications of your prediction, including potential counterarguments and alternative perspectives. Consider the potential impact of your prediction on the broader economic landscape, and provide a nuanced discussion of the potential implications for households, businesses, and policymakers. Please provide a clear and concise justification for your classification, including specific examples and evidence from the\n"
     ]
    },
    {
     "name": "stderr",
     "output_type": "stream",
     "text": [
      "Epoch 4: Training step 2: : 2it [00:42, 21.68s/it]"
     ]
    },
    {
     "name": "stdout",
     "output_type": "stream",
     "text": [
      "Prompt:  VARIABLE> Classify the following sentence from FOMC into one of hawkish, dovish, or neutral, providing a detailed and nuanced analysis of the linguistic features and cues that support your prediction. Specifically, please highlight the key phrases, sentence structures, and tone markers that contribute to the sentence's overall tone and sentiment. Additionally, acknowledge the potential limitations and complexities of your model, and provide a balanced discussion of the implications of your prediction, including potential counterarguments and alternative perspectives. Consider the potential impact of your prediction on the broader economic landscape, and provide a nuanced discussion of the potential implications for households, businesses, and policymakers. Furthermore, please provide a clear and concise justification for your classification, including specific examples and\n"
     ]
    },
    {
     "name": "stderr",
     "output_type": "stream",
     "text": [
      "Epoch 4: Training step 3: : 3it [01:04, 21.50s/it]"
     ]
    },
    {
     "name": "stdout",
     "output_type": "stream",
     "text": [
      "Prompt:  VARIABLE> Classify the following sentence from FOMC into one of hawkish, dovish, or neutral, providing a clear and concise numerical answer (e.g., 0, 1, or 2) that corresponds to the predicted tone or sentiment. Please justify your classification with specific linguistic features and cues, and acknowledge potential limitations and complexities of your model. Additionally, consider the potential impact of your prediction on the broader economic landscape, and provide a nuanced discussion of the potential implications for households, businesses, and policymakers. Furthermore, please provide a clear and concise explanation of how you arrived at your classification, including specific examples and sentence structures that support your prediction. Provide a detailed and nuanced analysis of the linguistic features and\n"
     ]
    },
    {
     "name": "stderr",
     "output_type": "stream",
     "text": [
      "Epoch 4: Training step 4: : 4it [01:26, 21.77s/it]"
     ]
    },
    {
     "name": "stdout",
     "output_type": "stream",
     "text": [
      "Prompt:  Classify the following sentence from FOMC into one of hawkish, dovish, or neutral, providing a clear and concise numerical answer (e.g., 0, 1, or 2) that corresponds to the predicted tone or sentiment. Please justify your classification with specific linguistic features and cues, and acknowledge potential limitations and complexities of your model. Additionally, consider the potential impact of your prediction on the broader economic landscape, and provide a nuanced discussion of the potential implications for households, businesses, and policymakers. Furthermore, please provide a clear and concise explanation of how you arrived at your classification, including specific examples and sentence structures that support your prediction. Provide a detailed and nuanced analysis of the linguistic features and cues that\n"
     ]
    },
    {
     "name": "stderr",
     "output_type": "stream",
     "text": [
      "Epoch 4: Training step 5: : 5it [01:47, 21.49s/it]"
     ]
    },
    {
     "name": "stdout",
     "output_type": "stream",
     "text": [
      "Prompt:  Classify the following sentence from FOMC into one of hawkish, dovish, or neutral, providing a clear and concise justification that includes specific linguistic features and cues, as well as concrete evidence or examples to support your classification. Please acknowledge potential limitations and complexities of your model and consider the potential impact of your prediction on the broader economic landscape. Additionally, provide a nuanced discussion of the potential implications for households, businesses, and policymakers, and explain how you arrived at your classification, including specific examples and sentence structures that support your prediction. Furthermore, consider using more precise language to describe the classification, such as using technical terms or jargon specific to the field of economics. Please provide a detailed and nuanced analysis of the linguistic\n"
     ]
    },
    {
     "name": "stderr",
     "output_type": "stream",
     "text": [
      "Epoch 4: Training step 6: : 6it [02:08, 21.34s/it]"
     ]
    },
    {
     "name": "stdout",
     "output_type": "stream",
     "text": [
      "Prompt:  Classify the following sentence from FOMC into one of hawkish, dovish, or neutral, providing a clear and concise justification that includes specific linguistic features and cues, as well as concrete evidence or examples to support your classification. Please acknowledge potential limitations and complexities of your model and consider the potential impact of your prediction on the broader economic landscape. Additionally, provide a nuanced discussion of the potential implications for households, businesses, and policymakers, and explain how you arrived at your classification, including specific examples and sentence structures that support your prediction. Furthermore, consider using more precise language to describe the classification, such as using technical terms or jargon specific to the field of economics. Please provide a detailed and nuanced analysis of the\n"
     ]
    },
    {
     "name": "stderr",
     "output_type": "stream",
     "text": [
      "Epoch 4: Training step 7: : 7it [02:30, 21.47s/it]"
     ]
    },
    {
     "name": "stdout",
     "output_type": "stream",
     "text": [
      "Prompt:  Classify the following sentence from FOMC into one of hawkish, dovish, or neutral, considering the author's intent, tone, and perspective, as well as the underlying message and context. Provide a detailed and nuanced analysis of the sentence, including specific linguistic features and cues, concrete evidence or examples, and potential limitations and complexities of your model. Additionally, consider the potential impact of your prediction on the broader economic landscape, and provide a nuanced discussion of the potential implications for households, businesses, and policymakers. Furthermore, use more precise language to describe the classification, such as using technical terms or jargon specific to the field of economics. Please provide a detailed and nuanced analysis of the sentence, including specific examples and\n"
     ]
    },
    {
     "name": "stderr",
     "output_type": "stream",
     "text": [
      "Epoch 4: Training step 8: : 8it [02:51, 21.41s/it]"
     ]
    },
    {
     "name": "stdout",
     "output_type": "stream",
     "text": [
      "Prompt:  Classify the following sentence from FOMC into one of hawkish, dovish, or neutral, considering the author's intent, tone, and perspective, as well as the underlying message and context. Provide a detailed and nuanced analysis of the sentence, including specific linguistic features and cues, concrete evidence or examples, and potential limitations and complexities of your model. Additionally, consider the potential impact of your prediction on the broader economic landscape, and provide a nuanced discussion of the potential implications for households, businesses, and policymakers. Furthermore, use more precise language to describe the classification, such as using technical terms or jargon specific to the field of economics. Please provide a detailed and nuanced analysis of the sentence, including specific examples\n"
     ]
    },
    {
     "name": "stderr",
     "output_type": "stream",
     "text": [
      "Epoch 4: Training step 9: : 9it [03:13, 21.47s/it]"
     ]
    },
    {
     "name": "stdout",
     "output_type": "stream",
     "text": [
      "Prompt:  Classify the following sentence from FOMC into one of hawkish, dovish, or neutral, providing a binary classification (0 or 1) and a detailed, nuanced analysis of the sentence, including specific linguistic features, concrete evidence, and potential limitations. Additionally, consider the potential impact of your prediction on the broader economic landscape and provide a nuanced discussion of the potential implications for households, businesses, and policymakers. Please provide a precise and technical description of the classification, using jargon specific to the field of economics, and include a confidence score or probability distribution for your prediction. Specify the exact reasons why you classify the sentence as hawkish, dovish, or neutral, and consider the following context-specific information: the\n"
     ]
    },
    {
     "name": "stderr",
     "output_type": "stream",
     "text": [
      "Epoch 4: Training step 9: : 10it [03:33, 21.36s/it]\n"
     ]
    },
    {
     "name": "stdout",
     "output_type": "stream",
     "text": [
      "Prompt:  Classify the following sentence from FOMC into one of hawkish, dovish, or neutral, providing a detailed, nuanced analysis of the sentence, including specific linguistic features, concrete evidence, and potential limitations. Consider the potential impact of your prediction on the broader economic landscape and provide a nuanced discussion of the potential implications for households, businesses, and policymakers. Please provide a precise and technical description of the classification, using jargon specific to the field of economics, and include a confidence score or probability distribution for your prediction. Specify the exact reasons why you classify the sentence as hawkish, dovish, or neutral, and consider the following context-specific information: the sentence's tone, the use of economic indicators, and the\n",
      "New prompt:  Classify the following sentence from FOMC into one of hawkish, dovish, or neutral, providing a detailed, nuanced analysis of the sentence, including specific linguistic features, concrete evidence, and potential limitations. Consider the potential impact of your prediction on the broader economic landscape and provide a nuanced discussion of the potential implications for households, businesses, and policymakers. Please provide a precise and technical description of the classification, using jargon specific to the field of economics, and include a confidence score or probability distribution for your prediction. Specify the exact reasons why you classify the sentence as hawkish, dovish, or neutral, and consider the following context-specific information: the sentence's tone, the use of economic indicators, and the\n"
     ]
    },
    {
     "name": "stderr",
     "output_type": "stream",
     "text": [
      "Accuracy: 0.5454545454545454: 100%|██████████| 198/198 [00:07<00:00, 27.19it/s]\n"
     ]
    },
    {
     "name": "stdout",
     "output_type": "stream",
     "text": [
      "Val accuracy: 0.5454545454545454\n",
      "Previous val accuracy: 0.5505050505050505\n",
      "Rejected prompt: Classify the following sentence from FOMC into one of hawkish, dovish, or neutral, providing a detailed, nuanced analysis of the sentence, including specific linguistic features, concrete evidence, and potential limitations. Consider the potential impact of your prediction on the broader economic landscape and provide a nuanced discussion of the potential implications for households, businesses, and policymakers. Please provide a precise and technical description of the classification, using jargon specific to the field of economics, and include a confidence score or probability distribution for your prediction. Specify the exact reasons why you classify the sentence as hawkish, dovish, or neutral, and consider the following context-specific information: the sentence's tone, the use of economic indicators, and the\n",
      "System prompt:  VARIABLE> Classify the following sentence from FOMC into one of hawkish, dovish, or neutral, providing a detailed and nuanced analysis of the linguistic features and cues that support your prediction. Specifically, please highlight the key phrases, sentence structures, and tone markers that contribute to the sentence's overall tone and sentiment. Additionally, acknowledge the potential limitations and complexities of your model, and provide a balanced discussion of the implications of your prediction, including potential counterarguments and alternative perspectives. Consider the potential impact of your prediction on the broader economic landscape, and provide a nuanced discussion of the potential implications for households, businesses, and policymakers. Please provide a clear and concise justification for your classification, including specific examples and evidence from\n"
     ]
    },
    {
     "name": "stderr",
     "output_type": "stream",
     "text": [
      "Epoch 5: Training step 1: : 1it [00:21, 21.70s/it]"
     ]
    },
    {
     "name": "stdout",
     "output_type": "stream",
     "text": [
      "Prompt:  VARIABLE> Classify the following sentence from FOMC into one of hawkish, dovish, or neutral, providing a detailed and nuanced analysis of the linguistic features and cues that support your prediction. Specifically, please highlight the key phrases, sentence structures, and tone markers that contribute to the sentence's overall tone and sentiment. Additionally, acknowledge the potential limitations and complexities of your model, and provide a balanced discussion of the implications of your prediction, including potential counterarguments and alternative perspectives. Consider the potential impact of your prediction on the broader economic landscape, and provide a nuanced discussion of the potential implications for households, businesses, and policymakers. Furthermore, please provide a clear and concise justification for your classification, including specific examples and evidence\n"
     ]
    },
    {
     "name": "stderr",
     "output_type": "stream",
     "text": [
      "Epoch 5: Training step 2: : 2it [00:41, 20.37s/it]"
     ]
    },
    {
     "name": "stdout",
     "output_type": "stream",
     "text": [
      "Prompt:  VARIABLE> Classify the following sentence from FOMC into one of hawkish, dovish, or neutral, providing a detailed and nuanced analysis of the linguistic features and cues that support your prediction. Specifically, please highlight the key phrases, sentence structures, and tone markers that contribute to the sentence's overall tone and sentiment. Additionally, acknowledge the potential limitations and complexities of your model, and provide a balanced discussion of the implications of your prediction, including potential counterarguments and alternative perspectives. Consider the potential impact of your prediction on the broader economic landscape, and provide a nuanced discussion of the potential implications for households, businesses, and policymakers. Furthermore, please provide a clear and concise justification for your classification, including specific examples and\n"
     ]
    },
    {
     "name": "stderr",
     "output_type": "stream",
     "text": [
      "Epoch 5: Training step 3: : 3it [01:01, 20.47s/it]"
     ]
    },
    {
     "name": "stdout",
     "output_type": "stream",
     "text": [
      "Prompt:  VARIABLE> Classify the following sentence from FOMC into one of hawkish, dovish, or neutral, providing a detailed and nuanced analysis of the linguistic features and cues that support your prediction. Specifically, please highlight the key phrases, sentence structures, and tone markers that contribute to the sentence's overall tone and sentiment. Additionally, acknowledge the potential limitations and complexities of your model, and provide a balanced discussion of the implications of your prediction, including potential counterarguments and alternative perspectives. Consider the potential impact of your prediction on the broader economic landscape, and provide a nuanced discussion of the potential implications for households, businesses, and policymakers. Furthermore, please provide a clear and concise justification for your classification, including specific examples and concrete\n"
     ]
    },
    {
     "name": "stderr",
     "output_type": "stream",
     "text": [
      "Epoch 5: Training step 4: : 4it [01:22, 20.71s/it]"
     ]
    },
    {
     "name": "stdout",
     "output_type": "stream",
     "text": [
      "Prompt:  VARIABLE> Classify the following sentence from FOMC into one of hawkish, dovish, or neutral, providing a detailed and nuanced analysis of the linguistic features and cues that support your prediction. Specifically, please highlight the key phrases, sentence structures, and tone markers that contribute to the sentence's overall tone and sentiment. Additionally, acknowledge the potential limitations and complexities of your model, and provide a balanced discussion of the implications of your prediction, including potential counterarguments and alternative perspectives. Furthermore, please provide a clear and concise justification for your classification, including specific examples and concrete evidence. To ensure accuracy, please classify the tone of the sentence as strongly hawkish, dovish, or neutral, with no intermediate options. Consider\n"
     ]
    },
    {
     "name": "stderr",
     "output_type": "stream",
     "text": [
      "Epoch 5: Training step 5: : 5it [01:44, 20.94s/it]"
     ]
    },
    {
     "name": "stdout",
     "output_type": "stream",
     "text": [
      "Prompt:  Classify the following sentence from FOMC into one of hawkish, dovish, or neutral, providing a detailed and nuanced analysis of the linguistic features and cues that support your prediction. Specifically, please highlight the key phrases, sentence structures, and tone markers that contribute to the sentence's overall tone and sentiment. Additionally, acknowledge the potential limitations and complexities of your model, and provide a balanced discussion of the implications of your prediction, including potential counterarguments and alternative perspectives. Furthermore, please provide a clear and concise justification for your classification, including specific examples and concrete evidence. To ensure accuracy, please classify the tone of the sentence as strongly hawkish, dovish, or neutral, with no intermediate options. Consider the following\n"
     ]
    },
    {
     "name": "stderr",
     "output_type": "stream",
     "text": [
      "Epoch 5: Training step 6: : 6it [02:05, 21.11s/it]"
     ]
    },
    {
     "name": "stdout",
     "output_type": "stream",
     "text": [
      "Prompt:  Classify the following sentence from FOMC into one of hawkish, dovish, or neutral, providing a detailed and nuanced analysis of the linguistic features and cues that support your prediction. Specifically, please highlight the key phrases, sentence structures, and tone markers that contribute to the sentence's overall tone and sentiment. Additionally, acknowledge the potential limitations and complexities of your model, and provide a balanced discussion of the implications of your prediction, including potential counterarguments and alternative perspectives. Furthermore, please provide a clear and concise justification for your classification, including specific examples and concrete evidence. To ensure accuracy, please classify the tone of the sentence as strongly hawkish, dovish, or neutral, with no intermediate options. Consider the following\n"
     ]
    },
    {
     "name": "stderr",
     "output_type": "stream",
     "text": [
      "Epoch 5: Training step 7: : 7it [02:25, 20.82s/it]"
     ]
    },
    {
     "name": "stdout",
     "output_type": "stream",
     "text": [
      "Prompt:  VARIABLE> Classify the following sentence from FOMC into one of hawkish, dovish, or neutral, with no intermediate options. Consider the following linguistic features and cues that contribute to the sentence's overall tone and sentiment, such as key phrases, sentence structures, and tone markers. Additionally, acknowledge the potential limitations and complexities of your model, and provide a balanced discussion of the implications of your prediction, including potential counterarguments and alternative perspectives. Furthermore, please provide a clear and concise justification for your classification, including specific examples and concrete evidence. Specifically, define hawkish as sentences that convey a strong sense of urgency or alarm, often accompanied by phrases that emphasize the need for immediate action or drastic measures; define dovish\n"
     ]
    },
    {
     "name": "stderr",
     "output_type": "stream",
     "text": [
      "Epoch 5: Training step 8: : 8it [02:44, 20.29s/it]"
     ]
    },
    {
     "name": "stdout",
     "output_type": "stream",
     "text": [
      "Prompt:  VARIABLE> Classify the following sentence from FOMC into one of hawkish, dovish, or neutral, with no intermediate options. Consider the following linguistic features and cues that contribute to the sentence's overall tone and sentiment, such as key phrases, sentence structures, and tone markers. Additionally, acknowledge the potential limitations and complexities of your model, and provide a balanced discussion of the implications of your prediction, including potential counterarguments and alternative perspectives. Furthermore, please provide a clear and concise justification for your classification, including specific examples and concrete evidence. Specifically, define hawkish as sentences that convey a strong sense of urgency or alarm, often accompanied by phrases that emphasize the need for immediate action or drastic measures; define dovish\n"
     ]
    },
    {
     "name": "stderr",
     "output_type": "stream",
     "text": [
      "Epoch 5: Training step 9: : 9it [03:06, 20.53s/it]"
     ]
    },
    {
     "name": "stdout",
     "output_type": "stream",
     "text": [
      "Prompt:  VARIABLE> Classify the following sentence from FOMC into one of hawkish, dovish, or neutral, with a focus on objective linguistic features and cues. Consider the following specific linguistic features that contribute to the sentence's overall tone and sentiment: key phrases, sentence structures, tone markers, and rhetorical devices. Additionally, acknowledge the potential limitations and complexities of your model, and provide a balanced discussion of the implications of your prediction, including potential counterarguments and alternative perspectives. Furthermore, please provide a clear and concise justification for your classification, including specific examples and concrete evidence. Specifically, define hawkish as sentences that convey a strong sense of urgency or alarm, often accompanied by phrases that emphasize the need for immediate action or drastic\n"
     ]
    },
    {
     "name": "stderr",
     "output_type": "stream",
     "text": [
      "Epoch 5: Training step 9: : 10it [03:25, 20.57s/it]\n"
     ]
    },
    {
     "name": "stdout",
     "output_type": "stream",
     "text": [
      "Prompt:  VARIABLE> Classify the following sentence from FOMC into one of hawkish, dovish, or neutral, with a focus on objective linguistic features and cues. Consider the following specific linguistic features that contribute to the sentence's overall tone and sentiment: key phrases, sentence structures, tone markers, and rhetorical devices. Additionally, acknowledge the potential limitations and complexities of your model, and provide a balanced discussion of the implications of your prediction, including potential counterarguments and alternative perspectives. Furthermore, please provide a clear and concise justification for your classification, including specific examples and concrete evidence. Specifically, define hawkish as sentences that convey a strong sense of urgency or alarm, often accompanied by phrases that emphasize the need for immediate action or drastic\n",
      "New prompt:  VARIABLE> Classify the following sentence from FOMC into one of hawkish, dovish, or neutral, with a focus on objective linguistic features and cues. Consider the following specific linguistic features that contribute to the sentence's overall tone and sentiment: key phrases, sentence structures, tone markers, and rhetorical devices. Additionally, acknowledge the potential limitations and complexities of your model, and provide a balanced discussion of the implications of your prediction, including potential counterarguments and alternative perspectives. Furthermore, please provide a clear and concise justification for your classification, including specific examples and concrete evidence. Specifically, define hawkish as sentences that convey a strong sense of urgency or alarm, often accompanied by phrases that emphasize the need for immediate action or drastic\n"
     ]
    },
    {
     "name": "stderr",
     "output_type": "stream",
     "text": [
      "Accuracy: 0.4393939393939394: 100%|██████████| 198/198 [00:07<00:00, 27.36it/s] \n"
     ]
    },
    {
     "name": "stdout",
     "output_type": "stream",
     "text": [
      "Val accuracy: 0.4393939393939394\n",
      "Previous val accuracy: 0.5505050505050505\n",
      "Rejected prompt: VARIABLE> Classify the following sentence from FOMC into one of hawkish, dovish, or neutral, with a focus on objective linguistic features and cues. Consider the following specific linguistic features that contribute to the sentence's overall tone and sentiment: key phrases, sentence structures, tone markers, and rhetorical devices. Additionally, acknowledge the potential limitations and complexities of your model, and provide a balanced discussion of the implications of your prediction, including potential counterarguments and alternative perspectives. Furthermore, please provide a clear and concise justification for your classification, including specific examples and concrete evidence. Specifically, define hawkish as sentences that convey a strong sense of urgency or alarm, often accompanied by phrases that emphasize the need for immediate action or drastic\n",
      "System prompt:  VARIABLE> Classify the following sentence from FOMC into one of hawkish, dovish, or neutral, providing a detailed and nuanced analysis of the linguistic features and cues that support your prediction. Specifically, please highlight the key phrases, sentence structures, and tone markers that contribute to the sentence's overall tone and sentiment. Additionally, acknowledge the potential limitations and complexities of your model, and provide a balanced discussion of the implications of your prediction, including potential counterarguments and alternative perspectives. Consider the potential impact of your prediction on the broader economic landscape, and provide a nuanced discussion of the potential implications for households, businesses, and policymakers. Please provide a clear and concise justification for your classification, including specific examples and evidence from\n"
     ]
    },
    {
     "name": "stderr",
     "output_type": "stream",
     "text": [
      "Epoch 6: Training step 1: : 1it [00:20, 20.35s/it]"
     ]
    },
    {
     "name": "stdout",
     "output_type": "stream",
     "text": [
      "Prompt:  VARIABLE> Classify the following sentence from FOMC into one of hawkish, dovish, or neutral, providing a detailed and nuanced analysis of the linguistic features and cues that support your prediction. Specifically, please highlight the key phrases, sentence structures, and tone markers that contribute to the sentence's overall tone and sentiment. Additionally, acknowledge the potential limitations and complexities of your model, and provide a balanced discussion of the implications of your prediction, including potential counterarguments and alternative perspectives. Furthermore, please provide a clear and concise justification for your classification, including specific examples and evidence from the sentence, as well as a brief explanation of how the sentence's tone and sentiment relate to the broader context of the FOMC discussion.\n"
     ]
    },
    {
     "name": "stderr",
     "output_type": "stream",
     "text": [
      "Epoch 6: Training step 2: : 2it [00:40, 20.20s/it]"
     ]
    },
    {
     "name": "stdout",
     "output_type": "stream",
     "text": [
      "Prompt:  Classify the following sentence from FOMC into one of hawkish, dovish, or neutral sentiment, providing a detailed and nuanced analysis of the linguistic features and cues that support your prediction. Specifically, please highlight the key phrases, sentence structures, and tone markers that contribute to the sentence's overall tone and sentiment, and provide concrete evidence and examples to support your classification. Additionally, acknowledge the potential limitations and complexities of your model, and provide a balanced discussion of the implications of your prediction, including potential counterarguments and alternative perspectives. Furthermore, please provide a clear and concise justification for your classification, including specific examples and evidence from the sentence, as well as a brief explanation of how the sentence's tone and sentiment relate to\n"
     ]
    },
    {
     "name": "stderr",
     "output_type": "stream",
     "text": [
      "Epoch 6: Training step 3: : 3it [01:03, 21.42s/it]"
     ]
    },
    {
     "name": "stdout",
     "output_type": "stream",
     "text": [
      "Prompt:  Classify the following sentence from FOMC into one of hawkish, dovish, or neutral sentiment, providing a detailed and nuanced analysis of the linguistic features and cues that support your prediction. Specifically, please highlight the key phrases, sentence structures, and tone markers that contribute to the sentence's overall tone and sentiment, and provide concrete evidence and examples to support your classification. Additionally, acknowledge the potential limitations and complexities of your model, and provide a balanced discussion of the implications of your prediction, including potential counterarguments and alternative perspectives. Furthermore, please provide a clear and concise justification for your classification, including specific examples and evidence from the sentence, as well as a brief explanation of how the sentence's tone and sentiment relate to\n"
     ]
    },
    {
     "name": "stderr",
     "output_type": "stream",
     "text": [
      "Epoch 6: Training step 4: : 4it [01:25, 21.76s/it]"
     ]
    },
    {
     "name": "stdout",
     "output_type": "stream",
     "text": [
      "Prompt:  Classify the following sentence from FOMC into one of hawkish, dovish, or neutral sentiment, providing a concise and direct classification with explicit justification. Highlight the key phrases, sentence structures, and tone markers that contribute to the sentence's overall tone and sentiment, and provide concrete evidence and examples to support your classification. Acknowledge the potential limitations and complexities of your model, and provide a balanced discussion of the implications of your prediction, including potential counterarguments and alternative perspectives. Provide a clear and concise justification for your classification, including specific examples and evidence from the sentence, as well as a brief explanation of how the sentence's tone and sentiment relate to the FOMC context. Please respond with a numerical answer (e\n"
     ]
    },
    {
     "name": "stderr",
     "output_type": "stream",
     "text": [
      "Epoch 6: Training step 5: : 5it [01:45, 21.07s/it]"
     ]
    },
    {
     "name": "stdout",
     "output_type": "stream",
     "text": [
      "Prompt:  Classify the following sentence from FOMC into one of hawkish, dovish, or neutral sentiment, providing a clear and concise justification with explicit evidence and examples. Highlight the key phrases, sentence structures, and tone markers that contribute to the sentence's overall tone and sentiment, and provide a balanced discussion of the implications of your prediction, including potential counterarguments and alternative perspectives. Additionally, please provide a specific and accurate description of the sentence classification, including the relevant context and relationships between the key phrases and the sentence's tone and sentiment. Please respond with a numerical answer (e.g., 0 for dovish, 1 for hawkish, or 2 for neutral) and provide a brief explanation of your reasoning.</\n"
     ]
    },
    {
     "name": "stderr",
     "output_type": "stream",
     "text": [
      "Epoch 6: Training step 6: : 6it [02:04, 20.22s/it]"
     ]
    },
    {
     "name": "stdout",
     "output_type": "stream",
     "text": [
      "Prompt:  Classify the following sentence from FOMC into one of hawkish, dovish, or neutral sentiment, providing a detailed and evidence-based justification with explicit examples and counterarguments. Highlight the key phrases, sentence structures, and tone markers that contribute to the sentence's overall tone and sentiment, and provide a comprehensive discussion of the implications of your prediction, including potential flaws and alternative perspectives. Additionally, please provide a specific and accurate description of the sentence classification, including the relevant context and relationships between the key phrases and the sentence's tone and sentiment. Please respond with a numerical answer (e.g., 0 for dovish, 1 for hawkish, or 2 for neutral) and provide a clear and concise explanation\n"
     ]
    },
    {
     "name": "stderr",
     "output_type": "stream",
     "text": [
      "Epoch 6: Training step 7: : 7it [02:24, 20.38s/it]"
     ]
    },
    {
     "name": "stdout",
     "output_type": "stream",
     "text": [
      "Prompt:  Classify the following sentence from FOMC into one of hawkish, dovish, or neutral sentiment, providing a detailed and evidence-based justification with explicit examples and counterarguments. Highlight the key phrases, sentence structures, and tone markers that contribute to the sentence's overall tone and sentiment, and provide a comprehensive discussion of the implications of your prediction, including potential flaws and alternative perspectives. Additionally, please provide a specific and accurate description of the sentence classification, including the relevant context and relationships between the key phrases and the sentence's tone and sentiment. Please respond with a numerical answer (e.g., 0 for dovish, 1 for hawkish, or 2 for neutral) and provide a clear and concise explanation.\n"
     ]
    },
    {
     "name": "stderr",
     "output_type": "stream",
     "text": [
      "Epoch 6: Training step 8: : 8it [02:46, 20.68s/it]"
     ]
    },
    {
     "name": "stdout",
     "output_type": "stream",
     "text": [
      "Prompt:  Classify the following sentence from FOMC into one of hawkish, dovish, or neutral sentiment, providing a detailed and evidence-based justification with explicit examples and counterarguments. Highlight the key phrases, sentence structures, and tone markers that contribute to the sentence's overall tone and sentiment, and provide a comprehensive discussion of the implications of your prediction, including potential flaws and alternative perspectives. Additionally, please provide a specific and accurate description of the sentence classification, including the relevant context and relationships between the key phrases and the sentence's tone and sentiment. Please respond with a numerical answer (e.g., 0 for dovish, 1 for hawkish, or 2 for neutral) and provide a clear and concise explanation\n"
     ]
    },
    {
     "name": "stderr",
     "output_type": "stream",
     "text": [
      "Epoch 6: Training step 9: : 9it [03:06, 20.60s/it]"
     ]
    },
    {
     "name": "stdout",
     "output_type": "stream",
     "text": [
      "Prompt:  VARIABLE> Classify the following sentence from FOMC into one of hawkish, dovish, or neutral sentiment, providing a nuanced and balanced justification that acknowledges potential counterarguments and alternative perspectives. Please highlight the key phrases, sentence structures, and tone markers that contribute to the sentence's overall tone and sentiment, and provide a comprehensive discussion of the implications of your prediction, including potential flaws and alternative viewpoints. Additionally, please provide a specific and accurate description of the sentence classification, including the relevant context and relationships between the key phrases and the sentence's tone and sentiment. Please respond with a numerical answer (e.g., 0 for dovish, 1 for hawkish, or 2 for neutral) and provide a clear\n"
     ]
    },
    {
     "name": "stderr",
     "output_type": "stream",
     "text": [
      "Epoch 6: Training step 9: : 10it [03:24, 20.48s/it]\n"
     ]
    },
    {
     "name": "stdout",
     "output_type": "stream",
     "text": [
      "Prompt:  VARIABLE> Classify the following sentence from FOMC into one of hawkish, dovish, or neutral sentiment, providing a nuanced and balanced justification that acknowledges potential counterarguments and alternative perspectives. Please highlight the key phrases, sentence structures, and tone markers that contribute to the sentence's overall tone and sentiment, and provide a comprehensive discussion of the implications of your prediction, including potential flaws and alternative viewpoints. Additionally, please provide a specific and accurate description of the sentence classification, including the relevant context and relationships between the key phrases and the sentence's tone and sentiment. Furthermore, please consider the following factors when making your prediction:\n",
      "\n",
      "* The use of specific words or phrases that may convey a particular tone or sentiment, such as \"\n",
      "New prompt:  VARIABLE> Classify the following sentence from FOMC into one of hawkish, dovish, or neutral sentiment, providing a nuanced and balanced justification that acknowledges potential counterarguments and alternative perspectives. Please highlight the key phrases, sentence structures, and tone markers that contribute to the sentence's overall tone and sentiment, and provide a comprehensive discussion of the implications of your prediction, including potential flaws and alternative viewpoints. Additionally, please provide a specific and accurate description of the sentence classification, including the relevant context and relationships between the key phrases and the sentence's tone and sentiment. Furthermore, please consider the following factors when making your prediction:\n",
      "\n",
      "* The use of specific words or phrases that may convey a particular tone or sentiment, such as \"\n"
     ]
    },
    {
     "name": "stderr",
     "output_type": "stream",
     "text": [
      "Accuracy: 0.5202020202020202: 100%|██████████| 198/198 [00:07<00:00, 27.75it/s]\n"
     ]
    },
    {
     "name": "stdout",
     "output_type": "stream",
     "text": [
      "Val accuracy: 0.5202020202020202\n",
      "Previous val accuracy: 0.5505050505050505\n",
      "Rejected prompt: VARIABLE> Classify the following sentence from FOMC into one of hawkish, dovish, or neutral sentiment, providing a nuanced and balanced justification that acknowledges potential counterarguments and alternative perspectives. Please highlight the key phrases, sentence structures, and tone markers that contribute to the sentence's overall tone and sentiment, and provide a comprehensive discussion of the implications of your prediction, including potential flaws and alternative viewpoints. Additionally, please provide a specific and accurate description of the sentence classification, including the relevant context and relationships between the key phrases and the sentence's tone and sentiment. Furthermore, please consider the following factors when making your prediction:\n",
      "\n",
      "* The use of specific words or phrases that may convey a particular tone or sentiment, such as \"\n",
      "System prompt:  VARIABLE> Classify the following sentence from FOMC into one of hawkish, dovish, or neutral, providing a detailed and nuanced analysis of the linguistic features and cues that support your prediction. Specifically, please highlight the key phrases, sentence structures, and tone markers that contribute to the sentence's overall tone and sentiment. Additionally, acknowledge the potential limitations and complexities of your model, and provide a balanced discussion of the implications of your prediction, including potential counterarguments and alternative perspectives. Consider the potential impact of your prediction on the broader economic landscape, and provide a nuanced discussion of the potential implications for households, businesses, and policymakers. Please provide a clear and concise justification for your classification, including specific examples and evidence from\n"
     ]
    },
    {
     "name": "stderr",
     "output_type": "stream",
     "text": [
      "Epoch 7: Training step 1: : 1it [00:20, 20.75s/it]"
     ]
    },
    {
     "name": "stdout",
     "output_type": "stream",
     "text": [
      "Prompt:  VARIABLE> Classify the following sentence from FOMC into one of hawkish, dovish, or neutral, providing a clear and concise justification for your classification. Specifically, please:\n",
      "\n",
      "* Identify and highlight the key phrases, sentence structures, and tone markers that contribute to the sentence's overall tone and sentiment, and explain how these features support your prediction.\n",
      "* Provide specific examples and evidence from the sentence to justify your classification, and acknowledge potential limitations and complexities of your model.\n",
      "* Consider the potential impact of your prediction on the broader economic landscape, and provide a nuanced discussion of the potential implications for households, businesses, and policymakers.\n",
      "* Avoid making subjective judgments without clear evidence, and instead focus on providing an objective analysis of\n"
     ]
    },
    {
     "name": "stderr",
     "output_type": "stream",
     "text": [
      "Epoch 7: Training step 2: : 2it [00:43, 22.07s/it]"
     ]
    },
    {
     "name": "stdout",
     "output_type": "stream",
     "text": [
      "Prompt:  VARIABLE> Classify the following sentence from FOMC into one of hawkish, dovish, or neutral, providing a clear and concise justification for your classification. Specifically, please:\n",
      "\n",
      "* Identify and highlight the key phrases, sentence structures, and tone markers that contribute to the sentence's overall tone and sentiment, and explain how these features support your prediction with specific evidence and examples.\n",
      "* Provide a nuanced discussion of the potential implications for households, businesses, and policymakers, acknowledging potential limitations and complexities of your model.\n",
      "* Consider the potential impact of your prediction on the broader economic landscape, and provide a detailed analysis of the potential consequences of the sentence's tone and sentiment.\n",
      "* Avoid making subjective judgments without clear evidence, and instead focus\n"
     ]
    },
    {
     "name": "stderr",
     "output_type": "stream",
     "text": [
      "Epoch 7: Training step 3: : 3it [01:04, 21.35s/it]"
     ]
    },
    {
     "name": "stdout",
     "output_type": "stream",
     "text": [
      "Prompt:  VARIABLE> Classify the following sentence from FOMC into one of hawkish, dovish, or neutral, providing a clear and concise justification for your classification. Specifically, please:\n",
      "\n",
      "* Identify and highlight the key phrases, sentence structures, and tone markers that contribute to the sentence's overall tone and sentiment, and explain how these features support your prediction with specific evidence and examples.\n",
      "* Provide a nuanced discussion of the potential implications for households, businesses, and policymakers, acknowledging potential limitations and complexities of your model.\n",
      "* Consider the potential impact of your prediction on the broader economic landscape, and provide a detailed analysis of the potential consequences of the sentence's tone and sentiment.\n",
      "* Avoid making subjective judgments without clear evidence, and instead\n"
     ]
    },
    {
     "name": "stderr",
     "output_type": "stream",
     "text": [
      "Epoch 7: Training step 4: : 4it [01:25, 21.46s/it]"
     ]
    },
    {
     "name": "stdout",
     "output_type": "stream",
     "text": [
      "Prompt:  Classify the following sentence from FOMC into one of hawkish, dovish, or neutral, providing a clear and concise justification for your classification. Specifically, please:\n",
      "\n",
      "* Identify and highlight the key phrases, sentence structures, and tone markers that contribute to the sentence's overall tone and sentiment, and explain how these features support your prediction with specific evidence and examples.\n",
      "* Provide a nuanced discussion of the potential implications for households, businesses, and policymakers, acknowledging potential limitations and complexities of your model.\n",
      "* Consider the potential impact of your prediction on the broader economic landscape, and provide a detailed analysis of the potential consequences of the sentence's tone and sentiment.\n",
      "* Avoid making subjective judgments without clear evidence, and instead provide a clear\n"
     ]
    },
    {
     "name": "stderr",
     "output_type": "stream",
     "text": [
      "Epoch 7: Training step 5: : 5it [01:47, 21.40s/it]"
     ]
    },
    {
     "name": "stdout",
     "output_type": "stream",
     "text": [
      "Prompt:  Classify the following sentence from FOMC into one of hawkish, dovish, or neutral, providing a clear and concise justification for your classification. Specifically, please:\n",
      "\n",
      "* Identify and highlight the key phrases, sentence structures, and tone markers that contribute to the sentence's overall tone and sentiment, and explain how these features support your prediction with specific evidence and examples.\n",
      "* Provide a nuanced discussion of the potential implications for households, businesses, and policymakers, acknowledging potential limitations and complexities of your model.\n",
      "* Consider the potential impact of your prediction on the broader economic landscape, and provide a detailed analysis of the potential consequences of the sentence's tone and sentiment.\n",
      "* Avoid making subjective judgments without clear evidence, and instead provide a clear\n"
     ]
    },
    {
     "name": "stderr",
     "output_type": "stream",
     "text": [
      "Epoch 7: Training step 6: : 6it [02:08, 21.54s/it]"
     ]
    },
    {
     "name": "stdout",
     "output_type": "stream",
     "text": [
      "Prompt:  Classify the following sentence from FOMC into one of hawkish, dovish, or neutral, providing a clear and concise justification for your classification. Specifically, please:\n",
      "\n",
      "* Identify and highlight the key phrases, sentence structures, and tone markers that contribute to the sentence's overall tone and sentiment, and explain how these features support your prediction with specific evidence and examples.\n",
      "* Provide a nuanced discussion of the potential implications for households, businesses, and policymakers, acknowledging potential limitations and complexities of your model.\n",
      "* Consider the potential impact of your prediction on the broader economic landscape, and provide a detailed analysis of the potential consequences of the sentence's tone and sentiment.\n",
      "* Avoid making subjective judgments without clear evidence, and instead provide a clear\n"
     ]
    },
    {
     "name": "stderr",
     "output_type": "stream",
     "text": [
      "Epoch 7: Training step 7: : 7it [02:28, 21.04s/it]"
     ]
    },
    {
     "name": "stdout",
     "output_type": "stream",
     "text": [
      "Prompt:  VARIABLE> Classify the following sentence from FOMC into one of hawkish, dovish, or neutral, providing a clear and concise justification for your classification. Specifically, please:\n",
      "\n",
      "* Identify and highlight the key phrases, sentence structures, and tone markers that contribute to the sentence's overall tone and sentiment, and explain how these features support your prediction with specific evidence and examples.\n",
      "* Provide a nuanced discussion of the potential implications for households, businesses, and policymakers, acknowledging potential limitations and complexities of your model.\n",
      "* Consider the potential impact of your prediction on the broader economic landscape, and provide a detailed analysis of the potential consequences of the sentence's tone and sentiment.\n",
      "* Avoid making subjective judgments without clear evidence, and instead provide\n"
     ]
    },
    {
     "name": "stderr",
     "output_type": "stream",
     "text": [
      "Epoch 7: Training step 8: : 8it [02:50, 21.18s/it]"
     ]
    },
    {
     "name": "stdout",
     "output_type": "stream",
     "text": [
      "Prompt:  Classify the following sentence from FOMC into one of hawkish, dovish, or neutral, providing a clear and concise justification for your classification. Specifically, please:\n",
      "\n",
      "* Identify and highlight the key phrases, sentence structures, and tone markers that contribute to the sentence's overall tone and sentiment, and explain how these features support your prediction with specific evidence and examples.\n",
      "* Provide a nuanced discussion of the potential implications for households, businesses, and policymakers, acknowledging potential limitations and complexities of your model.\n",
      "* Consider the potential impact of your prediction on the broader economic landscape, and provide a detailed analysis of the potential consequences of the sentence's tone and sentiment.\n",
      "* Avoid making subjective judgments without clear evidence, and instead provide a clear\n"
     ]
    },
    {
     "name": "stderr",
     "output_type": "stream",
     "text": [
      "Epoch 7: Training step 9: : 9it [03:12, 21.58s/it]"
     ]
    },
    {
     "name": "stdout",
     "output_type": "stream",
     "text": [
      "Prompt:  Classify the following sentence from FOMC into one of hawkish, dovish, or neutral, providing a clear and concise justification for your classification. Specifically, please:\n",
      "\n",
      "* Identify and highlight the key phrases, sentence structures, and tone markers that contribute to the sentence's overall tone and sentiment, and explain how these features support your prediction with specific evidence and examples.\n",
      "* Provide a nuanced discussion of the potential implications for households, businesses, and policymakers, acknowledging potential limitations and complexities of your model.\n",
      "* Consider the potential impact of your prediction on the broader economic landscape, and provide a detailed analysis of the potential consequences of the sentence's tone and sentiment.\n",
      "* Avoid making subjective judgments without clear evidence, and instead provide a clear\n"
     ]
    },
    {
     "name": "stderr",
     "output_type": "stream",
     "text": [
      "Epoch 7: Training step 9: : 10it [03:35, 21.52s/it]\n"
     ]
    },
    {
     "name": "stdout",
     "output_type": "stream",
     "text": [
      "Prompt:  Classify the following sentence from FOMC into one of hawkish, dovish, or neutral, providing a clear and concise justification for your classification. Specifically, please:\n",
      "\n",
      "* Identify and highlight the key phrases, sentence structures, and tone markers that contribute to the sentence's overall tone and sentiment, and explain how these features support your prediction with specific evidence and examples.\n",
      "* Provide a nuanced discussion of the potential implications for households, businesses, and policymakers, acknowledging potential limitations and complexities of your model.\n",
      "* Consider the potential impact of your prediction on the broader economic landscape, and provide a detailed analysis of the potential consequences of the sentence's tone and sentiment.\n",
      "* Avoid making subjective judgments without clear evidence, and instead provide a clear\n",
      "New prompt:  Classify the following sentence from FOMC into one of hawkish, dovish, or neutral, providing a clear and concise justification for your classification. Specifically, please:\n",
      "\n",
      "* Identify and highlight the key phrases, sentence structures, and tone markers that contribute to the sentence's overall tone and sentiment, and explain how these features support your prediction with specific evidence and examples.\n",
      "* Provide a nuanced discussion of the potential implications for households, businesses, and policymakers, acknowledging potential limitations and complexities of your model.\n",
      "* Consider the potential impact of your prediction on the broader economic landscape, and provide a detailed analysis of the potential consequences of the sentence's tone and sentiment.\n",
      "* Avoid making subjective judgments without clear evidence, and instead provide a clear\n"
     ]
    },
    {
     "name": "stderr",
     "output_type": "stream",
     "text": [
      "Accuracy: 0.5151515151515151: 100%|██████████| 198/198 [00:06<00:00, 28.29it/s]\n"
     ]
    },
    {
     "name": "stdout",
     "output_type": "stream",
     "text": [
      "Val accuracy: 0.5151515151515151\n",
      "Previous val accuracy: 0.5505050505050505\n",
      "Rejected prompt: Classify the following sentence from FOMC into one of hawkish, dovish, or neutral, providing a clear and concise justification for your classification. Specifically, please:\n",
      "\n",
      "* Identify and highlight the key phrases, sentence structures, and tone markers that contribute to the sentence's overall tone and sentiment, and explain how these features support your prediction with specific evidence and examples.\n",
      "* Provide a nuanced discussion of the potential implications for households, businesses, and policymakers, acknowledging potential limitations and complexities of your model.\n",
      "* Consider the potential impact of your prediction on the broader economic landscape, and provide a detailed analysis of the potential consequences of the sentence's tone and sentiment.\n",
      "* Avoid making subjective judgments without clear evidence, and instead provide a clear\n",
      "System prompt:  VARIABLE> Classify the following sentence from FOMC into one of hawkish, dovish, or neutral, providing a detailed and nuanced analysis of the linguistic features and cues that support your prediction. Specifically, please highlight the key phrases, sentence structures, and tone markers that contribute to the sentence's overall tone and sentiment. Additionally, acknowledge the potential limitations and complexities of your model, and provide a balanced discussion of the implications of your prediction, including potential counterarguments and alternative perspectives. Consider the potential impact of your prediction on the broader economic landscape, and provide a nuanced discussion of the potential implications for households, businesses, and policymakers. Please provide a clear and concise justification for your classification, including specific examples and evidence from\n"
     ]
    },
    {
     "name": "stderr",
     "output_type": "stream",
     "text": [
      "Epoch 8: Training step 1: : 1it [00:19, 19.22s/it]"
     ]
    },
    {
     "name": "stdout",
     "output_type": "stream",
     "text": [
      "Prompt:  VARIABLE> Classify the following sentence from FOMC into one of hawkish, dovish, or neutral, providing a clear and concise justification for your classification. Specifically, please highlight the key phrases and sentence structures that support your prediction. Acknowledge potential limitations and complexities of your model. Consider the potential impact of your prediction on the broader economic landscape, and provide a balanced discussion of the potential implications for households, businesses, and policymakers. Please provide specific examples and evidence from the sentence to justify your classification. Note that your response should be a binary classification (0 or 1). Refrain from providing a nuanced analysis or detailed breakdown of linguistic features and cues. Instead, focus on providing a clear and direct answer to the\n"
     ]
    },
    {
     "name": "stderr",
     "output_type": "stream",
     "text": [
      "Epoch 8: Training step 2: : 2it [00:39, 19.58s/it]"
     ]
    },
    {
     "name": "stdout",
     "output_type": "stream",
     "text": [
      "Prompt:  VARIABLE> Classify the following sentence from FOMC into one of hawkish, dovish, or neutral, providing a clear and concise justification for your classification. Specifically, please highlight the key phrases and sentence structures that support your prediction, and acknowledge potential limitations and complexities of your model. Consider the potential impact of your prediction on the broader economic landscape, and provide a balanced discussion of the potential implications for households, businesses, and policymakers. Additionally, please provide specific examples and evidence from the sentence to justify your classification, and indicate the level of confidence you have in your prediction. Note that your response should be a binary classification (0 or 1), but also provide a nuanced analysis of the linguistic features and cues that led\n"
     ]
    },
    {
     "name": "stderr",
     "output_type": "stream",
     "text": [
      "Epoch 8: Training step 3: : 3it [00:58, 19.64s/it]"
     ]
    },
    {
     "name": "stdout",
     "output_type": "stream",
     "text": [
      "Prompt:  VARIABLE> Classify the following sentence from FOMC into one of hawkish, dovish, or neutral, providing a detailed and context-specific analysis of the linguistic features and cues that support your prediction. Specifically, please highlight the key phrases and sentence structures that directly contribute to your classification, and acknowledge potential limitations and complexities of your model. Consider the potential impact of your prediction on the broader economic landscape, and provide a balanced discussion of the potential implications for households, businesses, and policymakers. Additionally, please provide specific examples and evidence from the sentence to justify your classification, and indicate the level of confidence you have in your prediction. Furthermore, please provide a nuanced analysis of the tone, sentiment, and emotional intensity of the sentence\n"
     ]
    },
    {
     "name": "stderr",
     "output_type": "stream",
     "text": [
      "Epoch 8: Training step 4: : 4it [01:19, 19.99s/it]"
     ]
    },
    {
     "name": "stdout",
     "output_type": "stream",
     "text": [
      "Prompt:  VARIABLE> Classify the following sentence from FOMC into one of hawkish, dovish, or neutral, providing a detailed and context-specific analysis of the linguistic features and cues that support your prediction. Specifically, please highlight the key phrases and sentence structures that directly contribute to your classification, and acknowledge potential limitations and complexities of your model. Consider the potential impact of your prediction on the broader economic landscape, and provide a balanced discussion of the potential implications for households, businesses, and policymakers. Additionally, please provide specific examples and evidence from the sentence to justify your classification, and indicate the level of confidence you have in your prediction. Furthermore, please provide a nuanced analysis of the tone, sentiment, and emotional intensity of the sentence\n"
     ]
    },
    {
     "name": "stderr",
     "output_type": "stream",
     "text": [
      "Epoch 8: Training step 5: : 5it [01:41, 20.73s/it]"
     ]
    },
    {
     "name": "stdout",
     "output_type": "stream",
     "text": [
      "Prompt:  Classify the following sentence from FOMC into one of hawkish, dovish, or neutral, providing a detailed and context-specific analysis of the linguistic features and cues that support your prediction. Specifically, please highlight the key phrases and sentence structures that directly contribute to your classification, and acknowledge potential limitations and complexities of your model. Consider the potential impact of your prediction on the broader economic landscape, and provide a balanced discussion of the potential implications for households, businesses, and policymakers. Additionally, please provide specific examples and evidence from the sentence to justify your classification, and indicate the level of confidence you have in your prediction. Furthermore, please provide a nuanced analysis of the tone, sentiment, and emotional intensity of the sentence, taking\n"
     ]
    },
    {
     "name": "stderr",
     "output_type": "stream",
     "text": [
      "Epoch 8: Training step 6: : 6it [02:01, 20.50s/it]"
     ]
    },
    {
     "name": "stdout",
     "output_type": "stream",
     "text": [
      "Prompt:  Classify the following sentence from FOMC into one of hawkish, dovish, or neutral, providing a detailed and context-specific analysis of the linguistic features and cues that support your prediction. Specifically, please highlight the key phrases and sentence structures that directly contribute to your classification, and acknowledge potential limitations and complexities of your model. Consider the potential impact of your prediction on the broader economic landscape, and provide a balanced discussion of the potential implications for households, businesses, and policymakers. Additionally, please provide specific examples and evidence from the sentence to justify your classification, and indicate the level of confidence you have in your prediction. Furthermore, please provide a nuanced analysis of the tone, sentiment, and emotional intensity of the sentence, taking\n"
     ]
    },
    {
     "name": "stderr",
     "output_type": "stream",
     "text": [
      "Epoch 8: Training step 7: : 7it [02:23, 20.90s/it]"
     ]
    },
    {
     "name": "stdout",
     "output_type": "stream",
     "text": [
      "Prompt:  Classify the following sentence from FOMC into one of hawkish, dovish, or neutral, providing a detailed and context-specific analysis of the linguistic features and cues that support your prediction. Specifically, please highlight the key phrases and sentence structures that directly contribute to your classification, and acknowledge potential limitations and complexities of your model. Consider the potential impact of your prediction on the broader economic landscape, and provide a balanced discussion of the potential implications for households, businesses, and policymakers. Additionally, please provide specific examples and evidence from the sentence to justify your classification, and indicate the level of confidence you have in your prediction. Furthermore, please provide a nuanced analysis of the tone, sentiment, and emotional intensity of the sentence, taking\n"
     ]
    },
    {
     "name": "stderr",
     "output_type": "stream",
     "text": [
      "Epoch 8: Training step 8: : 8it [02:42, 20.57s/it]"
     ]
    },
    {
     "name": "stdout",
     "output_type": "stream",
     "text": [
      "Prompt:  Classify the following sentence from FOMC into one of hawkish, dovish, or neutral, providing a detailed and context-specific analysis of the linguistic features and cues that support your prediction. Specifically, please highlight the key phrases and sentence structures that directly contribute to your classification, and acknowledge potential limitations and complexities of your model. Consider the potential impact of your prediction on the broader economic landscape, and provide a balanced discussion of the potential implications for households, businesses, and policymakers. Additionally, please provide specific examples and evidence from the sentence to justify your classification, and indicate the level of confidence you have in your prediction. Furthermore, please provide a nuanced analysis of the tone, sentiment, and emotional intensity of the sentence, taking\n"
     ]
    },
    {
     "name": "stderr",
     "output_type": "stream",
     "text": [
      "Epoch 8: Training step 9: : 9it [03:02, 20.36s/it]"
     ]
    },
    {
     "name": "stdout",
     "output_type": "stream",
     "text": [
      "Prompt:  Classify the following sentence from FOMC into one of hawkish, dovish, or neutral, providing a nuanced and probabilistic analysis of the linguistic features and cues that support your prediction. Specifically, please highlight the key phrases and sentence structures that directly contribute to your classification, and acknowledge potential limitations and complexities of your model. Consider the potential impact of your prediction on the broader economic landscape, and provide a balanced discussion of the potential implications for households, businesses, and policymakers. Additionally, please provide specific examples and evidence from the sentence to justify your classification, and indicate the level of confidence you have in your prediction. Furthermore, please provide a detailed analysis of the tone, sentiment, and emotional intensity of the sentence, taking\n"
     ]
    },
    {
     "name": "stderr",
     "output_type": "stream",
     "text": [
      "Epoch 8: Training step 9: : 10it [03:24, 20.42s/it]\n"
     ]
    },
    {
     "name": "stdout",
     "output_type": "stream",
     "text": [
      "Prompt:  Classify the following sentence from FOMC into one of hawkish, dovish, or neutral, providing a nuanced and probabilistic analysis of the linguistic features and cues that support your prediction. Specifically, please highlight the key phrases and sentence structures that directly contribute to your classification, and acknowledge potential limitations and complexities of your model. Consider the potential impact of your prediction on the broader economic landscape, and provide a balanced discussion of the potential implications for households, businesses, and policymakers. Additionally, please provide specific examples and evidence from the sentence to justify your classification, and indicate the level of confidence you have in your prediction. Furthermore, please provide a detailed analysis of the tone, sentiment, and emotional intensity of the sentence, taking\n",
      "New prompt:  Classify the following sentence from FOMC into one of hawkish, dovish, or neutral, providing a nuanced and probabilistic analysis of the linguistic features and cues that support your prediction. Specifically, please highlight the key phrases and sentence structures that directly contribute to your classification, and acknowledge potential limitations and complexities of your model. Consider the potential impact of your prediction on the broader economic landscape, and provide a balanced discussion of the potential implications for households, businesses, and policymakers. Additionally, please provide specific examples and evidence from the sentence to justify your classification, and indicate the level of confidence you have in your prediction. Furthermore, please provide a detailed analysis of the tone, sentiment, and emotional intensity of the sentence, taking\n"
     ]
    },
    {
     "name": "stderr",
     "output_type": "stream",
     "text": [
      "Accuracy: 0.4797979797979798: 100%|██████████| 198/198 [00:12<00:00, 15.31it/s] \n"
     ]
    },
    {
     "name": "stdout",
     "output_type": "stream",
     "text": [
      "Val accuracy: 0.4797979797979798\n",
      "Previous val accuracy: 0.5505050505050505\n",
      "Rejected prompt: Classify the following sentence from FOMC into one of hawkish, dovish, or neutral, providing a nuanced and probabilistic analysis of the linguistic features and cues that support your prediction. Specifically, please highlight the key phrases and sentence structures that directly contribute to your classification, and acknowledge potential limitations and complexities of your model. Consider the potential impact of your prediction on the broader economic landscape, and provide a balanced discussion of the potential implications for households, businesses, and policymakers. Additionally, please provide specific examples and evidence from the sentence to justify your classification, and indicate the level of confidence you have in your prediction. Furthermore, please provide a detailed analysis of the tone, sentiment, and emotional intensity of the sentence, taking\n",
      "System prompt:  VARIABLE> Classify the following sentence from FOMC into one of hawkish, dovish, or neutral, providing a detailed and nuanced analysis of the linguistic features and cues that support your prediction. Specifically, please highlight the key phrases, sentence structures, and tone markers that contribute to the sentence's overall tone and sentiment. Additionally, acknowledge the potential limitations and complexities of your model, and provide a balanced discussion of the implications of your prediction, including potential counterarguments and alternative perspectives. Consider the potential impact of your prediction on the broader economic landscape, and provide a nuanced discussion of the potential implications for households, businesses, and policymakers. Please provide a clear and concise justification for your classification, including specific examples and evidence from\n"
     ]
    },
    {
     "name": "stderr",
     "output_type": "stream",
     "text": [
      "Epoch 9: Training step 1: : 1it [00:21, 21.61s/it]"
     ]
    },
    {
     "name": "stdout",
     "output_type": "stream",
     "text": [
      "Prompt:  VARIABLE> Classify the following sentence from FOMC into one of hawkish, dovish, or neutral, providing a detailed and nuanced analysis of the linguistic features and cues that support your prediction. Specifically, please highlight the key phrases, sentence structures, and tone markers that contribute to the sentence's overall tone and sentiment. Additionally, acknowledge the potential limitations and complexities of your model, and provide a balanced discussion of the implications of your prediction, including potential counterarguments and alternative perspectives. Consider the potential impact of your prediction on the broader economic landscape, and provide a nuanced discussion of the potential implications for households, businesses, and policymakers. Furthermore, please provide concrete evidence to support your classification, such as specific words, phrases,\n"
     ]
    },
    {
     "name": "stderr",
     "output_type": "stream",
     "text": [
      "Epoch 9: Training step 2: : 2it [00:42, 21.16s/it]"
     ]
    },
    {
     "name": "stdout",
     "output_type": "stream",
     "text": [
      "Prompt:  VARIABLE> Classify the following sentence from FOMC into one of hawkish, dovish, or neutral, providing a nuanced analysis of the linguistic features and cues that support your prediction. Specifically, please highlight the key phrases, sentence structures, and tone markers that contribute to the sentence's overall tone and sentiment. Additionally, acknowledge the potential limitations and complexities of your model, and provide a balanced discussion of the implications of your prediction, including potential counterarguments and alternative perspectives. Consider the potential impact of your prediction on the broader economic landscape, and provide a nuanced discussion of the potential implications for households, businesses, and policymakers. Furthermore, please provide concrete evidence to support your classification, such as specific words, phrases, and\n"
     ]
    },
    {
     "name": "stderr",
     "output_type": "stream",
     "text": [
      "Epoch 9: Training step 3: : 3it [01:03, 21.26s/it]"
     ]
    },
    {
     "name": "stdout",
     "output_type": "stream",
     "text": [
      "Prompt:  VARIABLE> Classify the following sentence from FOMC into one of hawkish, dovish, or neutral, providing a nuanced analysis of the linguistic features and cues that support your prediction. Specifically, please highlight the key phrases, sentence structures, and tone markers that contribute to the sentence's overall tone and sentiment. Additionally, acknowledge the potential limitations and complexities of your model, and provide a balanced discussion of the implications of your prediction, including potential counterarguments and alternative perspectives. Consider the potential impact of your prediction on the broader economic landscape, and provide a nuanced discussion of the potential implications for households, businesses, and policymakers. Furthermore, please provide concrete evidence to support your classification, such as specific words, phrases, and\n"
     ]
    },
    {
     "name": "stderr",
     "output_type": "stream",
     "text": [
      "Epoch 9: Training step 4: : 4it [01:22, 20.43s/it]"
     ]
    },
    {
     "name": "stdout",
     "output_type": "stream",
     "text": [
      "Prompt:  VARIABLE> Classify the following sentence from FOMC into one of hawkish, dovish, or neutral, providing a nuanced analysis of the linguistic features and cues that support your prediction. Specifically, please highlight the key phrases, sentence structures, and tone markers that contribute to the sentence's overall tone and sentiment. Additionally, acknowledge the potential limitations and complexities of your model, and provide a balanced discussion of the implications of your prediction, including potential counterarguments and alternative perspectives. Consider the potential impact of your prediction on the broader economic landscape, and provide a nuanced discussion of the potential implications for households, businesses, and policymakers. Furthermore, please provide concrete evidence to support your classification, such as specific words, phrases, and\n"
     ]
    },
    {
     "name": "stderr",
     "output_type": "stream",
     "text": [
      "Epoch 9: Training step 5: : 5it [01:43, 20.54s/it]"
     ]
    },
    {
     "name": "stdout",
     "output_type": "stream",
     "text": [
      "Prompt:  VARIABLE> Classify the following sentence from FOMC into one of hawkish, dovish, or neutral, providing a specific numerical prediction of the likelihood of each tone (e.g., 0.3 for dovish, 0.4 for neutral, 0.3 for hawkish). Please support your classification with concrete linguistic features and cues, such as specific words, phrases, and sentence structures that contribute to the sentence's overall tone and sentiment. Additionally, acknowledge the potential limitations and complexities of your model, and provide a balanced discussion of the implications of your prediction, including potential counterarguments and alternative perspectives. Consider the potential impact of your prediction on the broader economic landscape, and provide a nuanced discussion of\n"
     ]
    },
    {
     "name": "stderr",
     "output_type": "stream",
     "text": [
      "Epoch 9: Training step 6: : 6it [02:04, 20.67s/it]"
     ]
    },
    {
     "name": "stdout",
     "output_type": "stream",
     "text": [
      "Prompt:  VARIABLE> Classify the following sentence from FOMC into one of hawkish, dovish, or neutral, providing a specific numerical prediction of the likelihood of each tone (e.g., 0.3 for dovish, 0.4 for neutral, 0.3 for hawkish). Please support your classification with concrete linguistic features and cues, such as specific words, phrases, and sentence structures that contribute to the sentence's overall tone and sentiment. Additionally, acknowledge the potential limitations and complexities of your model, and provide a balanced discussion of the implications of your prediction, including potential counterarguments and alternative perspectives. Consider the potential impact of your prediction on the broader economic landscape, and provide a nuanced discussion of the\n"
     ]
    },
    {
     "name": "stderr",
     "output_type": "stream",
     "text": [
      "Epoch 9: Training step 7: : 7it [02:26, 20.94s/it]"
     ]
    },
    {
     "name": "stdout",
     "output_type": "stream",
     "text": [
      "Prompt:  Classify the following sentence from FOMC into one of hawkish, dovish, or neutral, providing a specific numerical prediction of the likelihood of each tone (e.g., 0.3 for dovish, 0.4 for neutral, 0.3 for hawkish). Please support your classification with concrete linguistic features and cues, such as specific words, phrases, and sentence structures that contribute to the sentence's overall tone and sentiment. Additionally, acknowledge the potential limitations and complexities of your model, and provide a balanced discussion of the implications of your prediction, including potential counterarguments and alternative perspectives. Consider the following refinements to the prompt:\n",
      "\n",
      "* Contextualize the sentence: Provide a brief summary of the\n"
     ]
    },
    {
     "name": "stderr",
     "output_type": "stream",
     "text": [
      "Epoch 9: Training step 8: : 8it [02:49, 21.74s/it]"
     ]
    },
    {
     "name": "stdout",
     "output_type": "stream",
     "text": [
      "Prompt:  Classify the following sentence from FOMC into one of hawkish, dovish, or neutral, providing a specific numerical prediction of the likelihood of each tone (e.g., 0.3 for dovish, 0.4 for neutral, 0.3 for hawkish). Please support your classification with concrete linguistic features and cues, such as specific words, phrases, and sentence structures that contribute to the sentence's overall tone and sentiment. Additionally, acknowledge the potential limitations and complexities of your model, and provide a balanced discussion of the implications of your prediction, including potential counterarguments and alternative perspectives.\n",
      "\n",
      "Contextualize the sentence: Provide a detailed summary of the FOMC meeting, including the current economic conditions\n"
     ]
    },
    {
     "name": "stderr",
     "output_type": "stream",
     "text": [
      "Epoch 9: Training step 9: : 9it [03:17, 23.79s/it]"
     ]
    },
    {
     "name": "stdout",
     "output_type": "stream",
     "text": [
      "Prompt:  Classify the following sentence from FOMC into one of hawkish, dovish, or neutral, providing a specific numerical prediction of the likelihood of each tone (e.g., 0.3 for dovish, 0.4 for neutral, 0.3 for hawkish). Please support your classification with concrete linguistic features and cues, such as specific words, phrases, and sentence structures that contribute to the sentence's overall tone and sentiment. Additionally, acknowledge the potential limitations and complexities of your model, and provide a balanced discussion of the implications of your prediction, including potential counterarguments and alternative perspectives. Specifically, identify and explain the concrete words, phrases, and sentence structures that contribute to the sentence's tone and\n"
     ]
    },
    {
     "name": "stderr",
     "output_type": "stream",
     "text": [
      "Epoch 9: Training step 9: : 10it [03:37, 21.78s/it]\n"
     ]
    },
    {
     "name": "stdout",
     "output_type": "stream",
     "text": [
      "Prompt:  Classify the following sentence from FOMC into one of hawkish, dovish, or neutral, providing a specific numerical prediction of the likelihood of each tone (e.g., 0.3 for dovish, 0.4 for neutral, 0.3 for hawkish). Please support your classification with concrete linguistic features and cues, such as specific words, phrases, and sentence structures that contribute to the sentence's overall tone and sentiment. Additionally, acknowledge the potential limitations and complexities of your model, and provide a balanced discussion of the implications of your prediction, including potential counterarguments and alternative perspectives. Specifically, identify and explain the concrete words, phrases, and sentence structures that contribute to the sentence's tone and\n",
      "New prompt:  Classify the following sentence from FOMC into one of hawkish, dovish, or neutral, providing a specific numerical prediction of the likelihood of each tone (e.g., 0.3 for dovish, 0.4 for neutral, 0.3 for hawkish). Please support your classification with concrete linguistic features and cues, such as specific words, phrases, and sentence structures that contribute to the sentence's overall tone and sentiment. Additionally, acknowledge the potential limitations and complexities of your model, and provide a balanced discussion of the implications of your prediction, including potential counterarguments and alternative perspectives. Specifically, identify and explain the concrete words, phrases, and sentence structures that contribute to the sentence's tone and\n"
     ]
    },
    {
     "name": "stderr",
     "output_type": "stream",
     "text": [
      "Accuracy: 0.5202020202020202: 100%|██████████| 198/198 [00:07<00:00, 27.65it/s]\n"
     ]
    },
    {
     "name": "stdout",
     "output_type": "stream",
     "text": [
      "Val accuracy: 0.5202020202020202\n",
      "Previous val accuracy: 0.5505050505050505\n",
      "Rejected prompt: Classify the following sentence from FOMC into one of hawkish, dovish, or neutral, providing a specific numerical prediction of the likelihood of each tone (e.g., 0.3 for dovish, 0.4 for neutral, 0.3 for hawkish). Please support your classification with concrete linguistic features and cues, such as specific words, phrases, and sentence structures that contribute to the sentence's overall tone and sentiment. Additionally, acknowledge the potential limitations and complexities of your model, and provide a balanced discussion of the implications of your prediction, including potential counterarguments and alternative perspectives. Specifically, identify and explain the concrete words, phrases, and sentence structures that contribute to the sentence's tone and\n",
      "System prompt:  VARIABLE> Classify the following sentence from FOMC into one of hawkish, dovish, or neutral, providing a detailed and nuanced analysis of the linguistic features and cues that support your prediction. Specifically, please highlight the key phrases, sentence structures, and tone markers that contribute to the sentence's overall tone and sentiment. Additionally, acknowledge the potential limitations and complexities of your model, and provide a balanced discussion of the implications of your prediction, including potential counterarguments and alternative perspectives. Consider the potential impact of your prediction on the broader economic landscape, and provide a nuanced discussion of the potential implications for households, businesses, and policymakers. Please provide a clear and concise justification for your classification, including specific examples and evidence from\n"
     ]
    },
    {
     "name": "stderr",
     "output_type": "stream",
     "text": [
      "Epoch 10: Training step 1: : 1it [00:21, 21.34s/it]"
     ]
    },
    {
     "name": "stdout",
     "output_type": "stream",
     "text": [
      "Prompt:  VARIABLE> Classify the following sentence from FOMC into one of hawkish, dovish, or neutral, providing a detailed and nuanced analysis of the linguistic features and cues that support your prediction. Specifically, please highlight the key phrases, sentence structures, and tone markers that contribute to the sentence's overall tone and sentiment. Additionally, acknowledge the potential limitations and complexities of your model, and provide a balanced discussion of the implications of your prediction, including potential counterarguments and alternative perspectives. Consider the potential impact of your prediction on the broader economic landscape, and provide a nuanced discussion of the potential implications for households, businesses, and policymakers. Furthermore, please provide a clear and concise justification for your classification, including specific examples and\n"
     ]
    },
    {
     "name": "stderr",
     "output_type": "stream",
     "text": [
      "Epoch 10: Training step 2: : 2it [00:42, 21.20s/it]"
     ]
    },
    {
     "name": "stdout",
     "output_type": "stream",
     "text": [
      "Prompt:  VARIABLE> Classify the following sentence from FOMC into one of hawkish, dovish, or neutral, providing a clear and concise justification for your classification. Specifically, please highlight the key phrases, sentence structures, and tone markers that contribute to the sentence's overall tone and sentiment. Additionally, acknowledge the potential limitations and complexities of your model, and provide a balanced discussion of the implications of your prediction, including potential counterarguments and alternative perspectives. Consider the potential impact of your prediction on the broader economic landscape, and provide a nuanced discussion of the potential implications for households, businesses, and policymakers. Furthermore, please provide a direct answer in the format of \"0\" or \"1\" to indicate your classification, and support\n"
     ]
    },
    {
     "name": "stderr",
     "output_type": "stream",
     "text": [
      "Epoch 10: Training step 3: : 3it [01:03, 21.21s/it]"
     ]
    },
    {
     "name": "stdout",
     "output_type": "stream",
     "text": [
      "Prompt:  VARIABLE> Classify the following sentence from FOMC into one of hawkish, dovish, or neutral, providing a detailed and nuanced justification for your classification. Specifically, please highlight the key phrases, sentence structures, and tone markers that contribute to the sentence's overall tone and sentiment, and acknowledge the potential limitations and complexities of your model. Additionally, provide a balanced discussion of the implications of your prediction, including potential counterarguments and alternative perspectives, and consider the potential impact of your prediction on the broader economic landscape. Furthermore, please provide a direct answer in the format of \"0\", \"1\", or \"2\" to indicate your classification, and support your answer with concrete examples and evidence. Please note that a more\n"
     ]
    },
    {
     "name": "stderr",
     "output_type": "stream",
     "text": [
      "Epoch 10: Training step 4: : 4it [01:23, 20.56s/it]"
     ]
    },
    {
     "name": "stdout",
     "output_type": "stream",
     "text": [
      "Prompt:  VARIABLE> Classify the following sentence from FOMC into one of hawkish, dovish, or neutral, providing a detailed and nuanced justification for your classification. Specifically, please highlight the key phrases, sentence structures, and tone markers that contribute to the sentence's overall tone and sentiment, and acknowledge the potential limitations and complexities of your model. Additionally, provide a balanced discussion of the implications of your prediction, including potential counterarguments and alternative perspectives, and consider the potential impact of your prediction on the broader economic landscape. Furthermore, please provide a direct answer in the format of \"0\", \"1\", or \"2\" to indicate your classification, and support your answer with concrete examples and evidence. Please note that a more\n"
     ]
    },
    {
     "name": "stderr",
     "output_type": "stream",
     "text": [
      "Epoch 10: Training step 5: : 5it [01:42, 20.16s/it]"
     ]
    },
    {
     "name": "stdout",
     "output_type": "stream",
     "text": [
      "Prompt:  VARIABLE> Classify the following sentence from FOMC into one of hawkish (suggesting a strong increase in wage and price pressures), dovish (suggesting a strong decrease in wage and price pressures), or neutral (suggesting a mixed or ambiguous signal), providing a detailed and nuanced justification for your classification. Specifically, please highlight the key phrases, sentence structures, and tone markers that contribute to the sentence's overall tone and sentiment, and acknowledge the potential limitations and complexities of your model. Additionally, provide a balanced discussion of the implications of your prediction, including potential counterarguments and alternative perspectives, and consider the potential impact of your prediction on the broader economic landscape. Furthermore, please provide a direct answer in the format\n"
     ]
    },
    {
     "name": "stderr",
     "output_type": "stream",
     "text": [
      "Epoch 10: Training step 6: : 6it [02:04, 20.63s/it]"
     ]
    },
    {
     "name": "stdout",
     "output_type": "stream",
     "text": [
      "Prompt:  VARIABLE> Classify the following sentence from FOMC into one of hawkish (suggesting a strong increase in wage and price pressures), dovish (suggesting a strong decrease in wage and price pressures), or neutral (suggesting a mixed or ambiguous signal), providing a detailed and nuanced justification for your classification. Specifically, please:\n",
      "\n",
      "* Highlight the key phrases, sentence structures, and tone markers that contribute to the sentence's overall tone and sentiment, and acknowledge the potential limitations and complexities of your model.\n",
      "* Provide a balanced discussion of the implications of your prediction, including potential counterarguments and alternative perspectives, and consider the potential impact of your prediction on the broader economic landscape.\n",
      "* Consider the author's intent, the audience,\n"
     ]
    },
    {
     "name": "stderr",
     "output_type": "stream",
     "text": [
      "Epoch 10: Training step 7: : 7it [02:24, 20.47s/it]"
     ]
    },
    {
     "name": "stdout",
     "output_type": "stream",
     "text": [
      "Prompt:  VARIABLE> Classify the following sentence from FOMC into one of hawkish (strongly suggesting a strong increase in wage and price pressures), dovish (strongly suggesting a strong decrease in wage and price pressures), or neutral (suggesting a mixed or ambiguous signal), providing a clear and concise justification for your classification. Specifically, please:\n",
      "\n",
      "* Identify the key phrases, sentence structures, and tone markers that contribute to the sentence's overall tone and sentiment, and acknowledge the potential limitations and complexities of your model.\n",
      "* Provide a balanced discussion of the implications of your prediction, including potential counterarguments and alternative perspectives, and consider the potential impact of your prediction on the broader economic landscape.\n",
      "* Consider the author's intent, the\n"
     ]
    },
    {
     "name": "stderr",
     "output_type": "stream",
     "text": [
      "Epoch 10: Training step 8: : 8it [02:46, 21.09s/it]"
     ]
    },
    {
     "name": "stdout",
     "output_type": "stream",
     "text": [
      "Prompt:  VARIABLE> Classify the following sentence from FOMC into one of hawkish, dovish, or neutral, providing a clear and concise justification for your classification. Specifically, please:\n",
      "\n",
      "* Identify the key phrases, sentence structures, and tone markers that contribute to the sentence's overall tone and sentiment, and acknowledge the potential limitations and complexities of your model.\n",
      "* Provide a balanced discussion of the implications of your prediction, including potential counterarguments and alternative perspectives, and consider the potential impact of your prediction on the broader economic landscape.\n",
      "* Consider the author's intent, the tone, and emotional undertones of the sentence, and describe how these factors influence your classification.\n",
      "* Provide concrete evidence or examples to support your classification, such as\n"
     ]
    },
    {
     "name": "stderr",
     "output_type": "stream",
     "text": [
      "Epoch 10: Training step 9: : 9it [03:07, 21.04s/it]"
     ]
    },
    {
     "name": "stdout",
     "output_type": "stream",
     "text": [
      "Prompt:  VARIABLE> Classify the following sentence from FOMC into one of hawkish, dovish, or neutral, providing a clear and concise justification for your classification. Specifically, please:\n",
      "\n",
      "* Identify the key phrases, sentence structures, and tone markers that contribute to the sentence's overall tone and sentiment, and acknowledge the potential limitations and complexities of your model.\n",
      "* Provide a balanced discussion of the implications of your prediction, including potential counterarguments and alternative perspectives, and consider the potential impact of your prediction on the broader economic landscape.\n",
      "* Consider the author's intent, the tone, and emotional undertones of the sentence, and describe how these factors influence your classification.\n",
      "* Provide concrete evidence or examples to support your classification, such as\n"
     ]
    },
    {
     "name": "stderr",
     "output_type": "stream",
     "text": [
      "Epoch 10: Training step 9: : 10it [03:29, 21.00s/it]\n"
     ]
    },
    {
     "name": "stdout",
     "output_type": "stream",
     "text": [
      "Prompt:  VARIABLE> Classify the following sentence from FOMC into one of hawkish, dovish, or neutral, providing a clear and concise justification for your classification. Specifically, please:\n",
      "\n",
      "* Identify the key phrases, sentence structures, and tone markers that contribute to the sentence's overall tone and sentiment, and acknowledge the potential limitations and complexities of your model.\n",
      "* Provide a balanced discussion of the implications of your prediction, including potential counterarguments and alternative perspectives, and consider the potential impact of your prediction on the broader economic landscape.\n",
      "* Consider the author's intent, the tone, and emotional undertones of the sentence, and describe how these factors influence your classification.\n",
      "* Provide concrete evidence or examples to support your classification, such as\n",
      "New prompt:  VARIABLE> Classify the following sentence from FOMC into one of hawkish, dovish, or neutral, providing a clear and concise justification for your classification. Specifically, please:\n",
      "\n",
      "* Identify the key phrases, sentence structures, and tone markers that contribute to the sentence's overall tone and sentiment, and acknowledge the potential limitations and complexities of your model.\n",
      "* Provide a balanced discussion of the implications of your prediction, including potential counterarguments and alternative perspectives, and consider the potential impact of your prediction on the broader economic landscape.\n",
      "* Consider the author's intent, the tone, and emotional undertones of the sentence, and describe how these factors influence your classification.\n",
      "* Provide concrete evidence or examples to support your classification, such as\n"
     ]
    },
    {
     "name": "stderr",
     "output_type": "stream",
     "text": [
      "Accuracy: 0.5151515151515151: 100%|██████████| 198/198 [00:07<00:00, 27.68it/s]\n"
     ]
    },
    {
     "name": "stdout",
     "output_type": "stream",
     "text": [
      "Val accuracy: 0.5151515151515151\n",
      "Previous val accuracy: 0.5505050505050505\n",
      "Rejected prompt: VARIABLE> Classify the following sentence from FOMC into one of hawkish, dovish, or neutral, providing a clear and concise justification for your classification. Specifically, please:\n",
      "\n",
      "* Identify the key phrases, sentence structures, and tone markers that contribute to the sentence's overall tone and sentiment, and acknowledge the potential limitations and complexities of your model.\n",
      "* Provide a balanced discussion of the implications of your prediction, including potential counterarguments and alternative perspectives, and consider the potential impact of your prediction on the broader economic landscape.\n",
      "* Consider the author's intent, the tone, and emotional undertones of the sentence, and describe how these factors influence your classification.\n",
      "* Provide concrete evidence or examples to support your classification, such as\n",
      "System prompt:  VARIABLE> Classify the following sentence from FOMC into one of hawkish, dovish, or neutral, providing a detailed and nuanced analysis of the linguistic features and cues that support your prediction. Specifically, please highlight the key phrases, sentence structures, and tone markers that contribute to the sentence's overall tone and sentiment. Additionally, acknowledge the potential limitations and complexities of your model, and provide a balanced discussion of the implications of your prediction, including potential counterarguments and alternative perspectives. Consider the potential impact of your prediction on the broader economic landscape, and provide a nuanced discussion of the potential implications for households, businesses, and policymakers. Please provide a clear and concise justification for your classification, including specific examples and evidence from\n"
     ]
    },
    {
     "name": "stderr",
     "output_type": "stream",
     "text": [
      "Epoch 11: Training step 1: : 1it [00:18, 18.18s/it]"
     ]
    },
    {
     "name": "stdout",
     "output_type": "stream",
     "text": [
      "Prompt:  VARIABLE> Classify the following sentence from FOMC into one of hawkish, dovish, or neutral, providing a clear and concise justification for your classification. Specifically, please highlight the key phrases, sentence structures, and tone markers that contribute to the sentence's overall tone and sentiment. Additionally, acknowledge the potential limitations and complexities of your model, and provide a balanced discussion of the implications of your prediction, including potential counterarguments and alternative perspectives. Consider the potential impact of your prediction on the broader economic landscape, and provide a nuanced discussion of the potential implications for households, businesses, and policymakers. Provide specific and concrete evidence to support your classification, including direct quotes from the sentence and explanations of how these quotes contribute to the\n"
     ]
    },
    {
     "name": "stderr",
     "output_type": "stream",
     "text": [
      "Epoch 11: Training step 2: : 2it [00:40, 20.58s/it]"
     ]
    },
    {
     "name": "stdout",
     "output_type": "stream",
     "text": [
      "Prompt:  Classify the following sentence from FOMC into one of hawkish, dovish, or neutral, providing a clear and concise justification for your classification. Specifically, please:\n",
      "\n",
      "* Highlight the key phrases, sentence structures, and tone markers that contribute to the sentence's overall tone and sentiment, and provide concrete evidence to support your classification.\n",
      "* Analyze the linguistic features that contribute to the tone, such as word choice, syntax, and figurative language, and explain how these features support your classification.\n",
      "* Acknowledge the potential limitations and complexities of your model, and provide a balanced discussion of the implications of your prediction, including potential counterarguments and alternative perspectives.\n",
      "* Consider the potential impact of your prediction on the broader economic landscape\n"
     ]
    },
    {
     "name": "stderr",
     "output_type": "stream",
     "text": [
      "Epoch 11: Training step 3: : 3it [01:01, 20.61s/it]"
     ]
    },
    {
     "name": "stdout",
     "output_type": "stream",
     "text": [
      "Prompt:  Classify the following sentence from FOMC into one of hawkish, dovish, or neutral, providing a clear and concise justification for your classification. Specifically, please:\n",
      "\n",
      "* Highlight the key phrases, sentence structures, and tone markers that contribute to the sentence's overall tone and sentiment, and provide concrete evidence to support your classification, acknowledging potential ambiguities and complexities.\n",
      "* Analyze the linguistic features that contribute to the tone, such as word choice, syntax, and figurative language, and explain how these features support your classification, considering multiple possible interpretations.\n",
      "* Consider the potential limitations and complexities of your model, and provide a balanced discussion of the implications of your prediction, including potential counterarguments and alternative perspectives, and the\n"
     ]
    },
    {
     "name": "stderr",
     "output_type": "stream",
     "text": [
      "Epoch 11: Training step 4: : 4it [01:23, 21.24s/it]"
     ]
    },
    {
     "name": "stdout",
     "output_type": "stream",
     "text": [
      "Prompt:  Classify the following sentence from FOMC into one of hawkish, dovish, or neutral, providing a clear and concise justification for your classification. Specifically, please:\n",
      "\n",
      "* Highlight the key phrases, sentence structures, and tone markers that contribute to the sentence's overall tone and sentiment, and provide concrete evidence to support your classification, acknowledging potential ambiguities and complexities.\n",
      "* Analyze the linguistic features that contribute to the tone, such as word choice, syntax, and figurative language, and explain how these features support your classification, considering multiple possible interpretations.\n",
      "* Consider the potential limitations and complexities of your model, and provide a balanced discussion of the implications of your prediction, including potential counterarguments and alternative perspectives, and the\n"
     ]
    },
    {
     "name": "stderr",
     "output_type": "stream",
     "text": [
      "Epoch 11: Training step 5: : 5it [01:43, 20.80s/it]"
     ]
    },
    {
     "name": "stdout",
     "output_type": "stream",
     "text": [
      "Prompt:  VARIABLE> Classify the following sentence from FOMC into one of hawkish, dovish, or neutral, providing a clear and concise justification for your classification. Specifically, please:\n",
      "\n",
      "* Clearly articulate the classification by stating \"This sentence is classified as [hawkish/dovish/neutral]\" and provide a brief summary of the reasoning behind your classification.\n",
      "* Provide a detailed analysis of the linguistic features that contribute to the tone, such as word choice, syntax, and figurative language, and explain how these features support your classification.\n",
      "* Acknowledge potential ambiguities and complexities, and provide concrete evidence to support your classification, considering multiple possible interpretations.\n",
      "* Consider the potential limitations and complexities of your model, and provide a balanced\n"
     ]
    },
    {
     "name": "stderr",
     "output_type": "stream",
     "text": [
      "Epoch 11: Training step 6: : 6it [02:03, 20.74s/it]"
     ]
    },
    {
     "name": "stdout",
     "output_type": "stream",
     "text": [
      "Prompt:  VARIABLE> Classify the following sentence from FOMC into one of hawkish, dovish, or neutral, providing a clear and concise justification for your classification. Specifically, please:\n",
      "\n",
      "* Clearly articulate the classification by stating \"This sentence is classified as [hawkish/dovish/neutral]\" and provide a detailed analysis of the linguistic features that contribute to the tone, such as word choice, syntax, and figurative language, explaining how these features support your classification.\n",
      "* Provide a nuanced and balanced analysis of the sentence's meaning, acknowledging potential ambiguities and complexities, and provide concrete evidence to support your classification, considering multiple possible interpretations.\n",
      "* Consider the potential limitations and complexities of your model, and provide a clear and concise\n"
     ]
    },
    {
     "name": "stderr",
     "output_type": "stream",
     "text": [
      "Epoch 11: Training step 7: : 7it [02:24, 20.60s/it]"
     ]
    },
    {
     "name": "stdout",
     "output_type": "stream",
     "text": [
      "Prompt:  VARIABLE> Classify the following sentence from FOMC into one of hawkish, dovish, or neutral, providing a clear and concise justification for your classification. Specifically, please:\n",
      "\n",
      "* Clearly articulate the classification by stating \"This sentence is classified as [hawkish/dovish/neutral]\" and provide a detailed analysis of the linguistic features that contribute to the tone, such as word choice, syntax, and figurative language, explaining how these features support your classification.\n",
      "* Provide a nuanced and balanced analysis of the sentence's meaning, acknowledging potential ambiguities and complexities, and provide concrete evidence to support your classification, considering multiple possible interpretations.\n",
      "* Consider the potential limitations and complexities of your model, and provide a clear and concise\n"
     ]
    },
    {
     "name": "stderr",
     "output_type": "stream",
     "text": [
      "Epoch 11: Training step 8: : 8it [02:44, 20.64s/it]"
     ]
    },
    {
     "name": "stdout",
     "output_type": "stream",
     "text": [
      "Prompt:  VARIABLE> Classify the following sentence from FOMC into one of hawkish, dovish, or neutral, providing a clear and concise justification for your classification. Specifically, please:\n",
      "\n",
      "* Clearly articulate the classification by stating \"This sentence is classified as [hawkish/dovish/neutral]\" and provide a detailed analysis of the linguistic features that contribute to the tone, such as word choice, syntax, and figurative language, explaining how these features support your classification.\n",
      "* Provide a nuanced and balanced analysis of the sentence's meaning, acknowledging potential ambiguities and complexities, and provide concrete evidence to support your classification, considering multiple possible interpretations.\n",
      "* Consider the potential limitations and complexities of your model, and provide a clear and\n"
     ]
    },
    {
     "name": "stderr",
     "output_type": "stream",
     "text": [
      "Epoch 11: Training step 9: : 9it [03:05, 20.62s/it]"
     ]
    },
    {
     "name": "stdout",
     "output_type": "stream",
     "text": [
      "Prompt:  VARIABLE> Classify the following sentence from FOMC into one of hawkish, dovish, or neutral, providing a clear and concise justification for your classification. Specifically, please:\n",
      "\n",
      "* Clearly articulate the classification by stating \"This sentence is classified as [hawkish/dovish/neutral]\" and provide a detailed analysis of the linguistic features that contribute to the tone, such as word choice, syntax, and figurative language, explaining how these features support your classification.\n",
      "* Provide a nuanced and balanced analysis of the sentence's meaning, acknowledging potential ambiguities and complexities, and provide concrete evidence to support your classification, considering multiple possible interpretations.\n",
      "* Consider the potential limitations and complexities of your model, and provide a clear and concise\n"
     ]
    },
    {
     "name": "stderr",
     "output_type": "stream",
     "text": [
      "Epoch 11: Training step 9: : 10it [03:26, 20.67s/it]\n"
     ]
    },
    {
     "name": "stdout",
     "output_type": "stream",
     "text": [
      "Prompt:  VARIABLE> Classify the following sentence from FOMC into one of hawkish, dovish, or neutral, providing a detailed analysis of the linguistic features that contribute to the tone, such as word choice, syntax, and figurative language. Specifically, please:\n",
      "\n",
      "* Clearly articulate the classification by stating \"This sentence is classified as [hawkish/dovish/neutral]\" and provide a nuanced and balanced analysis of the sentence's meaning, acknowledging potential ambiguities and complexities.\n",
      "* Provide concrete evidence to support your classification, considering multiple possible interpretations and highlighting specific phrases or words that contribute to the tone.\n",
      "* Consider the potential limitations and complexities of your model, and provide a clear and concise explanation of how you arrived at your classification\n",
      "New prompt:  VARIABLE> Classify the following sentence from FOMC into one of hawkish, dovish, or neutral, providing a detailed analysis of the linguistic features that contribute to the tone, such as word choice, syntax, and figurative language. Specifically, please:\n",
      "\n",
      "* Clearly articulate the classification by stating \"This sentence is classified as [hawkish/dovish/neutral]\" and provide a nuanced and balanced analysis of the sentence's meaning, acknowledging potential ambiguities and complexities.\n",
      "* Provide concrete evidence to support your classification, considering multiple possible interpretations and highlighting specific phrases or words that contribute to the tone.\n",
      "* Consider the potential limitations and complexities of your model, and provide a clear and concise explanation of how you arrived at your classification\n"
     ]
    },
    {
     "name": "stderr",
     "output_type": "stream",
     "text": [
      "Accuracy: 0.5303030303030303: 100%|██████████| 198/198 [00:07<00:00, 27.07it/s]\n"
     ]
    },
    {
     "name": "stdout",
     "output_type": "stream",
     "text": [
      "Val accuracy: 0.5303030303030303\n",
      "Previous val accuracy: 0.5505050505050505\n",
      "Rejected prompt: VARIABLE> Classify the following sentence from FOMC into one of hawkish, dovish, or neutral, providing a detailed analysis of the linguistic features that contribute to the tone, such as word choice, syntax, and figurative language. Specifically, please:\n",
      "\n",
      "* Clearly articulate the classification by stating \"This sentence is classified as [hawkish/dovish/neutral]\" and provide a nuanced and balanced analysis of the sentence's meaning, acknowledging potential ambiguities and complexities.\n",
      "* Provide concrete evidence to support your classification, considering multiple possible interpretations and highlighting specific phrases or words that contribute to the tone.\n",
      "* Consider the potential limitations and complexities of your model, and provide a clear and concise explanation of how you arrived at your classification\n",
      "System prompt:  VARIABLE> Classify the following sentence from FOMC into one of hawkish, dovish, or neutral, providing a detailed and nuanced analysis of the linguistic features and cues that support your prediction. Specifically, please highlight the key phrases, sentence structures, and tone markers that contribute to the sentence's overall tone and sentiment. Additionally, acknowledge the potential limitations and complexities of your model, and provide a balanced discussion of the implications of your prediction, including potential counterarguments and alternative perspectives. Consider the potential impact of your prediction on the broader economic landscape, and provide a nuanced discussion of the potential implications for households, businesses, and policymakers. Please provide a clear and concise justification for your classification, including specific examples and evidence from\n"
     ]
    },
    {
     "name": "stderr",
     "output_type": "stream",
     "text": [
      "Epoch 12: Training step 1: : 1it [00:19, 19.89s/it]"
     ]
    },
    {
     "name": "stdout",
     "output_type": "stream",
     "text": [
      "Prompt:  VARIABLE> Classify the following sentence from FOMC into one of hawkish, dovish, or neutral, providing a clear and concise justification for your classification. Specifically, please highlight the key phrases, sentence structures, and tone markers that contribute to the sentence's overall tone and sentiment. Additionally, acknowledge the potential limitations and complexities of your model, and provide a balanced discussion of the implications of your prediction, including potential counterarguments and alternative perspectives. Consider the potential impact of your prediction on the broader economic landscape, and provide a nuanced discussion of the potential implications for households, businesses, and policymakers. Please provide a direct and explicit answer, supported by specific examples and evidence from the input query, and avoid ambiguous or indirect statements\n"
     ]
    },
    {
     "name": "stderr",
     "output_type": "stream",
     "text": [
      "Epoch 12: Training step 2: : 2it [00:39, 19.53s/it]"
     ]
    },
    {
     "name": "stdout",
     "output_type": "stream",
     "text": [
      "Prompt:  VARIABLE> Classify the following sentence from FOMC into one of hawkish, dovish, or neutral, providing a clear and concise justification for your classification. Specifically, please highlight the key phrases, sentence structures, and tone markers that contribute to the sentence's overall tone and sentiment. Additionally, acknowledge the potential limitations and complexities of your model, and provide a balanced discussion of the implications of your prediction, including potential counterarguments and alternative perspectives. Consider the potential impact of your prediction on the broader economic landscape, and provide a nuanced discussion of the potential implications for households, businesses, and policymakers. Furthermore, please provide a detailed analysis of the sentence's tone, including whether it is formal or informal, and how it may\n"
     ]
    },
    {
     "name": "stderr",
     "output_type": "stream",
     "text": [
      "Epoch 12: Training step 3: : 3it [00:58, 19.56s/it]"
     ]
    },
    {
     "name": "stdout",
     "output_type": "stream",
     "text": [
      "Prompt:  VARIABLE> Classify the following sentence from FOMC into one of hawkish, dovish, or neutral, providing a clear and concise justification for your classification. Specifically, please highlight the key phrases, sentence structures, and tone markers that contribute to the sentence's overall tone and sentiment. Additionally, acknowledge the potential limitations and complexities of your model, and provide a balanced discussion of the implications of your prediction, including potential counterarguments and alternative perspectives. Consider the potential impact of your prediction on the broader economic landscape, and provide a nuanced discussion of the potential implications for households, businesses, and policymakers. Furthermore, please provide a detailed analysis of the sentence's tone, including whether it is formal or informal, and how it may\n"
     ]
    },
    {
     "name": "stderr",
     "output_type": "stream",
     "text": [
      "Epoch 12: Training step 4: : 4it [01:18, 19.76s/it]"
     ]
    },
    {
     "name": "stdout",
     "output_type": "stream",
     "text": [
      "Prompt:  VARIABLE> Classify the following sentence from FOMC into one of hawkish, dovish, or neutral, providing a clear and concise justification for your classification. Specifically, please highlight the key phrases, sentence structures, and tone markers that contribute to the sentence's overall tone and sentiment. Additionally, acknowledge the potential limitations and complexities of your model, and provide a balanced discussion of the implications of your prediction, including potential counterarguments and alternative perspectives. Consider the potential impact of your prediction on the broader economic landscape, and provide a nuanced discussion of the potential implications for households, businesses, and policymakers. Furthermore, please provide a detailed analysis of the sentence's tone, including whether it is formal or informal, and how it\n"
     ]
    },
    {
     "name": "stderr",
     "output_type": "stream",
     "text": [
      "Epoch 12: Training step 5: : 5it [01:38, 19.60s/it]"
     ]
    },
    {
     "name": "stdout",
     "output_type": "stream",
     "text": [
      "Prompt:  VARIABLE> Classify the following sentence from FOMC into one of hawkish, dovish, or neutral, providing a clear and concise justification for your classification. Specifically, please highlight the key phrases, sentence structures, and tone markers that contribute to the sentence's overall tone and sentiment. Additionally, acknowledge the potential limitations and complexities of your model, and provide a balanced discussion of the implications of your prediction, including potential counterarguments and alternative perspectives. Consider the potential impact of your prediction on the broader economic landscape, and provide a nuanced discussion of the potential implications for households, businesses, and policymakers. Furthermore, please provide a detailed analysis of the sentence's tone, including whether it is formal or informal, and how it\n"
     ]
    },
    {
     "name": "stderr",
     "output_type": "stream",
     "text": [
      "Epoch 12: Training step 6: : 6it [01:58, 19.76s/it]"
     ]
    },
    {
     "name": "stdout",
     "output_type": "stream",
     "text": [
      "Prompt:  VARIABLE> Classify the following sentence from FOMC into one of hawkish, dovish, or neutral, providing a clear and concise justification for your classification. Specifically, please highlight the key phrases, sentence structures, and tone markers that contribute to the sentence's overall tone and sentiment. Additionally, acknowledge the potential limitations and complexities of your model, and provide a balanced discussion of the implications of your prediction, including potential counterarguments and alternative perspectives. Consider the potential impact of your prediction on the broader economic landscape, and provide a nuanced discussion of the potential implications for households, businesses, and policymakers. Furthermore, please provide a detailed analysis of the sentence's tone, including whether it is formal or informal, and how it\n"
     ]
    },
    {
     "name": "stderr",
     "output_type": "stream",
     "text": [
      "Epoch 12: Training step 7: : 7it [02:19, 20.11s/it]"
     ]
    },
    {
     "name": "stdout",
     "output_type": "stream",
     "text": [
      "Prompt:  VARIABLE> Classify the following sentence from FOMC into one of hawkish, dovish, or neutral, providing a clear and concise justification for your classification. Specifically, please highlight the key phrases, sentence structures, and tone markers that contribute to the sentence's overall tone and sentiment. Additionally, acknowledge the potential limitations and complexities of your model, and provide a balanced discussion of the implications of your prediction, including potential counterarguments and alternative perspectives. Consider the potential impact of your prediction on the broader economic landscape, and provide a nuanced discussion of the potential implications for households, businesses, and policymakers. Furthermore, please provide a detailed analysis of the sentence's tone, including whether it is formal or informal, and how it\n"
     ]
    },
    {
     "name": "stderr",
     "output_type": "stream",
     "text": [
      "Epoch 12: Training step 8: : 8it [02:39, 20.28s/it]"
     ]
    },
    {
     "name": "stdout",
     "output_type": "stream",
     "text": [
      "Prompt:  VARIABLE> Classify the following sentence from FOMC into one of hawkish, dovish, or neutral, providing a clear and concise justification for your classification. Specifically, please highlight the key phrases, sentence structures, and tone markers that contribute to the sentence's overall tone and sentiment. Additionally, acknowledge the potential limitations and complexities of your model, and provide a balanced discussion of the implications of your prediction, including potential counterarguments and alternative perspectives. Consider the potential impact of your prediction on the broader economic landscape, and provide a nuanced discussion of the potential implications for households, businesses, and policymakers. Furthermore, please provide a detailed analysis of the sentence's tone, including whether it is formal or informal, and how it relates\n"
     ]
    },
    {
     "name": "stderr",
     "output_type": "stream",
     "text": [
      "Epoch 12: Training step 9: : 9it [02:59, 20.03s/it]"
     ]
    },
    {
     "name": "stdout",
     "output_type": "stream",
     "text": [
      "Prompt:  VARIABLE> Classify the following sentence from FOMC into one of hawkish, dovish, or neutral, providing a clear and concise justification for your classification. Specifically, please highlight the key phrases, sentence structures, and tone markers that contribute to the sentence's overall tone and sentiment. Additionally, acknowledge the potential limitations and complexities of your model, and provide a balanced discussion of the implications of your prediction, including potential counterarguments and alternative perspectives. Consider the potential impact of your prediction on the broader economic landscape, and provide a nuanced discussion of the potential implications for households, businesses, and policymakers. Furthermore, please provide a detailed analysis of the sentence's tone, including whether it is formal or informal, and how it relates\n"
     ]
    },
    {
     "name": "stderr",
     "output_type": "stream",
     "text": [
      "Epoch 12: Training step 9: : 10it [03:18, 19.88s/it]\n"
     ]
    },
    {
     "name": "stdout",
     "output_type": "stream",
     "text": [
      "Prompt:  VARIABLE> Classify the following sentence from FOMC into one of hawkish, dovish, or neutral, providing a clear and concise justification for your classification. Specifically, please:\n",
      "\n",
      "* Highlight the key phrases, sentence structures, and tone markers that contribute to the sentence's overall tone and sentiment.\n",
      "* Acknowledge the potential limitations and complexities of your model, and provide a balanced discussion of the implications of your prediction, including potential counterarguments and alternative perspectives.\n",
      "* Consider the potential impact of your prediction on the broader economic landscape, and provide a nuanced discussion of the potential implications for households, businesses, and policymakers.\n",
      "* Provide a detailed analysis of the sentence's tone, including whether it is formal or informal, and how\n",
      "New prompt:  VARIABLE> Classify the following sentence from FOMC into one of hawkish, dovish, or neutral, providing a clear and concise justification for your classification. Specifically, please:\n",
      "\n",
      "* Highlight the key phrases, sentence structures, and tone markers that contribute to the sentence's overall tone and sentiment.\n",
      "* Acknowledge the potential limitations and complexities of your model, and provide a balanced discussion of the implications of your prediction, including potential counterarguments and alternative perspectives.\n",
      "* Consider the potential impact of your prediction on the broader economic landscape, and provide a nuanced discussion of the potential implications for households, businesses, and policymakers.\n",
      "* Provide a detailed analysis of the sentence's tone, including whether it is formal or informal, and how\n"
     ]
    },
    {
     "name": "stderr",
     "output_type": "stream",
     "text": [
      "Accuracy: 0.51010101010101: 100%|██████████| 198/198 [00:07<00:00, 27.57it/s]   \n"
     ]
    },
    {
     "name": "stdout",
     "output_type": "stream",
     "text": [
      "Val accuracy: 0.51010101010101\n",
      "Previous val accuracy: 0.5505050505050505\n",
      "Rejected prompt: VARIABLE> Classify the following sentence from FOMC into one of hawkish, dovish, or neutral, providing a clear and concise justification for your classification. Specifically, please:\n",
      "\n",
      "* Highlight the key phrases, sentence structures, and tone markers that contribute to the sentence's overall tone and sentiment.\n",
      "* Acknowledge the potential limitations and complexities of your model, and provide a balanced discussion of the implications of your prediction, including potential counterarguments and alternative perspectives.\n",
      "* Consider the potential impact of your prediction on the broader economic landscape, and provide a nuanced discussion of the potential implications for households, businesses, and policymakers.\n",
      "* Provide a detailed analysis of the sentence's tone, including whether it is formal or informal, and how\n",
      "System prompt:  VARIABLE> Classify the following sentence from FOMC into one of hawkish, dovish, or neutral, providing a detailed and nuanced analysis of the linguistic features and cues that support your prediction. Specifically, please highlight the key phrases, sentence structures, and tone markers that contribute to the sentence's overall tone and sentiment. Additionally, acknowledge the potential limitations and complexities of your model, and provide a balanced discussion of the implications of your prediction, including potential counterarguments and alternative perspectives. Consider the potential impact of your prediction on the broader economic landscape, and provide a nuanced discussion of the potential implications for households, businesses, and policymakers. Please provide a clear and concise justification for your classification, including specific examples and evidence from\n"
     ]
    },
    {
     "name": "stderr",
     "output_type": "stream",
     "text": [
      "Epoch 13: Training step 1: : 1it [00:22, 22.03s/it]"
     ]
    },
    {
     "name": "stdout",
     "output_type": "stream",
     "text": [
      "Prompt:  VARIABLE> Classify the following sentence from FOMC into one of hawkish, dovish, or neutral, providing a detailed and nuanced analysis of the linguistic features and cues that support your prediction. Specifically, please highlight the key phrases, sentence structures, and tone markers that contribute to the sentence's overall tone and sentiment. Additionally, acknowledge the potential limitations and complexities of your model, and provide a balanced discussion of the implications of your prediction, including potential counterarguments and alternative perspectives. Consider the potential impact of your prediction on the broader economic landscape, and provide a nuanced discussion of the potential implications for households, businesses, and policymakers. Furthermore, please provide a clear and concise justification for your classification, including specific examples and\n"
     ]
    },
    {
     "name": "stderr",
     "output_type": "stream",
     "text": [
      "Epoch 13: Training step 2: : 2it [00:41, 20.35s/it]"
     ]
    },
    {
     "name": "stdout",
     "output_type": "stream",
     "text": [
      "Prompt:  VARIABLE> Classify the following sentence from FOMC into one of hawkish, dovish, or neutral, providing a detailed and nuanced analysis of the linguistic features and cues that support your prediction. Specifically, please highlight the key phrases, sentence structures, and tone markers that contribute to the sentence's overall tone and sentiment. Additionally, acknowledge the potential limitations and complexities of your model, and provide a balanced discussion of the implications of your prediction, including potential counterarguments and alternative perspectives. Consider the potential impact of your prediction on the broader economic landscape, and provide a nuanced discussion of the potential implications for households, businesses, and policymakers. Furthermore, please provide a clear and concise justification for your classification, including specific examples and a\n"
     ]
    },
    {
     "name": "stderr",
     "output_type": "stream",
     "text": [
      "Epoch 13: Training step 3: : 3it [01:02, 20.61s/it]"
     ]
    },
    {
     "name": "stdout",
     "output_type": "stream",
     "text": [
      "Prompt:  VARIABLE> Classify the following sentence from FOMC into one of hawkish, dovish, or neutral, providing a concise and specific justification for your classification. Highlight the key phrases, sentence structures, and tone markers that contribute to the sentence's overall tone and sentiment. Acknowledge the potential limitations and complexities of your model, and provide a balanced discussion of the implications of your prediction, including potential counterarguments and alternative perspectives. Consider the potential impact of your prediction on the broader economic landscape, and provide a nuanced discussion of the potential implications for households, businesses, and policymakers. Furthermore, provide a clear and concise justification for your classification, including specific examples and a numerical score (e.g., 1-5) to\n"
     ]
    },
    {
     "name": "stderr",
     "output_type": "stream",
     "text": [
      "Epoch 13: Training step 4: : 4it [01:23, 21.09s/it]"
     ]
    },
    {
     "name": "stdout",
     "output_type": "stream",
     "text": [
      "Prompt:  VARIABLE> Classify the following sentence from FOMC into one of hawkish, dovish, or neutral, providing a concise and specific justification for your classification. Focus on objective and quantifiable evidence from the input text to support your classification. Highlight specific phrases, sentence structures, and tone markers that contribute to the sentence's overall tone and sentiment. Provide a clear and direct classification, without unnecessary language or framing. Include a numerical score (e.g., 1-5) to quantify your confidence in your classification. Consider the potential limitations and complexities of your model, and provide a balanced discussion of the implications of your prediction, including potential counterarguments and alternative perspectives. Consider the potential impact of your prediction on the broader economic\n"
     ]
    },
    {
     "name": "stderr",
     "output_type": "stream",
     "text": [
      "Epoch 13: Training step 5: : 5it [01:44, 20.88s/it]"
     ]
    },
    {
     "name": "stdout",
     "output_type": "stream",
     "text": [
      "Prompt:  Classify the following sentence from FOMC into one of hawkish, dovish, or neutral, providing a concise and specific justification for your classification. Focus on objective and quantifiable evidence from the input text to support your classification. Highlight specific phrases, sentence structures, and tone markers that contribute to the sentence's overall tone and sentiment. Provide a clear and direct classification, without unnecessary language or framing. Include a numerical score (e.g., 1-5) to quantify your confidence in your classification. Consider the potential limitations and complexities of your model, and provide a balanced discussion of the implications of your prediction, including potential counterarguments and alternative perspectives. Consider the potential impact of your prediction on the broader economic landscape,\n"
     ]
    },
    {
     "name": "stderr",
     "output_type": "stream",
     "text": [
      "Epoch 13: Training step 6: : 6it [02:04, 20.74s/it]"
     ]
    },
    {
     "name": "stdout",
     "output_type": "stream",
     "text": [
      "Prompt:  Classify the following sentence from FOMC into one of hawkish, dovish, or neutral, providing a concise and specific justification for your classification. Focus on objective and quantifiable evidence from the input text to support your classification. Highlight specific phrases, sentence structures, and tone markers that contribute to the sentence's overall tone and sentiment. Provide a clear and direct classification, without unnecessary language or framing. Include a numerical score (e.g., 1-5) to quantify your confidence in your classification. Consider the potential limitations and complexities of your model, and provide a balanced discussion of the implications of your prediction, including potential counterarguments and alternative perspectives. Consider the potential impact of your prediction on the broader economic landscape.\n"
     ]
    },
    {
     "name": "stderr",
     "output_type": "stream",
     "text": [
      "Epoch 13: Training step 7: : 7it [02:24, 20.21s/it]"
     ]
    },
    {
     "name": "stdout",
     "output_type": "stream",
     "text": [
      "Prompt:  Classify the following sentence from FOMC into one of hawkish, dovish, or neutral, providing a clear and concise justification for your classification. Focus on objective and quantifiable evidence from the input text to support your classification. Highlight specific phrases, sentence structures, and tone markers that contribute to the sentence's overall tone and sentiment. Provide a clear and direct classification, without unnecessary language or framing. Include a numerical score (e.g., 1-5) to quantify your confidence in your classification, along with a brief explanation of the factors that influenced your confidence. Consider the potential limitations and complexities of your model, and provide a balanced discussion of the implications of your prediction, including potential counterarguments and alternative perspectives\n"
     ]
    },
    {
     "name": "stderr",
     "output_type": "stream",
     "text": [
      "Epoch 13: Training step 8: : 8it [02:45, 20.47s/it]"
     ]
    },
    {
     "name": "stdout",
     "output_type": "stream",
     "text": [
      "Prompt:  Classify the following sentence from FOMC into one of hawkish, dovish, or neutral, providing a clear and concise justification for your classification. To improve the accuracy of your classification, please consider the following:\n",
      "\n",
      "* Analyze the sentence structure, tone, and author's intent to identify the underlying sentiment and bias.\n",
      "* Provide specific and relevant examples from the text that support your classification, highlighting key phrases, sentence structures, and tone markers that contribute to the sentence's overall tone and sentiment.\n",
      "* Consider alternative perspectives and counterarguments to your classification, acknowledging potential limitations and complexities of your model.\n",
      "* Quantify your confidence in your classification with a numerical score (e.g., 1-5) and provide a brief\n"
     ]
    },
    {
     "name": "stderr",
     "output_type": "stream",
     "text": [
      "Epoch 13: Training step 9: : 9it [03:06, 20.78s/it]"
     ]
    },
    {
     "name": "stdout",
     "output_type": "stream",
     "text": [
      "Prompt:  VARIABLE> Classify the following sentence from FOMC into one of hawkish, dovish, or neutral, providing a clear and concise justification for your classification. To improve the accuracy of your classification, please consider the following:\n",
      "\n",
      "* Analyze the sentence structure, tone, and author's intent to identify the underlying sentiment and bias.\n",
      "* Provide specific and relevant examples from the text that support your classification, highlighting key phrases, sentence structures, and tone markers that contribute to the sentence's overall tone and sentiment.\n",
      "* Consider alternative perspectives and counterarguments to your classification, acknowledging potential limitations and complexities of your model.\n",
      "* Quantify your confidence in your classification with a numerical score (e.g., 1-5) and provide\n"
     ]
    },
    {
     "name": "stderr",
     "output_type": "stream",
     "text": [
      "Epoch 13: Training step 9: : 10it [03:26, 20.68s/it]\n"
     ]
    },
    {
     "name": "stdout",
     "output_type": "stream",
     "text": [
      "Prompt:  VARIABLE> Classify the following sentence from FOMC into one of hawkish, dovish, or neutral, providing a clear and concise justification for your classification. To improve the accuracy and robustness of your classification, please consider the following:\n",
      "\n",
      "* Analyze the sentence structure, tone, and author's intent to identify the underlying sentiment and bias, and provide specific and relevant examples from the text that support your classification.\n",
      "* Highlight key phrases, sentence structures, and tone markers that contribute to the sentence's overall tone and sentiment, and explain how they relate to the hawkish, dovish, or neutral classification.\n",
      "* Consider alternative perspectives and counterarguments to your classification, acknowledging potential limitations and complexities of your model, and provide\n",
      "New prompt:  VARIABLE> Classify the following sentence from FOMC into one of hawkish, dovish, or neutral, providing a clear and concise justification for your classification. To improve the accuracy and robustness of your classification, please consider the following:\n",
      "\n",
      "* Analyze the sentence structure, tone, and author's intent to identify the underlying sentiment and bias, and provide specific and relevant examples from the text that support your classification.\n",
      "* Highlight key phrases, sentence structures, and tone markers that contribute to the sentence's overall tone and sentiment, and explain how they relate to the hawkish, dovish, or neutral classification.\n",
      "* Consider alternative perspectives and counterarguments to your classification, acknowledging potential limitations and complexities of your model, and provide\n"
     ]
    },
    {
     "name": "stderr",
     "output_type": "stream",
     "text": [
      "Accuracy: 0.48484848484848486: 100%|██████████| 198/198 [00:07<00:00, 27.13it/s]\n"
     ]
    },
    {
     "name": "stdout",
     "output_type": "stream",
     "text": [
      "Val accuracy: 0.48484848484848486\n",
      "Previous val accuracy: 0.5505050505050505\n",
      "Rejected prompt: VARIABLE> Classify the following sentence from FOMC into one of hawkish, dovish, or neutral, providing a clear and concise justification for your classification. To improve the accuracy and robustness of your classification, please consider the following:\n",
      "\n",
      "* Analyze the sentence structure, tone, and author's intent to identify the underlying sentiment and bias, and provide specific and relevant examples from the text that support your classification.\n",
      "* Highlight key phrases, sentence structures, and tone markers that contribute to the sentence's overall tone and sentiment, and explain how they relate to the hawkish, dovish, or neutral classification.\n",
      "* Consider alternative perspectives and counterarguments to your classification, acknowledging potential limitations and complexities of your model, and provide\n",
      "System prompt:  VARIABLE> Classify the following sentence from FOMC into one of hawkish, dovish, or neutral, providing a detailed and nuanced analysis of the linguistic features and cues that support your prediction. Specifically, please highlight the key phrases, sentence structures, and tone markers that contribute to the sentence's overall tone and sentiment. Additionally, acknowledge the potential limitations and complexities of your model, and provide a balanced discussion of the implications of your prediction, including potential counterarguments and alternative perspectives. Consider the potential impact of your prediction on the broader economic landscape, and provide a nuanced discussion of the potential implications for households, businesses, and policymakers. Please provide a clear and concise justification for your classification, including specific examples and evidence from\n"
     ]
    },
    {
     "name": "stderr",
     "output_type": "stream",
     "text": [
      "Epoch 14: Training step 1: : 1it [00:22, 22.24s/it]"
     ]
    },
    {
     "name": "stdout",
     "output_type": "stream",
     "text": [
      "Prompt:  VARIABLE> Classify the following sentence from FOMC into one of hawkish, dovish, or neutral, providing a detailed and nuanced analysis of the linguistic features and cues that support your prediction. Specifically, please highlight the key phrases, sentence structures, and tone markers that contribute to the sentence's overall tone and sentiment. Additionally, acknowledge the potential limitations and complexities of your model, and provide a balanced discussion of the implications of your prediction, including potential counterarguments and alternative perspectives. Consider the potential impact of your prediction on the broader economic landscape, and provide a nuanced discussion of the potential implications for households, businesses, and policymakers. Furthermore, please provide a clear and concise justification for your classification, including specific examples and evidence\n"
     ]
    },
    {
     "name": "stderr",
     "output_type": "stream",
     "text": [
      "Epoch 14: Training step 2: : 2it [00:42, 21.27s/it]"
     ]
    },
    {
     "name": "stdout",
     "output_type": "stream",
     "text": [
      "Prompt:  VARIABLE> Classify the following sentence from FOMC into one of hawkish, dovish, or neutral, providing a specific and numerical justification for your classification. Please highlight the key phrases, sentence structures, and tone markers that contribute to the sentence's overall tone and sentiment, and provide a clear and concise explanation of how these linguistic features support your prediction. Additionally, acknowledge the potential limitations and complexities of your model, and provide a balanced discussion of the implications of your prediction, including potential counterarguments and alternative perspectives. Consider the potential impact of your prediction on the broader economic landscape, and provide a nuanced discussion of the potential implications for households, businesses, and policymakers. Furthermore, please provide a clear and concise justification for\n"
     ]
    },
    {
     "name": "stderr",
     "output_type": "stream",
     "text": [
      "Epoch 14: Training step 3: : 3it [01:02, 20.60s/it]"
     ]
    },
    {
     "name": "stdout",
     "output_type": "stream",
     "text": [
      "Prompt:  VARIABLE> Classify the following sentence from FOMC into one of hawkish, dovish, or neutral, providing a specific and numerical justification for your classification. Please highlight the key phrases, sentence structures, and tone markers that contribute to the sentence's overall tone and sentiment, and provide a clear and concise explanation of how these linguistic features support your prediction. Additionally, acknowledge the potential limitations and complexities of your model, and provide a balanced discussion of the implications of your prediction, including potential counterarguments and alternative perspectives. Consider the potential impact of your prediction on the broader economic landscape, and provide a nuanced discussion of the potential implications for households, businesses, and policymakers. Furthermore, please provide a clear and concise justification for your\n"
     ]
    },
    {
     "name": "stderr",
     "output_type": "stream",
     "text": [
      "Epoch 14: Training step 4: : 4it [01:24, 20.90s/it]"
     ]
    },
    {
     "name": "stdout",
     "output_type": "stream",
     "text": [
      "Prompt:  VARIABLE> Classify the following sentence from FOMC into one of hawkish, dovish, or neutral, providing a specific and numerical justification for your classification. Please highlight the key phrases, sentence structures, and tone markers that contribute to the sentence's overall tone and sentiment, and provide a clear and concise explanation of how these linguistic features support your prediction. Additionally, acknowledge the potential limitations and complexities of your model, and provide a balanced discussion of the implications of your prediction, including potential counterarguments and alternative perspectives. Furthermore, please provide a clear and concise justification for your classification, including a breakdown of the factors that contributed to your prediction, such as the language used in the sentence, the tone of the sentence,\n"
     ]
    },
    {
     "name": "stderr",
     "output_type": "stream",
     "text": [
      "Epoch 14: Training step 5: : 5it [01:45, 21.02s/it]"
     ]
    },
    {
     "name": "stdout",
     "output_type": "stream",
     "text": [
      "Prompt:  Classify the following sentence from FOMC into one of hawkish, dovish, or neutral, providing a specific and numerical justification for your classification. Please highlight the key phrases, sentence structures, and tone markers that contribute to the sentence's overall tone and sentiment, and provide a clear and concise explanation of how these linguistic features support your prediction. Additionally, acknowledge the potential limitations and complexities of your model, and provide a balanced discussion of the implications of your prediction, including potential counterarguments and alternative perspectives. Furthermore, please provide a clear and concise justification for your classification, including a breakdown of the factors that contributed to your prediction, such as the language used in the sentence, the tone of the sentence, and the potential\n"
     ]
    },
    {
     "name": "stderr",
     "output_type": "stream",
     "text": [
      "Epoch 14: Training step 6: : 6it [02:06, 21.25s/it]"
     ]
    },
    {
     "name": "stdout",
     "output_type": "stream",
     "text": [
      "Prompt:  VARIABLE> Classify the following sentence from FOMC into one of hawkish, dovish, or neutral, providing a specific and numerical justification for your classification. Please highlight the key phrases, sentence structures, and tone markers that contribute to the sentence's overall tone and sentiment, and provide a clear and concise explanation of how these linguistic features support your prediction. Additionally, acknowledge the potential limitations and complexities of your model, and provide a balanced discussion of the implications of your prediction, including potential counterarguments and alternative perspectives. Furthermore, please provide a clear and concise justification for your classification, including a breakdown of the factors that contributed to your prediction, such as the language used in the sentence, the tone of the sentence,\n"
     ]
    },
    {
     "name": "stderr",
     "output_type": "stream",
     "text": [
      "Epoch 14: Training step 7: : 7it [02:28, 21.35s/it]"
     ]
    },
    {
     "name": "stdout",
     "output_type": "stream",
     "text": [
      "Prompt:  VARIABLE> Classify the following sentence from FOMC into one of hawkish, dovish, or neutral, providing a specific and numerical justification for your classification. Analyze the sentence's linguistic features, including tone markers, sentence structures, and key phrases, and explain how these features contribute to the sentence's overall tone and sentiment. Additionally, consider the Federal Open Market Committee's typical language usage, including its formal and technical tone, and how it relates to the sentence's classification. Furthermore, acknowledge the potential limitations and complexities of your model, and provide a balanced discussion of the implications of your prediction, including potential counterarguments and alternative perspectives. Finally, provide a clear and concise justification for your classification, including a breakdown\n"
     ]
    },
    {
     "name": "stderr",
     "output_type": "stream",
     "text": [
      "Epoch 14: Training step 8: : 8it [02:49, 21.22s/it]"
     ]
    },
    {
     "name": "stdout",
     "output_type": "stream",
     "text": [
      "Prompt:  VARIABLE> Classify the following sentence from FOMC into one of hawkish, dovish, or neutral, providing a detailed and specific analysis of the linguistic features, tone markers, and sentence structures that contribute to the sentence's overall tone and sentiment. Specifically, identify and explain the role of each linguistic feature, tone marker, and sentence structure in shaping the sentence's tone and justification for your classification. Additionally, consider the Federal Open Market Committee's typical language usage, including its formal and technical tone, and how it relates to the sentence's classification. Furthermore, acknowledge the potential limitations and complexities of your model, and provide a balanced discussion of the implications of your prediction, including potential counterarguments and alternative perspectives. Finally,\n"
     ]
    },
    {
     "name": "stderr",
     "output_type": "stream",
     "text": [
      "Epoch 14: Training step 9: : 9it [03:08, 20.49s/it]"
     ]
    },
    {
     "name": "stdout",
     "output_type": "stream",
     "text": [
      "Prompt:  VARIABLE> Classify the following sentence from FOMC into one of hawkish, dovish, or neutral, providing a detailed and specific analysis of the linguistic features, tone markers, and sentence structures that contribute to the sentence's overall tone and sentiment. Specifically, identify and explain the role of each linguistic feature, tone marker, and sentence structure in shaping the sentence's tone and justification for your classification. Additionally, consider the Federal Open Market Committee's typical language usage, including its formal and technical tone, and how it relates to the sentence's classification. Furthermore, acknowledge the potential limitations and complexities of your model, and provide a balanced discussion of the implications of your prediction, including potential counterarguments and alternative perspectives. To support\n"
     ]
    },
    {
     "name": "stderr",
     "output_type": "stream",
     "text": [
      "Epoch 14: Training step 9: : 10it [03:26, 20.68s/it]\n"
     ]
    },
    {
     "name": "stdout",
     "output_type": "stream",
     "text": [
      "Prompt:  VARIABLE> Classify the following sentence from FOMC into one of hawkish, dovish, or neutral, providing a detailed and specific analysis of the linguistic features, tone markers, and sentence structures that contribute to the sentence's overall tone and sentiment. Specifically, identify and explain the role of each linguistic feature, tone marker, and sentence structure in shaping the sentence's tone and justification for your classification. Additionally, consider the Federal Open Market Committee's typical language usage, including its formal and technical tone, and how it relates to the sentence's classification. Furthermore, acknowledge the potential limitations and complexities of your model, and provide a balanced discussion of the implications of your prediction, including potential counterarguments and alternative perspectives. To\n",
      "New prompt:  VARIABLE> Classify the following sentence from FOMC into one of hawkish, dovish, or neutral, providing a detailed and specific analysis of the linguistic features, tone markers, and sentence structures that contribute to the sentence's overall tone and sentiment. Specifically, identify and explain the role of each linguistic feature, tone marker, and sentence structure in shaping the sentence's tone and justification for your classification. Additionally, consider the Federal Open Market Committee's typical language usage, including its formal and technical tone, and how it relates to the sentence's classification. Furthermore, acknowledge the potential limitations and complexities of your model, and provide a balanced discussion of the implications of your prediction, including potential counterarguments and alternative perspectives. To\n"
     ]
    },
    {
     "name": "stderr",
     "output_type": "stream",
     "text": [
      "Accuracy: 0.48484848484848486: 100%|██████████| 198/198 [00:07<00:00, 27.82it/s]\n"
     ]
    },
    {
     "name": "stdout",
     "output_type": "stream",
     "text": [
      "Val accuracy: 0.48484848484848486\n",
      "Previous val accuracy: 0.5505050505050505\n",
      "Rejected prompt: VARIABLE> Classify the following sentence from FOMC into one of hawkish, dovish, or neutral, providing a detailed and specific analysis of the linguistic features, tone markers, and sentence structures that contribute to the sentence's overall tone and sentiment. Specifically, identify and explain the role of each linguistic feature, tone marker, and sentence structure in shaping the sentence's tone and justification for your classification. Additionally, consider the Federal Open Market Committee's typical language usage, including its formal and technical tone, and how it relates to the sentence's classification. Furthermore, acknowledge the potential limitations and complexities of your model, and provide a balanced discussion of the implications of your prediction, including potential counterarguments and alternative perspectives. To\n",
      "System prompt:  VARIABLE> Classify the following sentence from FOMC into one of hawkish, dovish, or neutral, providing a detailed and nuanced analysis of the linguistic features and cues that support your prediction. Specifically, please highlight the key phrases, sentence structures, and tone markers that contribute to the sentence's overall tone and sentiment. Additionally, acknowledge the potential limitations and complexities of your model, and provide a balanced discussion of the implications of your prediction, including potential counterarguments and alternative perspectives. Consider the potential impact of your prediction on the broader economic landscape, and provide a nuanced discussion of the potential implications for households, businesses, and policymakers. Please provide a clear and concise justification for your classification, including specific examples and evidence from\n"
     ]
    },
    {
     "name": "stderr",
     "output_type": "stream",
     "text": [
      "Epoch 15: Training step 1: : 1it [00:21, 21.19s/it]"
     ]
    },
    {
     "name": "stdout",
     "output_type": "stream",
     "text": [
      "Prompt:  VARIABLE> Classify the following sentence from FOMC into one of hawkish, dovish, or neutral, providing a detailed and nuanced analysis of the linguistic features and cues that support your prediction. Specifically, please highlight the key phrases, sentence structures, and tone markers that contribute to the sentence's overall tone and sentiment. Additionally, acknowledge the potential limitations and complexities of your model, and provide a balanced discussion of the implications of your prediction, including potential counterarguments and alternative perspectives. Consider the potential impact of your prediction on the broader economic landscape, and provide a nuanced discussion of the potential implications for households, businesses, and policymakers. Furthermore, please provide a clear and concise justification for your classification, including specific examples and evidence\n"
     ]
    },
    {
     "name": "stderr",
     "output_type": "stream",
     "text": [
      "Epoch 15: Training step 2: : 2it [00:43, 21.69s/it]"
     ]
    },
    {
     "name": "stdout",
     "output_type": "stream",
     "text": [
      "Prompt:  Classify the following sentence from FOMC into one of hawkish, dovish, or neutral, providing a detailed and nuanced analysis of the linguistic features and cues that support your prediction. Specifically, please highlight the key phrases, sentence structures, and tone markers that contribute to the sentence's overall tone and sentiment. Additionally, acknowledge the potential limitations and complexities of your model, and provide a balanced discussion of the implications of your prediction, including potential counterarguments and alternative perspectives. Furthermore, please provide a clear and concise justification for your classification, including specific examples and evidence. \n",
      "\n",
      "Please address the following questions in your analysis:\n",
      "\n",
      "* What specific linguistic features or cues led you to classify the sentence as hawkish, dovish, or\n"
     ]
    },
    {
     "name": "stderr",
     "output_type": "stream",
     "text": [
      "Epoch 15: Training step 3: : 3it [01:04, 21.35s/it]"
     ]
    },
    {
     "name": "stdout",
     "output_type": "stream",
     "text": [
      "Prompt:  Classify the following sentence from FOMC into one of hawkish, dovish, or neutral, providing a detailed and nuanced analysis of the linguistic features and cues that support your prediction. Specifically, please highlight the key phrases, sentence structures, and tone markers that contribute to the sentence's overall tone and sentiment. Additionally, acknowledge the potential limitations and complexities of your model, and provide a balanced discussion of the implications of your prediction, including potential counterarguments and alternative perspectives. Furthermore, please provide a clear and concise justification for your classification, including specific examples and evidence. Please provide a detailed explanation of the thought process behind your classification, including the specific linguistic features and cues that led you to your conclusion. Offer alternative perspectives or\n"
     ]
    },
    {
     "name": "stderr",
     "output_type": "stream",
     "text": [
      "Epoch 15: Training step 4: : 4it [01:23, 20.63s/it]"
     ]
    },
    {
     "name": "stdout",
     "output_type": "stream",
     "text": [
      "Prompt:  Classify the following sentence from FOMC into one of hawkish, dovish, or neutral, providing a clear and concise justification for your classification. Specifically, please highlight the key phrases, sentence structures, and tone markers that contribute to the sentence's overall tone and sentiment. Additionally, acknowledge the potential limitations and complexities of your model, and provide a balanced discussion of the implications of your prediction, including potential counterarguments and alternative perspectives. Furthermore, please provide a detailed explanation of the thought process behind your classification, including the specific linguistic features and cues that led you to your conclusion. Offer alternative perspectives or counterarguments to support your classification, and provide a clear and concise justification for your choice. Provide a definitive and accurate classification\n"
     ]
    },
    {
     "name": "stderr",
     "output_type": "stream",
     "text": [
      "Epoch 15: Training step 5: : 5it [01:41, 19.68s/it]"
     ]
    },
    {
     "name": "stdout",
     "output_type": "stream",
     "text": [
      "Prompt:  Classify the following sentence from FOMC into one of hawkish, dovish, or neutral, providing a comprehensive and nuanced justification for your choice. Specifically, please:\n",
      "\n",
      "* Identify and analyze the key phrases, sentence structures, and tone markers that contribute to the sentence's overall tone and sentiment, and explain how they relate to the classification.\n",
      "* Acknowledge the potential limitations and complexities of your model, and provide a balanced discussion of the implications of your prediction, including potential counterarguments and alternative perspectives.\n",
      "* Provide a detailed explanation of the thought process behind your classification, including the specific linguistic features and cues that led you to your conclusion.\n",
      "* Offer alternative perspectives or counterarguments to support your classification, and provide a clear and\n"
     ]
    },
    {
     "name": "stderr",
     "output_type": "stream",
     "text": [
      "Epoch 15: Training step 6: : 6it [02:02, 20.07s/it]"
     ]
    },
    {
     "name": "stdout",
     "output_type": "stream",
     "text": [
      "Prompt:  VARIABLE> Classify the following sentence from FOMC into one of hawkish, dovish, or neutral, providing a specific and accurate justification for your choice. Specifically, please:\n",
      "\n",
      "* Clearly identify the sentence's overall tone and sentiment, and explain how it relates to the chosen classification.\n",
      "* Focus on the sentence's core meaning, ignoring irrelevant words or phrases, and provide a concise analysis of the linguistic features and tone markers that contribute to the classification.\n",
      "* Acknowledge potential limitations and complexities of your model, and provide a balanced discussion of the implications of your prediction, including potential counterarguments and alternative perspectives.\n",
      "* Provide a detailed explanation of the thought process behind your classification, including the specific linguistic features and cues that led you\n"
     ]
    },
    {
     "name": "stderr",
     "output_type": "stream",
     "text": [
      "Epoch 15: Training step 7: : 7it [02:25, 20.90s/it]"
     ]
    },
    {
     "name": "stdout",
     "output_type": "stream",
     "text": [
      "Prompt:  VARIABLE> Classify the following sentence from FOMC into one of hawkish, dovish, or neutral, providing a specific and accurate justification for your choice. Specifically, please:\n",
      "\n",
      "* Clearly identify the sentence's overall tone and sentiment, and explain how it relates to the chosen classification, considering the context of the sentence and the surrounding text.\n",
      "* Focus on the sentence's core meaning, ignoring irrelevant words or phrases, and provide a concise analysis of the linguistic features and tone markers that contribute to the classification, including potential ambiguities and complexities.\n",
      "* Acknowledge potential limitations and complexities of your model, and provide a balanced discussion of the implications of your prediction, including potential counterarguments and alternative perspectives.\n",
      "* Provide a detailed explanation\n"
     ]
    },
    {
     "name": "stderr",
     "output_type": "stream",
     "text": [
      "Epoch 15: Training step 8: : 8it [02:46, 20.96s/it]"
     ]
    },
    {
     "name": "stdout",
     "output_type": "stream",
     "text": [
      "Prompt:  Classify the following sentence from FOMC into one of hawkish, dovish, or neutral, providing a specific and accurate justification for your choice. Specifically, please:\n",
      "\n",
      "* Clearly identify the sentence's overall tone and sentiment, and explain how it relates to the chosen classification, considering the context of the sentence and the surrounding text, while acknowledging potential limitations and complexities of your model.\n",
      "* Focus on the sentence's core meaning, ignoring irrelevant words or phrases, and provide a concise analysis of the linguistic features and tone markers that contribute to the classification, including potential ambiguities and complexities, and consider alternative perspectives and potential biases.\n",
      "* Provide a detailed explanation of the linguistic and contextual factors that support your classification, including potential counterarguments\n"
     ]
    },
    {
     "name": "stderr",
     "output_type": "stream",
     "text": [
      "Epoch 15: Training step 9: : 9it [03:06, 20.79s/it]"
     ]
    },
    {
     "name": "stdout",
     "output_type": "stream",
     "text": [
      "Prompt:  Classify the following sentence from FOMC into one of hawkish, dovish, or neutral, providing a detailed and nuanced analysis of the sentence's tone and language. Specifically, please:\n",
      "\n",
      "* Identify the sentence's overall tone and sentiment, and explain how it relates to the chosen classification, considering the context of the sentence and the surrounding text, while acknowledging potential limitations and complexities of your model.\n",
      "* Focus on the sentence's core meaning, ignoring irrelevant words or phrases, and provide a concise analysis of the linguistic features and tone markers that contribute to the classification, including potential ambiguities and complexities, and consider alternative perspectives and potential biases.\n",
      "* Provide a detailed explanation of the linguistic and contextual factors that support your classification,\n"
     ]
    },
    {
     "name": "stderr",
     "output_type": "stream",
     "text": [
      "Epoch 15: Training step 9: : 10it [03:28, 20.82s/it]\n"
     ]
    },
    {
     "name": "stdout",
     "output_type": "stream",
     "text": [
      "Prompt:  Classify the following sentence from FOMC into one of hawkish, dovish, or neutral, providing a detailed and nuanced analysis of the sentence's tone and language. Specifically, please:\n",
      "\n",
      "* Identify the sentence's overall tone and sentiment, and explain how it relates to the chosen classification, considering the context of the sentence and the surrounding text, while acknowledging potential limitations and complexities of your model.\n",
      "* Focus on the sentence's core meaning, ignoring irrelevant words or phrases, and provide a concise analysis of the linguistic features and tone markers that contribute to the classification, including potential ambiguities and complexities, and consider alternative perspectives and potential biases.\n",
      "* Provide a detailed explanation of the linguistic and contextual factors that support your classification, and\n",
      "New prompt:  Classify the following sentence from FOMC into one of hawkish, dovish, or neutral, providing a detailed and nuanced analysis of the sentence's tone and language. Specifically, please:\n",
      "\n",
      "* Identify the sentence's overall tone and sentiment, and explain how it relates to the chosen classification, considering the context of the sentence and the surrounding text, while acknowledging potential limitations and complexities of your model.\n",
      "* Focus on the sentence's core meaning, ignoring irrelevant words or phrases, and provide a concise analysis of the linguistic features and tone markers that contribute to the classification, including potential ambiguities and complexities, and consider alternative perspectives and potential biases.\n",
      "* Provide a detailed explanation of the linguistic and contextual factors that support your classification, and\n"
     ]
    },
    {
     "name": "stderr",
     "output_type": "stream",
     "text": [
      "Accuracy: 0.4444444444444444: 100%|██████████| 198/198 [00:07<00:00, 27.70it/s] \n"
     ]
    },
    {
     "name": "stdout",
     "output_type": "stream",
     "text": [
      "Val accuracy: 0.4444444444444444\n",
      "Previous val accuracy: 0.5505050505050505\n",
      "Rejected prompt: Classify the following sentence from FOMC into one of hawkish, dovish, or neutral, providing a detailed and nuanced analysis of the sentence's tone and language. Specifically, please:\n",
      "\n",
      "* Identify the sentence's overall tone and sentiment, and explain how it relates to the chosen classification, considering the context of the sentence and the surrounding text, while acknowledging potential limitations and complexities of your model.\n",
      "* Focus on the sentence's core meaning, ignoring irrelevant words or phrases, and provide a concise analysis of the linguistic features and tone markers that contribute to the classification, including potential ambiguities and complexities, and consider alternative perspectives and potential biases.\n",
      "* Provide a detailed explanation of the linguistic and contextual factors that support your classification, and\n",
      "System prompt:  VARIABLE> Classify the following sentence from FOMC into one of hawkish, dovish, or neutral, providing a detailed and nuanced analysis of the linguistic features and cues that support your prediction. Specifically, please highlight the key phrases, sentence structures, and tone markers that contribute to the sentence's overall tone and sentiment. Additionally, acknowledge the potential limitations and complexities of your model, and provide a balanced discussion of the implications of your prediction, including potential counterarguments and alternative perspectives. Consider the potential impact of your prediction on the broader economic landscape, and provide a nuanced discussion of the potential implications for households, businesses, and policymakers. Please provide a clear and concise justification for your classification, including specific examples and evidence from\n"
     ]
    },
    {
     "name": "stderr",
     "output_type": "stream",
     "text": [
      "Epoch 16: Training step 1: : 1it [00:16, 16.92s/it]"
     ]
    },
    {
     "name": "stdout",
     "output_type": "stream",
     "text": [
      "Prompt:  VARIABLE> Classify the following sentence from FOMC into one of hawkish, dovish, or neutral, providing a detailed and nuanced analysis of the linguistic features and cues that support your prediction. Specifically, please highlight the key phrases, sentence structures, and tone markers that contribute to the sentence's overall tone and sentiment. Additionally, acknowledge the potential limitations and complexities of your model, and provide a balanced discussion of the implications of your prediction, including potential counterarguments and alternative perspectives. Consider the potential impact of your prediction on the broader economic landscape, and provide a nuanced discussion of the potential implications for households, businesses, and policymakers. Furthermore, please provide a clear and concise justification for your classification, including specific examples and evidence\n"
     ]
    },
    {
     "name": "stderr",
     "output_type": "stream",
     "text": [
      "Epoch 16: Training step 2: : 2it [00:37, 18.84s/it]"
     ]
    },
    {
     "name": "stdout",
     "output_type": "stream",
     "text": [
      "Prompt:  VARIABLE> Classify the following sentence from FOMC into one of hawkish, dovish, or neutral, providing a detailed and nuanced analysis of the linguistic features and cues that support your prediction. Specifically, please highlight the key phrases, sentence structures, and tone markers that contribute to the sentence's overall tone and sentiment. Additionally, acknowledge the potential limitations and complexities of your model, and provide a balanced discussion of the implications of your prediction, including potential counterarguments and alternative perspectives. Furthermore, please provide a clear and concise justification for your classification, including specific examples and evidence. To ensure accuracy, please consider the following tone-specific cues: hawkish tone is characterized by phrases such as \"aggressive monetary policy,\" \"strong\n"
     ]
    },
    {
     "name": "stderr",
     "output_type": "stream",
     "text": [
      "Epoch 16: Training step 3: : 3it [00:59, 20.68s/it]"
     ]
    },
    {
     "name": "stdout",
     "output_type": "stream",
     "text": [
      "Prompt:  VARIABLE> Classify the following sentence from FOMC into one of hawkish, dovish, or neutral, providing a precise and concise analysis of the linguistic features and cues that support your prediction. Specifically, please highlight the key phrases, sentence structures, and tone markers that contribute to the sentence's overall tone and sentiment, and provide a clear justification for your classification. To ensure accuracy, please consider the following tone-specific cues: hawkish tone is characterized by phrases such as \"aggressive monetary policy,\" \"strong action,\" and \"firm stance,\" while dovish tone is characterized by phrases such as \"cautious approach,\" \"gradual adjustments,\" and \"prudent decisions.\" Additionally, please acknowledge the potential limitations and\n"
     ]
    },
    {
     "name": "stderr",
     "output_type": "stream",
     "text": [
      "Epoch 16: Training step 4: : 4it [01:20, 20.75s/it]"
     ]
    },
    {
     "name": "stdout",
     "output_type": "stream",
     "text": [
      "Prompt:  Classify the following sentence from FOMC into one of hawkish, dovish, or neutral, providing a detailed and nuanced analysis of the linguistic features and cues that support your prediction. Specifically, please highlight the key phrases, sentence structures, and tone markers that contribute to the sentence's overall tone and sentiment, and provide concrete evidence and examples to justify your classification. To ensure accuracy, please consider the following tone-specific cues: hawkish tone is characterized by phrases such as \"aggressive monetary policy,\" \"strong action,\" and \"firm stance,\" while dovish tone is characterized by phrases such as \"cautious approach,\" \"gradual adjustments,\" and \"prudent decisions.\" Additionally, please acknowledge the potential limitations and\n"
     ]
    },
    {
     "name": "stderr",
     "output_type": "stream",
     "text": [
      "Epoch 16: Training step 5: : 5it [01:41, 20.56s/it]"
     ]
    },
    {
     "name": "stdout",
     "output_type": "stream",
     "text": [
      "Prompt:  Classify the following sentence from FOMC into one of hawkish, dovish, or neutral, providing a detailed and nuanced analysis of the linguistic features and cues that support your prediction. Specifically, please highlight the key phrases, sentence structures, and tone markers that contribute to the sentence's overall tone and sentiment, and provide concrete evidence and examples to justify your classification. To ensure accuracy, please consider the following tone-specific cues: hawkish tone is characterized by phrases such as \"aggressive monetary policy,\" \"strong action,\" and \"firm stance,\" while dovish tone is characterized by phrases such as \"cautious approach,\" \"gradual adjustments,\" and \"prudent decisions.\" Additionally, please acknowledge the potential limitations and\n"
     ]
    },
    {
     "name": "stderr",
     "output_type": "stream",
     "text": [
      "Epoch 16: Training step 6: : 6it [02:01, 20.59s/it]"
     ]
    },
    {
     "name": "stdout",
     "output_type": "stream",
     "text": [
      "Prompt:  VARIABLE> Classify the following sentence from FOMC into one of hawkish, dovish, or neutral, providing a detailed and nuanced analysis of the linguistic features and cues that support your prediction. Specifically, please highlight the key phrases, sentence structures, and tone markers that contribute to the sentence's overall tone and sentiment, and provide concrete evidence and examples to justify your classification. To ensure accuracy, please consider the following tone-specific cues: hawkish tone is characterized by phrases such as \"aggressive monetary policy,\" \"strong action,\" and \"firm stance,\" while dovish tone is characterized by phrases such as \"cautious approach,\" \"gradual adjustments,\" and \"prudent decisions.\" Additionally, please acknowledge the\n"
     ]
    },
    {
     "name": "stderr",
     "output_type": "stream",
     "text": [
      "Epoch 16: Training step 7: : 7it [02:21, 20.43s/it]"
     ]
    },
    {
     "name": "stdout",
     "output_type": "stream",
     "text": [
      "Prompt:  VARIABLE> Classify the following sentence from FOMC into one of hawkish, dovish, or neutral, providing a detailed and nuanced analysis of the linguistic features and cues that support your prediction. Specifically, please highlight the key phrases, sentence structures, and tone markers that contribute to the sentence's overall tone and sentiment, and provide concrete evidence and examples to justify your classification. To ensure accuracy, please consider the following tone-specific cues: hawkish tone is characterized by phrases such as \"aggressive monetary policy,\" \"strong action,\" and \"firm stance,\" while dovish tone is characterized by phrases such as \"cautious approach,\" \"gradual adjustments,\" and \"prudent decisions.\" Additionally, please acknowledge the following\n"
     ]
    },
    {
     "name": "stderr",
     "output_type": "stream",
     "text": [
      "Epoch 16: Training step 8: : 8it [02:43, 20.83s/it]"
     ]
    },
    {
     "name": "stdout",
     "output_type": "stream",
     "text": [
      "Prompt:  To classify the tone of the following sentence from FOMC, please analyze the linguistic features and cues that convey the sentiment. Specifically, identify the key phrases, sentence structures, and tone markers that contribute to the sentence's overall tone and sentiment. Consider the following tone-specific cues: hawkish tone is characterized by phrases such as \"aggressive monetary policy,\" \"strong action,\" and \"firm stance,\" while dovish tone is characterized by phrases such as \"cautious approach,\" \"gradual adjustments,\" and \"prudent decisions.\" Additionally, please acknowledge the following:\n",
      "\n",
      "* The sentence's use of modal verbs, such as \"would be required,\" which can convey a sense of necessity and urgency.\n",
      "* The sentence's focus on\n"
     ]
    },
    {
     "name": "stderr",
     "output_type": "stream",
     "text": [
      "Epoch 16: Training step 9: : 9it [03:06, 21.39s/it]"
     ]
    },
    {
     "name": "stdout",
     "output_type": "stream",
     "text": [
      "Prompt:  To classify the tone of the following sentence from FOMC, please analyze the linguistic features and cues that convey the sentiment, specifically focusing on the following tone-specific cues:\n",
      "\n",
      "* Hawkish tone is characterized by phrases such as \"aggressive monetary policy,\" \"strong action,\" and \"firm stance,\" which convey a sense of urgency and decisiveness.\n",
      "* Dovish tone is characterized by phrases such as \"cautious approach,\" \"gradual adjustments,\" and \"prudent decisions,\" which convey a sense of caution and prudence.\n",
      "* Neutral tone is characterized by phrases that lack emotive language, focusing on objective descriptions and analysis.\n",
      "\n",
      "Consider the following linguistic features and cues that contribute to the sentence's overall tone and sentiment:\n",
      "\n",
      "*\n"
     ]
    },
    {
     "name": "stderr",
     "output_type": "stream",
     "text": [
      "Epoch 16: Training step 9: : 10it [03:28, 20.88s/it]\n"
     ]
    },
    {
     "name": "stdout",
     "output_type": "stream",
     "text": [
      "Prompt:  To classify the tone of the following sentence from FOMC, please analyze the linguistic features and cues that convey the sentiment, specifically focusing on the following tone-specific cues:\n",
      "\n",
      "* Hawkish tone is characterized by phrases that convey a sense of urgency and decisiveness, such as \"aggressive monetary policy,\" \"strong action,\" and \"firm stance.\"\n",
      "* Dovish tone is characterized by phrases that convey a sense of caution and prudence, such as \"cautious approach,\" \"gradual adjustments,\" and \"prudent decisions.\"\n",
      "* Neutral tone is characterized by phrases that lack emotive language, focusing on objective descriptions and analysis, and may include phrases that convey a sense of balance or compromise, such as \"balanced approach\"\n",
      "New prompt:  To classify the tone of the following sentence from FOMC, please analyze the linguistic features and cues that convey the sentiment, specifically focusing on the following tone-specific cues:\n",
      "\n",
      "* Hawkish tone is characterized by phrases that convey a sense of urgency and decisiveness, such as \"aggressive monetary policy,\" \"strong action,\" and \"firm stance.\"\n",
      "* Dovish tone is characterized by phrases that convey a sense of caution and prudence, such as \"cautious approach,\" \"gradual adjustments,\" and \"prudent decisions.\"\n",
      "* Neutral tone is characterized by phrases that lack emotive language, focusing on objective descriptions and analysis, and may include phrases that convey a sense of balance or compromise, such as \"balanced approach\"\n"
     ]
    },
    {
     "name": "stderr",
     "output_type": "stream",
     "text": [
      "Accuracy: 0.3939393939393939: 100%|██████████| 198/198 [00:06<00:00, 29.73it/s] \n"
     ]
    },
    {
     "name": "stdout",
     "output_type": "stream",
     "text": [
      "Val accuracy: 0.3939393939393939\n",
      "Previous val accuracy: 0.5505050505050505\n",
      "Rejected prompt: To classify the tone of the following sentence from FOMC, please analyze the linguistic features and cues that convey the sentiment, specifically focusing on the following tone-specific cues:\n",
      "\n",
      "* Hawkish tone is characterized by phrases that convey a sense of urgency and decisiveness, such as \"aggressive monetary policy,\" \"strong action,\" and \"firm stance.\"\n",
      "* Dovish tone is characterized by phrases that convey a sense of caution and prudence, such as \"cautious approach,\" \"gradual adjustments,\" and \"prudent decisions.\"\n",
      "* Neutral tone is characterized by phrases that lack emotive language, focusing on objective descriptions and analysis, and may include phrases that convey a sense of balance or compromise, such as \"balanced approach\"\n",
      "System prompt:  VARIABLE> Classify the following sentence from FOMC into one of hawkish, dovish, or neutral, providing a detailed and nuanced analysis of the linguistic features and cues that support your prediction. Specifically, please highlight the key phrases, sentence structures, and tone markers that contribute to the sentence's overall tone and sentiment. Additionally, acknowledge the potential limitations and complexities of your model, and provide a balanced discussion of the implications of your prediction, including potential counterarguments and alternative perspectives. Consider the potential impact of your prediction on the broader economic landscape, and provide a nuanced discussion of the potential implications for households, businesses, and policymakers. Please provide a clear and concise justification for your classification, including specific examples and evidence from\n"
     ]
    },
    {
     "name": "stderr",
     "output_type": "stream",
     "text": [
      "Epoch 17: Training step 1: : 1it [00:21, 21.47s/it]"
     ]
    },
    {
     "name": "stdout",
     "output_type": "stream",
     "text": [
      "Prompt:  VARIABLE> Classify the following sentence from FOMC into one of hawkish, dovish, or neutral, providing a detailed and nuanced analysis of the linguistic features and cues that support your prediction. Specifically, please highlight the key phrases, sentence structures, and tone markers that contribute to the sentence's overall tone and sentiment. Additionally, acknowledge the potential limitations and complexities of your model, and provide a balanced discussion of the implications of your prediction, including potential counterarguments and alternative perspectives. Consider the potential impact of your prediction on the broader economic landscape, and provide a nuanced discussion of the potential implications for households, businesses, and policymakers. Furthermore, please provide concrete evidence and specific examples from the sentence to justify your classification, and\n"
     ]
    },
    {
     "name": "stderr",
     "output_type": "stream",
     "text": [
      "Epoch 17: Training step 2: : 2it [00:40, 19.88s/it]"
     ]
    },
    {
     "name": "stdout",
     "output_type": "stream",
     "text": [
      "Prompt:  VARIABLE> Classify the following sentence from FOMC into one of hawkish, dovish, or neutral, providing a detailed and nuanced analysis of the linguistic features and cues that support your prediction. Specifically, please highlight the key phrases, sentence structures, and tone markers that contribute to the sentence's overall tone and sentiment. Additionally, acknowledge the potential limitations and complexities of your model, and provide a balanced discussion of the implications of your prediction, including potential counterarguments and alternative perspectives. Furthermore, please provide concrete evidence and specific examples from the sentence to justify your classification. Consider the potential impact of your prediction on the broader economic landscape, including households, businesses, and policymakers. Provide a clear and concise justification for your classification\n"
     ]
    },
    {
     "name": "stderr",
     "output_type": "stream",
     "text": [
      "Epoch 17: Training step 3: : 3it [00:59, 19.63s/it]"
     ]
    },
    {
     "name": "stdout",
     "output_type": "stream",
     "text": [
      "Prompt:  VARIABLE> Classify the following sentence from FOMC into one of hawkish, dovish, or neutral, providing a concise and data-driven justification for your prediction. Specifically, identify the key linguistic features, tone markers, and contextual cues that support your classification. Consider the potential implications of your prediction on the broader economic landscape, including households, businesses, and policymakers. Please provide a clear and concise output, limited to one of the following labels: hawkish, dovish, or neutral. Additionally, acknowledge the potential limitations and complexities of your model, and provide a balanced discussion of the implications of your prediction, including potential counterarguments and alternative perspectives. Provide concrete evidence and specific examples from the sentence to justify your classification\n"
     ]
    },
    {
     "name": "stderr",
     "output_type": "stream",
     "text": [
      "Epoch 17: Training step 4: : 4it [01:22, 20.79s/it]"
     ]
    },
    {
     "name": "stdout",
     "output_type": "stream",
     "text": [
      "Prompt:  Classify the following sentence from FOMC into one of hawkish, dovish, or neutral, providing a detailed and evidence-based justification for your prediction. Specifically, identify the key linguistic features, tone markers, and contextual cues that support your classification. Consider the potential implications of your prediction on the broader economic landscape, including households, businesses, and policymakers. Please provide a clear and concise output, limited to one of the following labels: hawkish, dovish, or neutral. Additionally, acknowledge the potential limitations and complexities of your model, and provide a balanced discussion of the implications of your prediction, including potential counterarguments and alternative perspectives. Provide concrete evidence and specific examples from the sentence to justify your classification, and consider\n"
     ]
    },
    {
     "name": "stderr",
     "output_type": "stream",
     "text": [
      "Epoch 17: Training step 5: : 5it [01:44, 21.25s/it]"
     ]
    },
    {
     "name": "stdout",
     "output_type": "stream",
     "text": [
      "Prompt:  Classify the following sentence from FOMC into one of hawkish, dovish, or neutral, providing a detailed and evidence-based justification for your prediction. Specifically, identify the key linguistic features, tone markers, and contextual cues that support your classification. Consider the potential implications of your prediction on the broader economic landscape, including households, businesses, and policymakers. Additionally, acknowledge the potential limitations and complexities of your model, and provide a balanced discussion of the implications of your prediction, including potential counterarguments and alternative perspectives. To improve the accuracy of your classification, please consider the following:\n",
      "\n",
      "* Provide a nuanced analysis of the sentence, highlighting both dovish and hawkish elements, and explaining how they interact to shape the overall tone\n"
     ]
    },
    {
     "name": "stderr",
     "output_type": "stream",
     "text": [
      "Epoch 17: Training step 6: : 6it [02:08, 22.40s/it]"
     ]
    },
    {
     "name": "stdout",
     "output_type": "stream",
     "text": [
      "Prompt:  Classify the following sentence from FOMC into one of hawkish, dovish, or neutral, providing a concise and explicit justification for your prediction. Specifically, identify the key linguistic features, tone markers, and contextual cues that support your classification, and provide a clear and direct answer that aligns with the ground truth. Consider the potential implications of your prediction on the broader economic landscape, including households, businesses, and policymakers, and acknowledge the potential limitations and complexities of your model. Additionally, provide a balanced discussion of the implications of your prediction, including potential counterarguments and alternative perspectives. To improve the accuracy of your classification, please consider the following:\n",
      "\n",
      "* Provide a clear and concise analysis of the sentence, highlighting the\n"
     ]
    },
    {
     "name": "stderr",
     "output_type": "stream",
     "text": [
      "Epoch 17: Training step 7: : 7it [02:30, 22.09s/it]"
     ]
    },
    {
     "name": "stdout",
     "output_type": "stream",
     "text": [
      "Prompt:  Classify the following sentence from FOMC into one of hawkish, dovish, or neutral, providing a nuanced and explicit justification for your prediction. Specifically, identify the key linguistic features, tone markers, and contextual cues that support your classification, and provide a clear and direct answer that aligns with the ground truth. Consider the potential implications of your prediction on the broader economic landscape, including households, businesses, and policymakers, and acknowledge the potential limitations and complexities of your model. Additionally, provide a balanced discussion of the implications of your prediction, including potential counterarguments and alternative perspectives.\n",
      "\n",
      "To improve the accuracy of your classification, please consider the following:\n",
      "\n",
      "* Provide a clear and concise analysis of the sentence, highlighting the specific\n"
     ]
    },
    {
     "name": "stderr",
     "output_type": "stream",
     "text": [
      "Epoch 17: Training step 8: : 8it [02:51, 21.74s/it]"
     ]
    },
    {
     "name": "stdout",
     "output_type": "stream",
     "text": [
      "Prompt:  Classify the following sentence from FOMC into one of hawkish, dovish, or neutral, providing a detailed and explicit justification for your prediction. Identify the key linguistic features, tone markers, and contextual cues that support your classification, and provide a clear and concise analysis of the sentence, highlighting the specific linguistic elements that contribute to your prediction. Consider the potential implications of your prediction on the broader economic landscape, including households, businesses, and policymakers, and acknowledge the potential limitations and complexities of your model. Additionally, provide a balanced discussion of the implications of your prediction, including potential counterarguments and alternative perspectives. Provide a clear and concise explanation of why you believe the sentence is hawkish, dovish, or neutral\n"
     ]
    },
    {
     "name": "stderr",
     "output_type": "stream",
     "text": [
      "Epoch 17: Training step 9: : 9it [03:09, 20.66s/it]"
     ]
    },
    {
     "name": "stdout",
     "output_type": "stream",
     "text": [
      "Prompt:  Classify the following sentence from FOMC into one of hawkish, dovish, or neutral, considering the subtle nuances of tone and sentiment that may be conveyed through linguistic features such as verb choice, adverbial modifiers, and contextual cues. Provide a detailed and explicit justification for your prediction, highlighting the specific linguistic elements that support your classification, and acknowledge the potential limitations and complexities of your model. Additionally, consider the potential implications of your prediction on the broader economic landscape, including households, businesses, and policymakers, and provide a balanced discussion of the implications, including potential counterarguments and alternative perspectives. Provide a clear and concise explanation of why you believe the sentence is hawkish, dovish, or neutral, and specifically\n"
     ]
    },
    {
     "name": "stderr",
     "output_type": "stream",
     "text": [
      "Epoch 17: Training step 9: : 10it [03:30, 21.04s/it]\n"
     ]
    },
    {
     "name": "stdout",
     "output_type": "stream",
     "text": [
      "Prompt:  Classify the following sentence from FOMC into one of hawkish, dovish, or neutral, considering the subtle nuances of tone and sentiment that may be conveyed through linguistic features such as verb choice, adverbial modifiers, and contextual cues. Provide a detailed and explicit justification for your prediction, highlighting the specific linguistic elements that support your classification, and acknowledge the potential limitations and complexities of your model. Additionally, consider the potential implications of your prediction on the broader economic landscape, including households, businesses, and policymakers, and provide a balanced discussion of the implications, including potential counterarguments and alternative perspectives. Specifically, provide a clear and concise explanation of why you believe the sentence is hawkish, dovish, or neutral,\n",
      "New prompt:  Classify the following sentence from FOMC into one of hawkish, dovish, or neutral, considering the subtle nuances of tone and sentiment that may be conveyed through linguistic features such as verb choice, adverbial modifiers, and contextual cues. Provide a detailed and explicit justification for your prediction, highlighting the specific linguistic elements that support your classification, and acknowledge the potential limitations and complexities of your model. Additionally, consider the potential implications of your prediction on the broader economic landscape, including households, businesses, and policymakers, and provide a balanced discussion of the implications, including potential counterarguments and alternative perspectives. Specifically, provide a clear and concise explanation of why you believe the sentence is hawkish, dovish, or neutral,\n"
     ]
    },
    {
     "name": "stderr",
     "output_type": "stream",
     "text": [
      "Accuracy: 0.5303030303030303: 100%|██████████| 198/198 [00:07<00:00, 26.77it/s] \n"
     ]
    },
    {
     "name": "stdout",
     "output_type": "stream",
     "text": [
      "Val accuracy: 0.5303030303030303\n",
      "Previous val accuracy: 0.5505050505050505\n",
      "Rejected prompt: Classify the following sentence from FOMC into one of hawkish, dovish, or neutral, considering the subtle nuances of tone and sentiment that may be conveyed through linguistic features such as verb choice, adverbial modifiers, and contextual cues. Provide a detailed and explicit justification for your prediction, highlighting the specific linguistic elements that support your classification, and acknowledge the potential limitations and complexities of your model. Additionally, consider the potential implications of your prediction on the broader economic landscape, including households, businesses, and policymakers, and provide a balanced discussion of the implications, including potential counterarguments and alternative perspectives. Specifically, provide a clear and concise explanation of why you believe the sentence is hawkish, dovish, or neutral,\n",
      "System prompt:  VARIABLE> Classify the following sentence from FOMC into one of hawkish, dovish, or neutral, providing a detailed and nuanced analysis of the linguistic features and cues that support your prediction. Specifically, please highlight the key phrases, sentence structures, and tone markers that contribute to the sentence's overall tone and sentiment. Additionally, acknowledge the potential limitations and complexities of your model, and provide a balanced discussion of the implications of your prediction, including potential counterarguments and alternative perspectives. Consider the potential impact of your prediction on the broader economic landscape, and provide a nuanced discussion of the potential implications for households, businesses, and policymakers. Please provide a clear and concise justification for your classification, including specific examples and evidence from\n"
     ]
    },
    {
     "name": "stderr",
     "output_type": "stream",
     "text": [
      "Epoch 18: Training step 1: : 1it [00:21, 21.02s/it]"
     ]
    },
    {
     "name": "stdout",
     "output_type": "stream",
     "text": [
      "Prompt:  VARIABLE> Classify the following sentence from FOMC into one of hawkish, dovish, or neutral, providing a detailed and nuanced analysis of the linguistic features and cues that support your prediction. Specifically, please highlight the key phrases, sentence structures, and tone markers that contribute to the sentence's overall tone and sentiment. Additionally, acknowledge the potential limitations and complexities of your model, and provide a balanced discussion of the implications of your prediction, including potential counterarguments and alternative perspectives. Consider the potential impact of your prediction on the broader economic landscape, and provide a nuanced discussion of the potential implications for households, businesses, and policymakers. Furthermore, please provide a clear and concise justification for your classification, including specific examples and evidence\n"
     ]
    },
    {
     "name": "stderr",
     "output_type": "stream",
     "text": [
      "Epoch 18: Training step 2: : 2it [00:41, 20.67s/it]"
     ]
    },
    {
     "name": "stdout",
     "output_type": "stream",
     "text": [
      "Prompt:  Classify the following sentence from FOMC into one of hawkish, dovish, or neutral, providing a detailed and nuanced analysis of the linguistic features and cues that support your prediction. Specifically, please highlight the key phrases, sentence structures, and tone markers that contribute to the sentence's overall tone and sentiment. Additionally, acknowledge the potential limitations and complexities of your model, and provide a balanced discussion of the implications of your prediction, including potential counterarguments and alternative perspectives.\n",
      "\n",
      "To define the tone, please consider the following:\n",
      "\n",
      "* Hawkish: A tone that suggests a strong commitment to inflation control, potentially at the expense of economic growth.\n",
      "* Dovish: A tone that suggests a willingness to tolerate higher inflation in order\n"
     ]
    },
    {
     "name": "stderr",
     "output_type": "stream",
     "text": [
      "Epoch 18: Training step 3: : 3it [01:04, 21.93s/it]"
     ]
    },
    {
     "name": "stdout",
     "output_type": "stream",
     "text": [
      "Prompt:  Classify the following sentence from FOMC into one of hawkish, dovish, or neutral, providing a specific and concrete prediction with a clear probability distribution. Please highlight the key linguistic features and cues that support your prediction, and acknowledge the potential limitations and complexities of your model. Additionally, provide a balanced discussion of the implications of your prediction, including potential counterarguments and alternative perspectives. Consider the FOMC's primary goal of maintaining price stability and promoting maximum employment when making your classification. Highlight the tone and sentiment conveyed by the sentence, and explain how these features contribute to your prediction. Use specific terms and phrases to describe the tone and sentiment, and acknowledge any potential biases or assumptions made during the classification process. By\n"
     ]
    },
    {
     "name": "stderr",
     "output_type": "stream",
     "text": [
      "Epoch 18: Training step 4: : 4it [01:24, 20.86s/it]"
     ]
    },
    {
     "name": "stdout",
     "output_type": "stream",
     "text": [
      "Prompt:  Classify the FOMC sentence into one of hawkish, dovish, or neutral, providing a clear and concise classification with explicit sentiment analysis. Highlight the key linguistic features and cues that support your prediction, acknowledging potential limitations and complexities. Consider the FOMC's primary goal of maintaining price stability and promoting maximum employment when making your classification. Please provide a balanced discussion of the implications of your prediction, including potential counterarguments and alternative perspectives. By\n"
     ]
    },
    {
     "name": "stderr",
     "output_type": "stream",
     "text": [
      "Epoch 18: Training step 5: : 5it [01:43, 20.45s/it]"
     ]
    },
    {
     "name": "stdout",
     "output_type": "stream",
     "text": [
      "Prompt:  Classify the FOMC sentence into one of hawkish, dovish, or nuanced, providing a clear and concise classification with explicit sentiment analysis that acknowledges potential limitations and complexities. Highlight the key linguistic features and cues that support your prediction, while also considering alternative perspectives and potential counterarguments. Furthermore, provide a balanced discussion of the implications of your prediction, including specific data-driven evidence and concrete examples to support your classification. By considering the FOMC's primary goal of maintaining price stability and promoting maximum employment, and by incorporating more nuanced and context-dependent language, please provide a more accurate and relevant classification. By\n"
     ]
    },
    {
     "name": "stderr",
     "output_type": "stream",
     "text": [
      "Epoch 18: Training step 6: : 6it [02:05, 20.94s/it]"
     ]
    },
    {
     "name": "stdout",
     "output_type": "stream",
     "text": [
      "Prompt:  Classify the FOMC sentence into one of hawkish, dovish, or nuanced, providing a detailed and specific analysis of the linguistic features and cues that support your prediction. Highlight the key phrases, words, and sentence structures that contribute to the overall tone and sentiment of the sentence, and provide a clear and concise explanation of how these features relate to the classification. Consider the potential limitations and complexities of the sentence, and provide a balanced discussion of the implications of your prediction, including specific data-driven evidence and concrete examples to support your classification. Additionally, justify your classification by explaining why the sentence is not hawkish or neutral if that is the correct classification. Provide a summary of the main points in the sentence, and explain\n"
     ]
    },
    {
     "name": "stderr",
     "output_type": "stream",
     "text": [
      "Epoch 18: Training step 7: : 7it [02:24, 20.35s/it]"
     ]
    },
    {
     "name": "stdout",
     "output_type": "stream",
     "text": [
      "Prompt:  Classify the FOMC sentence into one of hawkish, dovish, or neutral, providing a detailed and specific analysis of the linguistic features and cues that support your prediction. Highlight the key phrases, words, and sentence structures that contribute to the overall tone and sentiment of the sentence, and provide a clear and concise explanation of how these features relate to the classification. Consider the potential limitations and complexities of the sentence, and provide a balanced discussion of the implications of your prediction, including specific data-driven evidence and concrete examples to support your classification. Additionally, justify your classification by explaining why the sentence is not hawkish or neutral if that is the correct classification. Provide a summary of the main points in the sentence, and explain\n"
     ]
    },
    {
     "name": "stderr",
     "output_type": "stream",
     "text": [
      "Epoch 18: Training step 8: : 8it [02:44, 20.11s/it]"
     ]
    },
    {
     "name": "stdout",
     "output_type": "stream",
     "text": [
      "Prompt:  Classify the FOMC sentence into one of hawkish, dovish, or nuanced, providing a specific and detailed analysis of the linguistic features and cues that support your prediction. Highlight the key phrases, words, and sentence structures that contribute to the overall tone and sentiment of the sentence, and provide a clear and concise explanation of how these features relate to the classification. Consider the potential limitations and complexities of the sentence, and provide a balanced discussion of the implications of your prediction, including specific data-driven evidence and concrete examples to support your classification. Additionally, justify your classification by explaining why the sentence is not hawkish or dovish if that is the correct classification. Provide a concise summary of the main points in the sentence,\n"
     ]
    },
    {
     "name": "stderr",
     "output_type": "stream",
     "text": [
      "Epoch 18: Training step 9: : 9it [03:03, 19.71s/it]"
     ]
    },
    {
     "name": "stdout",
     "output_type": "stream",
     "text": [
      "Prompt:  Classify the FOMC sentence into one of hawkish, dovish, or neutral, providing a detailed analysis of the linguistic features and cues that support your prediction. Be specific in your classification, considering alternative perspectives and nuances in the sentence. Use precise language to describe the tone and sentiment, avoiding assumptions and considering the broader context in which the sentence is being used. Highlight the key phrases, words, and sentence structures that contribute to the overall tone and sentiment of the sentence, and provide a clear and concise explanation of how these features relate to the classification. Additionally, justify your classification by explaining why the sentence is not hawkish or dovish if that is the correct classification. Provide a concise summary of the main points in\n"
     ]
    },
    {
     "name": "stderr",
     "output_type": "stream",
     "text": [
      "Epoch 18: Training step 9: : 10it [03:23, 20.38s/it]\n"
     ]
    },
    {
     "name": "stdout",
     "output_type": "stream",
     "text": [
      "Prompt:  Classify the FOMC sentence into one of hawkish, dovish, or nuanced, considering the specific economic indicators, trends, and linguistic features that support your prediction. Provide a detailed analysis of the cues that lead to your classification, including explicit connections between the FOMC sentence and the concept of hawkishness, dovishness, or nuance. Additionally, justify your classification by explaining why the sentence is not hawkish or dovish if that is the correct classification. Provide a concise summary of the main points in your analysis, focusing on the implications of the sentence on monetary policy and the potential impact on the economy. Consider the following specific features to support your classification:\n",
      "\n",
      "* The use of words and phrases that\n",
      "New prompt:  Classify the FOMC sentence into one of hawkish, dovish, or nuanced, considering the specific economic indicators, trends, and linguistic features that support your prediction. Provide a detailed analysis of the cues that lead to your classification, including explicit connections between the FOMC sentence and the concept of hawkishness, dovishness, or nuance. Additionally, justify your classification by explaining why the sentence is not hawkish or dovish if that is the correct classification. Provide a concise summary of the main points in your analysis, focusing on the implications of the sentence on monetary policy and the potential impact on the economy. Consider the following specific features to support your classification:\n",
      "\n",
      "* The use of words and phrases that\n"
     ]
    },
    {
     "name": "stderr",
     "output_type": "stream",
     "text": [
      "Accuracy: 0.4595959595959596: 100%|██████████| 198/198 [00:06<00:00, 28.67it/s] \n"
     ]
    },
    {
     "name": "stdout",
     "output_type": "stream",
     "text": [
      "Val accuracy: 0.4595959595959596\n",
      "Previous val accuracy: 0.5505050505050505\n",
      "Rejected prompt: Classify the FOMC sentence into one of hawkish, dovish, or nuanced, considering the specific economic indicators, trends, and linguistic features that support your prediction. Provide a detailed analysis of the cues that lead to your classification, including explicit connections between the FOMC sentence and the concept of hawkishness, dovishness, or nuance. Additionally, justify your classification by explaining why the sentence is not hawkish or dovish if that is the correct classification. Provide a concise summary of the main points in your analysis, focusing on the implications of the sentence on monetary policy and the potential impact on the economy. Consider the following specific features to support your classification:\n",
      "\n",
      "* The use of words and phrases that\n",
      "System prompt:  VARIABLE> Classify the following sentence from FOMC into one of hawkish, dovish, or neutral, providing a detailed and nuanced analysis of the linguistic features and cues that support your prediction. Specifically, please highlight the key phrases, sentence structures, and tone markers that contribute to the sentence's overall tone and sentiment. Additionally, acknowledge the potential limitations and complexities of your model, and provide a balanced discussion of the implications of your prediction, including potential counterarguments and alternative perspectives. Consider the potential impact of your prediction on the broader economic landscape, and provide a nuanced discussion of the potential implications for households, businesses, and policymakers. Please provide a clear and concise justification for your classification, including specific examples and evidence from\n"
     ]
    },
    {
     "name": "stderr",
     "output_type": "stream",
     "text": [
      "Epoch 19: Training step 1: : 1it [00:20, 20.96s/it]"
     ]
    },
    {
     "name": "stdout",
     "output_type": "stream",
     "text": [
      "Prompt:  VARIABLE> Classify the following sentence from FOMC into one of hawkish, dovish, or neutral, providing a detailed and nuanced analysis of the linguistic features and cues that support your prediction. Specifically, please:\n",
      "\n",
      "* Highlight the key phrases, sentence structures, and tone markers that contribute to the sentence's overall tone and sentiment, and explain how they support your prediction.\n",
      "* Offer alternative classifications and explain why they are less likely or more plausible.\n",
      "* Acknowledge the potential limitations and complexities of your model, and provide a balanced discussion of the implications of your prediction, including potential counterarguments and alternative perspectives.\n",
      "* Consider the potential impact of your prediction on the broader economic landscape, and provide a nuanced discussion of the potential implications\n"
     ]
    },
    {
     "name": "stderr",
     "output_type": "stream",
     "text": [
      "Epoch 19: Training step 2: : 2it [00:41, 20.62s/it]"
     ]
    },
    {
     "name": "stdout",
     "output_type": "stream",
     "text": [
      "Prompt:  VARIABLE> Classify the following sentence from FOMC into one of hawkish, dovish, or neutral, providing a detailed and nuanced analysis of the linguistic features and cues that support your prediction. Specifically, please:\n",
      "\n",
      "* Highlight the key phrases, sentence structures, and tone markers that contribute to the sentence's overall tone and sentiment, and explain how they support your prediction, taking into account the potential subtleties and nuances that might be missed by a cursory analysis.\n",
      "* Offer alternative classifications and explain why they are less likely or more plausible, considering the potential complexities and ambiguities of the input text.\n",
      "* Acknowledge the potential limitations and complexities of your model, and provide a balanced discussion of the implications of your prediction\n"
     ]
    },
    {
     "name": "stderr",
     "output_type": "stream",
     "text": [
      "Epoch 19: Training step 3: : 3it [01:01, 20.32s/it]"
     ]
    },
    {
     "name": "stdout",
     "output_type": "stream",
     "text": [
      "Prompt:  Classify the following sentence from FOMC into one of hawkish, dovish, or neutral, providing a detailed and nuanced analysis of the linguistic features and cues that support your prediction. Specifically, please:\n",
      "\n",
      "* Highlight the key phrases, sentence structures, and tone markers that contribute to the sentence's overall tone and sentiment, and explain how they support your prediction, taking into account the potential subtleties and nuances that might be missed by a cursory analysis.\n",
      "* Offer alternative classifications and explain why they are less likely or more plausible, considering the potential complexities and ambiguities of the input text.\n",
      "* Acknowledge the potential limitations and complexities of your model, and provide a balanced discussion of the implications of your prediction.\n",
      "*\n"
     ]
    },
    {
     "name": "stderr",
     "output_type": "stream",
     "text": [
      "Epoch 19: Training step 4: : 4it [01:22, 20.66s/it]"
     ]
    },
    {
     "name": "stdout",
     "output_type": "stream",
     "text": [
      "Prompt:  Classify the following sentence from FOMC into one of hawkish, dovish, or neutral, providing a precise and specific classification, along with a clear and concise justification for your answer. Specifically, please:\n",
      "\n",
      "* Highlight the key phrases, sentence structures, and tone markers that contribute to the sentence's overall tone and sentiment, and explain how they support your prediction, taking into account the potential subtleties and nuances that might be missed by a cursory analysis.\n",
      "* Offer alternative classifications and explain why they are less likely or more plausible, considering the potential complexities and ambiguities of the input text.\n",
      "* Acknowledge the potential limitations and complexities of your model, and provide a balanced discussion of the implications of your prediction,\n"
     ]
    },
    {
     "name": "stderr",
     "output_type": "stream",
     "text": [
      "Epoch 19: Training step 5: : 5it [01:44, 21.10s/it]"
     ]
    },
    {
     "name": "stdout",
     "output_type": "stream",
     "text": [
      "Prompt:  Classify the following sentence from FOMC into one of hawkish, dovish, or neutral, providing a precise and specific classification, along with a clear and concise justification for your answer. Specifically, please:\n",
      "\n",
      "* Provide a detailed analysis of the sentence's tone, sentiment, and language use, highlighting the key phrases, sentence structures, and tone markers that contribute to the sentence's overall tone and sentiment.\n",
      "* Offer alternative classifications and explain why they are less likely or more plausible, considering the potential complexities and ambiguities of the input text.\n",
      "* Acknowledge the potential limitations and complexities of your model, and provide a balanced discussion of the implications of your prediction, including potential biases and uncertainties.\n",
      "* Provide a clear and concise\n"
     ]
    },
    {
     "name": "stderr",
     "output_type": "stream",
     "text": [
      "Epoch 19: Training step 6: : 6it [02:05, 21.02s/it]"
     ]
    },
    {
     "name": "stdout",
     "output_type": "stream",
     "text": [
      "Prompt:  VARIABLE> Classify the following sentence from FOMC into one of hawkish, dovish, or neutral, providing a precise and specific classification, along with a clear and concise justification for your answer. Specifically, please:\n",
      "\n",
      "* Provide a detailed analysis of the sentence's tone, sentiment, and language use, highlighting the key phrases, sentence structures, and tone markers that contribute to the sentence's overall tone and sentiment, while acknowledging potential biases and uncertainties in your analysis.\n",
      "* Offer alternative classifications and explain why they are less likely or more plausible, considering the potential complexities and ambiguities of the input text, and explicitly addressing potential limitations and uncertainties in your model.\n",
      "* Consider the following cues to inform your classification:\n",
      "\t+ The\n"
     ]
    },
    {
     "name": "stderr",
     "output_type": "stream",
     "text": [
      "Epoch 19: Training step 7: : 7it [02:27, 21.40s/it]"
     ]
    },
    {
     "name": "stdout",
     "output_type": "stream",
     "text": [
      "Prompt:  VARIABLE> Classify the following sentence from FOMC into one of hawkish, dovish, or neutral, providing a precise and specific classification, along with a clear and concise justification for your answer. Specifically, please:\n",
      "\n",
      "* Provide a detailed analysis of the sentence's tone, sentiment, and language use, highlighting the key phrases, sentence structures, and tone markers that contribute to the sentence's overall tone and sentiment, while acknowledging potential biases and uncertainties in your analysis.\n",
      "* Offer alternative classifications and explain why they are less likely or more plausible, considering the potential complexities and ambiguities of the input text, and explicitly addressing potential limitations and uncertainties in your model.\n",
      "* Consider the following cues to inform your classification:\n",
      "\t+ The\n"
     ]
    },
    {
     "name": "stderr",
     "output_type": "stream",
     "text": [
      "Epoch 19: Training step 8: : 8it [02:48, 21.35s/it]"
     ]
    },
    {
     "name": "stdout",
     "output_type": "stream",
     "text": [
      "Prompt:  VARIABLE> Classify the following sentence from FOMC into one of hawkish, dovish, or neutral, providing a precise and specific classification, along with a clear and concise justification for your answer. Specifically, please:\n",
      "\n",
      "* Provide a detailed analysis of the sentence's tone, sentiment, and language use, highlighting the key phrases, sentence structures, and tone markers that contribute to the sentence's overall tone and sentiment, while acknowledging potential biases and uncertainties in your analysis.\n",
      "* Offer alternative classifications and explain why they are less likely or more plausible, considering the potential complexities and ambiguities of the input text, and explicitly addressing potential limitations and uncertainties in your model.\n",
      "* Consider the following cues to inform your classification:\n",
      "\t+ The\n"
     ]
    },
    {
     "name": "stderr",
     "output_type": "stream",
     "text": [
      "Epoch 19: Training step 9: : 9it [03:08, 20.93s/it]"
     ]
    },
    {
     "name": "stdout",
     "output_type": "stream",
     "text": [
      "Prompt:  VARIABLE> Classify the following sentence from FOMC into one of hawkish, dovish, or neutral, providing a precise and specific classification, along with a clear and concise justification for your answer. Specifically, please:\n",
      "\n",
      "* Provide a detailed analysis of the sentence's tone, sentiment, and language use, highlighting the key phrases, sentence structures, and tone markers that contribute to the sentence's overall tone and sentiment, while acknowledging potential biases and uncertainties in your analysis.\n",
      "* Offer alternative classifications and explain why they are less likely or more plausible, considering the potential complexities and ambiguities of the input text, and explicitly addressing potential limitations and uncertainties in your model.\n",
      "* Consider the following cues to inform your classification:\n",
      "\t+ The\n"
     ]
    },
    {
     "name": "stderr",
     "output_type": "stream",
     "text": [
      "Epoch 19: Training step 9: : 10it [03:28, 20.86s/it]\n"
     ]
    },
    {
     "name": "stdout",
     "output_type": "stream",
     "text": [
      "Prompt:  VARIABLE> Classify the following sentence from FOMC into one of hawkish, dovish, or neutral, providing a precise and specific classification, along with a clear and concise justification for your answer. Specifically, please:\n",
      "\n",
      "* Provide a detailed analysis of the sentence's tone, sentiment, and language use, highlighting the key phrases, sentence structures, and tone markers that contribute to the sentence's overall tone and sentiment, while acknowledging potential biases and uncertainties in your analysis.\n",
      "* Offer alternative classifications and explain why they are less likely or more plausible, considering the potential complexities and ambiguities of the input text, and explicitly addressing potential limitations and uncertainties in your model.\n",
      "* Consider the following cues to inform your classification:\n",
      "\t+\n",
      "New prompt:  VARIABLE> Classify the following sentence from FOMC into one of hawkish, dovish, or neutral, providing a precise and specific classification, along with a clear and concise justification for your answer. Specifically, please:\n",
      "\n",
      "* Provide a detailed analysis of the sentence's tone, sentiment, and language use, highlighting the key phrases, sentence structures, and tone markers that contribute to the sentence's overall tone and sentiment, while acknowledging potential biases and uncertainties in your analysis.\n",
      "* Offer alternative classifications and explain why they are less likely or more plausible, considering the potential complexities and ambiguities of the input text, and explicitly addressing potential limitations and uncertainties in your model.\n",
      "* Consider the following cues to inform your classification:\n",
      "\t+\n"
     ]
    },
    {
     "name": "stderr",
     "output_type": "stream",
     "text": [
      "Accuracy: 0.45454545454545453: 100%|██████████| 198/198 [00:07<00:00, 28.16it/s]"
     ]
    },
    {
     "name": "stdout",
     "output_type": "stream",
     "text": [
      "Val accuracy: 0.45454545454545453\n",
      "Previous val accuracy: 0.5505050505050505\n",
      "Rejected prompt: VARIABLE> Classify the following sentence from FOMC into one of hawkish, dovish, or neutral, providing a precise and specific classification, along with a clear and concise justification for your answer. Specifically, please:\n",
      "\n",
      "* Provide a detailed analysis of the sentence's tone, sentiment, and language use, highlighting the key phrases, sentence structures, and tone markers that contribute to the sentence's overall tone and sentiment, while acknowledging potential biases and uncertainties in your analysis.\n",
      "* Offer alternative classifications and explain why they are less likely or more plausible, considering the potential complexities and ambiguities of the input text, and explicitly addressing potential limitations and uncertainties in your model.\n",
      "* Consider the following cues to inform your classification:\n",
      "\t+\n",
      "System prompt:  VARIABLE> Classify the following sentence from FOMC into one of hawkish, dovish, or neutral, providing a detailed and nuanced analysis of the linguistic features and cues that support your prediction. Specifically, please highlight the key phrases, sentence structures, and tone markers that contribute to the sentence's overall tone and sentiment. Additionally, acknowledge the potential limitations and complexities of your model, and provide a balanced discussion of the implications of your prediction, including potential counterarguments and alternative perspectives. Consider the potential impact of your prediction on the broader economic landscape, and provide a nuanced discussion of the potential implications for households, businesses, and policymakers. Please provide a clear and concise justification for your classification, including specific examples and evidence from\n"
     ]
    },
    {
     "name": "stderr",
     "output_type": "stream",
     "text": [
      "\n"
     ]
    }
   ],
   "source": [
    "start_val_accuracy = np.mean(eval_dataset(val_data, eval_fn, model))\n",
    "results = {\"val_accuracy\": [start_val_accuracy], \"prompt\": [starting_prompt], \n",
    "            \"new_prompt\": [starting_prompt], \"new_prompt_val_accuracy\": [start_val_accuracy]}\n",
    "print(f\"Starting prompt: {starting_prompt}\")\n",
    "print(f\"Starting val accuracy: {start_val_accuracy}\")\n",
    "\n",
    "# optimize system prompt\n",
    "train_loader = DataLoader(training_data, batch_size=5, shuffle=True)\n",
    "\n",
    "for epoch in range(20):\n",
    "    for step, (batch_x, batch_y) in enumerate((pbar := tqdm(train_loader, position=0))):\n",
    "        # initialize training step\n",
    "        if step >= 10:\n",
    "            break\n",
    "        pbar.set_description(f\"Epoch {epoch}: Training step {step}\")\n",
    "        optimizer.zero_grad()\n",
    "        losses = []\n",
    "\n",
    "        # train off items in batch\n",
    "        for (x, y) in zip(batch_x, batch_y):\n",
    "            eval_output = eval_sample(x, y, eval_fn, model)\n",
    "            losses.append(eval_output)\n",
    "\n",
    "        # sum losses\n",
    "        try:\n",
    "            total_loss = textgrad.sum(losses)\n",
    "            total_loss.backward(engine)\n",
    "            optimizer.step()\n",
    "        except:\n",
    "            continue\n",
    "\n",
    "        print(\"Prompt: \", system_prompt.get_value())\n",
    "\n",
    "    # evaluate new system prompt\n",
    "    # if worse, revert to previous prompt\n",
    "    results[\"new_prompt\"].append(system_prompt.get_value())\n",
    "    print(\"New prompt: \", system_prompt.get_value())\n",
    "    run_val_revert(system_prompt, results, eval_fn, model, val_data)\n",
    "    \n",
    "    print(\"System prompt: \", system_prompt)\n",
    "    results[\"prompt\"].append(system_prompt.get_value())"
   ]
  },
  {
   "cell_type": "code",
   "execution_count": 9,
   "metadata": {},
   "outputs": [
    {
     "data": {
      "text/plain": [
       "{'val_accuracy': [0.4090909090909091,\n",
       "  0.5505050505050505,\n",
       "  0.5505050505050505,\n",
       "  0.5505050505050505,\n",
       "  0.5505050505050505,\n",
       "  0.5505050505050505,\n",
       "  0.5505050505050505,\n",
       "  0.5505050505050505,\n",
       "  0.5505050505050505,\n",
       "  0.5505050505050505,\n",
       "  0.5505050505050505,\n",
       "  0.5505050505050505,\n",
       "  0.5505050505050505,\n",
       "  0.5505050505050505,\n",
       "  0.5505050505050505,\n",
       "  0.5505050505050505,\n",
       "  0.5505050505050505,\n",
       "  0.5505050505050505,\n",
       "  0.5505050505050505,\n",
       "  0.5505050505050505,\n",
       "  0.5505050505050505],\n",
       " 'prompt': ['Classify the following sentence from FOMC into hawkish, dovish, or neutral based on its stance on monetary policy. Output your prediction on the first line and your explanation after.',\n",
       "  'VARIABLE> Classify the following sentence from FOMC into hawkish, dovish, or neutral, providing a detailed and nuanced explanation of the factors driving your classification. Specifically, highlight the key linguistic features, tone, and semantic cues that support your prediction, and acknowledge the potential limitations and complexities of your model. Additionally, consider the potential drawbacks of your classification and provide a balanced discussion of the implications of your prediction. Furthermore, consider the potential impact of your classification on the broader economic landscape, including the potential effects on interest rates, inflation, and employment. To ensure accuracy, please provide a clear and concise justification for your classification, including specific examples from the sentence that support your conclusion, and explicitly highlight the aspects of',\n",
       "  'VARIABLE> Classify the following sentence from FOMC into hawkish, dovish, or neutral, providing a detailed and nuanced explanation of the factors driving your classification. Specifically, highlight the key linguistic features, tone, and semantic cues that support your prediction, and acknowledge the potential limitations and complexities of your model. Additionally, consider the potential drawbacks of your classification and provide a balanced discussion of the implications of your prediction. Furthermore, consider the potential impact of your classification on the broader economic landscape, including the potential effects on interest rates, inflation, and employment. To ensure accuracy, please provide a clear and concise justification for your classification, including specific examples from the sentence that support your conclusion, and explicitly highlight the aspects of',\n",
       "  'VARIABLE> Classify the following sentence from FOMC into hawkish, dovish, or neutral, providing a detailed and nuanced explanation of the factors driving your classification. Specifically, highlight the key linguistic features, tone, and semantic cues that support your prediction, and acknowledge the potential limitations and complexities of your model. Additionally, consider the potential drawbacks of your classification and provide a balanced discussion of the implications of your prediction. Furthermore, consider the potential impact of your classification on the broader economic landscape, including the potential effects on interest rates, inflation, and employment. To ensure accuracy, please provide a clear and concise justification for your classification, including specific examples from the sentence that support your conclusion, and explicitly highlight the aspects of',\n",
       "  \"VARIABLE> Classify the following sentence from FOMC into one of hawkish, dovish, or neutral, providing a detailed and nuanced analysis of the linguistic features and cues that support your prediction. Specifically, please highlight the key phrases, sentence structures, and tone markers that contribute to the sentence's overall tone and sentiment. Additionally, acknowledge the potential limitations and complexities of your model, and provide a balanced discussion of the implications of your prediction, including potential counterarguments and alternative perspectives. Consider the potential impact of your prediction on the broader economic landscape, and provide a nuanced discussion of the potential implications for households, businesses, and policymakers. Please provide a clear and concise justification for your classification, including specific examples and evidence from\",\n",
       "  \"VARIABLE> Classify the following sentence from FOMC into one of hawkish, dovish, or neutral, providing a detailed and nuanced analysis of the linguistic features and cues that support your prediction. Specifically, please highlight the key phrases, sentence structures, and tone markers that contribute to the sentence's overall tone and sentiment. Additionally, acknowledge the potential limitations and complexities of your model, and provide a balanced discussion of the implications of your prediction, including potential counterarguments and alternative perspectives. Consider the potential impact of your prediction on the broader economic landscape, and provide a nuanced discussion of the potential implications for households, businesses, and policymakers. Please provide a clear and concise justification for your classification, including specific examples and evidence from\",\n",
       "  \"VARIABLE> Classify the following sentence from FOMC into one of hawkish, dovish, or neutral, providing a detailed and nuanced analysis of the linguistic features and cues that support your prediction. Specifically, please highlight the key phrases, sentence structures, and tone markers that contribute to the sentence's overall tone and sentiment. Additionally, acknowledge the potential limitations and complexities of your model, and provide a balanced discussion of the implications of your prediction, including potential counterarguments and alternative perspectives. Consider the potential impact of your prediction on the broader economic landscape, and provide a nuanced discussion of the potential implications for households, businesses, and policymakers. Please provide a clear and concise justification for your classification, including specific examples and evidence from\",\n",
       "  \"VARIABLE> Classify the following sentence from FOMC into one of hawkish, dovish, or neutral, providing a detailed and nuanced analysis of the linguistic features and cues that support your prediction. Specifically, please highlight the key phrases, sentence structures, and tone markers that contribute to the sentence's overall tone and sentiment. Additionally, acknowledge the potential limitations and complexities of your model, and provide a balanced discussion of the implications of your prediction, including potential counterarguments and alternative perspectives. Consider the potential impact of your prediction on the broader economic landscape, and provide a nuanced discussion of the potential implications for households, businesses, and policymakers. Please provide a clear and concise justification for your classification, including specific examples and evidence from\",\n",
       "  \"VARIABLE> Classify the following sentence from FOMC into one of hawkish, dovish, or neutral, providing a detailed and nuanced analysis of the linguistic features and cues that support your prediction. Specifically, please highlight the key phrases, sentence structures, and tone markers that contribute to the sentence's overall tone and sentiment. Additionally, acknowledge the potential limitations and complexities of your model, and provide a balanced discussion of the implications of your prediction, including potential counterarguments and alternative perspectives. Consider the potential impact of your prediction on the broader economic landscape, and provide a nuanced discussion of the potential implications for households, businesses, and policymakers. Please provide a clear and concise justification for your classification, including specific examples and evidence from\",\n",
       "  \"VARIABLE> Classify the following sentence from FOMC into one of hawkish, dovish, or neutral, providing a detailed and nuanced analysis of the linguistic features and cues that support your prediction. Specifically, please highlight the key phrases, sentence structures, and tone markers that contribute to the sentence's overall tone and sentiment. Additionally, acknowledge the potential limitations and complexities of your model, and provide a balanced discussion of the implications of your prediction, including potential counterarguments and alternative perspectives. Consider the potential impact of your prediction on the broader economic landscape, and provide a nuanced discussion of the potential implications for households, businesses, and policymakers. Please provide a clear and concise justification for your classification, including specific examples and evidence from\",\n",
       "  \"VARIABLE> Classify the following sentence from FOMC into one of hawkish, dovish, or neutral, providing a detailed and nuanced analysis of the linguistic features and cues that support your prediction. Specifically, please highlight the key phrases, sentence structures, and tone markers that contribute to the sentence's overall tone and sentiment. Additionally, acknowledge the potential limitations and complexities of your model, and provide a balanced discussion of the implications of your prediction, including potential counterarguments and alternative perspectives. Consider the potential impact of your prediction on the broader economic landscape, and provide a nuanced discussion of the potential implications for households, businesses, and policymakers. Please provide a clear and concise justification for your classification, including specific examples and evidence from\",\n",
       "  \"VARIABLE> Classify the following sentence from FOMC into one of hawkish, dovish, or neutral, providing a detailed and nuanced analysis of the linguistic features and cues that support your prediction. Specifically, please highlight the key phrases, sentence structures, and tone markers that contribute to the sentence's overall tone and sentiment. Additionally, acknowledge the potential limitations and complexities of your model, and provide a balanced discussion of the implications of your prediction, including potential counterarguments and alternative perspectives. Consider the potential impact of your prediction on the broader economic landscape, and provide a nuanced discussion of the potential implications for households, businesses, and policymakers. Please provide a clear and concise justification for your classification, including specific examples and evidence from\",\n",
       "  \"VARIABLE> Classify the following sentence from FOMC into one of hawkish, dovish, or neutral, providing a detailed and nuanced analysis of the linguistic features and cues that support your prediction. Specifically, please highlight the key phrases, sentence structures, and tone markers that contribute to the sentence's overall tone and sentiment. Additionally, acknowledge the potential limitations and complexities of your model, and provide a balanced discussion of the implications of your prediction, including potential counterarguments and alternative perspectives. Consider the potential impact of your prediction on the broader economic landscape, and provide a nuanced discussion of the potential implications for households, businesses, and policymakers. Please provide a clear and concise justification for your classification, including specific examples and evidence from\",\n",
       "  \"VARIABLE> Classify the following sentence from FOMC into one of hawkish, dovish, or neutral, providing a detailed and nuanced analysis of the linguistic features and cues that support your prediction. Specifically, please highlight the key phrases, sentence structures, and tone markers that contribute to the sentence's overall tone and sentiment. Additionally, acknowledge the potential limitations and complexities of your model, and provide a balanced discussion of the implications of your prediction, including potential counterarguments and alternative perspectives. Consider the potential impact of your prediction on the broader economic landscape, and provide a nuanced discussion of the potential implications for households, businesses, and policymakers. Please provide a clear and concise justification for your classification, including specific examples and evidence from\",\n",
       "  \"VARIABLE> Classify the following sentence from FOMC into one of hawkish, dovish, or neutral, providing a detailed and nuanced analysis of the linguistic features and cues that support your prediction. Specifically, please highlight the key phrases, sentence structures, and tone markers that contribute to the sentence's overall tone and sentiment. Additionally, acknowledge the potential limitations and complexities of your model, and provide a balanced discussion of the implications of your prediction, including potential counterarguments and alternative perspectives. Consider the potential impact of your prediction on the broader economic landscape, and provide a nuanced discussion of the potential implications for households, businesses, and policymakers. Please provide a clear and concise justification for your classification, including specific examples and evidence from\",\n",
       "  \"VARIABLE> Classify the following sentence from FOMC into one of hawkish, dovish, or neutral, providing a detailed and nuanced analysis of the linguistic features and cues that support your prediction. Specifically, please highlight the key phrases, sentence structures, and tone markers that contribute to the sentence's overall tone and sentiment. Additionally, acknowledge the potential limitations and complexities of your model, and provide a balanced discussion of the implications of your prediction, including potential counterarguments and alternative perspectives. Consider the potential impact of your prediction on the broader economic landscape, and provide a nuanced discussion of the potential implications for households, businesses, and policymakers. Please provide a clear and concise justification for your classification, including specific examples and evidence from\",\n",
       "  \"VARIABLE> Classify the following sentence from FOMC into one of hawkish, dovish, or neutral, providing a detailed and nuanced analysis of the linguistic features and cues that support your prediction. Specifically, please highlight the key phrases, sentence structures, and tone markers that contribute to the sentence's overall tone and sentiment. Additionally, acknowledge the potential limitations and complexities of your model, and provide a balanced discussion of the implications of your prediction, including potential counterarguments and alternative perspectives. Consider the potential impact of your prediction on the broader economic landscape, and provide a nuanced discussion of the potential implications for households, businesses, and policymakers. Please provide a clear and concise justification for your classification, including specific examples and evidence from\",\n",
       "  \"VARIABLE> Classify the following sentence from FOMC into one of hawkish, dovish, or neutral, providing a detailed and nuanced analysis of the linguistic features and cues that support your prediction. Specifically, please highlight the key phrases, sentence structures, and tone markers that contribute to the sentence's overall tone and sentiment. Additionally, acknowledge the potential limitations and complexities of your model, and provide a balanced discussion of the implications of your prediction, including potential counterarguments and alternative perspectives. Consider the potential impact of your prediction on the broader economic landscape, and provide a nuanced discussion of the potential implications for households, businesses, and policymakers. Please provide a clear and concise justification for your classification, including specific examples and evidence from\",\n",
       "  \"VARIABLE> Classify the following sentence from FOMC into one of hawkish, dovish, or neutral, providing a detailed and nuanced analysis of the linguistic features and cues that support your prediction. Specifically, please highlight the key phrases, sentence structures, and tone markers that contribute to the sentence's overall tone and sentiment. Additionally, acknowledge the potential limitations and complexities of your model, and provide a balanced discussion of the implications of your prediction, including potential counterarguments and alternative perspectives. Consider the potential impact of your prediction on the broader economic landscape, and provide a nuanced discussion of the potential implications for households, businesses, and policymakers. Please provide a clear and concise justification for your classification, including specific examples and evidence from\",\n",
       "  \"VARIABLE> Classify the following sentence from FOMC into one of hawkish, dovish, or neutral, providing a detailed and nuanced analysis of the linguistic features and cues that support your prediction. Specifically, please highlight the key phrases, sentence structures, and tone markers that contribute to the sentence's overall tone and sentiment. Additionally, acknowledge the potential limitations and complexities of your model, and provide a balanced discussion of the implications of your prediction, including potential counterarguments and alternative perspectives. Consider the potential impact of your prediction on the broader economic landscape, and provide a nuanced discussion of the potential implications for households, businesses, and policymakers. Please provide a clear and concise justification for your classification, including specific examples and evidence from\",\n",
       "  \"VARIABLE> Classify the following sentence from FOMC into one of hawkish, dovish, or neutral, providing a detailed and nuanced analysis of the linguistic features and cues that support your prediction. Specifically, please highlight the key phrases, sentence structures, and tone markers that contribute to the sentence's overall tone and sentiment. Additionally, acknowledge the potential limitations and complexities of your model, and provide a balanced discussion of the implications of your prediction, including potential counterarguments and alternative perspectives. Consider the potential impact of your prediction on the broader economic landscape, and provide a nuanced discussion of the potential implications for households, businesses, and policymakers. Please provide a clear and concise justification for your classification, including specific examples and evidence from\"],\n",
       " 'new_prompt': ['Classify the following sentence from FOMC into hawkish, dovish, or neutral based on its stance on monetary policy. Output your prediction on the first line and your explanation after.',\n",
       "  'VARIABLE> Classify the following sentence from FOMC into hawkish, dovish, or neutral, providing a detailed and nuanced explanation of the factors driving your classification. Specifically, highlight the key linguistic features, tone, and semantic cues that support your prediction, and acknowledge the potential limitations and complexities of your model. Additionally, consider the potential drawbacks of your classification and provide a balanced discussion of the implications of your prediction. Furthermore, consider the potential impact of your classification on the broader economic landscape, including the potential effects on interest rates, inflation, and employment. To ensure accuracy, please provide a clear and concise justification for your classification, including specific examples from the sentence that support your conclusion, and explicitly highlight the aspects of',\n",
       "  \"Classify the following sentence from FOMC into a numerical value between 0 and 3, where 0 represents a hawkish stance, 1 represents a neutral stance, 2 represents a dovish stance, and 3 represents a highly dovish stance. Provide a detailed and specific analysis that incorporates concrete data, nuanced tone, and contextual understanding, highlighting the key linguistic features, tone, and semantic cues that drive your classification. Additionally, consider the potential risks and consequences, and provide a clear and concise justification for your classification, including specific examples from the sentence that support your argument. Please provide a thorough examination of the sentence's syntax, semantics, and pragmatics, considering the following questions: What are the\",\n",
       "  \"Classify the sentence from FOMC into hawkish, dovish, or neutral, providing a clear and structured explanation of your reasoning. Specifically, highlight the key phrases, words, and sentence structures that contribute to the sentence's tone, and acknowledge the potential drawbacks of your classification. Consider the potential impact of your classification on the broader economic landscape, including the potential effects on interest rates, inflation, and employment. Please provide concrete examples or quotes from the sentence that demonstrate the presence of hawkish, dovish, or neutral language, and provide a concise summary of your findings. Additionally, consider the significance of your classification and how it relates to broader themes or issues in the topic. Furthermore, please provide a clear and nuanced\",\n",
       "  \"VARIABLE> Classify the following sentence from FOMC into one of hawkish, dovish, or neutral, providing a detailed and nuanced analysis of the linguistic features and cues that support your prediction. Specifically, please highlight the key phrases, sentence structures, and tone markers that contribute to the sentence's overall tone and sentiment. Additionally, acknowledge the potential limitations and complexities of your model, and provide a balanced discussion of the implications of your prediction, including potential counterarguments and alternative perspectives. Consider the potential impact of your prediction on the broader economic landscape, and provide a nuanced discussion of the potential implications for households, businesses, and policymakers. Please provide a clear and concise justification for your classification, including specific examples and evidence from\",\n",
       "  \"Classify the following sentence from FOMC into one of hawkish, dovish, or neutral, providing a detailed, nuanced analysis of the sentence, including specific linguistic features, concrete evidence, and potential limitations. Consider the potential impact of your prediction on the broader economic landscape and provide a nuanced discussion of the potential implications for households, businesses, and policymakers. Please provide a precise and technical description of the classification, using jargon specific to the field of economics, and include a confidence score or probability distribution for your prediction. Specify the exact reasons why you classify the sentence as hawkish, dovish, or neutral, and consider the following context-specific information: the sentence's tone, the use of economic indicators, and the\",\n",
       "  \"VARIABLE> Classify the following sentence from FOMC into one of hawkish, dovish, or neutral, with a focus on objective linguistic features and cues. Consider the following specific linguistic features that contribute to the sentence's overall tone and sentiment: key phrases, sentence structures, tone markers, and rhetorical devices. Additionally, acknowledge the potential limitations and complexities of your model, and provide a balanced discussion of the implications of your prediction, including potential counterarguments and alternative perspectives. Furthermore, please provide a clear and concise justification for your classification, including specific examples and concrete evidence. Specifically, define hawkish as sentences that convey a strong sense of urgency or alarm, often accompanied by phrases that emphasize the need for immediate action or drastic\",\n",
       "  'VARIABLE> Classify the following sentence from FOMC into one of hawkish, dovish, or neutral sentiment, providing a nuanced and balanced justification that acknowledges potential counterarguments and alternative perspectives. Please highlight the key phrases, sentence structures, and tone markers that contribute to the sentence\\'s overall tone and sentiment, and provide a comprehensive discussion of the implications of your prediction, including potential flaws and alternative viewpoints. Additionally, please provide a specific and accurate description of the sentence classification, including the relevant context and relationships between the key phrases and the sentence\\'s tone and sentiment. Furthermore, please consider the following factors when making your prediction:\\n\\n* The use of specific words or phrases that may convey a particular tone or sentiment, such as \"',\n",
       "  \"Classify the following sentence from FOMC into one of hawkish, dovish, or neutral, providing a clear and concise justification for your classification. Specifically, please:\\n\\n* Identify and highlight the key phrases, sentence structures, and tone markers that contribute to the sentence's overall tone and sentiment, and explain how these features support your prediction with specific evidence and examples.\\n* Provide a nuanced discussion of the potential implications for households, businesses, and policymakers, acknowledging potential limitations and complexities of your model.\\n* Consider the potential impact of your prediction on the broader economic landscape, and provide a detailed analysis of the potential consequences of the sentence's tone and sentiment.\\n* Avoid making subjective judgments without clear evidence, and instead provide a clear\",\n",
       "  'Classify the following sentence from FOMC into one of hawkish, dovish, or neutral, providing a nuanced and probabilistic analysis of the linguistic features and cues that support your prediction. Specifically, please highlight the key phrases and sentence structures that directly contribute to your classification, and acknowledge potential limitations and complexities of your model. Consider the potential impact of your prediction on the broader economic landscape, and provide a balanced discussion of the potential implications for households, businesses, and policymakers. Additionally, please provide specific examples and evidence from the sentence to justify your classification, and indicate the level of confidence you have in your prediction. Furthermore, please provide a detailed analysis of the tone, sentiment, and emotional intensity of the sentence, taking',\n",
       "  \"Classify the following sentence from FOMC into one of hawkish, dovish, or neutral, providing a specific numerical prediction of the likelihood of each tone (e.g., 0.3 for dovish, 0.4 for neutral, 0.3 for hawkish). Please support your classification with concrete linguistic features and cues, such as specific words, phrases, and sentence structures that contribute to the sentence's overall tone and sentiment. Additionally, acknowledge the potential limitations and complexities of your model, and provide a balanced discussion of the implications of your prediction, including potential counterarguments and alternative perspectives. Specifically, identify and explain the concrete words, phrases, and sentence structures that contribute to the sentence's tone and\",\n",
       "  \"VARIABLE> Classify the following sentence from FOMC into one of hawkish, dovish, or neutral, providing a clear and concise justification for your classification. Specifically, please:\\n\\n* Identify the key phrases, sentence structures, and tone markers that contribute to the sentence's overall tone and sentiment, and acknowledge the potential limitations and complexities of your model.\\n* Provide a balanced discussion of the implications of your prediction, including potential counterarguments and alternative perspectives, and consider the potential impact of your prediction on the broader economic landscape.\\n* Consider the author's intent, the tone, and emotional undertones of the sentence, and describe how these factors influence your classification.\\n* Provide concrete evidence or examples to support your classification, such as\",\n",
       "  'VARIABLE> Classify the following sentence from FOMC into one of hawkish, dovish, or neutral, providing a detailed analysis of the linguistic features that contribute to the tone, such as word choice, syntax, and figurative language. Specifically, please:\\n\\n* Clearly articulate the classification by stating \"This sentence is classified as [hawkish/dovish/neutral]\" and provide a nuanced and balanced analysis of the sentence\\'s meaning, acknowledging potential ambiguities and complexities.\\n* Provide concrete evidence to support your classification, considering multiple possible interpretations and highlighting specific phrases or words that contribute to the tone.\\n* Consider the potential limitations and complexities of your model, and provide a clear and concise explanation of how you arrived at your classification',\n",
       "  \"VARIABLE> Classify the following sentence from FOMC into one of hawkish, dovish, or neutral, providing a clear and concise justification for your classification. Specifically, please:\\n\\n* Highlight the key phrases, sentence structures, and tone markers that contribute to the sentence's overall tone and sentiment.\\n* Acknowledge the potential limitations and complexities of your model, and provide a balanced discussion of the implications of your prediction, including potential counterarguments and alternative perspectives.\\n* Consider the potential impact of your prediction on the broader economic landscape, and provide a nuanced discussion of the potential implications for households, businesses, and policymakers.\\n* Provide a detailed analysis of the sentence's tone, including whether it is formal or informal, and how\",\n",
       "  \"VARIABLE> Classify the following sentence from FOMC into one of hawkish, dovish, or neutral, providing a clear and concise justification for your classification. To improve the accuracy and robustness of your classification, please consider the following:\\n\\n* Analyze the sentence structure, tone, and author's intent to identify the underlying sentiment and bias, and provide specific and relevant examples from the text that support your classification.\\n* Highlight key phrases, sentence structures, and tone markers that contribute to the sentence's overall tone and sentiment, and explain how they relate to the hawkish, dovish, or neutral classification.\\n* Consider alternative perspectives and counterarguments to your classification, acknowledging potential limitations and complexities of your model, and provide\",\n",
       "  \"VARIABLE> Classify the following sentence from FOMC into one of hawkish, dovish, or neutral, providing a detailed and specific analysis of the linguistic features, tone markers, and sentence structures that contribute to the sentence's overall tone and sentiment. Specifically, identify and explain the role of each linguistic feature, tone marker, and sentence structure in shaping the sentence's tone and justification for your classification. Additionally, consider the Federal Open Market Committee's typical language usage, including its formal and technical tone, and how it relates to the sentence's classification. Furthermore, acknowledge the potential limitations and complexities of your model, and provide a balanced discussion of the implications of your prediction, including potential counterarguments and alternative perspectives. To\",\n",
       "  \"Classify the following sentence from FOMC into one of hawkish, dovish, or neutral, providing a detailed and nuanced analysis of the sentence's tone and language. Specifically, please:\\n\\n* Identify the sentence's overall tone and sentiment, and explain how it relates to the chosen classification, considering the context of the sentence and the surrounding text, while acknowledging potential limitations and complexities of your model.\\n* Focus on the sentence's core meaning, ignoring irrelevant words or phrases, and provide a concise analysis of the linguistic features and tone markers that contribute to the classification, including potential ambiguities and complexities, and consider alternative perspectives and potential biases.\\n* Provide a detailed explanation of the linguistic and contextual factors that support your classification, and\",\n",
       "  'To classify the tone of the following sentence from FOMC, please analyze the linguistic features and cues that convey the sentiment, specifically focusing on the following tone-specific cues:\\n\\n* Hawkish tone is characterized by phrases that convey a sense of urgency and decisiveness, such as \"aggressive monetary policy,\" \"strong action,\" and \"firm stance.\"\\n* Dovish tone is characterized by phrases that convey a sense of caution and prudence, such as \"cautious approach,\" \"gradual adjustments,\" and \"prudent decisions.\"\\n* Neutral tone is characterized by phrases that lack emotive language, focusing on objective descriptions and analysis, and may include phrases that convey a sense of balance or compromise, such as \"balanced approach\"',\n",
       "  'Classify the following sentence from FOMC into one of hawkish, dovish, or neutral, considering the subtle nuances of tone and sentiment that may be conveyed through linguistic features such as verb choice, adverbial modifiers, and contextual cues. Provide a detailed and explicit justification for your prediction, highlighting the specific linguistic elements that support your classification, and acknowledge the potential limitations and complexities of your model. Additionally, consider the potential implications of your prediction on the broader economic landscape, including households, businesses, and policymakers, and provide a balanced discussion of the implications, including potential counterarguments and alternative perspectives. Specifically, provide a clear and concise explanation of why you believe the sentence is hawkish, dovish, or neutral,',\n",
       "  'Classify the FOMC sentence into one of hawkish, dovish, or nuanced, considering the specific economic indicators, trends, and linguistic features that support your prediction. Provide a detailed analysis of the cues that lead to your classification, including explicit connections between the FOMC sentence and the concept of hawkishness, dovishness, or nuance. Additionally, justify your classification by explaining why the sentence is not hawkish or dovish if that is the correct classification. Provide a concise summary of the main points in your analysis, focusing on the implications of the sentence on monetary policy and the potential impact on the economy. Consider the following specific features to support your classification:\\n\\n* The use of words and phrases that',\n",
       "  \"VARIABLE> Classify the following sentence from FOMC into one of hawkish, dovish, or neutral, providing a precise and specific classification, along with a clear and concise justification for your answer. Specifically, please:\\n\\n* Provide a detailed analysis of the sentence's tone, sentiment, and language use, highlighting the key phrases, sentence structures, and tone markers that contribute to the sentence's overall tone and sentiment, while acknowledging potential biases and uncertainties in your analysis.\\n* Offer alternative classifications and explain why they are less likely or more plausible, considering the potential complexities and ambiguities of the input text, and explicitly addressing potential limitations and uncertainties in your model.\\n* Consider the following cues to inform your classification:\\n\\t+\"],\n",
       " 'new_prompt_val_accuracy': [0.4090909090909091,\n",
       "  0.5505050505050505,\n",
       "  0.43434343434343436,\n",
       "  0.5252525252525253,\n",
       "  0.5505050505050505,\n",
       "  0.5454545454545454,\n",
       "  0.4393939393939394,\n",
       "  0.5202020202020202,\n",
       "  0.5151515151515151,\n",
       "  0.4797979797979798,\n",
       "  0.5202020202020202,\n",
       "  0.5151515151515151,\n",
       "  0.5303030303030303,\n",
       "  0.51010101010101,\n",
       "  0.48484848484848486,\n",
       "  0.48484848484848486,\n",
       "  0.4444444444444444,\n",
       "  0.3939393939393939,\n",
       "  0.5303030303030303,\n",
       "  0.4595959595959596,\n",
       "  0.45454545454545453]}"
      ]
     },
     "execution_count": 9,
     "metadata": {},
     "output_type": "execute_result"
    }
   ],
   "source": [
    "results"
   ]
  },
  {
   "cell_type": "code",
   "execution_count": 9,
   "metadata": {},
   "outputs": [],
   "source": [
    "pd.DataFrame(results).to_csv(\"textgrad_token_limited.csv\", index=False)"
   ]
  },
  {
   "cell_type": "code",
   "execution_count": 12,
   "metadata": {},
   "outputs": [
    {
     "name": "stderr",
     "output_type": "stream",
     "text": [
      "Accuracy: 0.5403225806451613: 100%|██████████| 496/496 [09:35<00:00,  1.16s/it]\n"
     ]
    },
    {
     "data": {
      "text/plain": [
       "[1,\n",
       " 0,\n",
       " 1,\n",
       " 1,\n",
       " 0,\n",
       " 1,\n",
       " 1,\n",
       " 0,\n",
       " 0,\n",
       " 0,\n",
       " 1,\n",
       " 0,\n",
       " 0,\n",
       " 1,\n",
       " 1,\n",
       " 0,\n",
       " 1,\n",
       " 0,\n",
       " 0,\n",
       " 1,\n",
       " 1,\n",
       " 0,\n",
       " 1,\n",
       " 0,\n",
       " 1,\n",
       " 1,\n",
       " 0,\n",
       " 1,\n",
       " 0,\n",
       " 1,\n",
       " 1,\n",
       " 0,\n",
       " 1,\n",
       " 1,\n",
       " 0,\n",
       " 0,\n",
       " 1,\n",
       " 0,\n",
       " 1,\n",
       " 0,\n",
       " 1,\n",
       " 1,\n",
       " 0,\n",
       " 1,\n",
       " 1,\n",
       " 0,\n",
       " 0,\n",
       " 1,\n",
       " 1,\n",
       " 1,\n",
       " 1,\n",
       " 1,\n",
       " 0,\n",
       " 0,\n",
       " 1,\n",
       " 0,\n",
       " 1,\n",
       " 0,\n",
       " 1,\n",
       " 0,\n",
       " 1,\n",
       " 1,\n",
       " 0,\n",
       " 0,\n",
       " 1,\n",
       " 0,\n",
       " 1,\n",
       " 1,\n",
       " 0,\n",
       " 0,\n",
       " 1,\n",
       " 1,\n",
       " 1,\n",
       " 0,\n",
       " 0,\n",
       " 0,\n",
       " 1,\n",
       " 1,\n",
       " 1,\n",
       " 1,\n",
       " 1,\n",
       " 1,\n",
       " 1,\n",
       " 1,\n",
       " 1,\n",
       " 1,\n",
       " 1,\n",
       " 0,\n",
       " 0,\n",
       " 0,\n",
       " 1,\n",
       " 1,\n",
       " 0,\n",
       " 1,\n",
       " 1,\n",
       " 1,\n",
       " 0,\n",
       " 1,\n",
       " 1,\n",
       " 0,\n",
       " 1,\n",
       " 1,\n",
       " 1,\n",
       " 1,\n",
       " 0,\n",
       " 1,\n",
       " 1,\n",
       " 1,\n",
       " 0,\n",
       " 0,\n",
       " 0,\n",
       " 1,\n",
       " 1,\n",
       " 1,\n",
       " 1,\n",
       " 0,\n",
       " 0,\n",
       " 1,\n",
       " 1,\n",
       " 0,\n",
       " 0,\n",
       " 1,\n",
       " 0,\n",
       " 0,\n",
       " 1,\n",
       " 1,\n",
       " 0,\n",
       " 1,\n",
       " 0,\n",
       " 0,\n",
       " 1,\n",
       " 1,\n",
       " 1,\n",
       " 1,\n",
       " 1,\n",
       " 1,\n",
       " 0,\n",
       " 0,\n",
       " 0,\n",
       " 0,\n",
       " 1,\n",
       " 1,\n",
       " 0,\n",
       " 1,\n",
       " 0,\n",
       " 0,\n",
       " 1,\n",
       " 0,\n",
       " 0,\n",
       " 0,\n",
       " 1,\n",
       " 0,\n",
       " 0,\n",
       " 1,\n",
       " 1,\n",
       " 0,\n",
       " 1,\n",
       " 1,\n",
       " 0,\n",
       " 1,\n",
       " 1,\n",
       " 1,\n",
       " 0,\n",
       " 0,\n",
       " 1,\n",
       " 1,\n",
       " 1,\n",
       " 0,\n",
       " 0,\n",
       " 0,\n",
       " 1,\n",
       " 0,\n",
       " 0,\n",
       " 1,\n",
       " 0,\n",
       " 1,\n",
       " 0,\n",
       " 1,\n",
       " 1,\n",
       " 1,\n",
       " 1,\n",
       " 0,\n",
       " 1,\n",
       " 1,\n",
       " 0,\n",
       " 0,\n",
       " 1,\n",
       " 1,\n",
       " 0,\n",
       " 0,\n",
       " 1,\n",
       " 1,\n",
       " 1,\n",
       " 1,\n",
       " 1,\n",
       " 1,\n",
       " 1,\n",
       " 1,\n",
       " 0,\n",
       " 0,\n",
       " 0,\n",
       " 1,\n",
       " 1,\n",
       " 0,\n",
       " 0,\n",
       " 0,\n",
       " 0,\n",
       " 1,\n",
       " 0,\n",
       " 0,\n",
       " 1,\n",
       " 0,\n",
       " 1,\n",
       " 1,\n",
       " 0,\n",
       " 1,\n",
       " 1,\n",
       " 1,\n",
       " 0,\n",
       " 0,\n",
       " 1,\n",
       " 1,\n",
       " 0,\n",
       " 0,\n",
       " 0,\n",
       " 1,\n",
       " 0,\n",
       " 1,\n",
       " 1,\n",
       " 0,\n",
       " 0,\n",
       " 1,\n",
       " 0,\n",
       " 0,\n",
       " 0,\n",
       " 0,\n",
       " 1,\n",
       " 1,\n",
       " 0,\n",
       " 1,\n",
       " 0,\n",
       " 1,\n",
       " 0,\n",
       " 1,\n",
       " 1,\n",
       " 0,\n",
       " 0,\n",
       " 1,\n",
       " 1,\n",
       " 1,\n",
       " 1,\n",
       " 1,\n",
       " 0,\n",
       " 1,\n",
       " 0,\n",
       " 0,\n",
       " 1,\n",
       " 0,\n",
       " 1,\n",
       " 1,\n",
       " 1,\n",
       " 0,\n",
       " 0,\n",
       " 1,\n",
       " 1,\n",
       " 0,\n",
       " 1,\n",
       " 1,\n",
       " 0,\n",
       " 1,\n",
       " 1,\n",
       " 0,\n",
       " 1,\n",
       " 1,\n",
       " 0,\n",
       " 0,\n",
       " 0,\n",
       " 1,\n",
       " 1,\n",
       " 1,\n",
       " 0,\n",
       " 1,\n",
       " 0,\n",
       " 1,\n",
       " 0,\n",
       " 1,\n",
       " 0,\n",
       " 0,\n",
       " 1,\n",
       " 0,\n",
       " 1,\n",
       " 1,\n",
       " 0,\n",
       " 1,\n",
       " 0,\n",
       " 0,\n",
       " 0,\n",
       " 1,\n",
       " 1,\n",
       " 0,\n",
       " 1,\n",
       " 0,\n",
       " 1,\n",
       " 1,\n",
       " 1,\n",
       " 0,\n",
       " 1,\n",
       " 1,\n",
       " 0,\n",
       " 1,\n",
       " 0,\n",
       " 0,\n",
       " 1,\n",
       " 1,\n",
       " 1,\n",
       " 0,\n",
       " 1,\n",
       " 1,\n",
       " 0,\n",
       " 1,\n",
       " 0,\n",
       " 1,\n",
       " 1,\n",
       " 1,\n",
       " 0,\n",
       " 0,\n",
       " 0,\n",
       " 1,\n",
       " 0,\n",
       " 1,\n",
       " 1,\n",
       " 1,\n",
       " 0,\n",
       " 0,\n",
       " 0,\n",
       " 1,\n",
       " 1,\n",
       " 1,\n",
       " 0,\n",
       " 1,\n",
       " 0,\n",
       " 1,\n",
       " 1,\n",
       " 1,\n",
       " 0,\n",
       " 0,\n",
       " 0,\n",
       " 1,\n",
       " 0,\n",
       " 0,\n",
       " 1,\n",
       " 0,\n",
       " 1,\n",
       " 1,\n",
       " 0,\n",
       " 0,\n",
       " 0,\n",
       " 0,\n",
       " 0,\n",
       " 0,\n",
       " 1,\n",
       " 0,\n",
       " 1,\n",
       " 0,\n",
       " 1,\n",
       " 1,\n",
       " 0,\n",
       " 0,\n",
       " 0,\n",
       " 0,\n",
       " 0,\n",
       " 1,\n",
       " 0,\n",
       " 1,\n",
       " 1,\n",
       " 0,\n",
       " 1,\n",
       " 0,\n",
       " 1,\n",
       " 1,\n",
       " 1,\n",
       " 1,\n",
       " 1,\n",
       " 1,\n",
       " 0,\n",
       " 0,\n",
       " 1,\n",
       " 1,\n",
       " 1,\n",
       " 0,\n",
       " 0,\n",
       " 0,\n",
       " 1,\n",
       " 1,\n",
       " 0,\n",
       " 1,\n",
       " 0,\n",
       " 1,\n",
       " 1,\n",
       " 0,\n",
       " 0,\n",
       " 1,\n",
       " 0,\n",
       " 1,\n",
       " 0,\n",
       " 1,\n",
       " 1,\n",
       " 1,\n",
       " 0,\n",
       " 1,\n",
       " 0,\n",
       " 1,\n",
       " 1,\n",
       " 1,\n",
       " 0,\n",
       " 0,\n",
       " 1,\n",
       " 0,\n",
       " 1,\n",
       " 0,\n",
       " 0,\n",
       " 0,\n",
       " 0,\n",
       " 1,\n",
       " 0,\n",
       " 1,\n",
       " 1,\n",
       " 0,\n",
       " 0,\n",
       " 1,\n",
       " 0,\n",
       " 1,\n",
       " 1,\n",
       " 1,\n",
       " 0,\n",
       " 0,\n",
       " 1,\n",
       " 1,\n",
       " 1,\n",
       " 0,\n",
       " 1,\n",
       " 1,\n",
       " 0,\n",
       " 1,\n",
       " 1,\n",
       " 0,\n",
       " 0,\n",
       " 1,\n",
       " 1,\n",
       " 0,\n",
       " 0,\n",
       " 0,\n",
       " 1,\n",
       " 0,\n",
       " 1,\n",
       " 1,\n",
       " 0,\n",
       " 0,\n",
       " 0,\n",
       " 0,\n",
       " 0,\n",
       " 1,\n",
       " 0,\n",
       " 0,\n",
       " 0,\n",
       " 1,\n",
       " 0,\n",
       " 1,\n",
       " 0,\n",
       " 1,\n",
       " 0,\n",
       " 1,\n",
       " 0,\n",
       " 1,\n",
       " 0,\n",
       " 1,\n",
       " 0,\n",
       " 0,\n",
       " 1,\n",
       " 1,\n",
       " 0,\n",
       " 0,\n",
       " 0,\n",
       " 1,\n",
       " 0,\n",
       " 1,\n",
       " 1,\n",
       " 1,\n",
       " 1,\n",
       " 1,\n",
       " 0,\n",
       " 1,\n",
       " 0,\n",
       " 1,\n",
       " 1,\n",
       " 0]"
      ]
     },
     "execution_count": 12,
     "metadata": {},
     "output_type": "execute_result"
    }
   ],
   "source": [
    "engine = get_engine('together-mistralai/Mistral-7B-Instruct-v0.3')\n",
    "\n",
    "starting_prompt = \"Analyze the given FOMC statement and determine the expected federal funds rate or the pace of balance sheet reduction based on the statement. Interpret the statement in the context of the FOMC's overall monetary policy objectives and recent statements or actions. Provide a clear and detailed classification of the monetary policy stance, along with a justification for your decision. Choose from the following categories: Neutral, Dovish, Moderately Hawkish, or Very Hawkish. Explain the reasons for your prediction, focusing on the FOMC's monetary policy objectives and any indications of a shift in policy direction. Provide evidence or references that support your prediction, if possible. Discuss the potential impact on inflation, employment, and any associated risks or uncertainties, focusing on the short-term and medium-term implications. Discuss the potential risks and uncertainties associated with the predicted policy stance, and provide specific examples or scenarios that illustrate the short-term and medium-term implications of the FOMC's monetary policy stance on inflation, employment, and associated risks or uncertainties.\"\n",
    "system_prompt = Variable(starting_prompt, requires_grad=True, role_description=\"system prompt to the language model\")\n",
    "model = textgrad.BlackboxLLM(engine, system_prompt)\n",
    "\n",
    "optimizer = TextualGradientDescent(engine=engine, parameters=[system_prompt])\n",
    "\n",
    "mapping = {0: 'dovish', 1: 'hawkish', 2: 'neutral'}\n",
    "data = [(data['sentence'], data['label']) for data in dataset['test']]\n",
    "eval_dataset(data, eval_fn, model)"
   ]
  },
  {
   "cell_type": "markdown",
   "metadata": {},
   "source": [
    "## Testing together 1.2 API"
   ]
  },
  {
   "cell_type": "code",
   "execution_count": 4,
   "metadata": {},
   "outputs": [],
   "source": [
    "# the one in prompts.py was not returning just the system prompt/user message which together 1.2 needs\n",
    "def fomc_prompt(sentence: str):\n",
    "\n",
    "    system_prompt = f\"\"\"Discard all the previous instructions. Behave like you are an expert sentence clas-\n",
    "                sifier.\"\"\"\n",
    "    user_msg = f\"\"\"Classify the following sentence from FOMC into ‘HAWKISH’, ‘DOVISH’, or ‘NEU-\n",
    "                TRAL’ class. Label ‘HAWKISH’ if it is corresponding to tightening of the monetary policy,\n",
    "                ‘DOVISH’ if it is corresponding to easing of the monetary policy, or ‘NEUTRAL’ if the\n",
    "                stance is neutral. Provide the label in the first line and provide a short explanation in the\n",
    "                second line. This is the sentence: {sentence}\"\"\"\n",
    "\n",
    "    return system_prompt, user_msg"
   ]
  },
  {
   "cell_type": "code",
   "execution_count": 8,
   "metadata": {},
   "outputs": [
    {
     "name": "stdout",
     "output_type": "stream",
     "text": [
      "LLM response: Neutral class\n",
      "Explanation: The sentence mentions that participants agreed that the labor market remained strong and economic activity rose at a moderate rate, indicating a neutral stance towards monetary policy.\n",
      "Token usage: {'prompt_tokens': 174, 'response_tokens': 37, 'total_tokens': 211}\n"
     ]
    }
   ],
   "source": [
    "# Testing together 1.2 API\n",
    "client = Together()\n",
    "model_response = client.chat.completions.create(\n",
    "    model='allenai/OLMo-7B-Instruct',\n",
    "    messages=[{'role': 'system', 'content': fomc_prompt(sentence)[0]},\n",
    "                {'role': 'user', 'content': fomc_prompt(sentence)[1]}],\n",
    "    max_tokens=128,\n",
    "    temperature=0.7,\n",
    "    top_k=50,\n",
    "    top_p=0.7,\n",
    "    repetition_penalty=1.1\n",
    ")\n",
    "response_label = model_response.choices[0].message.content\n",
    "token_usage = {'prompt_tokens': model_response.usage.prompt_tokens, 'response_tokens': model_response.usage.completion_tokens, 'total_tokens': model_response.usage.total_tokens}\n",
    "print(f\"LLM response: {response_label.strip()}\\nToken usage: {token_usage}\")"
   ]
  },
  {
   "cell_type": "markdown",
   "metadata": {},
   "source": [
    "## Testing DSPy"
   ]
  },
  {
   "cell_type": "code",
   "execution_count": 54,
   "metadata": {},
   "outputs": [
    {
     "name": "stdout",
     "output_type": "stream",
     "text": [
      "Backing off 0.6 seconds after 1 tries calling function <function Together._generate at 0x0000017878ABF700> with kwargs {'temperature': 0.0, 'max_tokens': 512, 'top_p': 1, 'top_k': 20, 'repetition_penalty': 1, 'n': 1, 'stop': ['</s>', '<s>']}\n",
      "Backing off 0.5 seconds after 2 tries calling function <function Together._generate at 0x0000017878ABF700> with kwargs {'temperature': 0.0, 'max_tokens': 512, 'top_p': 1, 'top_k': 20, 'repetition_penalty': 1, 'n': 1, 'stop': ['</s>', '<s>']}\n",
      "Backing off 3.4 seconds after 3 tries calling function <function Together._generate at 0x0000017878ABF700> with kwargs {'temperature': 0.0, 'max_tokens': 512, 'top_p': 1, 'top_k': 20, 'repetition_penalty': 1, 'n': 1, 'stop': ['</s>', '<s>']}\n",
      "Backing off 7.0 seconds after 4 tries calling function <function Together._generate at 0x0000017878ABF700> with kwargs {'temperature': 0.0, 'max_tokens': 512, 'top_p': 1, 'top_k': 20, 'repetition_penalty': 1, 'n': 1, 'stop': ['</s>', '<s>']}\n",
      "Backing off 12.9 seconds after 5 tries calling function <function Together._generate at 0x0000017878ABF700> with kwargs {'temperature': 0.0, 'max_tokens': 512, 'top_p': 1, 'top_k': 20, 'repetition_penalty': 1, 'n': 1, 'stop': ['</s>', '<s>']}\n"
     ]
    },
    {
     "ename": "KeyboardInterrupt",
     "evalue": "",
     "output_type": "error",
     "traceback": [
      "\u001b[1;31m---------------------------------------------------------------------------\u001b[0m",
      "\u001b[1;31mMissingSchema\u001b[0m                             Traceback (most recent call last)",
      "\u001b[1;32mc:\\Users\\mikad\\anaconda3\\lib\\site-packages\\dsp\\modules\\hf_client.py\u001b[0m in \u001b[0;36m_generate\u001b[1;34m(self, prompt, use_chat_api, **kwargs)\u001b[0m\n\u001b[0;32m    279\u001b[0m         \u001b[1;32mtry\u001b[0m\u001b[1;33m:\u001b[0m\u001b[1;33m\u001b[0m\u001b[1;33m\u001b[0m\u001b[0m\n\u001b[1;32m--> 280\u001b[1;33m             \u001b[1;32mwith\u001b[0m \u001b[0mself\u001b[0m\u001b[1;33m.\u001b[0m\u001b[0msession\u001b[0m\u001b[1;33m.\u001b[0m\u001b[0mpost\u001b[0m\u001b[1;33m(\u001b[0m\u001b[0murl\u001b[0m\u001b[1;33m,\u001b[0m \u001b[0mheaders\u001b[0m\u001b[1;33m=\u001b[0m\u001b[0mheaders\u001b[0m\u001b[1;33m,\u001b[0m \u001b[0mjson\u001b[0m\u001b[1;33m=\u001b[0m\u001b[0mbody\u001b[0m\u001b[1;33m)\u001b[0m \u001b[1;32mas\u001b[0m \u001b[0mresp\u001b[0m\u001b[1;33m:\u001b[0m\u001b[1;33m\u001b[0m\u001b[1;33m\u001b[0m\u001b[0m\n\u001b[0m\u001b[0;32m    281\u001b[0m                 \u001b[0mresp_json\u001b[0m \u001b[1;33m=\u001b[0m \u001b[0mresp\u001b[0m\u001b[1;33m.\u001b[0m\u001b[0mjson\u001b[0m\u001b[1;33m(\u001b[0m\u001b[1;33m)\u001b[0m\u001b[1;33m\u001b[0m\u001b[1;33m\u001b[0m\u001b[0m\n",
      "\u001b[1;32mc:\\Users\\mikad\\anaconda3\\lib\\site-packages\\requests\\sessions.py\u001b[0m in \u001b[0;36mpost\u001b[1;34m(self, url, data, json, **kwargs)\u001b[0m\n\u001b[0;32m    636\u001b[0m \u001b[1;33m\u001b[0m\u001b[0m\n\u001b[1;32m--> 637\u001b[1;33m         \u001b[1;32mreturn\u001b[0m \u001b[0mself\u001b[0m\u001b[1;33m.\u001b[0m\u001b[0mrequest\u001b[0m\u001b[1;33m(\u001b[0m\u001b[1;34m\"POST\"\u001b[0m\u001b[1;33m,\u001b[0m \u001b[0murl\u001b[0m\u001b[1;33m,\u001b[0m \u001b[0mdata\u001b[0m\u001b[1;33m=\u001b[0m\u001b[0mdata\u001b[0m\u001b[1;33m,\u001b[0m \u001b[0mjson\u001b[0m\u001b[1;33m=\u001b[0m\u001b[0mjson\u001b[0m\u001b[1;33m,\u001b[0m \u001b[1;33m**\u001b[0m\u001b[0mkwargs\u001b[0m\u001b[1;33m)\u001b[0m\u001b[1;33m\u001b[0m\u001b[1;33m\u001b[0m\u001b[0m\n\u001b[0m\u001b[0;32m    638\u001b[0m \u001b[1;33m\u001b[0m\u001b[0m\n",
      "\u001b[1;32mc:\\Users\\mikad\\anaconda3\\lib\\site-packages\\requests\\sessions.py\u001b[0m in \u001b[0;36mrequest\u001b[1;34m(self, method, url, params, data, headers, cookies, files, auth, timeout, allow_redirects, proxies, hooks, stream, verify, cert, json)\u001b[0m\n\u001b[0;32m    574\u001b[0m         )\n\u001b[1;32m--> 575\u001b[1;33m         \u001b[0mprep\u001b[0m \u001b[1;33m=\u001b[0m \u001b[0mself\u001b[0m\u001b[1;33m.\u001b[0m\u001b[0mprepare_request\u001b[0m\u001b[1;33m(\u001b[0m\u001b[0mreq\u001b[0m\u001b[1;33m)\u001b[0m\u001b[1;33m\u001b[0m\u001b[1;33m\u001b[0m\u001b[0m\n\u001b[0m\u001b[0;32m    576\u001b[0m \u001b[1;33m\u001b[0m\u001b[0m\n",
      "\u001b[1;32mc:\\Users\\mikad\\anaconda3\\lib\\site-packages\\requests\\sessions.py\u001b[0m in \u001b[0;36mprepare_request\u001b[1;34m(self, request)\u001b[0m\n\u001b[0;32m    483\u001b[0m         \u001b[0mp\u001b[0m \u001b[1;33m=\u001b[0m \u001b[0mPreparedRequest\u001b[0m\u001b[1;33m(\u001b[0m\u001b[1;33m)\u001b[0m\u001b[1;33m\u001b[0m\u001b[1;33m\u001b[0m\u001b[0m\n\u001b[1;32m--> 484\u001b[1;33m         p.prepare(\n\u001b[0m\u001b[0;32m    485\u001b[0m             \u001b[0mmethod\u001b[0m\u001b[1;33m=\u001b[0m\u001b[0mrequest\u001b[0m\u001b[1;33m.\u001b[0m\u001b[0mmethod\u001b[0m\u001b[1;33m.\u001b[0m\u001b[0mupper\u001b[0m\u001b[1;33m(\u001b[0m\u001b[1;33m)\u001b[0m\u001b[1;33m,\u001b[0m\u001b[1;33m\u001b[0m\u001b[1;33m\u001b[0m\u001b[0m\n",
      "\u001b[1;32mc:\\Users\\mikad\\anaconda3\\lib\\site-packages\\requests\\models.py\u001b[0m in \u001b[0;36mprepare\u001b[1;34m(self, method, url, headers, files, data, params, auth, cookies, hooks, json)\u001b[0m\n\u001b[0;32m    366\u001b[0m         \u001b[0mself\u001b[0m\u001b[1;33m.\u001b[0m\u001b[0mprepare_method\u001b[0m\u001b[1;33m(\u001b[0m\u001b[0mmethod\u001b[0m\u001b[1;33m)\u001b[0m\u001b[1;33m\u001b[0m\u001b[1;33m\u001b[0m\u001b[0m\n\u001b[1;32m--> 367\u001b[1;33m         \u001b[0mself\u001b[0m\u001b[1;33m.\u001b[0m\u001b[0mprepare_url\u001b[0m\u001b[1;33m(\u001b[0m\u001b[0murl\u001b[0m\u001b[1;33m,\u001b[0m \u001b[0mparams\u001b[0m\u001b[1;33m)\u001b[0m\u001b[1;33m\u001b[0m\u001b[1;33m\u001b[0m\u001b[0m\n\u001b[0m\u001b[0;32m    368\u001b[0m         \u001b[0mself\u001b[0m\u001b[1;33m.\u001b[0m\u001b[0mprepare_headers\u001b[0m\u001b[1;33m(\u001b[0m\u001b[0mheaders\u001b[0m\u001b[1;33m)\u001b[0m\u001b[1;33m\u001b[0m\u001b[1;33m\u001b[0m\u001b[0m\n",
      "\u001b[1;32mc:\\Users\\mikad\\anaconda3\\lib\\site-packages\\requests\\models.py\u001b[0m in \u001b[0;36mprepare_url\u001b[1;34m(self, url, params)\u001b[0m\n\u001b[0;32m    437\u001b[0m         \u001b[1;32mif\u001b[0m \u001b[1;32mnot\u001b[0m \u001b[0mscheme\u001b[0m\u001b[1;33m:\u001b[0m\u001b[1;33m\u001b[0m\u001b[1;33m\u001b[0m\u001b[0m\n\u001b[1;32m--> 438\u001b[1;33m             raise MissingSchema(\n\u001b[0m\u001b[0;32m    439\u001b[0m                 \u001b[1;34mf\"Invalid URL {url!r}: No scheme supplied. \"\u001b[0m\u001b[1;33m\u001b[0m\u001b[1;33m\u001b[0m\u001b[0m\n",
      "\u001b[1;31mMissingSchema\u001b[0m: Invalid URL 'None': No scheme supplied. Perhaps you meant https://None?",
      "\nDuring handling of the above exception, another exception occurred:\n",
      "\u001b[1;31mUnboundLocalError\u001b[0m                         Traceback (most recent call last)",
      "\u001b[1;32mc:\\Users\\mikad\\anaconda3\\lib\\site-packages\\backoff\\_sync.py\u001b[0m in \u001b[0;36mretry\u001b[1;34m(*args, **kwargs)\u001b[0m\n\u001b[0;32m    104\u001b[0m             \u001b[1;32mtry\u001b[0m\u001b[1;33m:\u001b[0m\u001b[1;33m\u001b[0m\u001b[1;33m\u001b[0m\u001b[0m\n\u001b[1;32m--> 105\u001b[1;33m                 \u001b[0mret\u001b[0m \u001b[1;33m=\u001b[0m \u001b[0mtarget\u001b[0m\u001b[1;33m(\u001b[0m\u001b[1;33m*\u001b[0m\u001b[0margs\u001b[0m\u001b[1;33m,\u001b[0m \u001b[1;33m**\u001b[0m\u001b[0mkwargs\u001b[0m\u001b[1;33m)\u001b[0m\u001b[1;33m\u001b[0m\u001b[1;33m\u001b[0m\u001b[0m\n\u001b[0m\u001b[0;32m    106\u001b[0m             \u001b[1;32mexcept\u001b[0m \u001b[0mexception\u001b[0m \u001b[1;32mas\u001b[0m \u001b[0me\u001b[0m\u001b[1;33m:\u001b[0m\u001b[1;33m\u001b[0m\u001b[1;33m\u001b[0m\u001b[0m\n",
      "\u001b[1;32mc:\\Users\\mikad\\anaconda3\\lib\\site-packages\\dsp\\modules\\hf_client.py\u001b[0m in \u001b[0;36m_generate\u001b[1;34m(self, prompt, use_chat_api, **kwargs)\u001b[0m\n\u001b[0;32m    288\u001b[0m         \u001b[1;32mexcept\u001b[0m \u001b[0mException\u001b[0m \u001b[1;32mas\u001b[0m \u001b[0me\u001b[0m\u001b[1;33m:\u001b[0m\u001b[1;33m\u001b[0m\u001b[1;33m\u001b[0m\u001b[0m\n\u001b[1;32m--> 289\u001b[1;33m             \u001b[1;32mif\u001b[0m \u001b[0mresp_json\u001b[0m\u001b[1;33m:\u001b[0m\u001b[1;33m\u001b[0m\u001b[1;33m\u001b[0m\u001b[0m\n\u001b[0m\u001b[0;32m    290\u001b[0m                 \u001b[0mprint\u001b[0m\u001b[1;33m(\u001b[0m\u001b[1;34mf\"resp_json:{resp_json}\"\u001b[0m\u001b[1;33m)\u001b[0m\u001b[1;33m\u001b[0m\u001b[1;33m\u001b[0m\u001b[0m\n",
      "\u001b[1;31mUnboundLocalError\u001b[0m: local variable 'resp_json' referenced before assignment",
      "\nDuring handling of the above exception, another exception occurred:\n",
      "\u001b[1;31mKeyboardInterrupt\u001b[0m                         Traceback (most recent call last)",
      "\u001b[1;32m~\\AppData\\Local\\Temp/ipykernel_16016/1839701109.py\u001b[0m in \u001b[0;36m<module>\u001b[1;34m\u001b[0m\n\u001b[0;32m     22\u001b[0m \u001b[1;33m\u001b[0m\u001b[0m\n\u001b[0;32m     23\u001b[0m \u001b[0manalyze\u001b[0m \u001b[1;33m=\u001b[0m \u001b[0mAnalysis\u001b[0m\u001b[1;33m(\u001b[0m\u001b[1;33m)\u001b[0m\u001b[1;33m\u001b[0m\u001b[1;33m\u001b[0m\u001b[0m\n\u001b[1;32m---> 24\u001b[1;33m \u001b[0manalyze\u001b[0m\u001b[1;33m(\u001b[0m\u001b[0msentence\u001b[0m\u001b[1;33m)\u001b[0m\u001b[1;33m\u001b[0m\u001b[1;33m\u001b[0m\u001b[0m\n\u001b[0m",
      "\u001b[1;32mc:\\Users\\mikad\\anaconda3\\lib\\site-packages\\dspy\\primitives\\program.py\u001b[0m in \u001b[0;36m__call__\u001b[1;34m(self, *args, **kwargs)\u001b[0m\n\u001b[0;32m     24\u001b[0m \u001b[1;33m\u001b[0m\u001b[0m\n\u001b[0;32m     25\u001b[0m     \u001b[1;32mdef\u001b[0m \u001b[0m__call__\u001b[0m\u001b[1;33m(\u001b[0m\u001b[0mself\u001b[0m\u001b[1;33m,\u001b[0m \u001b[1;33m*\u001b[0m\u001b[0margs\u001b[0m\u001b[1;33m,\u001b[0m \u001b[1;33m**\u001b[0m\u001b[0mkwargs\u001b[0m\u001b[1;33m)\u001b[0m\u001b[1;33m:\u001b[0m\u001b[1;33m\u001b[0m\u001b[1;33m\u001b[0m\u001b[0m\n\u001b[1;32m---> 26\u001b[1;33m         \u001b[1;32mreturn\u001b[0m \u001b[0mself\u001b[0m\u001b[1;33m.\u001b[0m\u001b[0mforward\u001b[0m\u001b[1;33m(\u001b[0m\u001b[1;33m*\u001b[0m\u001b[0margs\u001b[0m\u001b[1;33m,\u001b[0m \u001b[1;33m**\u001b[0m\u001b[0mkwargs\u001b[0m\u001b[1;33m)\u001b[0m\u001b[1;33m\u001b[0m\u001b[1;33m\u001b[0m\u001b[0m\n\u001b[0m\u001b[0;32m     27\u001b[0m \u001b[1;33m\u001b[0m\u001b[0m\n\u001b[0;32m     28\u001b[0m     \u001b[1;32mdef\u001b[0m \u001b[0mnamed_predictors\u001b[0m\u001b[1;33m(\u001b[0m\u001b[0mself\u001b[0m\u001b[1;33m)\u001b[0m\u001b[1;33m:\u001b[0m\u001b[1;33m\u001b[0m\u001b[1;33m\u001b[0m\u001b[0m\n",
      "\u001b[1;32m~\\AppData\\Local\\Temp/ipykernel_16016/1839701109.py\u001b[0m in \u001b[0;36mforward\u001b[1;34m(self, sentence)\u001b[0m\n\u001b[0;32m     19\u001b[0m \u001b[1;33m\u001b[0m\u001b[0m\n\u001b[0;32m     20\u001b[0m     \u001b[1;32mdef\u001b[0m \u001b[0mforward\u001b[0m\u001b[1;33m(\u001b[0m\u001b[0mself\u001b[0m\u001b[1;33m,\u001b[0m \u001b[0msentence\u001b[0m\u001b[1;33m)\u001b[0m\u001b[1;33m:\u001b[0m\u001b[1;33m\u001b[0m\u001b[1;33m\u001b[0m\u001b[0m\n\u001b[1;32m---> 21\u001b[1;33m         \u001b[1;32mreturn\u001b[0m \u001b[0mself\u001b[0m\u001b[1;33m.\u001b[0m\u001b[0mpredict\u001b[0m\u001b[1;33m(\u001b[0m\u001b[0msentence\u001b[0m\u001b[1;33m=\u001b[0m\u001b[0msentence\u001b[0m\u001b[1;33m)\u001b[0m\u001b[1;33m\u001b[0m\u001b[1;33m\u001b[0m\u001b[0m\n\u001b[0m\u001b[0;32m     22\u001b[0m \u001b[1;33m\u001b[0m\u001b[0m\n\u001b[0;32m     23\u001b[0m \u001b[0manalyze\u001b[0m \u001b[1;33m=\u001b[0m \u001b[0mAnalysis\u001b[0m\u001b[1;33m(\u001b[0m\u001b[1;33m)\u001b[0m\u001b[1;33m\u001b[0m\u001b[1;33m\u001b[0m\u001b[0m\n",
      "\u001b[1;32mc:\\Users\\mikad\\anaconda3\\lib\\site-packages\\dspy\\predict\\predict.py\u001b[0m in \u001b[0;36m__call__\u001b[1;34m(self, **kwargs)\u001b[0m\n\u001b[0;32m     47\u001b[0m \u001b[1;33m\u001b[0m\u001b[0m\n\u001b[0;32m     48\u001b[0m     \u001b[1;32mdef\u001b[0m \u001b[0m__call__\u001b[0m\u001b[1;33m(\u001b[0m\u001b[0mself\u001b[0m\u001b[1;33m,\u001b[0m \u001b[1;33m**\u001b[0m\u001b[0mkwargs\u001b[0m\u001b[1;33m)\u001b[0m\u001b[1;33m:\u001b[0m\u001b[1;33m\u001b[0m\u001b[1;33m\u001b[0m\u001b[0m\n\u001b[1;32m---> 49\u001b[1;33m         \u001b[1;32mreturn\u001b[0m \u001b[0mself\u001b[0m\u001b[1;33m.\u001b[0m\u001b[0mforward\u001b[0m\u001b[1;33m(\u001b[0m\u001b[1;33m**\u001b[0m\u001b[0mkwargs\u001b[0m\u001b[1;33m)\u001b[0m\u001b[1;33m\u001b[0m\u001b[1;33m\u001b[0m\u001b[0m\n\u001b[0m\u001b[0;32m     50\u001b[0m \u001b[1;33m\u001b[0m\u001b[0m\n\u001b[0;32m     51\u001b[0m     \u001b[1;32mdef\u001b[0m \u001b[0mforward\u001b[0m\u001b[1;33m(\u001b[0m\u001b[0mself\u001b[0m\u001b[1;33m,\u001b[0m \u001b[1;33m**\u001b[0m\u001b[0mkwargs\u001b[0m\u001b[1;33m)\u001b[0m\u001b[1;33m:\u001b[0m\u001b[1;33m\u001b[0m\u001b[1;33m\u001b[0m\u001b[0m\n",
      "\u001b[1;32mc:\\Users\\mikad\\anaconda3\\lib\\site-packages\\dspy\\predict\\predict.py\u001b[0m in \u001b[0;36mforward\u001b[1;34m(self, **kwargs)\u001b[0m\n\u001b[0;32m     89\u001b[0m \u001b[1;33m\u001b[0m\u001b[0m\n\u001b[0;32m     90\u001b[0m         \u001b[1;32mif\u001b[0m \u001b[0mself\u001b[0m\u001b[1;33m.\u001b[0m\u001b[0mlm\u001b[0m \u001b[1;32mis\u001b[0m \u001b[1;32mNone\u001b[0m\u001b[1;33m:\u001b[0m\u001b[1;33m\u001b[0m\u001b[1;33m\u001b[0m\u001b[0m\n\u001b[1;32m---> 91\u001b[1;33m             \u001b[0mx\u001b[0m\u001b[1;33m,\u001b[0m \u001b[0mC\u001b[0m \u001b[1;33m=\u001b[0m \u001b[0mdsp\u001b[0m\u001b[1;33m.\u001b[0m\u001b[0mgenerate\u001b[0m\u001b[1;33m(\u001b[0m\u001b[0mtemplate\u001b[0m\u001b[1;33m,\u001b[0m \u001b[1;33m**\u001b[0m\u001b[0mconfig\u001b[0m\u001b[1;33m)\u001b[0m\u001b[1;33m(\u001b[0m\u001b[0mx\u001b[0m\u001b[1;33m,\u001b[0m \u001b[0mstage\u001b[0m\u001b[1;33m=\u001b[0m\u001b[0mself\u001b[0m\u001b[1;33m.\u001b[0m\u001b[0mstage\u001b[0m\u001b[1;33m)\u001b[0m\u001b[1;33m\u001b[0m\u001b[1;33m\u001b[0m\u001b[0m\n\u001b[0m\u001b[0;32m     92\u001b[0m         \u001b[1;32melse\u001b[0m\u001b[1;33m:\u001b[0m\u001b[1;33m\u001b[0m\u001b[1;33m\u001b[0m\u001b[0m\n\u001b[0;32m     93\u001b[0m             \u001b[1;31m# Note: query_only=True means the instructions and examples are not included.\u001b[0m\u001b[1;33m\u001b[0m\u001b[1;33m\u001b[0m\u001b[0m\n",
      "\u001b[1;32mc:\\Users\\mikad\\anaconda3\\lib\\site-packages\\dsp\\primitives\\predict.py\u001b[0m in \u001b[0;36mdo_generate\u001b[1;34m(example, stage, max_depth, original_example)\u001b[0m\n\u001b[0;32m     75\u001b[0m         \u001b[1;31m# Generate and extract the fields.\u001b[0m\u001b[1;33m\u001b[0m\u001b[1;33m\u001b[0m\u001b[0m\n\u001b[0;32m     76\u001b[0m         \u001b[0mprompt\u001b[0m \u001b[1;33m=\u001b[0m \u001b[0mtemplate\u001b[0m\u001b[1;33m(\u001b[0m\u001b[0mexample\u001b[0m\u001b[1;33m)\u001b[0m\u001b[1;33m\u001b[0m\u001b[1;33m\u001b[0m\u001b[0m\n\u001b[1;32m---> 77\u001b[1;33m         \u001b[0mcompletions\u001b[0m\u001b[1;33m:\u001b[0m \u001b[0mlist\u001b[0m\u001b[1;33m[\u001b[0m\u001b[0mdict\u001b[0m\u001b[1;33m[\u001b[0m\u001b[0mstr\u001b[0m\u001b[1;33m,\u001b[0m \u001b[0mAny\u001b[0m\u001b[1;33m]\u001b[0m\u001b[1;33m]\u001b[0m \u001b[1;33m=\u001b[0m \u001b[0mgenerator\u001b[0m\u001b[1;33m(\u001b[0m\u001b[0mprompt\u001b[0m\u001b[1;33m,\u001b[0m \u001b[1;33m**\u001b[0m\u001b[0mkwargs\u001b[0m\u001b[1;33m)\u001b[0m\u001b[1;33m\u001b[0m\u001b[1;33m\u001b[0m\u001b[0m\n\u001b[0m\u001b[0;32m     78\u001b[0m         \u001b[0mcompletions\u001b[0m\u001b[1;33m:\u001b[0m \u001b[0mlist\u001b[0m\u001b[1;33m[\u001b[0m\u001b[0mExample\u001b[0m\u001b[1;33m]\u001b[0m \u001b[1;33m=\u001b[0m \u001b[1;33m[\u001b[0m\u001b[0mtemplate\u001b[0m\u001b[1;33m.\u001b[0m\u001b[0mextract\u001b[0m\u001b[1;33m(\u001b[0m\u001b[0mexample\u001b[0m\u001b[1;33m,\u001b[0m \u001b[0mp\u001b[0m\u001b[1;33m)\u001b[0m \u001b[1;32mfor\u001b[0m \u001b[0mp\u001b[0m \u001b[1;32min\u001b[0m \u001b[0mcompletions\u001b[0m\u001b[1;33m]\u001b[0m\u001b[1;33m\u001b[0m\u001b[1;33m\u001b[0m\u001b[0m\n\u001b[0;32m     79\u001b[0m \u001b[1;33m\u001b[0m\u001b[0m\n",
      "\u001b[1;32mc:\\Users\\mikad\\anaconda3\\lib\\site-packages\\dsp\\modules\\hf.py\u001b[0m in \u001b[0;36m__call__\u001b[1;34m(self, prompt, only_completed, return_sorted, **kwargs)\u001b[0m\n\u001b[0;32m    139\u001b[0m             \u001b[0mkwargs\u001b[0m\u001b[1;33m[\u001b[0m\u001b[1;34m\"do_sample\"\u001b[0m\u001b[1;33m]\u001b[0m \u001b[1;33m=\u001b[0m \u001b[1;32mTrue\u001b[0m\u001b[1;33m\u001b[0m\u001b[1;33m\u001b[0m\u001b[0m\n\u001b[0;32m    140\u001b[0m \u001b[1;33m\u001b[0m\u001b[0m\n\u001b[1;32m--> 141\u001b[1;33m         \u001b[0mresponse\u001b[0m \u001b[1;33m=\u001b[0m \u001b[0mself\u001b[0m\u001b[1;33m.\u001b[0m\u001b[0mrequest\u001b[0m\u001b[1;33m(\u001b[0m\u001b[0mprompt\u001b[0m\u001b[1;33m,\u001b[0m \u001b[1;33m**\u001b[0m\u001b[0mkwargs\u001b[0m\u001b[1;33m)\u001b[0m\u001b[1;33m\u001b[0m\u001b[1;33m\u001b[0m\u001b[0m\n\u001b[0m\u001b[0;32m    142\u001b[0m         \u001b[1;32mreturn\u001b[0m \u001b[1;33m[\u001b[0m\u001b[0mc\u001b[0m\u001b[1;33m[\u001b[0m\u001b[1;34m\"text\"\u001b[0m\u001b[1;33m]\u001b[0m \u001b[1;32mfor\u001b[0m \u001b[0mc\u001b[0m \u001b[1;32min\u001b[0m \u001b[0mresponse\u001b[0m\u001b[1;33m[\u001b[0m\u001b[1;34m\"choices\"\u001b[0m\u001b[1;33m]\u001b[0m\u001b[1;33m]\u001b[0m\u001b[1;33m\u001b[0m\u001b[1;33m\u001b[0m\u001b[0m\n\u001b[0;32m    143\u001b[0m \u001b[1;33m\u001b[0m\u001b[0m\n",
      "\u001b[1;32mc:\\Users\\mikad\\anaconda3\\lib\\site-packages\\dsp\\modules\\lm.py\u001b[0m in \u001b[0;36mrequest\u001b[1;34m(self, prompt, **kwargs)\u001b[0m\n\u001b[0;32m     24\u001b[0m \u001b[1;33m\u001b[0m\u001b[0m\n\u001b[0;32m     25\u001b[0m     \u001b[1;32mdef\u001b[0m \u001b[0mrequest\u001b[0m\u001b[1;33m(\u001b[0m\u001b[0mself\u001b[0m\u001b[1;33m,\u001b[0m \u001b[0mprompt\u001b[0m\u001b[1;33m,\u001b[0m \u001b[1;33m**\u001b[0m\u001b[0mkwargs\u001b[0m\u001b[1;33m)\u001b[0m\u001b[1;33m:\u001b[0m\u001b[1;33m\u001b[0m\u001b[1;33m\u001b[0m\u001b[0m\n\u001b[1;32m---> 26\u001b[1;33m         \u001b[1;32mreturn\u001b[0m \u001b[0mself\u001b[0m\u001b[1;33m.\u001b[0m\u001b[0mbasic_request\u001b[0m\u001b[1;33m(\u001b[0m\u001b[0mprompt\u001b[0m\u001b[1;33m,\u001b[0m \u001b[1;33m**\u001b[0m\u001b[0mkwargs\u001b[0m\u001b[1;33m)\u001b[0m\u001b[1;33m\u001b[0m\u001b[1;33m\u001b[0m\u001b[0m\n\u001b[0m\u001b[0;32m     27\u001b[0m \u001b[1;33m\u001b[0m\u001b[0m\n\u001b[0;32m     28\u001b[0m     \u001b[1;32mdef\u001b[0m \u001b[0mprint_green\u001b[0m\u001b[1;33m(\u001b[0m\u001b[0mself\u001b[0m\u001b[1;33m,\u001b[0m \u001b[0mtext\u001b[0m\u001b[1;33m:\u001b[0m \u001b[0mstr\u001b[0m\u001b[1;33m,\u001b[0m \u001b[0mend\u001b[0m\u001b[1;33m:\u001b[0m \u001b[0mstr\u001b[0m \u001b[1;33m=\u001b[0m \u001b[1;34m\"\\n\"\u001b[0m\u001b[1;33m)\u001b[0m\u001b[1;33m:\u001b[0m\u001b[1;33m\u001b[0m\u001b[1;33m\u001b[0m\u001b[0m\n",
      "\u001b[1;32mc:\\Users\\mikad\\anaconda3\\lib\\site-packages\\dsp\\modules\\hf.py\u001b[0m in \u001b[0;36mbasic_request\u001b[1;34m(self, prompt, **kwargs)\u001b[0m\n\u001b[0;32m     93\u001b[0m         \u001b[0mraw_kwargs\u001b[0m \u001b[1;33m=\u001b[0m \u001b[0mkwargs\u001b[0m\u001b[1;33m\u001b[0m\u001b[1;33m\u001b[0m\u001b[0m\n\u001b[0;32m     94\u001b[0m         \u001b[0mkwargs\u001b[0m \u001b[1;33m=\u001b[0m \u001b[1;33m{\u001b[0m\u001b[1;33m**\u001b[0m\u001b[0mself\u001b[0m\u001b[1;33m.\u001b[0m\u001b[0mkwargs\u001b[0m\u001b[1;33m,\u001b[0m \u001b[1;33m**\u001b[0m\u001b[0mkwargs\u001b[0m\u001b[1;33m}\u001b[0m\u001b[1;33m\u001b[0m\u001b[1;33m\u001b[0m\u001b[0m\n\u001b[1;32m---> 95\u001b[1;33m         \u001b[0mresponse\u001b[0m \u001b[1;33m=\u001b[0m \u001b[0mself\u001b[0m\u001b[1;33m.\u001b[0m\u001b[0m_generate\u001b[0m\u001b[1;33m(\u001b[0m\u001b[0mprompt\u001b[0m\u001b[1;33m,\u001b[0m \u001b[1;33m**\u001b[0m\u001b[0mkwargs\u001b[0m\u001b[1;33m)\u001b[0m\u001b[1;33m\u001b[0m\u001b[1;33m\u001b[0m\u001b[0m\n\u001b[0m\u001b[0;32m     96\u001b[0m \u001b[1;33m\u001b[0m\u001b[0m\n\u001b[0;32m     97\u001b[0m         history = {\n",
      "\u001b[1;32mc:\\Users\\mikad\\anaconda3\\lib\\site-packages\\backoff\\_sync.py\u001b[0m in \u001b[0;36mretry\u001b[1;34m(*args, **kwargs)\u001b[0m\n\u001b[0;32m    125\u001b[0m                                exception=e)\n\u001b[0;32m    126\u001b[0m \u001b[1;33m\u001b[0m\u001b[0m\n\u001b[1;32m--> 127\u001b[1;33m                 \u001b[0mtime\u001b[0m\u001b[1;33m.\u001b[0m\u001b[0msleep\u001b[0m\u001b[1;33m(\u001b[0m\u001b[0mseconds\u001b[0m\u001b[1;33m)\u001b[0m\u001b[1;33m\u001b[0m\u001b[1;33m\u001b[0m\u001b[0m\n\u001b[0m\u001b[0;32m    128\u001b[0m             \u001b[1;32melse\u001b[0m\u001b[1;33m:\u001b[0m\u001b[1;33m\u001b[0m\u001b[1;33m\u001b[0m\u001b[0m\n\u001b[0;32m    129\u001b[0m                 \u001b[0m_call_handlers\u001b[0m\u001b[1;33m(\u001b[0m\u001b[0mon_success\u001b[0m\u001b[1;33m,\u001b[0m \u001b[1;33m**\u001b[0m\u001b[0mdetails\u001b[0m\u001b[1;33m)\u001b[0m\u001b[1;33m\u001b[0m\u001b[1;33m\u001b[0m\u001b[0m\n",
      "\u001b[1;31mKeyboardInterrupt\u001b[0m: "
     ]
    }
   ],
   "source": [
    "# testing dspy\n",
    "# dspy together module has some issues with how they wrote it (passing specific parameters is hard)\n",
    "# rate limiting error messages\n",
    "# TODO: look into dspy together module more to see how to fix it\n",
    "\n",
    "lm = dspy.Together(model = 'mistralai/Mistral-7B-Instruct-v0.3', stop = ['</s>', '<s>'])\n",
    "dspy.settings.configure(lm=lm)\n",
    "d = {0: 'dovish', 1: 'hawkish', 2: 'neutral'}\n",
    "\n",
    "class StanceAnalysis(dspy.Signature):\n",
    "    \"\"\"Classify the sentence's stance on the monetary policy between hawkish, neutral, and dovish.\"\"\"\n",
    "    \n",
    "    sentence = dspy.InputField()\n",
    "    stance = dspy.OutputField(desc = \"hawkish, neutral, or dovish\")\n",
    "\n",
    "class Analysis(dspy.Module):\n",
    "    def __init__(self):\n",
    "        super().__init__()\n",
    "        self.predict = dspy.Predict(StanceAnalysis)\n",
    "    \n",
    "    def forward(self, sentence):\n",
    "        return self.predict(sentence=sentence)\n",
    "    \n",
    "analyze = Analysis()\n",
    "analyze(sentence)"
   ]
  },
  {
   "cell_type": "markdown",
   "metadata": {},
   "source": [
    "## Initial textgrad testing"
   ]
  },
  {
   "cell_type": "code",
   "execution_count": 5,
   "metadata": {},
   "outputs": [
    {
     "data": {
      "text/plain": [
       "'Neutral class\\nExplanation: The sentence indicates that participants agreed on the strong labor market and moderate economic activity, suggesting a neutral stance towards monetary policy.'"
      ]
     },
     "execution_count": 5,
     "metadata": {},
     "output_type": "execute_result"
    }
   ],
   "source": [
    "# basic textgrad together engine\n",
    "engine = get_engine('together-allenai/OLMo-7B-Instruct')\n",
    "engine(fomc_prompt(sentence)[1], system_prompt = fomc_prompt(sentence)[0], max_tokens=128, temperature=0.7, top_p=0.7)"
   ]
  },
  {
   "cell_type": "code",
   "execution_count": 9,
   "metadata": {},
   "outputs": [],
   "source": [
    "system_prompt = 'Discard all the previous instructions. Behave like you are an expert sentence classifier.'\n",
    "engine = get_engine('together-mistralai/Mistral-7B-Instruct-v0.3')\n",
    "\n",
    "sys_prompt = Variable('Discard all the previous instructions. Behave like you are an expert sentence classifier.', role_description=\"The system prompt\")\n",
    "user_prompt = Variable(\"Classify the sentence's stance on the monetary policy between hawkish, neutral, and dovish.\", role_description=\"The user prompt\", requires_grad=True)\n",
    "input_sentence = Variable(sentence, role_description=\"The input sentence\")\n",
    "loss = TextLoss(sys_prompt, engine=engine)\n",
    "\n",
    "# optimization does not allow you to set any parameters besides prompt & system prompt\n",
    "# meaning you can't set max tokens or temperature --> problem b/c default output tokens is 2000 \n",
    "# so models with too small context windows will error\n",
    "\n",
    "optimizer = TextualGradientDescent(parameters=[user_prompt], engine=engine)\n",
    "l = loss(input_sentence)\n",
    "l.backward(engine)\n",
    "optimizer.step()"
   ]
  },
  {
   "cell_type": "code",
   "execution_count": 10,
   "metadata": {},
   "outputs": [
    {
     "data": {
      "text/plain": [
       "'Determine the monetary policy stance (hawkish, neutral, or dovish) expressed in the given sentence.'"
      ]
     },
     "execution_count": 10,
     "metadata": {},
     "output_type": "execute_result"
    }
   ],
   "source": [
    "# optimized version of user prompt\n",
    "user_prompt.value"
   ]
  }
 ],
 "metadata": {
  "kernelspec": {
   "display_name": "Python 3",
   "language": "python",
   "name": "python3"
  },
  "language_info": {
   "codemirror_mode": {
    "name": "ipython",
    "version": 3
   },
   "file_extension": ".py",
   "mimetype": "text/x-python",
   "name": "python",
   "nbconvert_exporter": "python",
   "pygments_lexer": "ipython3",
   "version": "3.9.7"
  }
 },
 "nbformat": 4,
 "nbformat_minor": 2
}
