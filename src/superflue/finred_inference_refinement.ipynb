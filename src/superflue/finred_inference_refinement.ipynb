{
 "cells": [
  {
   "cell_type": "code",
   "execution_count": 2,
   "metadata": {},
   "outputs": [
    {
     "name": "stderr",
     "output_type": "stream",
     "text": [
      "c:\\Users\\Richie Sir\\SuperFLUE\\.venv\\Lib\\site-packages\\tqdm\\auto.py:21: TqdmWarning: IProgress not found. Please update jupyter and ipywidgets. See https://ipywidgets.readthedocs.io/en/stable/user_install.html\n",
      "  from .autonotebook import tqdm as notebook_tqdm\n"
     ]
    }
   ],
   "source": [
    "import json\n",
    "import logging\n",
    "from datasets import load_dataset\n",
    "from together import Together\n",
    "\n",
    "logging.basicConfig(level=logging.INFO)\n",
    "logger = logging.getLogger(__name__)"
   ]
  },
  {
   "cell_type": "code",
   "execution_count": 3,
   "metadata": {},
   "outputs": [
    {
     "name": "stdout",
     "output_type": "stream",
     "text": [
      "Dataset loaded successfully.\n",
      "Sample Record:\n",
      "{\n",
      "  \"sentence\": \"Wednesday, July 8, 2015 10:30AM IST (5:00AM GMT) Rimini Street Comment on Oracle Litigation Las Vegas, United States Rimini Street, Inc., the leading independent provider of enterprise software support for SAP AG\\u2019s (NYSE:SAP) Business Suite and BusinessObjects software and Oracle Corporation\\u2019s (NYSE:ORCL) Siebel , PeopleSoft , JD Edwards , E-Business Suite , Oracle Database , Hyperion and Oracle Retail software, today issued a statement on the Oracle litigation.\",\n",
      "  \"entities\": [\n",
      "    [\n",
      "      \"PeopleSoft\",\n",
      "      \"JD Edwards\"\n",
      "    ]\n",
      "  ],\n",
      "  \"relations\": [\n",
      "    \"subsidiary\"\n",
      "  ]\n",
      "}\n"
     ]
    }
   ],
   "source": [
    "client = Together()\n",
    "dataset = load_dataset(\"gtfintechlab/FinRed\")\n",
    "print(\"Dataset loaded successfully.\")\n",
    "\n",
    "sample = dataset['test'][0]  # type: ignore\n",
    "print(\"Sample Record:\")\n",
    "print(json.dumps(sample, indent=2))"
   ]
  },
  {
   "cell_type": "code",
   "execution_count": null,
   "metadata": {},
   "outputs": [],
   "source": [
    "# def finred_prompt(sentence: str, entity1: str, entity2: str, possible_relations: str):\n",
    "#     system_prompt = \"\"\"You are an expert in financial entity and relation extraction, particularly in entity-pair relationship classification.\"\"\"\n",
    "    \n",
    "#     user_msg = f\"\"\"\n",
    "#     Identify the relationship between [ENT1] {entity1} [/ENT1] and [ENT2] {entity2} [/ENT2] in the following sentence:\n",
    "    \n",
    "#     Sentence: \"{sentence}\"\n",
    "    \n",
    "#     Choose the relationship from this list:\n",
    "#     {possible_relations}\n",
    "    \n",
    "#     If there is no valid relationship, respond with \"NO_REL\".\n",
    "#     \"\"\"\n",
    "    \n",
    "#     prompt = f\"\"\"<s>[INST] <<SYS>> {system_prompt} <</SYS>> {user_msg} [/INST]\"\"\"\n",
    "#     return prompt\n",
    "\n",
    "\n",
    "# Define correct prompt function for FinRED\n",
    "def finred_prompt(sentence: str, entity1: str, entity2: str, relationship_options: str):\n",
    "    return f\"\"\"Classify the relationship between [ENT1] {entity1} [/ENT1] and [ENT2] {entity2} [/ENT2] within the following sentence:\n",
    "    \"{sentence}\"\n",
    "    \n",
    "    The relationship should match one of the following categories:\n",
    "    {relationship_options}\n",
    "    \"\"\""
   ]
  },
  {
   "cell_type": "code",
   "execution_count": 6,
   "metadata": {},
   "outputs": [
    {
     "name": "stdout",
     "output_type": "stream",
     "text": [
      "Possible relationships loaded.\n"
     ]
    }
   ],
   "source": [
    "# Relationships from 'relations.txt'\n",
    "possible_relationships = \"\"\"\n",
    "product/material produced\n",
    "manufacturer\n",
    "distributed by\n",
    "industry\n",
    "position held\n",
    "original broadcaster\n",
    "owned by\n",
    "founded by\n",
    "distribution format\n",
    "headquarters location\n",
    "stock exchange\n",
    "currency\n",
    "parent organization\n",
    "chief executive officer\n",
    "director/manager\n",
    "owner of\n",
    "operator\n",
    "member of\n",
    "employer\n",
    "chairperson\n",
    "platform\n",
    "subsidiary\n",
    "legal form\n",
    "publisher\n",
    "developer\n",
    "brand\n",
    "business division\n",
    "location of formation\n",
    "creator\n",
    "NO_REL\n",
    "\"\"\"\n",
    "print(\"Possible relationships loaded.\")\n"
   ]
  },
  {
   "cell_type": "code",
   "execution_count": 15,
   "metadata": {},
   "outputs": [
    {
     "name": "stdout",
     "output_type": "stream",
     "text": [
      "Dataset Structure Check\n",
      "<class 'datasets.arrow_dataset.Dataset'>\n",
      "{'sentence': ['Wednesday, July 8, 2015 10:30AM IST (5:00AM GMT) Rimini Street Comment on Oracle Litigation Las Vegas, United States Rimini Street, Inc., the leading independent provider of enterprise software support for SAP AG’s (NYSE:SAP) Business Suite and BusinessObjects software and Oracle Corporation’s (NYSE:ORCL) Siebel , PeopleSoft , JD Edwards , E-Business Suite , Oracle Database , Hyperion and Oracle Retail software, today issued a statement on the Oracle litigation.', 'The Daily Show with Trevor Noah premieres tonight... and while the show will be based on Comedy Central, Viacom pans to simulcast the debut across all of its networks, including VH1 and MTV.'], 'entities': [[['PeopleSoft', 'JD Edwards']], [['VH1', 'Viacom']]], 'relations': [['subsidiary'], ['owned_by']]}\n",
      "\n",
      "Sentence: Wednesday, July 8, 2015 10:30AM IST (5:00AM GMT) Rimini Street Comment on Oracle Litigation Las Vegas, United States Rimini Street, Inc., the leading independent provider of enterprise software support for SAP AG’s (NYSE:SAP) Business Suite and BusinessObjects software and Oracle Corporation’s (NYSE:ORCL) Siebel , PeopleSoft , JD Edwards , E-Business Suite , Oracle Database , Hyperion and Oracle Retail software, today issued a statement on the Oracle litigation.\n",
      "Entity 1: PeopleSoft, Entity 2: JD Edwards\n",
      "True Relation: subsidiary\n",
      "Predicted Relation: Based on the given sentence, the relationship between PeopleSoft and JD Edwards can be classified as \"subsidiary\" because Rimini Street provides support for both products, which suggests that they are part of the same company or group of companies. In this case, since both entities are mentioned as separate from Oracle Corporation, it can be inferred that they are subsidiaries of Oracle Corporation.\n",
      "\n",
      "Sentence: The Daily Show with Trevor Noah premieres tonight... and while the show will be based on Comedy Central, Viacom pans to simulcast the debut across all of its networks, including VH1 and MTV.\n",
      "Entity 1: VH1, Entity 2: Viacom\n",
      "True Relation: owned_by\n",
      "Predicted Relation: Subsidiary\n",
      "\n",
      "Explanation:\n",
      "VH1 is a subsidiary of Viacom. In this context, the sentence indicates that Viacom (the parent organization) will simulcast The Daily Show with Trevor Noah on VH1 (the subsidiary), along with other networks.\n",
      "\n",
      "Sentence: \"Our results for the quarter show very balanced performance across our business lines,\" said Citigroup chief executive Michael Corbat in a statement.\n",
      "Entity 1: Michael Corbat, Entity 2: Citigroup\n",
      "True Relation: employer\n",
      "Predicted Relation: The relationship between [ENT1] Michael Corbat [/ENT1] and [ENT2] Citigroup [ENT2] in this sentence is \"chief executive officer\". Michael Corbat is the CEO of Citigroup as stated in the sentence.\n",
      "\n",
      "Sentence: Saudi Arabian budget carrier flynas, which made its first profit this year, is in talks with plane manufacturers Airbus and Boeing as it seeks to purchase four new aircraft over the next four years, its chief executive told reporters.\n",
      "Entity 1: Airbus, Entity 2: aircraft\n",
      "True Relation: product_or_material_produced\n",
      "Predicted Relation: The relationship between \"Airbus\" and \"aircraft\" in the given sentence can be classified as \"manufacturer\". Airbus is a company that produces or manufactures aircraft.\n",
      "\n",
      "Sentence: First Eagle is currently owned by members of the Arnhold family, private equity firm TA Associates Management and employees.\n",
      "Entity 1: TA Associates, Entity 2: private equity\n",
      "True Relation: industry\n",
      "Predicted Relation: The relationship between [ENT1] TA Associates [/ENT1] and [ENT2] private equity [ENT2] in this context is most accurately classified as \"investor\" or \"partial owner\". However, since I can only choose from the provided list, I would select \"parent organization\" as it somewhat implies a level of ownership or control similar to that of an investor.\n"
     ]
    }
   ],
   "source": [
    "# Cell 5: Checking Data Structure\n",
    "# Let's add a print statement to inspect the structure\n",
    "print(\"Dataset Structure Check\")\n",
    "print(type(dataset['test']))  # type: ignore # Print the type of 'test' data\n",
    "print(dataset['test'][:2])    # type: ignore # Print the first two examples in the test data\n",
    "\n",
    "# Iterate through the first 5 examples by index\n",
    "for i in range(5):\n",
    "    try:\n",
    "        sentence = dataset['test']['sentence'][i] # type: ignore \n",
    "        entities = dataset['test']['entities'][i] # type: ignore \n",
    "        relations = dataset['test']['relations'][i] # type: ignore \n",
    "        \n",
    "        # Loop through each entity pair and generate a prompt\n",
    "        for entity_pair, true_relation in zip(entities, relations):\n",
    "            entity1, entity2 = entity_pair\n",
    "            prompt = finred_prompt(sentence, entity1, entity2, possible_relationships)\n",
    "            \n",
    "            # Make the API call\n",
    "            response = client.chat.completions.create(\n",
    "                model=\"mistralai/Mixtral-8x7B-Instruct-v0.1\",\n",
    "                messages=[{\n",
    "                        \"role\": \"system\", \n",
    "                        \"content\": \"You are an expert in financial entity and relation extraction, particularly in entity-pair relationship classification.\"\n",
    "                    }, \n",
    "                    {\n",
    "                        \"role\": \"user\", \n",
    "                        \"content\": prompt\n",
    "                    }],\n",
    "                max_tokens=128,\n",
    "                temperature=0.7,\n",
    "                top_k=50,\n",
    "                top_p=0.7,\n",
    "                repetition_penalty=1.1\n",
    "            )\n",
    "            \n",
    "            # Extract response\n",
    "            predicted_relation = response.choices[0].message.content.strip() # type: ignore\n",
    "            \n",
    "            # Output comparison\n",
    "            print(f\"\\nSentence: {sentence}\")\n",
    "            print(f\"Entity 1: {entity1}, Entity 2: {entity2}\")\n",
    "            print(f\"True Relation: {true_relation}\")\n",
    "            print(f\"Predicted Relation: {predicted_relation}\")\n",
    "\n",
    "    except TypeError as e:\n",
    "        print(\"Encountered TypeError:\", e)\n",
    "        print(\"Please verify dataset structure and re-run.\")"
   ]
  }
 ],
 "metadata": {
  "kernelspec": {
   "display_name": ".venv",
   "language": "python",
   "name": "python3"
  },
  "language_info": {
   "codemirror_mode": {
    "name": "ipython",
    "version": 3
   },
   "file_extension": ".py",
   "mimetype": "text/x-python",
   "name": "python",
   "nbconvert_exporter": "python",
   "pygments_lexer": "ipython3",
   "version": "3.11.9"
  }
 },
 "nbformat": 4,
 "nbformat_minor": 2
}
