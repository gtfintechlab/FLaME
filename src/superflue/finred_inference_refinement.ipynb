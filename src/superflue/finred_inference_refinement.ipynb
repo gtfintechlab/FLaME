{
 "cells": [
  {
   "cell_type": "code",
   "execution_count": 1,
   "metadata": {},
   "outputs": [
    {
     "name": "stderr",
     "output_type": "stream",
     "text": [
      "c:\\Users\\mikad\\anaconda3\\lib\\site-packages\\pandas\\core\\computation\\expressions.py:21: UserWarning: Pandas requires version '2.8.4' or newer of 'numexpr' (version '2.7.3' currently installed).\n",
      "  from pandas.core.computation.check import NUMEXPR_INSTALLED\n",
      "c:\\Users\\mikad\\anaconda3\\lib\\site-packages\\pandas\\core\\arrays\\masked.py:60: UserWarning: Pandas requires version '1.3.6' or newer of 'bottleneck' (version '1.3.2' currently installed).\n",
      "  from pandas.core import (\n"
     ]
    }
   ],
   "source": [
    "import json\n",
    "import logging\n",
    "from datasets import load_dataset\n",
    "from together import Together\n",
    "\n",
    "logging.basicConfig(level=logging.INFO)\n",
    "logger = logging.getLogger(__name__)"
   ]
  },
  {
   "cell_type": "code",
   "execution_count": 2,
   "metadata": {},
   "outputs": [
    {
     "data": {
      "application/vnd.jupyter.widget-view+json": {
       "model_id": "ee49d3f571d54e5a8c4e98ec79f7cb09",
       "version_major": 2,
       "version_minor": 0
      },
      "text/plain": [
       "Downloading readme:   0%|          | 0.00/766 [00:00<?, ?B/s]"
      ]
     },
     "metadata": {},
     "output_type": "display_data"
    },
    {
     "data": {
      "application/vnd.jupyter.widget-view+json": {
       "model_id": "914e3e5a4a97431c9c8fc01b86d7c546",
       "version_major": 2,
       "version_minor": 0
      },
      "text/plain": [
       "Downloading data files:   0%|          | 0/3 [00:00<?, ?it/s]"
      ]
     },
     "metadata": {},
     "output_type": "display_data"
    },
    {
     "data": {
      "application/vnd.jupyter.widget-view+json": {
       "model_id": "48a58bef552a4d789dd28d3bb627360e",
       "version_major": 2,
       "version_minor": 0
      },
      "text/plain": [
       "Downloading data:   0%|          | 0.00/959k [00:00<?, ?B/s]"
      ]
     },
     "metadata": {},
     "output_type": "display_data"
    },
    {
     "data": {
      "application/vnd.jupyter.widget-view+json": {
       "model_id": "455d475aadf946be89ccdf9ea8d0936b",
       "version_major": 2,
       "version_minor": 0
      },
      "text/plain": [
       "Downloading data:   0%|          | 0.00/192k [00:00<?, ?B/s]"
      ]
     },
     "metadata": {},
     "output_type": "display_data"
    },
    {
     "data": {
      "application/vnd.jupyter.widget-view+json": {
       "model_id": "9286f96e38fb41949572deafdf7b85d2",
       "version_major": 2,
       "version_minor": 0
      },
      "text/plain": [
       "Downloading data:   0%|          | 0.00/178k [00:00<?, ?B/s]"
      ]
     },
     "metadata": {},
     "output_type": "display_data"
    },
    {
     "data": {
      "application/vnd.jupyter.widget-view+json": {
       "model_id": "35705217bf29478fb8396519a129bf02",
       "version_major": 2,
       "version_minor": 0
      },
      "text/plain": [
       "Extracting data files:   0%|          | 0/3 [00:00<?, ?it/s]"
      ]
     },
     "metadata": {},
     "output_type": "display_data"
    },
    {
     "data": {
      "application/vnd.jupyter.widget-view+json": {
       "model_id": "b0d859ea160048b9921fc28d081e50df",
       "version_major": 2,
       "version_minor": 0
      },
      "text/plain": [
       "Generating train split:   0%|          | 0/5700 [00:00<?, ? examples/s]"
      ]
     },
     "metadata": {},
     "output_type": "display_data"
    },
    {
     "data": {
      "application/vnd.jupyter.widget-view+json": {
       "model_id": "215d87a21d9944639d5778113d437f2e",
       "version_major": 2,
       "version_minor": 0
      },
      "text/plain": [
       "Generating test split:   0%|          | 0/1068 [00:00<?, ? examples/s]"
      ]
     },
     "metadata": {},
     "output_type": "display_data"
    },
    {
     "data": {
      "application/vnd.jupyter.widget-view+json": {
       "model_id": "0755ef3972f24cd48c4a036467493575",
       "version_major": 2,
       "version_minor": 0
      },
      "text/plain": [
       "Generating validation split:   0%|          | 0/1007 [00:00<?, ? examples/s]"
      ]
     },
     "metadata": {},
     "output_type": "display_data"
    },
    {
     "name": "stdout",
     "output_type": "stream",
     "text": [
      "Dataset loaded successfully.\n",
      "Sample Record:\n",
      "{\n",
      "  \"sentence\": \"Wednesday, July 8, 2015 10:30AM IST (5:00AM GMT) Rimini Street Comment on Oracle Litigation Las Vegas, United States Rimini Street, Inc., the leading independent provider of enterprise software support for SAP AG\\u2019s (NYSE:SAP) Business Suite and BusinessObjects software and Oracle Corporation\\u2019s (NYSE:ORCL) Siebel , PeopleSoft , JD Edwards , E-Business Suite , Oracle Database , Hyperion and Oracle Retail software, today issued a statement on the Oracle litigation.\",\n",
      "  \"entities\": [\n",
      "    [\n",
      "      \"PeopleSoft\",\n",
      "      \"JD Edwards\"\n",
      "    ]\n",
      "  ],\n",
      "  \"relations\": [\n",
      "    \"subsidiary\"\n",
      "  ]\n",
      "}\n"
     ]
    }
   ],
   "source": [
    "client = Together()\n",
    "dataset = load_dataset(\"gtfintechlab/FinRed\")\n",
    "print(\"Dataset loaded successfully.\")\n",
    "\n",
    "sample = dataset['test'][0]  # type: ignore\n",
    "print(\"Sample Record:\")\n",
    "print(json.dumps(sample, indent=2))"
   ]
  },
  {
   "cell_type": "code",
   "execution_count": 52,
   "metadata": {},
   "outputs": [],
   "source": [
    "# def finred_prompt(sentence: str, entity1: str, entity2: str, possible_relations: str):\n",
    "#     system_prompt = \"\"\"You are an expert in financial entity and relation extraction, particularly in entity-pair relationship classification.\"\"\"\n",
    "    \n",
    "#     user_msg = f\"\"\"\n",
    "#     Identify the relationship between [ENT1] {entity1} [/ENT1] and [ENT2] {entity2} [/ENT2] in the following sentence:\n",
    "    \n",
    "#     Sentence: \"{sentence}\"\n",
    "    \n",
    "#     Choose the relationship from this list:\n",
    "#     {possible_relations}\n",
    "    \n",
    "#     If there is no valid relationship, respond with \"NO_REL\".\n",
    "#     \"\"\"\n",
    "    \n",
    "#     prompt = f\"\"\"<s>[INST] <<SYS>> {system_prompt} <</SYS>> {user_msg} [/INST]\"\"\"\n",
    "#     return prompt\n",
    "\n",
    "\n",
    "# Define correct prompt function for FinRED\n",
    "possible_relationships = ['product or material produced', 'manufacturer', 'distributed by', 'industry', 'position held', 'original broadcaster', 'owned by', 'founded by', 'distribution format', 'headquarters location', 'stock exchange', 'currency', 'parent organization', 'chief executive officer', 'director/manager', 'owner of', 'operator', 'member of', 'employer', 'chairperson', 'platform', 'subsidiary', 'legal form', 'publisher', 'developer', 'brand', 'business division', 'location of formation', 'creator']\n",
    "\n",
    "def finred_prompt(sentence: str, entity1: str, entity2: str):\n",
    "    return f\"\"\"Classify what relationship {entity2} (the head) has to {entity1} (the tail) within the following sentence:\n",
    "    \"{sentence}\"\n",
    "    \n",
    "    The relationship should match one of the following categories, where the relationship is what the head entity is to the tail entity:\n",
    "    {', '.join(possible_relationships)}.\n",
    "\n",
    "    You must output one, and only one, relationship out of the previous list that connects the head entity {entity2} to the tail entity {entity1}. Find what relationship best fits {entity2} 'RELATIONSHIP' {entity1} for this sentence.\n",
    "    \"\"\""
   ]
  },
  {
   "cell_type": "code",
   "execution_count": 57,
   "metadata": {},
   "outputs": [
    {
     "data": {
      "text/plain": [
       "dict_keys(['subsidiary', 'owned_by', 'employer', 'product_or_material_produced', 'industry', 'manufacturer', 'developer', 'legal_form', 'parent_organization', 'distribution_format', 'chairperson', 'location_of_formation', 'headquarters_location', 'operator', 'creator', 'currency', 'founded_by', 'original_broadcaster', 'owner_of', 'director_/_manager', 'business_division', 'chief_executive_officer', 'position_held', 'platform', 'brand', 'distributed_by', 'publisher', 'stock_exchange', 'member_of'])"
      ]
     },
     "execution_count": 57,
     "metadata": {},
     "output_type": "execute_result"
    }
   ],
   "source": [
    "keys.keys()"
   ]
  },
  {
   "cell_type": "code",
   "execution_count": 53,
   "metadata": {},
   "outputs": [
    {
     "name": "stdout",
     "output_type": "stream",
     "text": [
      "Dataset Structure Check\n",
      "<class 'datasets.arrow_dataset.Dataset'>\n",
      "{'sentence': ['Wednesday, July 8, 2015 10:30AM IST (5:00AM GMT) Rimini Street Comment on Oracle Litigation Las Vegas, United States Rimini Street, Inc., the leading independent provider of enterprise software support for SAP AG’s (NYSE:SAP) Business Suite and BusinessObjects software and Oracle Corporation’s (NYSE:ORCL) Siebel , PeopleSoft , JD Edwards , E-Business Suite , Oracle Database , Hyperion and Oracle Retail software, today issued a statement on the Oracle litigation.', 'The Daily Show with Trevor Noah premieres tonight... and while the show will be based on Comedy Central, Viacom pans to simulcast the debut across all of its networks, including VH1 and MTV.'], 'entities': [[['PeopleSoft', 'JD Edwards']], [['VH1', 'Viacom']]], 'relations': [['subsidiary'], ['owned_by']]}\n",
      "\n",
      "Sentence: Wednesday, July 8, 2015 10:30AM IST (5:00AM GMT) Rimini Street Comment on Oracle Litigation Las Vegas, United States Rimini Street, Inc., the leading independent provider of enterprise software support for SAP AG’s (NYSE:SAP) Business Suite and BusinessObjects software and Oracle Corporation’s (NYSE:ORCL) Siebel , PeopleSoft , JD Edwards , E-Business Suite , Oracle Database , Hyperion and Oracle Retail software, today issued a statement on the Oracle litigation.\n",
      "Entity 1: PeopleSoft, Entity 2: JD Edwards\n",
      "True Relation: subsidiary\n",
      "Predicted Relation: Based on the given sentence, the relationship between JD Edwards (head) and PeopleSoft (tail) can be classified as follows:\n",
      "\n",
      "JD Edwards 'subsidiary' PeopleSoft\n",
      "\n",
      "This relationship classification is based on the context provided in the sentence, which mentions both entities as being supported by Rimini Street and having a connection with Oracle Corporation.\n",
      "\n",
      "Sentence: The Daily Show with Trevor Noah premieres tonight... and while the show will be based on Comedy Central, Viacom pans to simulcast the debut across all of its networks, including VH1 and MTV.\n",
      "Entity 1: VH1, Entity 2: Viacom\n",
      "True Relation: owned_by\n",
      "Predicted Relation: Based on the given sentence, the relationship between the head entity Viacom and the tail entity VH1 is 'parent organization'. This is because Viacom is the parent company that owns and operates VH1, as well as other networks like MTV.\n",
      "\n",
      "Sentence: \"Our results for the quarter show very balanced performance across our business lines,\" said Citigroup chief executive Michael Corbat in a statement.\n",
      "Entity 1: Michael Corbat, Entity 2: Citigroup\n",
      "True Relation: employer\n",
      "Predicted Relation: The relationship between Citigroup and Michael Corbat in the given sentence is \"chief executive officer\". In the sentence, it is stated that \"Michael Corbat, chief executive of Citigroup\", which indicates that Michael Corbat holds the position of CEO in Citigroup.\n",
      "\n",
      "Sentence: Saudi Arabian budget carrier flynas, which made its first profit this year, is in talks with plane manufacturers Airbus and Boeing as it seeks to purchase four new aircraft over the next four years, its chief executive told reporters.\n",
      "Entity 1: Airbus, Entity 2: aircraft\n",
      "True Relation: product_or_material_produced\n",
      "Predicted Relation: The relationship between the head entity \"aircraft\" and the tail entity \"Airbus\" in the given sentence can be classified as \"product or material produced\". This is because the context indicates that flynas is looking to purchase new aircraft from both Airbus and Boeing. Therefore, Airbus is one of the manufacturers producing the aircraft that flynas intends to buy.\n",
      "\n",
      "Sentence: First Eagle is currently owned by members of the Arnhold family, private equity firm TA Associates Management and employees.\n",
      "Entity 1: TA Associates, Entity 2: private equity\n",
      "True Relation: industry\n",
      "Predicted Relation: Based on the given sentence, the relationship between the head entity \"private equity\" and the tail entity \"TA Associates\" is \"subsidiary\". This is because the sentence states that TA Associates is one of the owners of First Eagle, which implies a level of ownership and control over the company. Therefore, we can infer that TA Associates is a private equity firm that operates as a subsidiary or sub-unit of the broader private equity industry.\n"
     ]
    }
   ],
   "source": [
    "# Cell 5: Checking Data Structure\n",
    "# Let's add a print statement to inspect the structure\n",
    "print(\"Dataset Structure Check\")\n",
    "print(type(dataset['test']))  # type: ignore # Print the type of 'test' data\n",
    "print(dataset['test'][:2])    # type: ignore # Print the first two examples in the test data\n",
    "\n",
    "# Iterate through the first 5 examples by index\n",
    "for i in range(5):\n",
    "    try:\n",
    "        sentence = dataset['test']['sentence'][i] # type: ignore \n",
    "        entities = dataset['test']['entities'][i] # type: ignore \n",
    "        relations = dataset['test']['relations'][i] # type: ignore \n",
    "        \n",
    "        # Loop through each entity pair and generate a prompt\n",
    "        for entity_pair, true_relation in zip(entities, relations):\n",
    "            entity1, entity2 = entity_pair\n",
    "            prompt = finred_prompt(sentence, entity1, entity2)\n",
    "            \n",
    "            # Make the API call\n",
    "            response = client.chat.completions.create(\n",
    "                model=\"mistralai/Mixtral-8x7B-Instruct-v0.1\",\n",
    "                messages=[{\n",
    "                        \"role\": \"system\", \n",
    "                        \"content\": \"You are an expert in financial entity and relation extraction, particularly in entity-pair relationship classification.\"\n",
    "                    }, \n",
    "                    {\n",
    "                        \"role\": \"user\", \n",
    "                        \"content\": prompt\n",
    "                    }],\n",
    "                max_tokens=128,\n",
    "                temperature=0.7,\n",
    "                top_k=50,\n",
    "                top_p=0.7,\n",
    "                repetition_penalty=1.1\n",
    "            )\n",
    "            \n",
    "            # Extract response\n",
    "            predicted_relation = response.choices[0].message.content.strip() # type: ignore\n",
    "            \n",
    "            # Output comparison\n",
    "            print(f\"\\nSentence: {sentence}\")\n",
    "            print(f\"Entity 1: {entity1}, Entity 2: {entity2}\")\n",
    "            print(f\"True Relation: {true_relation}\")\n",
    "            print(f\"Predicted Relation: {predicted_relation}\")\n",
    "\n",
    "    except TypeError as e:\n",
    "        print(\"Encountered TypeError:\", e)\n",
    "        print(\"Please verify dataset structure and re-run.\")"
   ]
  },
  {
   "cell_type": "code",
   "execution_count": 64,
   "metadata": {},
   "outputs": [],
   "source": [
    "import pandas as pd\n",
    "df = pd.read_csv('../../evaluation_results/finred/evaluation_finred_meta-llama-3.1-8b_09_11_2024.csv')"
   ]
  },
  {
   "cell_type": "code",
   "execution_count": 66,
   "metadata": {},
   "outputs": [
    {
     "data": {
      "text/plain": [
       "actual_labels\n",
       "product_or_material_produced    187\n",
       "industry                        170\n",
       "owned_by                        167\n",
       "parent_organization             123\n",
       "owner_of                        118\n",
       "subsidiary                       99\n",
       "headquarters_location            99\n",
       "employer                         80\n",
       "manufacturer                     50\n",
       "developer                        48\n",
       "founded_by                       41\n",
       "location_of_formation            40\n",
       "chief_executive_officer          28\n",
       "position_held                    27\n",
       "stock_exchange                   25\n",
       "operator                         23\n",
       "creator                          21\n",
       "legal_form                       20\n",
       "chairperson                      19\n",
       "brand                            19\n",
       "distributed_by                   14\n",
       "distribution_format              13\n",
       "original_broadcaster             10\n",
       "director_/_manager               10\n",
       "business_division                10\n",
       "currency                          8\n",
       "member_of                         7\n",
       "platform                          6\n",
       "publisher                         6\n",
       "Name: count, dtype: int64"
      ]
     },
     "execution_count": 66,
     "metadata": {},
     "output_type": "execute_result"
    }
   ],
   "source": [
    "df.actual_labels.value_counts()"
   ]
  },
  {
   "cell_type": "code",
   "execution_count": 67,
   "metadata": {},
   "outputs": [
    {
     "data": {
      "text/plain": [
       "extracted_labels\n",
       "parent_organization             179\n",
       "product_or_material_produced    169\n",
       "owned_by                        167\n",
       "brand                           121\n",
       "chief_executive_officer         106\n",
       "NO-REL                           99\n",
       "industry                         69\n",
       "headquarters_location            66\n",
       "manufacturer                     57\n",
       "subsidiary                       57\n",
       "distributed_by                   48\n",
       "location_of_formation            39\n",
       "developer                        39\n",
       "operator                         37\n",
       "stock_exchange                   36\n",
       "position_held                    30\n",
       "founded_by                       29\n",
       "business_division                29\n",
       "chairperson                      22\n",
       "publisher                        19\n",
       "owner_of                         17\n",
       "platform                         16\n",
       "member_of                        12\n",
       "currency                          9\n",
       "original_broadcaster              7\n",
       "distribution_format               5\n",
       "creator                           3\n",
       "legal_form                        1\n",
       "Name: count, dtype: int64"
      ]
     },
     "execution_count": 67,
     "metadata": {},
     "output_type": "execute_result"
    }
   ],
   "source": [
    "df.extracted_labels.value_counts()"
   ]
  },
  {
   "cell_type": "code",
   "execution_count": null,
   "metadata": {},
   "outputs": [],
   "source": []
  }
 ],
 "metadata": {
  "kernelspec": {
   "display_name": "base",
   "language": "python",
   "name": "python3"
  },
  "language_info": {
   "codemirror_mode": {
    "name": "ipython",
    "version": 3
   },
   "file_extension": ".py",
   "mimetype": "text/x-python",
   "name": "python",
   "nbconvert_exporter": "python",
   "pygments_lexer": "ipython3",
   "version": "3.9.7"
  }
 },
 "nbformat": 4,
 "nbformat_minor": 2
}
